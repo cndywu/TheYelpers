{
 "cells": [
  {
   "cell_type": "code",
   "execution_count": 31,
   "id": "7bef1f49",
   "metadata": {},
   "outputs": [],
   "source": [
    "import pandas as pd\n",
    "import numpy as np\n",
    "import seaborn as sns\n",
    "import matplotlib.pyplot as plt\n",
    "import statsmodels.formula.api as smf\n",
    "import math\n",
    "from sklearn.model_selection import train_test_split\n",
    "from sklearn.preprocessing import StandardScaler\n",
    "from datetime import date\n",
    "import calendar\n",
    "from datetime import datetime"
   ]
  },
  {
   "cell_type": "code",
   "execution_count": 32,
   "id": "05beb495",
   "metadata": {},
   "outputs": [],
   "source": [
    "weather = pd.read_csv('weather.csv')\n",
    "rides = pd.read_csv('cab_rides.csv')"
   ]
  },
  {
   "cell_type": "code",
   "execution_count": 33,
   "id": "0ba81283",
   "metadata": {},
   "outputs": [
    {
     "data": {
      "text/plain": [
       "distance                0\n",
       "cab_type                0\n",
       "time_stamp              0\n",
       "destination             0\n",
       "source                  0\n",
       "price               55095\n",
       "surge_multiplier        0\n",
       "id                      0\n",
       "product_id              0\n",
       "name                    0\n",
       "dtype: int64"
      ]
     },
     "execution_count": 33,
     "metadata": {},
     "output_type": "execute_result"
    }
   ],
   "source": [
    "rides.isnull().sum()"
   ]
  },
  {
   "cell_type": "code",
   "execution_count": 5,
   "id": "3591eefa",
   "metadata": {},
   "outputs": [],
   "source": [
    "rides.dropna(axis = 0, inplace = True)"
   ]
  },
  {
   "cell_type": "code",
   "execution_count": 6,
   "id": "bb824790",
   "metadata": {
    "scrolled": true
   },
   "outputs": [
    {
     "data": {
      "text/plain": [
       "temp             0\n",
       "location         0\n",
       "clouds           0\n",
       "pressure         0\n",
       "rain          5382\n",
       "time_stamp       0\n",
       "humidity         0\n",
       "wind             0\n",
       "dtype: int64"
      ]
     },
     "execution_count": 6,
     "metadata": {},
     "output_type": "execute_result"
    }
   ],
   "source": [
    "weather.isnull().sum()"
   ]
  },
  {
   "cell_type": "code",
   "execution_count": 7,
   "id": "0a70d503",
   "metadata": {},
   "outputs": [],
   "source": [
    "weather.fillna(0, inplace = True)"
   ]
  },
  {
   "cell_type": "code",
   "execution_count": 8,
   "id": "1264f377",
   "metadata": {},
   "outputs": [],
   "source": [
    "weather_avg = weather.groupby('location').mean().reset_index()\n",
    "weather_avg.drop(columns = 'time_stamp' , inplace = True)\n",
    "weather_source = weather_avg.rename(columns =(lambda x :x + '_source'))       \n",
    "weather_source.rename(columns= {'location_source' :'source'}, inplace = True)\n",
    "weather_destination = weather_avg.rename(columns =(lambda x :x+'_destination'))       \n",
    "weather_destination.rename(columns= {'location_destination' :'destination'} ,inplace = True)\n",
    "data = rides\\\n",
    "       .merge(weather_source ,on ='source')\\\n",
    "       .merge(weather_destination ,on = 'destination')\n",
    "data = data.drop('id'  , axis =1)\n",
    "\n",
    "#binary encoding to cab_type\n",
    "\n",
    "data['cab_type'] =data['cab_type'].replace({'Uber':1,'Lyft':0})\n",
    "\n",
    "def one_hot_encode(df , column , prefix):\n",
    "    dummy = pd.get_dummies(df[column] ,prefix = prefix)\n",
    "    df = pd.concat([df , dummy] ,axis =1)\n",
    "    df =df.drop(column , axis =1)\n",
    "    \n",
    "    return df\n",
    "\n",
    "data = one_hot_encode(data ,column =  'destination' , prefix = 'desti')\n",
    "data = one_hot_encode(data ,column =  'source' , prefix = 'src')\n",
    "data = one_hot_encode(data ,column =  'product_id' , prefix = 'pid')\n",
    "data = one_hot_encode(data ,column =  'name' , prefix = 'nm')"
   ]
  },
  {
   "cell_type": "code",
   "execution_count": 9,
   "id": "b1580244",
   "metadata": {},
   "outputs": [
    {
     "data": {
      "text/plain": [
       "Index(['distance', 'cab_type', 'time_stamp', 'price', 'surge_multiplier',\n",
       "       'temp_source', 'clouds_source', 'pressure_source', 'rain_source',\n",
       "       'humidity_source', 'wind_source', 'temp_destination',\n",
       "       'clouds_destination', 'pressure_destination', 'rain_destination',\n",
       "       'humidity_destination', 'wind_destination', 'desti_Back Bay',\n",
       "       'desti_Beacon Hill', 'desti_Boston University', 'desti_Fenway',\n",
       "       'desti_Financial District', 'desti_Haymarket Square', 'desti_North End',\n",
       "       'desti_North Station', 'desti_Northeastern University',\n",
       "       'desti_South Station', 'desti_Theatre District', 'desti_West End',\n",
       "       'src_Back Bay', 'src_Beacon Hill', 'src_Boston University',\n",
       "       'src_Fenway', 'src_Financial District', 'src_Haymarket Square',\n",
       "       'src_North End', 'src_North Station', 'src_Northeastern University',\n",
       "       'src_South Station', 'src_Theatre District', 'src_West End',\n",
       "       'pid_55c66225-fbe7-4fd5-9072-eab1ece5e23e',\n",
       "       'pid_6c84fd89-3f11-4782-9b50-97c468b19529',\n",
       "       'pid_6d318bcc-22a3-4af6-bddd-b409bfce1546',\n",
       "       'pid_6f72dfc5-27f1-42e8-84db-ccc7a75f6969',\n",
       "       'pid_997acbb5-e102-41e1-b155-9df7de0a73f2',\n",
       "       'pid_9a0e7b09-b92b-4c41-9779-2ad22b4d779d', 'pid_lyft', 'pid_lyft_line',\n",
       "       'pid_lyft_lux', 'pid_lyft_luxsuv', 'pid_lyft_plus', 'pid_lyft_premier',\n",
       "       'nm_Black', 'nm_Black SUV', 'nm_Lux', 'nm_Lux Black', 'nm_Lux Black XL',\n",
       "       'nm_Lyft', 'nm_Lyft XL', 'nm_Shared', 'nm_UberPool', 'nm_UberX',\n",
       "       'nm_UberXL', 'nm_WAV'],\n",
       "      dtype='object')"
      ]
     },
     "execution_count": 9,
     "metadata": {},
     "output_type": "execute_result"
    }
   ],
   "source": [
    "data.columns"
   ]
  },
  {
   "cell_type": "code",
   "execution_count": 20,
   "id": "97b1a712",
   "metadata": {},
   "outputs": [
    {
     "name": "stdout",
     "output_type": "stream",
     "text": [
      "(446583, 64) (191393, 64) (446583,) (191393,)\n"
     ]
    }
   ],
   "source": [
    "x = data.drop('price', axis = 1)\n",
    "y = data['price']\n",
    "\n",
    "x_train, x_test, y_train, y_test = train_test_split(x, y, test_size = 0.3)\n",
    "print(x_train.shape , x_test.shape , y_train.shape , y_test.shape)\n",
    "\n",
    "sc = StandardScaler()\n",
    "sc.fit(x_train)\n",
    "\n",
    "x_train = pd.DataFrame(sc.transform(x_train) ,columns =x.columns)\n",
    "x_test =  pd.DataFrame(sc.transform(x_test) ,columns = x.columns)"
   ]
  },
  {
   "cell_type": "code",
   "execution_count": null,
   "id": "96aae0e4",
   "metadata": {},
   "outputs": [],
   "source": [
    "from sklearn.model_selection import train_test_split\n"
   ]
  },
  {
   "cell_type": "code",
   "execution_count": null,
   "id": "f3067eb9",
   "metadata": {},
   "outputs": [],
   "source": [
    "train, test = train_test_split(data, shuffle=True, train_size=0.7)"
   ]
  },
  {
   "cell_type": "code",
   "execution_count": null,
   "id": "4f1631d0",
   "metadata": {},
   "outputs": [],
   "source": [
    "train"
   ]
  },
  {
   "cell_type": "code",
   "execution_count": null,
   "id": "7d584394",
   "metadata": {},
   "outputs": [],
   "source": [
    "test"
   ]
  },
  {
   "cell_type": "code",
   "execution_count": null,
   "id": "969a447d",
   "metadata": {},
   "outputs": [],
   "source": []
  },
  {
   "cell_type": "code",
   "execution_count": 36,
   "id": "e1f646cd",
   "metadata": {},
   "outputs": [],
   "source": [
    "train.to_csv('train.csv', index=False)"
   ]
  },
  {
   "cell_type": "code",
   "execution_count": 37,
   "id": "67de2c87",
   "metadata": {},
   "outputs": [],
   "source": [
    "test.to_csv('test.csv', index=False)"
   ]
  },
  {
   "cell_type": "markdown",
   "id": "407135d1",
   "metadata": {},
   "source": [
    "# DONT TOUCH ABOVE THIS"
   ]
  },
  {
   "cell_type": "code",
   "execution_count": 34,
   "id": "46cf85d2",
   "metadata": {},
   "outputs": [],
   "source": [
    "train = pd.read_csv('train_final_best_2.csv')\n",
    "test = pd.read_csv('test_final_best_2.csv')"
   ]
  },
  {
   "cell_type": "code",
   "execution_count": 35,
   "id": "7e176bd6",
   "metadata": {},
   "outputs": [
    {
     "data": {
      "text/plain": [
       "Index(['Unnamed: 0', 'distance', 'cab_type', 'destination', 'source', 'price',\n",
       "       'surge_multiplier', 'id', 'product_id', 'name', 'time_ride',\n",
       "       'date_hour', 'temp', 'location', 'clouds', 'pressure', 'rain',\n",
       "       'humidity', 'wind', 'time_weather'],\n",
       "      dtype='object')"
      ]
     },
     "execution_count": 35,
     "metadata": {},
     "output_type": "execute_result"
    }
   ],
   "source": [
    "train.columns"
   ]
  },
  {
   "cell_type": "code",
   "execution_count": 36,
   "id": "99af1110",
   "metadata": {},
   "outputs": [
    {
     "data": {
      "text/plain": [
       "0       2018-11-28 16:06:22.934\n",
       "1       2018-11-29 02:07:18.274\n",
       "2       2018-11-28 16:02:08.213\n",
       "3       2018-12-01 02:53:00.951\n",
       "4       2018-11-28 10:02:08.053\n",
       "                 ...           \n",
       "2478    2018-11-28 14:02:07.332\n",
       "2479    2018-11-28 07:34:35.405\n",
       "2480    2018-11-29 04:46:23.883\n",
       "2481    2018-11-26 21:35:09.614\n",
       "2482    2018-11-28 07:33:43.255\n",
       "Name: time_ride, Length: 2483, dtype: object"
      ]
     },
     "execution_count": 36,
     "metadata": {},
     "output_type": "execute_result"
    }
   ],
   "source": [
    "train.time_ride"
   ]
  },
  {
   "cell_type": "code",
   "execution_count": 37,
   "id": "33ab9aaf",
   "metadata": {},
   "outputs": [
    {
     "data": {
      "text/plain": [
       "str"
      ]
     },
     "execution_count": 37,
     "metadata": {},
     "output_type": "execute_result"
    }
   ],
   "source": [
    "type(train['date_hour'][0])"
   ]
  },
  {
   "cell_type": "code",
   "execution_count": 38,
   "id": "0b57e2bc",
   "metadata": {},
   "outputs": [],
   "source": [
    "train['timestamp'] = train.date_hour.apply(lambda x: (datetime.strptime(x,'%Y-%m-%d:%H.%M.%S')))\n",
    "test['timestamp'] = test.date_hour.apply(lambda x: (datetime.strptime(x,'%Y-%m-%d:%H.%M.%S')))\n",
    "\n",
    "#Find hour of each trip\n",
    "train['hour'] = train['timestamp'].dt.strftime('%H')\n",
    "test['hour'] = test['timestamp'].dt.strftime('%H')\n",
    "\n",
    "#Find date of each trip\n",
    "train['date'] = train['timestamp'].dt.strftime('%Y-%m-%d') \n",
    "test['date'] = test['timestamp'].dt.strftime('%Y-%m-%d') \n",
    "\n",
    "#Find day name of each trip\n",
    "train['day'] = train['timestamp'].dt.day_name()\n",
    "test['day'] = test['timestamp'].dt.day_name()\n",
    "\n",
    "# drop redundant fields \n",
    "train = train.drop('timestamp', axis=1)\n",
    "test = test.drop('timestamp', axis=1)"
   ]
  },
  {
   "cell_type": "code",
   "execution_count": 39,
   "id": "920eb64c",
   "metadata": {},
   "outputs": [
    {
     "data": {
      "text/html": [
       "<div>\n",
       "<style scoped>\n",
       "    .dataframe tbody tr th:only-of-type {\n",
       "        vertical-align: middle;\n",
       "    }\n",
       "\n",
       "    .dataframe tbody tr th {\n",
       "        vertical-align: top;\n",
       "    }\n",
       "\n",
       "    .dataframe thead th {\n",
       "        text-align: right;\n",
       "    }\n",
       "</style>\n",
       "<table border=\"1\" class=\"dataframe\">\n",
       "  <thead>\n",
       "    <tr style=\"text-align: right;\">\n",
       "      <th></th>\n",
       "      <th>Unnamed: 0</th>\n",
       "      <th>distance</th>\n",
       "      <th>cab_type</th>\n",
       "      <th>destination</th>\n",
       "      <th>source</th>\n",
       "      <th>price</th>\n",
       "      <th>surge_multiplier</th>\n",
       "      <th>id</th>\n",
       "      <th>product_id</th>\n",
       "      <th>name</th>\n",
       "      <th>...</th>\n",
       "      <th>location</th>\n",
       "      <th>clouds</th>\n",
       "      <th>pressure</th>\n",
       "      <th>rain</th>\n",
       "      <th>humidity</th>\n",
       "      <th>wind</th>\n",
       "      <th>time_weather</th>\n",
       "      <th>hour</th>\n",
       "      <th>date</th>\n",
       "      <th>day</th>\n",
       "    </tr>\n",
       "  </thead>\n",
       "  <tbody>\n",
       "    <tr>\n",
       "      <th>0</th>\n",
       "      <td>643</td>\n",
       "      <td>0.63</td>\n",
       "      <td>Lyft</td>\n",
       "      <td>Financial District</td>\n",
       "      <td>South Station</td>\n",
       "      <td>26.0</td>\n",
       "      <td>1.0</td>\n",
       "      <td>4a180790-b8cf-46a4-a144-c0263c5a2472</td>\n",
       "      <td>lyft_luxsuv</td>\n",
       "      <td>Lux Black XL</td>\n",
       "      <td>...</td>\n",
       "      <td>South Station</td>\n",
       "      <td>0.63</td>\n",
       "      <td>991.57</td>\n",
       "      <td>0.000</td>\n",
       "      <td>0.62</td>\n",
       "      <td>10.01</td>\n",
       "      <td>2018-11-28 16:06:22.000</td>\n",
       "      <td>16</td>\n",
       "      <td>2018-11-28</td>\n",
       "      <td>Wednesday</td>\n",
       "    </tr>\n",
       "    <tr>\n",
       "      <th>1</th>\n",
       "      <td>1675</td>\n",
       "      <td>0.56</td>\n",
       "      <td>Uber</td>\n",
       "      <td>Haymarket Square</td>\n",
       "      <td>North Station</td>\n",
       "      <td>27.5</td>\n",
       "      <td>1.0</td>\n",
       "      <td>8fad149e-8fa2-45d0-b521-c1d9ba530d29</td>\n",
       "      <td>6d318bcc-22a3-4af6-bddd-b409bfce1546</td>\n",
       "      <td>Black SUV</td>\n",
       "      <td>...</td>\n",
       "      <td>North Station</td>\n",
       "      <td>0.50</td>\n",
       "      <td>997.89</td>\n",
       "      <td>0.002</td>\n",
       "      <td>0.70</td>\n",
       "      <td>10.38</td>\n",
       "      <td>2018-11-29 02:07:18.000</td>\n",
       "      <td>02</td>\n",
       "      <td>2018-11-29</td>\n",
       "      <td>Thursday</td>\n",
       "    </tr>\n",
       "    <tr>\n",
       "      <th>2</th>\n",
       "      <td>1389</td>\n",
       "      <td>2.85</td>\n",
       "      <td>Uber</td>\n",
       "      <td>Beacon Hill</td>\n",
       "      <td>Haymarket Square</td>\n",
       "      <td>31.0</td>\n",
       "      <td>1.0</td>\n",
       "      <td>04c07c57-a71e-4103-9c87-9816765d68a0</td>\n",
       "      <td>6d318bcc-22a3-4af6-bddd-b409bfce1546</td>\n",
       "      <td>Black SUV</td>\n",
       "      <td>...</td>\n",
       "      <td>Haymarket Square</td>\n",
       "      <td>0.63</td>\n",
       "      <td>991.56</td>\n",
       "      <td>0.000</td>\n",
       "      <td>0.62</td>\n",
       "      <td>9.89</td>\n",
       "      <td>2018-11-28 16:02:08.000</td>\n",
       "      <td>16</td>\n",
       "      <td>2018-11-28</td>\n",
       "      <td>Wednesday</td>\n",
       "    </tr>\n",
       "    <tr>\n",
       "      <th>3</th>\n",
       "      <td>2201</td>\n",
       "      <td>1.84</td>\n",
       "      <td>Uber</td>\n",
       "      <td>North Station</td>\n",
       "      <td>South Station</td>\n",
       "      <td>27.0</td>\n",
       "      <td>1.0</td>\n",
       "      <td>0bbbd244-05e1-443b-9443-4b875140f8f0</td>\n",
       "      <td>6d318bcc-22a3-4af6-bddd-b409bfce1546</td>\n",
       "      <td>Black SUV</td>\n",
       "      <td>...</td>\n",
       "      <td>South Station</td>\n",
       "      <td>0.90</td>\n",
       "      <td>1018.82</td>\n",
       "      <td>0.000</td>\n",
       "      <td>0.70</td>\n",
       "      <td>3.77</td>\n",
       "      <td>2018-12-01 02:53:00.000</td>\n",
       "      <td>02</td>\n",
       "      <td>2018-12-01</td>\n",
       "      <td>Saturday</td>\n",
       "    </tr>\n",
       "    <tr>\n",
       "      <th>4</th>\n",
       "      <td>1036</td>\n",
       "      <td>1.73</td>\n",
       "      <td>Lyft</td>\n",
       "      <td>Haymarket Square</td>\n",
       "      <td>Theatre District</td>\n",
       "      <td>22.5</td>\n",
       "      <td>1.0</td>\n",
       "      <td>e65ac260-22c2-4691-9b01-f46a1dd816ec</td>\n",
       "      <td>lyft_lux</td>\n",
       "      <td>Lux Black</td>\n",
       "      <td>...</td>\n",
       "      <td>Theatre District</td>\n",
       "      <td>0.13</td>\n",
       "      <td>991.18</td>\n",
       "      <td>0.000</td>\n",
       "      <td>0.84</td>\n",
       "      <td>5.59</td>\n",
       "      <td>2018-11-28 10:02:08.000</td>\n",
       "      <td>10</td>\n",
       "      <td>2018-11-28</td>\n",
       "      <td>Wednesday</td>\n",
       "    </tr>\n",
       "    <tr>\n",
       "      <th>...</th>\n",
       "      <td>...</td>\n",
       "      <td>...</td>\n",
       "      <td>...</td>\n",
       "      <td>...</td>\n",
       "      <td>...</td>\n",
       "      <td>...</td>\n",
       "      <td>...</td>\n",
       "      <td>...</td>\n",
       "      <td>...</td>\n",
       "      <td>...</td>\n",
       "      <td>...</td>\n",
       "      <td>...</td>\n",
       "      <td>...</td>\n",
       "      <td>...</td>\n",
       "      <td>...</td>\n",
       "      <td>...</td>\n",
       "      <td>...</td>\n",
       "      <td>...</td>\n",
       "      <td>...</td>\n",
       "      <td>...</td>\n",
       "      <td>...</td>\n",
       "    </tr>\n",
       "    <tr>\n",
       "      <th>2478</th>\n",
       "      <td>92</td>\n",
       "      <td>3.22</td>\n",
       "      <td>Uber</td>\n",
       "      <td>North Station</td>\n",
       "      <td>Northeastern University</td>\n",
       "      <td>11.5</td>\n",
       "      <td>1.0</td>\n",
       "      <td>b1a35b6a-04c8-46a1-9a7b-c8c190f498e1</td>\n",
       "      <td>55c66225-fbe7-4fd5-9072-eab1ece5e23e</td>\n",
       "      <td>UberX</td>\n",
       "      <td>...</td>\n",
       "      <td>Northeastern University</td>\n",
       "      <td>0.49</td>\n",
       "      <td>991.67</td>\n",
       "      <td>0.000</td>\n",
       "      <td>0.67</td>\n",
       "      <td>11.39</td>\n",
       "      <td>2018-11-28 14:02:07.000</td>\n",
       "      <td>14</td>\n",
       "      <td>2018-11-28</td>\n",
       "      <td>Wednesday</td>\n",
       "    </tr>\n",
       "    <tr>\n",
       "      <th>2479</th>\n",
       "      <td>2045</td>\n",
       "      <td>1.34</td>\n",
       "      <td>Uber</td>\n",
       "      <td>Fenway</td>\n",
       "      <td>Back Bay</td>\n",
       "      <td>27.0</td>\n",
       "      <td>1.0</td>\n",
       "      <td>833cf800-ab7e-4d1d-be4f-f408b07f7a1c</td>\n",
       "      <td>6d318bcc-22a3-4af6-bddd-b409bfce1546</td>\n",
       "      <td>Black SUV</td>\n",
       "      <td>...</td>\n",
       "      <td>Back Bay</td>\n",
       "      <td>0.15</td>\n",
       "      <td>991.78</td>\n",
       "      <td>0.000</td>\n",
       "      <td>0.80</td>\n",
       "      <td>6.62</td>\n",
       "      <td>2018-11-28 07:34:35.000</td>\n",
       "      <td>07</td>\n",
       "      <td>2018-11-28</td>\n",
       "      <td>Wednesday</td>\n",
       "    </tr>\n",
       "    <tr>\n",
       "      <th>2480</th>\n",
       "      <td>3634</td>\n",
       "      <td>2.19</td>\n",
       "      <td>Uber</td>\n",
       "      <td>North End</td>\n",
       "      <td>Beacon Hill</td>\n",
       "      <td>8.5</td>\n",
       "      <td>1.0</td>\n",
       "      <td>2f9880b8-8d6e-4f44-ba77-04d2a7344763</td>\n",
       "      <td>55c66225-fbe7-4fd5-9072-eab1ece5e23e</td>\n",
       "      <td>UberX</td>\n",
       "      <td>...</td>\n",
       "      <td>Beacon Hill</td>\n",
       "      <td>0.45</td>\n",
       "      <td>998.92</td>\n",
       "      <td>0.000</td>\n",
       "      <td>0.70</td>\n",
       "      <td>9.37</td>\n",
       "      <td>2018-11-29 04:46:23.000</td>\n",
       "      <td>04</td>\n",
       "      <td>2018-11-29</td>\n",
       "      <td>Thursday</td>\n",
       "    </tr>\n",
       "    <tr>\n",
       "      <th>2481</th>\n",
       "      <td>3504</td>\n",
       "      <td>1.74</td>\n",
       "      <td>Lyft</td>\n",
       "      <td>North End</td>\n",
       "      <td>Theatre District</td>\n",
       "      <td>16.5</td>\n",
       "      <td>1.0</td>\n",
       "      <td>689b9f95-60a6-4ede-b668-4baaedf83cd4</td>\n",
       "      <td>lyft_premier</td>\n",
       "      <td>Lux</td>\n",
       "      <td>...</td>\n",
       "      <td>Theatre District</td>\n",
       "      <td>0.91</td>\n",
       "      <td>1009.02</td>\n",
       "      <td>0.003</td>\n",
       "      <td>0.86</td>\n",
       "      <td>9.48</td>\n",
       "      <td>2018-11-26 21:35:09.000</td>\n",
       "      <td>21</td>\n",
       "      <td>2018-11-26</td>\n",
       "      <td>Monday</td>\n",
       "    </tr>\n",
       "    <tr>\n",
       "      <th>2482</th>\n",
       "      <td>2037</td>\n",
       "      <td>5.70</td>\n",
       "      <td>Uber</td>\n",
       "      <td>Boston University</td>\n",
       "      <td>Financial District</td>\n",
       "      <td>26.0</td>\n",
       "      <td>1.0</td>\n",
       "      <td>8dbd2dbe-03dd-48fb-8687-9954cdd0ccc2</td>\n",
       "      <td>6f72dfc5-27f1-42e8-84db-ccc7a75f6969</td>\n",
       "      <td>UberXL</td>\n",
       "      <td>...</td>\n",
       "      <td>Financial District</td>\n",
       "      <td>0.15</td>\n",
       "      <td>991.76</td>\n",
       "      <td>0.000</td>\n",
       "      <td>0.77</td>\n",
       "      <td>6.71</td>\n",
       "      <td>2018-11-28 07:33:43.000</td>\n",
       "      <td>07</td>\n",
       "      <td>2018-11-28</td>\n",
       "      <td>Wednesday</td>\n",
       "    </tr>\n",
       "  </tbody>\n",
       "</table>\n",
       "<p>2483 rows × 23 columns</p>\n",
       "</div>"
      ],
      "text/plain": [
       "      Unnamed: 0  distance cab_type         destination  \\\n",
       "0            643      0.63     Lyft  Financial District   \n",
       "1           1675      0.56     Uber    Haymarket Square   \n",
       "2           1389      2.85     Uber         Beacon Hill   \n",
       "3           2201      1.84     Uber       North Station   \n",
       "4           1036      1.73     Lyft    Haymarket Square   \n",
       "...          ...       ...      ...                 ...   \n",
       "2478          92      3.22     Uber       North Station   \n",
       "2479        2045      1.34     Uber              Fenway   \n",
       "2480        3634      2.19     Uber           North End   \n",
       "2481        3504      1.74     Lyft           North End   \n",
       "2482        2037      5.70     Uber   Boston University   \n",
       "\n",
       "                       source  price  surge_multiplier  \\\n",
       "0               South Station   26.0               1.0   \n",
       "1               North Station   27.5               1.0   \n",
       "2            Haymarket Square   31.0               1.0   \n",
       "3               South Station   27.0               1.0   \n",
       "4            Theatre District   22.5               1.0   \n",
       "...                       ...    ...               ...   \n",
       "2478  Northeastern University   11.5               1.0   \n",
       "2479                 Back Bay   27.0               1.0   \n",
       "2480              Beacon Hill    8.5               1.0   \n",
       "2481         Theatre District   16.5               1.0   \n",
       "2482       Financial District   26.0               1.0   \n",
       "\n",
       "                                        id  \\\n",
       "0     4a180790-b8cf-46a4-a144-c0263c5a2472   \n",
       "1     8fad149e-8fa2-45d0-b521-c1d9ba530d29   \n",
       "2     04c07c57-a71e-4103-9c87-9816765d68a0   \n",
       "3     0bbbd244-05e1-443b-9443-4b875140f8f0   \n",
       "4     e65ac260-22c2-4691-9b01-f46a1dd816ec   \n",
       "...                                    ...   \n",
       "2478  b1a35b6a-04c8-46a1-9a7b-c8c190f498e1   \n",
       "2479  833cf800-ab7e-4d1d-be4f-f408b07f7a1c   \n",
       "2480  2f9880b8-8d6e-4f44-ba77-04d2a7344763   \n",
       "2481  689b9f95-60a6-4ede-b668-4baaedf83cd4   \n",
       "2482  8dbd2dbe-03dd-48fb-8687-9954cdd0ccc2   \n",
       "\n",
       "                                product_id          name  ...  \\\n",
       "0                              lyft_luxsuv  Lux Black XL  ...   \n",
       "1     6d318bcc-22a3-4af6-bddd-b409bfce1546     Black SUV  ...   \n",
       "2     6d318bcc-22a3-4af6-bddd-b409bfce1546     Black SUV  ...   \n",
       "3     6d318bcc-22a3-4af6-bddd-b409bfce1546     Black SUV  ...   \n",
       "4                                 lyft_lux     Lux Black  ...   \n",
       "...                                    ...           ...  ...   \n",
       "2478  55c66225-fbe7-4fd5-9072-eab1ece5e23e         UberX  ...   \n",
       "2479  6d318bcc-22a3-4af6-bddd-b409bfce1546     Black SUV  ...   \n",
       "2480  55c66225-fbe7-4fd5-9072-eab1ece5e23e         UberX  ...   \n",
       "2481                          lyft_premier           Lux  ...   \n",
       "2482  6f72dfc5-27f1-42e8-84db-ccc7a75f6969        UberXL  ...   \n",
       "\n",
       "                     location clouds  pressure   rain  humidity   wind  \\\n",
       "0               South Station   0.63    991.57  0.000      0.62  10.01   \n",
       "1               North Station   0.50    997.89  0.002      0.70  10.38   \n",
       "2            Haymarket Square   0.63    991.56  0.000      0.62   9.89   \n",
       "3               South Station   0.90   1018.82  0.000      0.70   3.77   \n",
       "4            Theatre District   0.13    991.18  0.000      0.84   5.59   \n",
       "...                       ...    ...       ...    ...       ...    ...   \n",
       "2478  Northeastern University   0.49    991.67  0.000      0.67  11.39   \n",
       "2479                 Back Bay   0.15    991.78  0.000      0.80   6.62   \n",
       "2480              Beacon Hill   0.45    998.92  0.000      0.70   9.37   \n",
       "2481         Theatre District   0.91   1009.02  0.003      0.86   9.48   \n",
       "2482       Financial District   0.15    991.76  0.000      0.77   6.71   \n",
       "\n",
       "                 time_weather  hour        date        day  \n",
       "0     2018-11-28 16:06:22.000    16  2018-11-28  Wednesday  \n",
       "1     2018-11-29 02:07:18.000    02  2018-11-29   Thursday  \n",
       "2     2018-11-28 16:02:08.000    16  2018-11-28  Wednesday  \n",
       "3     2018-12-01 02:53:00.000    02  2018-12-01   Saturday  \n",
       "4     2018-11-28 10:02:08.000    10  2018-11-28  Wednesday  \n",
       "...                       ...   ...         ...        ...  \n",
       "2478  2018-11-28 14:02:07.000    14  2018-11-28  Wednesday  \n",
       "2479  2018-11-28 07:34:35.000    07  2018-11-28  Wednesday  \n",
       "2480  2018-11-29 04:46:23.000    04  2018-11-29   Thursday  \n",
       "2481  2018-11-26 21:35:09.000    21  2018-11-26     Monday  \n",
       "2482  2018-11-28 07:33:43.000    07  2018-11-28  Wednesday  \n",
       "\n",
       "[2483 rows x 23 columns]"
      ]
     },
     "execution_count": 39,
     "metadata": {},
     "output_type": "execute_result"
    }
   ],
   "source": [
    "train"
   ]
  },
  {
   "cell_type": "code",
   "execution_count": 40,
   "id": "39b53610",
   "metadata": {},
   "outputs": [],
   "source": [
    "train['hour']=train['hour'].astype('int')"
   ]
  },
  {
   "cell_type": "code",
   "execution_count": 41,
   "id": "940476ad",
   "metadata": {},
   "outputs": [
    {
     "data": {
      "text/plain": [
       "1     258\n",
       "0     203\n",
       "9     151\n",
       "7     149\n",
       "6     135\n",
       "2     130\n",
       "10    123\n",
       "4     123\n",
       "17    122\n",
       "23    121\n",
       "14    118\n",
       "19    104\n",
       "21    100\n",
       "11     98\n",
       "13     92\n",
       "16     80\n",
       "12     78\n",
       "15     75\n",
       "22     74\n",
       "18     44\n",
       "5      40\n",
       "20     36\n",
       "8      21\n",
       "3       8\n",
       "Name: hour, dtype: int64"
      ]
     },
     "execution_count": 41,
     "metadata": {},
     "output_type": "execute_result"
    }
   ],
   "source": [
    "train['hour'].value_counts()"
   ]
  },
  {
   "cell_type": "code",
   "execution_count": 42,
   "id": "2b34347a",
   "metadata": {},
   "outputs": [
    {
     "data": {
      "image/png": "[encoded data removed]",
      "text/plain": [
       "<Figure size 432x288 with 1 Axes>"
      ]
     },
     "metadata": {
      "needs_background": "light"
     },
     "output_type": "display_data"
    }
   ],
   "source": [
    "a=sns.countplot(x='hour', data=train)\n",
    "#a.set_ylim(14000,22000)"
   ]
  },
  {
   "cell_type": "code",
   "execution_count": null,
   "id": "748fd4b5",
   "metadata": {},
   "outputs": [],
   "source": []
  },
  {
   "cell_type": "code",
   "execution_count": 25,
   "id": "e0c33986",
   "metadata": {},
   "outputs": [],
   "source": [
    "def busy(x):\n",
    "    if x['hour'] == 0 or x['hour']==1:\n",
    "        return ('Busiest')\n",
    "    if x['hour'] == 2 or x['hour']==4 or x['hour']==6 or x['hour']==7 or x['hour']==9 or x['hour']==10 or x['hour']==14 or x['hour']==17 or x['hour']==19 or x['hour']==22:\n",
    "        return ('Busy')\n",
    "    else:\n",
    "        return ('Not Busy')"
   ]
  },
  {
   "cell_type": "code",
   "execution_count": 26,
   "id": "9de5d230",
   "metadata": {},
   "outputs": [],
   "source": [
    "train['busyness'] = train.apply(lambda x: busy(x), axis=1)"
   ]
  },
  {
   "cell_type": "code",
   "execution_count": 29,
   "id": "0889f441",
   "metadata": {},
   "outputs": [
    {
     "data": {
      "text/html": [
       "<div>\n",
       "<style scoped>\n",
       "    .dataframe tbody tr th:only-of-type {\n",
       "        vertical-align: middle;\n",
       "    }\n",
       "\n",
       "    .dataframe tbody tr th {\n",
       "        vertical-align: top;\n",
       "    }\n",
       "\n",
       "    .dataframe thead th {\n",
       "        text-align: right;\n",
       "    }\n",
       "</style>\n",
       "<table border=\"1\" class=\"dataframe\">\n",
       "  <thead>\n",
       "    <tr style=\"text-align: right;\">\n",
       "      <th></th>\n",
       "      <th>Unnamed: 0</th>\n",
       "      <th>distance</th>\n",
       "      <th>cab_type</th>\n",
       "      <th>destination</th>\n",
       "      <th>source</th>\n",
       "      <th>price</th>\n",
       "      <th>surge_multiplier</th>\n",
       "      <th>id</th>\n",
       "      <th>product_id</th>\n",
       "      <th>name</th>\n",
       "      <th>...</th>\n",
       "      <th>clouds</th>\n",
       "      <th>pressure</th>\n",
       "      <th>rain</th>\n",
       "      <th>humidity</th>\n",
       "      <th>wind</th>\n",
       "      <th>time_weather</th>\n",
       "      <th>hour</th>\n",
       "      <th>date</th>\n",
       "      <th>day</th>\n",
       "      <th>busyness</th>\n",
       "    </tr>\n",
       "  </thead>\n",
       "  <tbody>\n",
       "    <tr>\n",
       "      <th>33</th>\n",
       "      <td>3771</td>\n",
       "      <td>0.98</td>\n",
       "      <td>Lyft</td>\n",
       "      <td>Beacon Hill</td>\n",
       "      <td>Haymarket Square</td>\n",
       "      <td>34.0</td>\n",
       "      <td>1.25</td>\n",
       "      <td>ef857b8b-1e19-456c-8837-762286d842e5</td>\n",
       "      <td>lyft_luxsuv</td>\n",
       "      <td>Lux Black XL</td>\n",
       "      <td>...</td>\n",
       "      <td>0.57</td>\n",
       "      <td>997.62</td>\n",
       "      <td>0.0020</td>\n",
       "      <td>0.70</td>\n",
       "      <td>9.98</td>\n",
       "      <td>2018-11-29 01:51:40.000</td>\n",
       "      <td>1</td>\n",
       "      <td>2018-11-29</td>\n",
       "      <td>Thursday</td>\n",
       "      <td>Busiest</td>\n",
       "    </tr>\n",
       "    <tr>\n",
       "      <th>37</th>\n",
       "      <td>2287</td>\n",
       "      <td>1.92</td>\n",
       "      <td>Uber</td>\n",
       "      <td>Northeastern University</td>\n",
       "      <td>Beacon Hill</td>\n",
       "      <td>8.0</td>\n",
       "      <td>1.00</td>\n",
       "      <td>0ac43580-13f7-42e7-8eb9-cbbf0ef28c3b</td>\n",
       "      <td>9a0e7b09-b92b-4c41-9779-2ad22b4d779d</td>\n",
       "      <td>WAV</td>\n",
       "      <td>...</td>\n",
       "      <td>0.71</td>\n",
       "      <td>997.13</td>\n",
       "      <td>0.0000</td>\n",
       "      <td>0.71</td>\n",
       "      <td>9.91</td>\n",
       "      <td>2018-11-29 01:02:08.000</td>\n",
       "      <td>1</td>\n",
       "      <td>2018-11-29</td>\n",
       "      <td>Thursday</td>\n",
       "      <td>Busiest</td>\n",
       "    </tr>\n",
       "    <tr>\n",
       "      <th>39</th>\n",
       "      <td>106</td>\n",
       "      <td>5.37</td>\n",
       "      <td>Lyft</td>\n",
       "      <td>Boston University</td>\n",
       "      <td>Financial District</td>\n",
       "      <td>45.5</td>\n",
       "      <td>1.00</td>\n",
       "      <td>9f08f989-82c1-46fe-800a-6f7d864d7d5b</td>\n",
       "      <td>lyft_luxsuv</td>\n",
       "      <td>Lux Black XL</td>\n",
       "      <td>...</td>\n",
       "      <td>0.71</td>\n",
       "      <td>997.12</td>\n",
       "      <td>0.0000</td>\n",
       "      <td>0.76</td>\n",
       "      <td>10.00</td>\n",
       "      <td>2018-11-29 01:02:08.000</td>\n",
       "      <td>1</td>\n",
       "      <td>2018-11-29</td>\n",
       "      <td>Thursday</td>\n",
       "      <td>Busiest</td>\n",
       "    </tr>\n",
       "    <tr>\n",
       "      <th>43</th>\n",
       "      <td>2943</td>\n",
       "      <td>3.07</td>\n",
       "      <td>Uber</td>\n",
       "      <td>North Station</td>\n",
       "      <td>Fenway</td>\n",
       "      <td>17.0</td>\n",
       "      <td>1.00</td>\n",
       "      <td>d3e8f62d-b005-4038-8746-8ccaf3a7b8c8</td>\n",
       "      <td>6f72dfc5-27f1-42e8-84db-ccc7a75f6969</td>\n",
       "      <td>UberXL</td>\n",
       "      <td>...</td>\n",
       "      <td>0.83</td>\n",
       "      <td>996.11</td>\n",
       "      <td>0.0000</td>\n",
       "      <td>0.67</td>\n",
       "      <td>10.59</td>\n",
       "      <td>2018-11-29 00:02:07.000</td>\n",
       "      <td>0</td>\n",
       "      <td>2018-11-29</td>\n",
       "      <td>Thursday</td>\n",
       "      <td>Busiest</td>\n",
       "    </tr>\n",
       "    <tr>\n",
       "      <th>53</th>\n",
       "      <td>885</td>\n",
       "      <td>3.20</td>\n",
       "      <td>Lyft</td>\n",
       "      <td>Fenway</td>\n",
       "      <td>North Station</td>\n",
       "      <td>16.5</td>\n",
       "      <td>1.00</td>\n",
       "      <td>bb22575a-8f6b-4e8c-bcd7-19ae1791be22</td>\n",
       "      <td>lyft_plus</td>\n",
       "      <td>Lyft XL</td>\n",
       "      <td>...</td>\n",
       "      <td>0.04</td>\n",
       "      <td>992.09</td>\n",
       "      <td>0.0000</td>\n",
       "      <td>0.73</td>\n",
       "      <td>7.52</td>\n",
       "      <td>2018-11-28 00:45:22.000</td>\n",
       "      <td>0</td>\n",
       "      <td>2018-11-28</td>\n",
       "      <td>Wednesday</td>\n",
       "      <td>Busiest</td>\n",
       "    </tr>\n",
       "    <tr>\n",
       "      <th>...</th>\n",
       "      <td>...</td>\n",
       "      <td>...</td>\n",
       "      <td>...</td>\n",
       "      <td>...</td>\n",
       "      <td>...</td>\n",
       "      <td>...</td>\n",
       "      <td>...</td>\n",
       "      <td>...</td>\n",
       "      <td>...</td>\n",
       "      <td>...</td>\n",
       "      <td>...</td>\n",
       "      <td>...</td>\n",
       "      <td>...</td>\n",
       "      <td>...</td>\n",
       "      <td>...</td>\n",
       "      <td>...</td>\n",
       "      <td>...</td>\n",
       "      <td>...</td>\n",
       "      <td>...</td>\n",
       "      <td>...</td>\n",
       "      <td>...</td>\n",
       "    </tr>\n",
       "    <tr>\n",
       "      <th>2468</th>\n",
       "      <td>663</td>\n",
       "      <td>1.51</td>\n",
       "      <td>Uber</td>\n",
       "      <td>North End</td>\n",
       "      <td>Beacon Hill</td>\n",
       "      <td>10.5</td>\n",
       "      <td>1.00</td>\n",
       "      <td>3f8175e7-2621-409f-b70d-21cfc0e0e95c</td>\n",
       "      <td>9a0e7b09-b92b-4c41-9779-2ad22b4d779d</td>\n",
       "      <td>WAV</td>\n",
       "      <td>...</td>\n",
       "      <td>0.58</td>\n",
       "      <td>997.48</td>\n",
       "      <td>0.0000</td>\n",
       "      <td>0.72</td>\n",
       "      <td>10.43</td>\n",
       "      <td>2018-11-29 01:27:03.000</td>\n",
       "      <td>1</td>\n",
       "      <td>2018-11-29</td>\n",
       "      <td>Thursday</td>\n",
       "      <td>Busiest</td>\n",
       "    </tr>\n",
       "    <tr>\n",
       "      <th>2469</th>\n",
       "      <td>1611</td>\n",
       "      <td>0.49</td>\n",
       "      <td>Uber</td>\n",
       "      <td>North Station</td>\n",
       "      <td>Haymarket Square</td>\n",
       "      <td>7.0</td>\n",
       "      <td>1.00</td>\n",
       "      <td>225066e3-2c86-47ee-8915-9b27f33f9843</td>\n",
       "      <td>9a0e7b09-b92b-4c41-9779-2ad22b4d779d</td>\n",
       "      <td>WAV</td>\n",
       "      <td>...</td>\n",
       "      <td>0.98</td>\n",
       "      <td>1006.01</td>\n",
       "      <td>0.1588</td>\n",
       "      <td>0.90</td>\n",
       "      <td>9.99</td>\n",
       "      <td>2018-11-27 00:58:48.000</td>\n",
       "      <td>0</td>\n",
       "      <td>2018-11-27</td>\n",
       "      <td>Tuesday</td>\n",
       "      <td>Busiest</td>\n",
       "    </tr>\n",
       "    <tr>\n",
       "      <th>2470</th>\n",
       "      <td>3434</td>\n",
       "      <td>1.22</td>\n",
       "      <td>Uber</td>\n",
       "      <td>Northeastern University</td>\n",
       "      <td>Back Bay</td>\n",
       "      <td>10.5</td>\n",
       "      <td>1.00</td>\n",
       "      <td>665f55ad-2451-4f16-9b50-8a82af85ece8</td>\n",
       "      <td>6f72dfc5-27f1-42e8-84db-ccc7a75f6969</td>\n",
       "      <td>UberXL</td>\n",
       "      <td>...</td>\n",
       "      <td>0.04</td>\n",
       "      <td>992.11</td>\n",
       "      <td>0.0000</td>\n",
       "      <td>0.72</td>\n",
       "      <td>7.46</td>\n",
       "      <td>2018-11-28 00:45:22.000</td>\n",
       "      <td>0</td>\n",
       "      <td>2018-11-28</td>\n",
       "      <td>Wednesday</td>\n",
       "      <td>Busiest</td>\n",
       "    </tr>\n",
       "    <tr>\n",
       "      <th>2475</th>\n",
       "      <td>2216</td>\n",
       "      <td>2.62</td>\n",
       "      <td>Uber</td>\n",
       "      <td>Boston University</td>\n",
       "      <td>Theatre District</td>\n",
       "      <td>20.5</td>\n",
       "      <td>1.00</td>\n",
       "      <td>cbc3afa1-3758-4ba4-8611-d47f2db7840d</td>\n",
       "      <td>6c84fd89-3f11-4782-9b50-97c468b19529</td>\n",
       "      <td>Black</td>\n",
       "      <td>...</td>\n",
       "      <td>0.77</td>\n",
       "      <td>996.79</td>\n",
       "      <td>0.0000</td>\n",
       "      <td>0.69</td>\n",
       "      <td>11.07</td>\n",
       "      <td>2018-11-29 00:37:34.000</td>\n",
       "      <td>0</td>\n",
       "      <td>2018-11-29</td>\n",
       "      <td>Thursday</td>\n",
       "      <td>Busiest</td>\n",
       "    </tr>\n",
       "    <tr>\n",
       "      <th>2476</th>\n",
       "      <td>3379</td>\n",
       "      <td>3.01</td>\n",
       "      <td>Uber</td>\n",
       "      <td>Boston University</td>\n",
       "      <td>North Station</td>\n",
       "      <td>10.5</td>\n",
       "      <td>1.00</td>\n",
       "      <td>350ecc36-f7cc-4135-86f6-69396385ccc3</td>\n",
       "      <td>9a0e7b09-b92b-4c41-9779-2ad22b4d779d</td>\n",
       "      <td>WAV</td>\n",
       "      <td>...</td>\n",
       "      <td>0.98</td>\n",
       "      <td>1006.01</td>\n",
       "      <td>0.1378</td>\n",
       "      <td>0.90</td>\n",
       "      <td>9.98</td>\n",
       "      <td>2018-11-27 00:58:48.000</td>\n",
       "      <td>0</td>\n",
       "      <td>2018-11-27</td>\n",
       "      <td>Tuesday</td>\n",
       "      <td>Busiest</td>\n",
       "    </tr>\n",
       "  </tbody>\n",
       "</table>\n",
       "<p>461 rows × 24 columns</p>\n",
       "</div>"
      ],
      "text/plain": [
       "      Unnamed: 0  distance cab_type              destination  \\\n",
       "33          3771      0.98     Lyft              Beacon Hill   \n",
       "37          2287      1.92     Uber  Northeastern University   \n",
       "39           106      5.37     Lyft        Boston University   \n",
       "43          2943      3.07     Uber            North Station   \n",
       "53           885      3.20     Lyft                   Fenway   \n",
       "...          ...       ...      ...                      ...   \n",
       "2468         663      1.51     Uber                North End   \n",
       "2469        1611      0.49     Uber            North Station   \n",
       "2470        3434      1.22     Uber  Northeastern University   \n",
       "2475        2216      2.62     Uber        Boston University   \n",
       "2476        3379      3.01     Uber        Boston University   \n",
       "\n",
       "                  source  price  surge_multiplier  \\\n",
       "33      Haymarket Square   34.0              1.25   \n",
       "37           Beacon Hill    8.0              1.00   \n",
       "39    Financial District   45.5              1.00   \n",
       "43                Fenway   17.0              1.00   \n",
       "53         North Station   16.5              1.00   \n",
       "...                  ...    ...               ...   \n",
       "2468         Beacon Hill   10.5              1.00   \n",
       "2469    Haymarket Square    7.0              1.00   \n",
       "2470            Back Bay   10.5              1.00   \n",
       "2475    Theatre District   20.5              1.00   \n",
       "2476       North Station   10.5              1.00   \n",
       "\n",
       "                                        id  \\\n",
       "33    ef857b8b-1e19-456c-8837-762286d842e5   \n",
       "37    0ac43580-13f7-42e7-8eb9-cbbf0ef28c3b   \n",
       "39    9f08f989-82c1-46fe-800a-6f7d864d7d5b   \n",
       "43    d3e8f62d-b005-4038-8746-8ccaf3a7b8c8   \n",
       "53    bb22575a-8f6b-4e8c-bcd7-19ae1791be22   \n",
       "...                                    ...   \n",
       "2468  3f8175e7-2621-409f-b70d-21cfc0e0e95c   \n",
       "2469  225066e3-2c86-47ee-8915-9b27f33f9843   \n",
       "2470  665f55ad-2451-4f16-9b50-8a82af85ece8   \n",
       "2475  cbc3afa1-3758-4ba4-8611-d47f2db7840d   \n",
       "2476  350ecc36-f7cc-4135-86f6-69396385ccc3   \n",
       "\n",
       "                                product_id          name  ... clouds pressure  \\\n",
       "33                             lyft_luxsuv  Lux Black XL  ...   0.57   997.62   \n",
       "37    9a0e7b09-b92b-4c41-9779-2ad22b4d779d           WAV  ...   0.71   997.13   \n",
       "39                             lyft_luxsuv  Lux Black XL  ...   0.71   997.12   \n",
       "43    6f72dfc5-27f1-42e8-84db-ccc7a75f6969        UberXL  ...   0.83   996.11   \n",
       "53                               lyft_plus       Lyft XL  ...   0.04   992.09   \n",
       "...                                    ...           ...  ...    ...      ...   \n",
       "2468  9a0e7b09-b92b-4c41-9779-2ad22b4d779d           WAV  ...   0.58   997.48   \n",
       "2469  9a0e7b09-b92b-4c41-9779-2ad22b4d779d           WAV  ...   0.98  1006.01   \n",
       "2470  6f72dfc5-27f1-42e8-84db-ccc7a75f6969        UberXL  ...   0.04   992.11   \n",
       "2475  6c84fd89-3f11-4782-9b50-97c468b19529         Black  ...   0.77   996.79   \n",
       "2476  9a0e7b09-b92b-4c41-9779-2ad22b4d779d           WAV  ...   0.98  1006.01   \n",
       "\n",
       "        rain humidity   wind             time_weather  hour        date  \\\n",
       "33    0.0020     0.70   9.98  2018-11-29 01:51:40.000     1  2018-11-29   \n",
       "37    0.0000     0.71   9.91  2018-11-29 01:02:08.000     1  2018-11-29   \n",
       "39    0.0000     0.76  10.00  2018-11-29 01:02:08.000     1  2018-11-29   \n",
       "43    0.0000     0.67  10.59  2018-11-29 00:02:07.000     0  2018-11-29   \n",
       "53    0.0000     0.73   7.52  2018-11-28 00:45:22.000     0  2018-11-28   \n",
       "...      ...      ...    ...                      ...   ...         ...   \n",
       "2468  0.0000     0.72  10.43  2018-11-29 01:27:03.000     1  2018-11-29   \n",
       "2469  0.1588     0.90   9.99  2018-11-27 00:58:48.000     0  2018-11-27   \n",
       "2470  0.0000     0.72   7.46  2018-11-28 00:45:22.000     0  2018-11-28   \n",
       "2475  0.0000     0.69  11.07  2018-11-29 00:37:34.000     0  2018-11-29   \n",
       "2476  0.1378     0.90   9.98  2018-11-27 00:58:48.000     0  2018-11-27   \n",
       "\n",
       "            day busyness  \n",
       "33     Thursday  Busiest  \n",
       "37     Thursday  Busiest  \n",
       "39     Thursday  Busiest  \n",
       "43     Thursday  Busiest  \n",
       "53    Wednesday  Busiest  \n",
       "...         ...      ...  \n",
       "2468   Thursday  Busiest  \n",
       "2469    Tuesday  Busiest  \n",
       "2470  Wednesday  Busiest  \n",
       "2475   Thursday  Busiest  \n",
       "2476    Tuesday  Busiest  \n",
       "\n",
       "[461 rows x 24 columns]"
      ]
     },
     "execution_count": 29,
     "metadata": {},
     "output_type": "execute_result"
    }
   ],
   "source": [
    "train.loc[train['busyness'] == 'Busiest']"
   ]
  },
  {
   "cell_type": "code",
   "execution_count": 30,
   "id": "f8cfc669",
   "metadata": {},
   "outputs": [
    {
     "data": {
      "text/plain": [
       "<AxesSubplot:xlabel='busyness', ylabel='price'>"
      ]
     },
     "execution_count": 30,
     "metadata": {},
     "output_type": "execute_result"
    },
    {
     "data": {
      "image/png": "[encoded data removed]",
      "text/plain": [
       "<Figure size 432x288 with 1 Axes>"
      ]
     },
     "metadata": {
      "needs_background": "light"
     },
     "output_type": "display_data"
    }
   ],
   "source": [
    "sns.boxplot(y='price', x='busyness', data=train)"
   ]
  },
  {
   "cell_type": "code",
   "execution_count": 117,
   "id": "231b364b",
   "metadata": {},
   "outputs": [
    {
     "data": {
      "text/plain": [
       "<AxesSubplot:xlabel='day', ylabel='price'>"
      ]
     },
     "execution_count": 117,
     "metadata": {},
     "output_type": "execute_result"
    },
    {
     "data": {
      "image/png": "[encoded data removed]",
      "text/plain": [
       "<Figure size 432x288 with 1 Axes>"
      ]
     },
     "metadata": {},
     "output_type": "display_data"
    }
   ],
   "source": [
    "sns.boxplot(x='day',y='price', data=train )"
   ]
  },
  {
   "cell_type": "code",
   "execution_count": 132,
   "id": "6188bd7b",
   "metadata": {},
   "outputs": [
    {
     "data": {
      "text/plain": [
       "<AxesSubplot:xlabel='rush_dummy', ylabel='wind'>"
      ]
     },
     "execution_count": 132,
     "metadata": {},
     "output_type": "execute_result"
    },
    {
     "data": {
      "image/png": "[encoded data removed]",
      "text/plain": [
       "<Figure size 432x288 with 1 Axes>"
      ]
     },
     "metadata": {},
     "output_type": "display_data"
    }
   ],
   "source": [
    "sns.boxplot(x='rush_dummy',y='wind', data=train )"
   ]
  },
  {
   "cell_type": "code",
   "execution_count": 137,
   "id": "2210cdf7",
   "metadata": {},
   "outputs": [
    {
     "data": {
      "text/plain": [
       "<AxesSubplot:xlabel='day', ylabel='count'>"
      ]
     },
     "execution_count": 137,
     "metadata": {},
     "output_type": "execute_result"
    },
    {
     "data": {
      "image/png": "[encoded data removed]",
      "text/plain": [
       "<Figure size 432x288 with 1 Axes>"
      ]
     },
     "metadata": {},
     "output_type": "display_data"
    }
   ],
   "source": [
    "sns.countplot(x='day',hue='rush_dummy', data=train )"
   ]
  },
  {
   "cell_type": "code",
   "execution_count": 134,
   "id": "4a9afb14",
   "metadata": {},
   "outputs": [
    {
     "data": {
      "text/plain": [
       "<AxesSubplot:xlabel='rush_dummy', ylabel='surge_multiplier'>"
      ]
     },
     "execution_count": 134,
     "metadata": {},
     "output_type": "execute_result"
    },
    {
     "data": {
      "image/png": "[encoded data removed]",
      "text/plain": [
       "<Figure size 432x288 with 1 Axes>"
      ]
     },
     "metadata": {},
     "output_type": "display_data"
    }
   ],
   "source": [
    "sns.boxplot(x='rush_dummy',y='surge_multiplier', data=train )"
   ]
  },
  {
   "cell_type": "code",
   "execution_count": 125,
   "id": "19f95a97",
   "metadata": {},
   "outputs": [
    {
     "data": {
      "image/png": "[encoded data removed]",
      "text/plain": [
       "<Figure size 432x288 with 1 Axes>"
      ]
     },
     "metadata": {},
     "output_type": "display_data"
    }
   ],
   "source": [
    "sns.set(font_scale=0.7)\n",
    "order = ['Monday', 'Tuesday', 'Wednesday', 'Thursday', 'Friday', 'Saturday','Sunday']\n",
    "a=sns.countplot(x='day', data=train, order=order)"
   ]
  },
  {
   "cell_type": "code",
   "execution_count": 142,
   "id": "b37c2b60",
   "metadata": {},
   "outputs": [
    {
     "data": {
      "text/plain": [
       "01    121\n",
       "00     89\n",
       "07     69\n",
       "06     68\n",
       "09     66\n",
       "23     54\n",
       "02     52\n",
       "04     52\n",
       "17     51\n",
       "10     50\n",
       "11     44\n",
       "19     44\n",
       "16     43\n",
       "21     38\n",
       "14     37\n",
       "13     34\n",
       "22     34\n",
       "12     28\n",
       "15     24\n",
       "18     20\n",
       "05     20\n",
       "20     15\n",
       "08     10\n",
       "03      2\n",
       "Name: hour, dtype: int64"
      ]
     },
     "execution_count": 142,
     "metadata": {},
     "output_type": "execute_result"
    }
   ],
   "source": [
    "test.hour.value_counts()"
   ]
  },
  {
   "cell_type": "code",
   "execution_count": 128,
   "id": "b99ae905",
   "metadata": {},
   "outputs": [
    {
     "data": {
      "text/plain": [
       "<AxesSubplot:xlabel='hour', ylabel='price'>"
      ]
     },
     "execution_count": 128,
     "metadata": {},
     "output_type": "execute_result"
    },
    {
     "data": {
      "image/png": "[encoded data removed]",
      "text/plain": [
       "<Figure size 432x288 with 1 Axes>"
      ]
     },
     "metadata": {},
     "output_type": "display_data"
    }
   ],
   "source": [
    "sns.lineplot(x='hour', y='price', data=train)"
   ]
  },
  {
   "cell_type": "code",
   "execution_count": 138,
   "id": "b08312fe",
   "metadata": {},
   "outputs": [
    {
     "data": {
      "text/plain": [
       "<AxesSubplot:xlabel='distance', ylabel='price'>"
      ]
     },
     "execution_count": 138,
     "metadata": {},
     "output_type": "execute_result"
    },
    {
     "data": {
      "image/png": "[encoded data removed]",
      "text/plain": [
       "<Figure size 432x288 with 1 Axes>"
      ]
     },
     "metadata": {},
     "output_type": "display_data"
    }
   ],
   "source": [
    "sns.scatterplot(x='distance',y='price', data=train, hue='day')"
   ]
  },
  {
   "cell_type": "code",
   "execution_count": 122,
   "id": "578852b4",
   "metadata": {},
   "outputs": [
    {
     "data": {
      "text/plain": [
       "<AxesSubplot:xlabel='hour', ylabel='distance'>"
      ]
     },
     "execution_count": 122,
     "metadata": {},
     "output_type": "execute_result"
    },
    {
     "data": {
      "image/png": "[encoded data removed]",
      "text/plain": [
       "<Figure size 432x288 with 1 Axes>"
      ]
     },
     "metadata": {},
     "output_type": "display_data"
    }
   ],
   "source": [
    "sns.boxplot(x='hour',y='distance', data=train )"
   ]
  },
  {
   "cell_type": "code",
   "execution_count": 123,
   "id": "f2c4f8e4",
   "metadata": {},
   "outputs": [
    {
     "data": {
      "text/plain": [
       "<AxesSubplot:xlabel='day', ylabel='distance'>"
      ]
     },
     "execution_count": 123,
     "metadata": {},
     "output_type": "execute_result"
    },
    {
     "data": {
      "image/png": "[encoded data removed]",
      "text/plain": [
       "<Figure size 432x288 with 1 Axes>"
      ]
     },
     "metadata": {},
     "output_type": "display_data"
    }
   ],
   "source": [
    "sns.boxplot(x='day',y='distance', data=train )"
   ]
  },
  {
   "cell_type": "code",
   "execution_count": 124,
   "id": "cb002ebe",
   "metadata": {},
   "outputs": [
    {
     "data": {
      "text/plain": [
       "<AxesSubplot:xlabel='hour', ylabel='surge_multiplier'>"
      ]
     },
     "execution_count": 124,
     "metadata": {},
     "output_type": "execute_result"
    },
    {
     "data": {
      "image/png": "[encoded data removed]",
      "text/plain": [
       "<Figure size 432x288 with 1 Axes>"
      ]
     },
     "metadata": {},
     "output_type": "display_data"
    }
   ],
   "source": [
    "sns.boxplot(x='hour',y='surge_multiplier', data=train )"
   ]
  },
  {
   "cell_type": "code",
   "execution_count": null,
   "id": "8aec8024",
   "metadata": {},
   "outputs": [],
   "source": []
  }
 ],
 "metadata": {
  "kernelspec": {
   "display_name": "Python 3 (ipykernel)",
   "language": "python",
   "name": "python3"
  },
  "language_info": {
   "codemirror_mode": {
    "name": "ipython",
    "version": 3
   },
   "file_extension": ".py",
   "mimetype": "text/x-python",
   "name": "python",
   "nbconvert_exporter": "python",
   "pygments_lexer": "ipython3",
   "version": "3.9.12"
  }
 },
 "nbformat": 4,
 "nbformat_minor": 5
}
