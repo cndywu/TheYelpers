{
 "cells": [
  {
   "cell_type": "code",
   "execution_count": 1,
   "id": "7beb02ab",
   "metadata": {},
   "outputs": [],
   "source": [
    "import pandas as pd\n",
    "import numpy as np\n",
    "import seaborn as sns\n",
    "import matplotlib.pyplot as plt\n",
    "import statsmodels.formula.api as smf\n",
    "import math\n",
    "from sklearn.model_selection import train_test_split\n",
    "from sklearn.preprocessing import StandardScaler"
   ]
  },
  {
   "cell_type": "code",
   "execution_count": 2,
   "id": "9f03e1ca",
   "metadata": {},
   "outputs": [],
   "source": [
    "weather = pd.read_csv('weather.csv')\n",
    "rides = pd.read_csv('cab_rides.csv')"
   ]
  },
  {
   "cell_type": "code",
   "execution_count": 3,
   "id": "5b1ed542",
   "metadata": {},
   "outputs": [
    {
     "data": {
      "text/plain": [
       "distance                0\n",
       "cab_type                0\n",
       "time_stamp              0\n",
       "destination             0\n",
       "source                  0\n",
       "price               55095\n",
       "surge_multiplier        0\n",
       "id                      0\n",
       "product_id              0\n",
       "name                    0\n",
       "dtype: int64"
      ]
     },
     "execution_count": 3,
     "metadata": {},
     "output_type": "execute_result"
    }
   ],
   "source": [
    "rides.isnull().sum()"
   ]
  },
  {
   "cell_type": "code",
   "execution_count": 4,
   "id": "9e4734b1",
   "metadata": {},
   "outputs": [],
   "source": [
    "rides.dropna(axis = 0, inplace = True)"
   ]
  },
  {
   "cell_type": "code",
   "execution_count": 5,
   "id": "9fd1b4d6",
   "metadata": {
    "scrolled": true
   },
   "outputs": [
    {
     "data": {
      "text/plain": [
       "temp             0\n",
       "location         0\n",
       "clouds           0\n",
       "pressure         0\n",
       "rain          5382\n",
       "time_stamp       0\n",
       "humidity         0\n",
       "wind             0\n",
       "dtype: int64"
      ]
     },
     "execution_count": 5,
     "metadata": {},
     "output_type": "execute_result"
    }
   ],
   "source": [
    "weather.isnull().sum()"
   ]
  },
  {
   "cell_type": "code",
   "execution_count": 6,
   "id": "a0948a83",
   "metadata": {},
   "outputs": [],
   "source": [
    "weather.fillna(0, inplace = True)"
   ]
  },
  {
   "cell_type": "code",
   "execution_count": 7,
   "id": "ae7e401d",
   "metadata": {},
   "outputs": [],
   "source": [
    "weather_avg = weather.groupby('location').mean().reset_index()\n",
    "weather_avg.drop(columns = 'time_stamp' , inplace = True)\n",
    "weather_source = weather_avg.rename(columns =(lambda x :x + '_source'))       \n",
    "weather_source.rename(columns= {'location_source' :'source'}, inplace = True)\n",
    "weather_destination = weather_avg.rename(columns =(lambda x :x+'_destination'))       \n",
    "weather_destination.rename(columns= {'location_destination' :'destination'} ,inplace = True)\n",
    "data = rides\\\n",
    "       .merge(weather_source ,on ='source')\\\n",
    "       .merge(weather_destination ,on = 'destination')\n",
    "\n",
    "#binary encoding to cab_type\n",
    "\n",
    "data['cab_type'] =data['cab_type'].replace({'Uber':1,'Lyft':0})\n",
    "\n",
    "def one_hot_encode(df , column , prefix):\n",
    "    dummy = pd.get_dummies(df[column] ,prefix = prefix)\n",
    "    df = pd.concat([df , dummy] ,axis =1)\n",
    "    df =df.drop(column , axis =1)\n",
    "    \n",
    "    return df\n",
    "\n",
    "data = one_hot_encode(data ,column =  'destination' , prefix = 'desti')\n",
    "data = one_hot_encode(data ,column =  'source' , prefix = 'src')\n",
    "data = one_hot_encode(data ,column =  'product_id' , prefix = 'pid')\n",
    "data = one_hot_encode(data ,column =  'name' , prefix = 'nm')"
   ]
  },
  {
   "cell_type": "code",
   "execution_count": 8,
   "id": "a7da057f",
   "metadata": {},
   "outputs": [],
   "source": [
    "train, test = train_test_split(data, test_size = 0.3)"
   ]
  },
  {
   "cell_type": "code",
   "execution_count": 9,
   "id": "d2a9dcfc",
   "metadata": {},
   "outputs": [],
   "source": [
    "import os  \n",
    "os.makedirs('folder/subfolder', exist_ok = True)  \n",
    "train.to_csv('folder/subfolder/train_final_project.csv') \n",
    "test.to_csv('folder/subfolder/test_final_project.csv') "
   ]
  },
  {
   "cell_type": "code",
   "execution_count": 10,
   "id": "dc42da4e",
   "metadata": {},
   "outputs": [],
   "source": [
    "id_list_train = list(train['id'])\n",
    "rides['bool'] = rides['id'].isin(id_list_train)\n",
    "train_original = rides.loc[rides['bool'], :]\n",
    "\n",
    "id_list_test = list(test['id'])\n",
    "rides['bool'] = rides['id'].isin(id_list_test)\n",
    "test_original = rides.loc[rides['bool'], :]"
   ]
  },
  {
   "cell_type": "code",
   "execution_count": 11,
   "id": "8bc01d0e",
   "metadata": {},
   "outputs": [
    {
     "data": {
      "text/html": [
       "<table class=\"simpletable\">\n",
       "<caption>OLS Regression Results</caption>\n",
       "<tr>\n",
       "  <th>Dep. Variable:</th>          <td>price</td>      <th>  R-squared:         </th>  <td>   0.928</td>  \n",
       "</tr>\n",
       "<tr>\n",
       "  <th>Model:</th>                   <td>OLS</td>       <th>  Adj. R-squared:    </th>  <td>   0.928</td>  \n",
       "</tr>\n",
       "<tr>\n",
       "  <th>Method:</th>             <td>Least Squares</td>  <th>  F-statistic:       </th>  <td>1.700e+05</td> \n",
       "</tr>\n",
       "<tr>\n",
       "  <th>Date:</th>             <td>Fri, 03 Mar 2023</td> <th>  Prob (F-statistic):</th>   <td>  0.00</td>   \n",
       "</tr>\n",
       "<tr>\n",
       "  <th>Time:</th>                 <td>18:25:49</td>     <th>  Log-Likelihood:    </th> <td>-1.0421e+06</td>\n",
       "</tr>\n",
       "<tr>\n",
       "  <th>No. Observations:</th>      <td>446583</td>      <th>  AIC:               </th>  <td>2.084e+06</td> \n",
       "</tr>\n",
       "<tr>\n",
       "  <th>Df Residuals:</th>          <td>446548</td>      <th>  BIC:               </th>  <td>2.085e+06</td> \n",
       "</tr>\n",
       "<tr>\n",
       "  <th>Df Model:</th>              <td>    34</td>      <th>                     </th>      <td> </td>     \n",
       "</tr>\n",
       "<tr>\n",
       "  <th>Covariance Type:</th>      <td>nonrobust</td>    <th>                     </th>      <td> </td>     \n",
       "</tr>\n",
       "</table>\n",
       "<table class=\"simpletable\">\n",
       "<tr>\n",
       "                           <td></td>                             <th>coef</th>     <th>std err</th>      <th>t</th>      <th>P>|t|</th>  <th>[0.025</th>    <th>0.975]</th>  \n",
       "</tr>\n",
       "<tr>\n",
       "  <th>Intercept</th>                                          <td>   -0.0022</td> <td> 3.05e-05</td> <td>  -71.058</td> <td> 0.000</td> <td>   -0.002</td> <td>   -0.002</td>\n",
       "</tr>\n",
       "<tr>\n",
       "  <th>cab_type[T.Uber]</th>                                   <td>   -0.7290</td> <td>    0.005</td> <td> -147.990</td> <td> 0.000</td> <td>   -0.739</td> <td>   -0.719</td>\n",
       "</tr>\n",
       "<tr>\n",
       "  <th>destination[T.Beacon Hill]</th>                         <td>   -0.3036</td> <td>    0.018</td> <td>  -16.570</td> <td> 0.000</td> <td>   -0.340</td> <td>   -0.268</td>\n",
       "</tr>\n",
       "<tr>\n",
       "  <th>destination[T.Boston University]</th>                   <td>   -0.0745</td> <td>    0.015</td> <td>   -4.854</td> <td> 0.000</td> <td>   -0.105</td> <td>   -0.044</td>\n",
       "</tr>\n",
       "<tr>\n",
       "  <th>destination[T.Fenway]</th>                              <td>   -0.3874</td> <td>    0.015</td> <td>  -25.495</td> <td> 0.000</td> <td>   -0.417</td> <td>   -0.358</td>\n",
       "</tr>\n",
       "<tr>\n",
       "  <th>destination[T.Financial District]</th>                  <td>    0.4073</td> <td>    0.018</td> <td>   22.230</td> <td> 0.000</td> <td>    0.371</td> <td>    0.443</td>\n",
       "</tr>\n",
       "<tr>\n",
       "  <th>destination[T.Haymarket Square]</th>                    <td>    0.1451</td> <td>    0.015</td> <td>    9.403</td> <td> 0.000</td> <td>    0.115</td> <td>    0.175</td>\n",
       "</tr>\n",
       "<tr>\n",
       "  <th>destination[T.North End]</th>                           <td>   -0.0028</td> <td>    0.015</td> <td>   -0.185</td> <td> 0.853</td> <td>   -0.032</td> <td>    0.027</td>\n",
       "</tr>\n",
       "<tr>\n",
       "  <th>destination[T.North Station]</th>                       <td>    0.2080</td> <td>    0.018</td> <td>   11.335</td> <td> 0.000</td> <td>    0.172</td> <td>    0.244</td>\n",
       "</tr>\n",
       "<tr>\n",
       "  <th>destination[T.Northeastern University]</th>             <td>   -0.0580</td> <td>    0.015</td> <td>   -3.854</td> <td> 0.000</td> <td>   -0.087</td> <td>   -0.028</td>\n",
       "</tr>\n",
       "<tr>\n",
       "  <th>destination[T.South Station]</th>                       <td>   -0.0951</td> <td>    0.015</td> <td>   -6.254</td> <td> 0.000</td> <td>   -0.125</td> <td>   -0.065</td>\n",
       "</tr>\n",
       "<tr>\n",
       "  <th>destination[T.Theatre District]</th>                    <td>    0.2537</td> <td>    0.018</td> <td>   13.866</td> <td> 0.000</td> <td>    0.218</td> <td>    0.290</td>\n",
       "</tr>\n",
       "<tr>\n",
       "  <th>destination[T.West End]</th>                            <td>   -0.0306</td> <td>    0.018</td> <td>   -1.675</td> <td> 0.094</td> <td>   -0.067</td> <td>    0.005</td>\n",
       "</tr>\n",
       "<tr>\n",
       "  <th>source[T.Beacon Hill]</th>                              <td>   -0.3237</td> <td>    0.018</td> <td>  -17.647</td> <td> 0.000</td> <td>   -0.360</td> <td>   -0.288</td>\n",
       "</tr>\n",
       "<tr>\n",
       "  <th>source[T.Boston University]</th>                        <td>   -0.2705</td> <td>    0.015</td> <td>  -17.528</td> <td> 0.000</td> <td>   -0.301</td> <td>   -0.240</td>\n",
       "</tr>\n",
       "<tr>\n",
       "  <th>source[T.Fenway]</th>                                   <td>   -0.0802</td> <td>    0.015</td> <td>   -5.263</td> <td> 0.000</td> <td>   -0.110</td> <td>   -0.050</td>\n",
       "</tr>\n",
       "<tr>\n",
       "  <th>source[T.Financial District]</th>                       <td>    0.3259</td> <td>    0.018</td> <td>   17.627</td> <td> 0.000</td> <td>    0.290</td> <td>    0.362</td>\n",
       "</tr>\n",
       "<tr>\n",
       "  <th>source[T.Haymarket Square]</th>                         <td>    0.3800</td> <td>    0.016</td> <td>   24.358</td> <td> 0.000</td> <td>    0.349</td> <td>    0.411</td>\n",
       "</tr>\n",
       "<tr>\n",
       "  <th>source[T.North End]</th>                                <td>    0.5561</td> <td>    0.015</td> <td>   36.952</td> <td> 0.000</td> <td>    0.527</td> <td>    0.586</td>\n",
       "</tr>\n",
       "<tr>\n",
       "  <th>source[T.North Station]</th>                            <td>    0.0667</td> <td>    0.018</td> <td>    3.624</td> <td> 0.000</td> <td>    0.031</td> <td>    0.103</td>\n",
       "</tr>\n",
       "<tr>\n",
       "  <th>source[T.Northeastern University]</th>                  <td>   -0.2903</td> <td>    0.015</td> <td>  -19.128</td> <td> 0.000</td> <td>   -0.320</td> <td>   -0.261</td>\n",
       "</tr>\n",
       "<tr>\n",
       "  <th>source[T.South Station]</th>                            <td>    0.1851</td> <td>    0.015</td> <td>   12.327</td> <td> 0.000</td> <td>    0.156</td> <td>    0.215</td>\n",
       "</tr>\n",
       "<tr>\n",
       "  <th>source[T.Theatre District]</th>                         <td>    0.5179</td> <td>    0.018</td> <td>   28.293</td> <td> 0.000</td> <td>    0.482</td> <td>    0.554</td>\n",
       "</tr>\n",
       "<tr>\n",
       "  <th>source[T.West End]</th>                                 <td>    0.0590</td> <td>    0.018</td> <td>    3.212</td> <td> 0.001</td> <td>    0.023</td> <td>    0.095</td>\n",
       "</tr>\n",
       "<tr>\n",
       "  <th>product_id[T.6c84fd89-3f11-4782-9b50-97c468b19529]</th> <td>    4.7054</td> <td>    0.011</td> <td>  437.310</td> <td> 0.000</td> <td>    4.684</td> <td>    4.726</td>\n",
       "</tr>\n",
       "<tr>\n",
       "  <th>product_id[T.6d318bcc-22a3-4af6-bddd-b409bfce1546]</th> <td>    7.2377</td> <td>    0.006</td> <td> 1182.674</td> <td> 0.000</td> <td>    7.226</td> <td>    7.250</td>\n",
       "</tr>\n",
       "<tr>\n",
       "  <th>product_id[T.6f72dfc5-27f1-42e8-84db-ccc7a75f6969]</th> <td>   -0.0623</td> <td>    0.006</td> <td>  -10.193</td> <td> 0.000</td> <td>   -0.074</td> <td>   -0.050</td>\n",
       "</tr>\n",
       "<tr>\n",
       "  <th>product_id[T.997acbb5-e102-41e1-b155-9df7de0a73f2]</th> <td>   -3.5363</td> <td>    0.006</td> <td> -577.532</td> <td> 0.000</td> <td>   -3.548</td> <td>   -3.524</td>\n",
       "</tr>\n",
       "<tr>\n",
       "  <th>product_id[T.9a0e7b09-b92b-4c41-9779-2ad22b4d779d]</th> <td>   -3.0223</td> <td>    0.006</td> <td> -494.058</td> <td> 0.000</td> <td>   -3.034</td> <td>   -3.010</td>\n",
       "</tr>\n",
       "<tr>\n",
       "  <th>product_id[T.lyft]</th>                                 <td>   -3.8150</td> <td>    0.006</td> <td> -626.102</td> <td> 0.000</td> <td>   -3.827</td> <td>   -3.803</td>\n",
       "</tr>\n",
       "<tr>\n",
       "  <th>product_id[T.lyft_line]</th>                            <td>   -5.2423</td> <td>    0.006</td> <td> -860.477</td> <td> 0.000</td> <td>   -5.254</td> <td>   -5.230</td>\n",
       "</tr>\n",
       "<tr>\n",
       "  <th>product_id[T.lyft_lux]</th>                             <td>    2.9338</td> <td>    0.006</td> <td>  483.518</td> <td> 0.000</td> <td>    2.922</td> <td>    2.946</td>\n",
       "</tr>\n",
       "<tr>\n",
       "  <th>product_id[T.lyft_luxsuv]</th>                          <td>    7.5384</td> <td>    0.006</td> <td> 1239.214</td> <td> 0.000</td> <td>    7.526</td> <td>    7.550</td>\n",
       "</tr>\n",
       "<tr>\n",
       "  <th>product_id[T.lyft_plus]</th>                            <td>   -0.9618</td> <td>    0.006</td> <td> -158.253</td> <td> 0.000</td> <td>   -0.974</td> <td>   -0.950</td>\n",
       "</tr>\n",
       "<tr>\n",
       "  <th>product_id[T.lyft_premier]</th>                         <td>    0.2835</td> <td>    0.006</td> <td>   46.715</td> <td> 0.000</td> <td>    0.272</td> <td>    0.295</td>\n",
       "</tr>\n",
       "<tr>\n",
       "  <th>name[T.Black SUV]</th>                                  <td>    7.2377</td> <td>    0.006</td> <td> 1182.674</td> <td> 0.000</td> <td>    7.226</td> <td>    7.250</td>\n",
       "</tr>\n",
       "<tr>\n",
       "  <th>name[T.Lux]</th>                                        <td>    0.2835</td> <td>    0.006</td> <td>   46.715</td> <td> 0.000</td> <td>    0.272</td> <td>    0.295</td>\n",
       "</tr>\n",
       "<tr>\n",
       "  <th>name[T.Lux Black]</th>                                  <td>    2.9338</td> <td>    0.006</td> <td>  483.518</td> <td> 0.000</td> <td>    2.922</td> <td>    2.946</td>\n",
       "</tr>\n",
       "<tr>\n",
       "  <th>name[T.Lux Black XL]</th>                               <td>    7.5384</td> <td>    0.006</td> <td> 1239.214</td> <td> 0.000</td> <td>    7.526</td> <td>    7.550</td>\n",
       "</tr>\n",
       "<tr>\n",
       "  <th>name[T.Lyft]</th>                                       <td>   -3.8150</td> <td>    0.006</td> <td> -626.102</td> <td> 0.000</td> <td>   -3.827</td> <td>   -3.803</td>\n",
       "</tr>\n",
       "<tr>\n",
       "  <th>name[T.Lyft XL]</th>                                    <td>   -0.9618</td> <td>    0.006</td> <td> -158.253</td> <td> 0.000</td> <td>   -0.974</td> <td>   -0.950</td>\n",
       "</tr>\n",
       "<tr>\n",
       "  <th>name[T.Shared]</th>                                     <td>   -5.2423</td> <td>    0.006</td> <td> -860.477</td> <td> 0.000</td> <td>   -5.254</td> <td>   -5.230</td>\n",
       "</tr>\n",
       "<tr>\n",
       "  <th>name[T.UberPool]</th>                                   <td>   -3.5363</td> <td>    0.006</td> <td> -577.532</td> <td> 0.000</td> <td>   -3.548</td> <td>   -3.524</td>\n",
       "</tr>\n",
       "<tr>\n",
       "  <th>name[T.UberX]</th>                                      <td>   -6.0511</td> <td>    0.011</td> <td> -561.140</td> <td> 0.000</td> <td>   -6.072</td> <td>   -6.030</td>\n",
       "</tr>\n",
       "<tr>\n",
       "  <th>name[T.UberXL]</th>                                     <td>   -0.0623</td> <td>    0.006</td> <td>  -10.193</td> <td> 0.000</td> <td>   -0.074</td> <td>   -0.050</td>\n",
       "</tr>\n",
       "<tr>\n",
       "  <th>name[T.WAV]</th>                                        <td>   -3.0223</td> <td>    0.006</td> <td> -494.058</td> <td> 0.000</td> <td>   -3.034</td> <td>   -3.010</td>\n",
       "</tr>\n",
       "<tr>\n",
       "  <th>distance</th>                                           <td>    2.8832</td> <td>    0.004</td> <td>  672.966</td> <td> 0.000</td> <td>    2.875</td> <td>    2.892</td>\n",
       "</tr>\n",
       "<tr>\n",
       "  <th>time_stamp</th>                                         <td>-5.455e-12</td> <td> 2.82e-14</td> <td> -193.524</td> <td> 0.000</td> <td>-5.51e-12</td> <td> -5.4e-12</td>\n",
       "</tr>\n",
       "<tr>\n",
       "  <th>surge_multiplier</th>                                   <td>   18.5493</td> <td>    0.040</td> <td>  460.057</td> <td> 0.000</td> <td>   18.470</td> <td>   18.628</td>\n",
       "</tr>\n",
       "</table>\n",
       "<table class=\"simpletable\">\n",
       "<tr>\n",
       "  <th>Omnibus:</th>       <td>174013.784</td> <th>  Durbin-Watson:     </th>  <td>   1.650</td>  \n",
       "</tr>\n",
       "<tr>\n",
       "  <th>Prob(Omnibus):</th>   <td> 0.000</td>   <th>  Jarque-Bera (JB):  </th> <td>3322540.304</td>\n",
       "</tr>\n",
       "<tr>\n",
       "  <th>Skew:</th>            <td> 1.397</td>   <th>  Prob(JB):          </th>  <td>    0.00</td>  \n",
       "</tr>\n",
       "<tr>\n",
       "  <th>Kurtosis:</th>        <td>16.067</td>   <th>  Cond. No.          </th>  <td>3.75e+21</td>  \n",
       "</tr>\n",
       "</table><br/><br/>Notes:<br/>[1] Standard Errors assume that the covariance matrix of the errors is correctly specified.<br/>[2] The smallest eigenvalue is 7.56e-14. This might indicate that there are<br/>strong multicollinearity problems or that the design matrix is singular."
      ],
      "text/plain": [
       "<class 'statsmodels.iolib.summary.Summary'>\n",
       "\"\"\"\n",
       "                            OLS Regression Results                            \n",
       "==============================================================================\n",
       "Dep. Variable:                  price   R-squared:                       0.928\n",
       "Model:                            OLS   Adj. R-squared:                  0.928\n",
       "Method:                 Least Squares   F-statistic:                 1.700e+05\n",
       "Date:                Fri, 03 Mar 2023   Prob (F-statistic):               0.00\n",
       "Time:                        18:25:49   Log-Likelihood:            -1.0421e+06\n",
       "No. Observations:              446583   AIC:                         2.084e+06\n",
       "Df Residuals:                  446548   BIC:                         2.085e+06\n",
       "Df Model:                          34                                         \n",
       "Covariance Type:            nonrobust                                         \n",
       "======================================================================================================================\n",
       "                                                         coef    std err          t      P>|t|      [0.025      0.975]\n",
       "----------------------------------------------------------------------------------------------------------------------\n",
       "Intercept                                             -0.0022   3.05e-05    -71.058      0.000      -0.002      -0.002\n",
       "cab_type[T.Uber]                                      -0.7290      0.005   -147.990      0.000      -0.739      -0.719\n",
       "destination[T.Beacon Hill]                            -0.3036      0.018    -16.570      0.000      -0.340      -0.268\n",
       "destination[T.Boston University]                      -0.0745      0.015     -4.854      0.000      -0.105      -0.044\n",
       "destination[T.Fenway]                                 -0.3874      0.015    -25.495      0.000      -0.417      -0.358\n",
       "destination[T.Financial District]                      0.4073      0.018     22.230      0.000       0.371       0.443\n",
       "destination[T.Haymarket Square]                        0.1451      0.015      9.403      0.000       0.115       0.175\n",
       "destination[T.North End]                              -0.0028      0.015     -0.185      0.853      -0.032       0.027\n",
       "destination[T.North Station]                           0.2080      0.018     11.335      0.000       0.172       0.244\n",
       "destination[T.Northeastern University]                -0.0580      0.015     -3.854      0.000      -0.087      -0.028\n",
       "destination[T.South Station]                          -0.0951      0.015     -6.254      0.000      -0.125      -0.065\n",
       "destination[T.Theatre District]                        0.2537      0.018     13.866      0.000       0.218       0.290\n",
       "destination[T.West End]                               -0.0306      0.018     -1.675      0.094      -0.067       0.005\n",
       "source[T.Beacon Hill]                                 -0.3237      0.018    -17.647      0.000      -0.360      -0.288\n",
       "source[T.Boston University]                           -0.2705      0.015    -17.528      0.000      -0.301      -0.240\n",
       "source[T.Fenway]                                      -0.0802      0.015     -5.263      0.000      -0.110      -0.050\n",
       "source[T.Financial District]                           0.3259      0.018     17.627      0.000       0.290       0.362\n",
       "source[T.Haymarket Square]                             0.3800      0.016     24.358      0.000       0.349       0.411\n",
       "source[T.North End]                                    0.5561      0.015     36.952      0.000       0.527       0.586\n",
       "source[T.North Station]                                0.0667      0.018      3.624      0.000       0.031       0.103\n",
       "source[T.Northeastern University]                     -0.2903      0.015    -19.128      0.000      -0.320      -0.261\n",
       "source[T.South Station]                                0.1851      0.015     12.327      0.000       0.156       0.215\n",
       "source[T.Theatre District]                             0.5179      0.018     28.293      0.000       0.482       0.554\n",
       "source[T.West End]                                     0.0590      0.018      3.212      0.001       0.023       0.095\n",
       "product_id[T.6c84fd89-3f11-4782-9b50-97c468b19529]     4.7054      0.011    437.310      0.000       4.684       4.726\n",
       "product_id[T.6d318bcc-22a3-4af6-bddd-b409bfce1546]     7.2377      0.006   1182.674      0.000       7.226       7.250\n",
       "product_id[T.6f72dfc5-27f1-42e8-84db-ccc7a75f6969]    -0.0623      0.006    -10.193      0.000      -0.074      -0.050\n",
       "product_id[T.997acbb5-e102-41e1-b155-9df7de0a73f2]    -3.5363      0.006   -577.532      0.000      -3.548      -3.524\n",
       "product_id[T.9a0e7b09-b92b-4c41-9779-2ad22b4d779d]    -3.0223      0.006   -494.058      0.000      -3.034      -3.010\n",
       "product_id[T.lyft]                                    -3.8150      0.006   -626.102      0.000      -3.827      -3.803\n",
       "product_id[T.lyft_line]                               -5.2423      0.006   -860.477      0.000      -5.254      -5.230\n",
       "product_id[T.lyft_lux]                                 2.9338      0.006    483.518      0.000       2.922       2.946\n",
       "product_id[T.lyft_luxsuv]                              7.5384      0.006   1239.214      0.000       7.526       7.550\n",
       "product_id[T.lyft_plus]                               -0.9618      0.006   -158.253      0.000      -0.974      -0.950\n",
       "product_id[T.lyft_premier]                             0.2835      0.006     46.715      0.000       0.272       0.295\n",
       "name[T.Black SUV]                                      7.2377      0.006   1182.674      0.000       7.226       7.250\n",
       "name[T.Lux]                                            0.2835      0.006     46.715      0.000       0.272       0.295\n",
       "name[T.Lux Black]                                      2.9338      0.006    483.518      0.000       2.922       2.946\n",
       "name[T.Lux Black XL]                                   7.5384      0.006   1239.214      0.000       7.526       7.550\n",
       "name[T.Lyft]                                          -3.8150      0.006   -626.102      0.000      -3.827      -3.803\n",
       "name[T.Lyft XL]                                       -0.9618      0.006   -158.253      0.000      -0.974      -0.950\n",
       "name[T.Shared]                                        -5.2423      0.006   -860.477      0.000      -5.254      -5.230\n",
       "name[T.UberPool]                                      -3.5363      0.006   -577.532      0.000      -3.548      -3.524\n",
       "name[T.UberX]                                         -6.0511      0.011   -561.140      0.000      -6.072      -6.030\n",
       "name[T.UberXL]                                        -0.0623      0.006    -10.193      0.000      -0.074      -0.050\n",
       "name[T.WAV]                                           -3.0223      0.006   -494.058      0.000      -3.034      -3.010\n",
       "distance                                               2.8832      0.004    672.966      0.000       2.875       2.892\n",
       "time_stamp                                         -5.455e-12   2.82e-14   -193.524      0.000   -5.51e-12    -5.4e-12\n",
       "surge_multiplier                                      18.5493      0.040    460.057      0.000      18.470      18.628\n",
       "==============================================================================\n",
       "Omnibus:                   174013.784   Durbin-Watson:                   1.650\n",
       "Prob(Omnibus):                  0.000   Jarque-Bera (JB):          3322540.304\n",
       "Skew:                           1.397   Prob(JB):                         0.00\n",
       "Kurtosis:                      16.067   Cond. No.                     3.75e+21\n",
       "==============================================================================\n",
       "\n",
       "Notes:\n",
       "[1] Standard Errors assume that the covariance matrix of the errors is correctly specified.\n",
       "[2] The smallest eigenvalue is 7.56e-14. This might indicate that there are\n",
       "strong multicollinearity problems or that the design matrix is singular.\n",
       "\"\"\""
      ]
     },
     "execution_count": 11,
     "metadata": {},
     "output_type": "execute_result"
    }
   ],
   "source": [
    "ols_object_basic = smf.ols(formula = 'price~distance+cab_type+time_stamp+destination+source+surge_multiplier+product_id+name', data = train_original)\n",
    "model_basic = ols_object_basic.fit()\n",
    "model_basic.summary()"
   ]
  },
  {
   "cell_type": "code",
   "execution_count": 12,
   "id": "cdce1a3a",
   "metadata": {},
   "outputs": [
    {
     "data": {
      "text/plain": [
       "2.481570853314816"
      ]
     },
     "execution_count": 12,
     "metadata": {},
     "output_type": "execute_result"
    }
   ],
   "source": [
    "np.sqrt(((test_original.price - model_basic.predict(test_original))**2).mean())"
   ]
  },
  {
   "cell_type": "code",
   "execution_count": 13,
   "id": "7f6e5e34",
   "metadata": {},
   "outputs": [
    {
     "data": {
      "text/plain": [
       "2.4959450229016955"
      ]
     },
     "execution_count": 13,
     "metadata": {},
     "output_type": "execute_result"
    }
   ],
   "source": [
    "np.sqrt(model_basic.mse_resid)"
   ]
  },
  {
   "cell_type": "code",
   "execution_count": 31,
   "id": "8fb63fca",
   "metadata": {},
   "outputs": [
    {
     "ename": "KeyboardInterrupt",
     "evalue": "",
     "output_type": "error",
     "traceback": [
      "\u001b[0;31m---------------------------------------------------------------------------\u001b[0m",
      "\u001b[0;31mKeyboardInterrupt\u001b[0m                         Traceback (most recent call last)",
      "Input \u001b[0;32mIn [31]\u001b[0m, in \u001b[0;36m<cell line: 1>\u001b[0;34m()\u001b[0m\n\u001b[0;32m----> 1\u001b[0m out \u001b[38;5;241m=\u001b[39m \u001b[43mmodel_basic\u001b[49m\u001b[38;5;241;43m.\u001b[39;49m\u001b[43moutlier_test\u001b[49m\u001b[43m(\u001b[49m\u001b[43m)\u001b[49m\n",
      "File \u001b[0;32m~/opt/anaconda3/lib/python3.9/site-packages/statsmodels/regression/linear_model.py:2993\u001b[0m, in \u001b[0;36mOLSResults.outlier_test\u001b[0;34m(self, method, alpha, labels, order, cutoff)\u001b[0m\n\u001b[1;32m   2947\u001b[0m \u001b[38;5;124;03m\"\"\"\u001b[39;00m\n\u001b[1;32m   2948\u001b[0m \u001b[38;5;124;03mTest observations for outliers according to method.\u001b[39;00m\n\u001b[1;32m   2949\u001b[0m \n\u001b[0;32m   (...)\u001b[0m\n\u001b[1;32m   2990\u001b[0m \u001b[38;5;124;03mdf = df_resid - 1.\u001b[39;00m\n\u001b[1;32m   2991\u001b[0m \u001b[38;5;124;03m\"\"\"\u001b[39;00m\n\u001b[1;32m   2992\u001b[0m \u001b[38;5;28;01mfrom\u001b[39;00m \u001b[38;5;21;01mstatsmodels\u001b[39;00m\u001b[38;5;21;01m.\u001b[39;00m\u001b[38;5;21;01mstats\u001b[39;00m\u001b[38;5;21;01m.\u001b[39;00m\u001b[38;5;21;01moutliers_influence\u001b[39;00m \u001b[38;5;28;01mimport\u001b[39;00m outlier_test\n\u001b[0;32m-> 2993\u001b[0m \u001b[38;5;28;01mreturn\u001b[39;00m \u001b[43moutlier_test\u001b[49m\u001b[43m(\u001b[49m\u001b[38;5;28;43mself\u001b[39;49m\u001b[43m,\u001b[49m\u001b[43m \u001b[49m\u001b[43mmethod\u001b[49m\u001b[43m,\u001b[49m\u001b[43m \u001b[49m\u001b[43malpha\u001b[49m\u001b[43m,\u001b[49m\u001b[43m \u001b[49m\u001b[43mlabels\u001b[49m\u001b[38;5;241;43m=\u001b[39;49m\u001b[43mlabels\u001b[49m\u001b[43m,\u001b[49m\n\u001b[1;32m   2994\u001b[0m \u001b[43m                    \u001b[49m\u001b[43morder\u001b[49m\u001b[38;5;241;43m=\u001b[39;49m\u001b[43morder\u001b[49m\u001b[43m,\u001b[49m\u001b[43m \u001b[49m\u001b[43mcutoff\u001b[49m\u001b[38;5;241;43m=\u001b[39;49m\u001b[43mcutoff\u001b[49m\u001b[43m)\u001b[49m\n",
      "File \u001b[0;32m~/opt/anaconda3/lib/python3.9/site-packages/statsmodels/stats/outliers_influence.py:79\u001b[0m, in \u001b[0;36moutlier_test\u001b[0;34m(model_results, method, alpha, labels, order, cutoff)\u001b[0m\n\u001b[1;32m     75\u001b[0m     results \u001b[38;5;241m=\u001b[39m maybe_unwrap_results(model_results)\n\u001b[1;32m     76\u001b[0m     \u001b[38;5;28;01mraise\u001b[39;00m \u001b[38;5;167;01mAttributeError\u001b[39;00m(\u001b[38;5;124m\"\u001b[39m\u001b[38;5;124mmodel_results object \u001b[39m\u001b[38;5;132;01m%s\u001b[39;00m\u001b[38;5;124m does not have a \u001b[39m\u001b[38;5;124m\"\u001b[39m\n\u001b[1;32m     77\u001b[0m                          \u001b[38;5;124m\"\u001b[39m\u001b[38;5;124mget_influence \u001b[39m\u001b[38;5;124m\"\u001b[39m\n\u001b[1;32m     78\u001b[0m                          \u001b[38;5;124m\"\u001b[39m\u001b[38;5;124mmethod.\u001b[39m\u001b[38;5;124m\"\u001b[39m \u001b[38;5;241m%\u001b[39m results\u001b[38;5;241m.\u001b[39m\u001b[38;5;18m__class__\u001b[39m\u001b[38;5;241m.\u001b[39m\u001b[38;5;18m__name__\u001b[39m)\n\u001b[0;32m---> 79\u001b[0m resid \u001b[38;5;241m=\u001b[39m \u001b[43minfl\u001b[49m\u001b[43m(\u001b[49m\u001b[43m)\u001b[49m\u001b[38;5;241;43m.\u001b[39;49m\u001b[43mresid_studentized_external\u001b[49m\n\u001b[1;32m     80\u001b[0m \u001b[38;5;28;01mif\u001b[39;00m order:\n\u001b[1;32m     81\u001b[0m     idx \u001b[38;5;241m=\u001b[39m np\u001b[38;5;241m.\u001b[39mabs(resid)\u001b[38;5;241m.\u001b[39margsort()[::\u001b[38;5;241m-\u001b[39m\u001b[38;5;241m1\u001b[39m]\n",
      "File \u001b[0;32m~/opt/anaconda3/lib/python3.9/site-packages/pandas/_libs/properties.pyx:37\u001b[0m, in \u001b[0;36mpandas._libs.properties.CachedProperty.__get__\u001b[0;34m()\u001b[0m\n",
      "File \u001b[0;32m~/opt/anaconda3/lib/python3.9/site-packages/statsmodels/stats/outliers_influence.py:663\u001b[0m, in \u001b[0;36mOLSInfluence.resid_studentized_external\u001b[0;34m(self)\u001b[0m\n\u001b[1;32m    655\u001b[0m \u001b[38;5;129m@cache_readonly\u001b[39m\n\u001b[1;32m    656\u001b[0m \u001b[38;5;28;01mdef\u001b[39;00m \u001b[38;5;21mresid_studentized_external\u001b[39m(\u001b[38;5;28mself\u001b[39m):\n\u001b[1;32m    657\u001b[0m     \u001b[38;5;124;03m\"\"\"Studentized residuals using LOOO variance\u001b[39;00m\n\u001b[1;32m    658\u001b[0m \n\u001b[1;32m    659\u001b[0m \u001b[38;5;124;03m    this uses sigma from leave-one-out estimates\u001b[39;00m\n\u001b[1;32m    660\u001b[0m \n\u001b[1;32m    661\u001b[0m \u001b[38;5;124;03m    requires leave one out loop for observations\u001b[39;00m\n\u001b[1;32m    662\u001b[0m \u001b[38;5;124;03m    \"\"\"\u001b[39;00m\n\u001b[0;32m--> 663\u001b[0m     sigma_looo \u001b[38;5;241m=\u001b[39m np\u001b[38;5;241m.\u001b[39msqrt(\u001b[38;5;28;43mself\u001b[39;49m\u001b[38;5;241;43m.\u001b[39;49m\u001b[43msigma2_not_obsi\u001b[49m)\n\u001b[1;32m    664\u001b[0m     \u001b[38;5;28;01mreturn\u001b[39;00m \u001b[38;5;28mself\u001b[39m\u001b[38;5;241m.\u001b[39mget_resid_studentized_external(sigma\u001b[38;5;241m=\u001b[39msigma_looo)\n",
      "File \u001b[0;32m~/opt/anaconda3/lib/python3.9/site-packages/pandas/_libs/properties.pyx:37\u001b[0m, in \u001b[0;36mpandas._libs.properties.CachedProperty.__get__\u001b[0;34m()\u001b[0m\n",
      "File \u001b[0;32m~/opt/anaconda3/lib/python3.9/site-packages/statsmodels/stats/outliers_influence.py:798\u001b[0m, in \u001b[0;36mOLSInfluence.sigma2_not_obsi\u001b[0;34m(self)\u001b[0m\n\u001b[1;32m    790\u001b[0m \u001b[38;5;129m@cache_readonly\u001b[39m\n\u001b[1;32m    791\u001b[0m \u001b[38;5;28;01mdef\u001b[39;00m \u001b[38;5;21msigma2_not_obsi\u001b[39m(\u001b[38;5;28mself\u001b[39m):\n\u001b[1;32m    792\u001b[0m     \u001b[38;5;124;03m\"\"\"error variance for all LOOO regressions\u001b[39;00m\n\u001b[1;32m    793\u001b[0m \n\u001b[1;32m    794\u001b[0m \u001b[38;5;124;03m    This is 'mse_resid' from each auxiliary regression.\u001b[39;00m\n\u001b[1;32m    795\u001b[0m \n\u001b[1;32m    796\u001b[0m \u001b[38;5;124;03m    uses results from leave-one-observation-out loop\u001b[39;00m\n\u001b[1;32m    797\u001b[0m \u001b[38;5;124;03m    \"\"\"\u001b[39;00m\n\u001b[0;32m--> 798\u001b[0m     \u001b[38;5;28;01mreturn\u001b[39;00m np\u001b[38;5;241m.\u001b[39masarray(\u001b[38;5;28;43mself\u001b[39;49m\u001b[38;5;241;43m.\u001b[39;49m\u001b[43m_res_looo\u001b[49m[\u001b[38;5;124m'\u001b[39m\u001b[38;5;124mmse_resid\u001b[39m\u001b[38;5;124m'\u001b[39m])\n",
      "File \u001b[0;32m~/opt/anaconda3/lib/python3.9/site-packages/pandas/_libs/properties.pyx:37\u001b[0m, in \u001b[0;36mpandas._libs.properties.CachedProperty.__get__\u001b[0;34m()\u001b[0m\n",
      "File \u001b[0;32m~/opt/anaconda3/lib/python3.9/site-packages/statsmodels/stats/outliers_influence.py:958\u001b[0m, in \u001b[0;36mOLSInfluence._res_looo\u001b[0;34m(self)\u001b[0m\n\u001b[1;32m    956\u001b[0m cv_iter \u001b[38;5;241m=\u001b[39m LeaveOneOut(\u001b[38;5;28mself\u001b[39m\u001b[38;5;241m.\u001b[39mnobs)\n\u001b[1;32m    957\u001b[0m \u001b[38;5;28;01mfor\u001b[39;00m inidx, outidx \u001b[38;5;129;01min\u001b[39;00m cv_iter:\n\u001b[0;32m--> 958\u001b[0m     res_i \u001b[38;5;241m=\u001b[39m \u001b[38;5;28;43mself\u001b[39;49m\u001b[38;5;241;43m.\u001b[39;49m\u001b[43mmodel_class\u001b[49m\u001b[43m(\u001b[49m\u001b[43mendog\u001b[49m\u001b[43m[\u001b[49m\u001b[43minidx\u001b[49m\u001b[43m]\u001b[49m\u001b[43m,\u001b[49m\u001b[43m \u001b[49m\u001b[43mexog\u001b[49m\u001b[43m[\u001b[49m\u001b[43minidx\u001b[49m\u001b[43m]\u001b[49m\u001b[43m)\u001b[49m\u001b[38;5;241;43m.\u001b[39;49m\u001b[43mfit\u001b[49m\u001b[43m(\u001b[49m\u001b[43m)\u001b[49m\n\u001b[1;32m    959\u001b[0m     params[outidx] \u001b[38;5;241m=\u001b[39m res_i\u001b[38;5;241m.\u001b[39mparams\n\u001b[1;32m    960\u001b[0m     mse_resid[outidx] \u001b[38;5;241m=\u001b[39m res_i\u001b[38;5;241m.\u001b[39mmse_resid\n",
      "File \u001b[0;32m~/opt/anaconda3/lib/python3.9/site-packages/statsmodels/regression/linear_model.py:306\u001b[0m, in \u001b[0;36mRegressionModel.fit\u001b[0;34m(self, method, cov_type, cov_kwds, use_t, **kwargs)\u001b[0m\n\u001b[1;32m    301\u001b[0m \u001b[38;5;28;01mif\u001b[39;00m method \u001b[38;5;241m==\u001b[39m \u001b[38;5;124m\"\u001b[39m\u001b[38;5;124mpinv\u001b[39m\u001b[38;5;124m\"\u001b[39m:\n\u001b[1;32m    302\u001b[0m     \u001b[38;5;28;01mif\u001b[39;00m \u001b[38;5;129;01mnot\u001b[39;00m (\u001b[38;5;28mhasattr\u001b[39m(\u001b[38;5;28mself\u001b[39m, \u001b[38;5;124m'\u001b[39m\u001b[38;5;124mpinv_wexog\u001b[39m\u001b[38;5;124m'\u001b[39m) \u001b[38;5;129;01mand\u001b[39;00m\n\u001b[1;32m    303\u001b[0m             \u001b[38;5;28mhasattr\u001b[39m(\u001b[38;5;28mself\u001b[39m, \u001b[38;5;124m'\u001b[39m\u001b[38;5;124mnormalized_cov_params\u001b[39m\u001b[38;5;124m'\u001b[39m) \u001b[38;5;129;01mand\u001b[39;00m\n\u001b[1;32m    304\u001b[0m             \u001b[38;5;28mhasattr\u001b[39m(\u001b[38;5;28mself\u001b[39m, \u001b[38;5;124m'\u001b[39m\u001b[38;5;124mrank\u001b[39m\u001b[38;5;124m'\u001b[39m)):\n\u001b[0;32m--> 306\u001b[0m         \u001b[38;5;28mself\u001b[39m\u001b[38;5;241m.\u001b[39mpinv_wexog, singular_values \u001b[38;5;241m=\u001b[39m \u001b[43mpinv_extended\u001b[49m\u001b[43m(\u001b[49m\u001b[38;5;28;43mself\u001b[39;49m\u001b[38;5;241;43m.\u001b[39;49m\u001b[43mwexog\u001b[49m\u001b[43m)\u001b[49m\n\u001b[1;32m    307\u001b[0m         \u001b[38;5;28mself\u001b[39m\u001b[38;5;241m.\u001b[39mnormalized_cov_params \u001b[38;5;241m=\u001b[39m np\u001b[38;5;241m.\u001b[39mdot(\n\u001b[1;32m    308\u001b[0m             \u001b[38;5;28mself\u001b[39m\u001b[38;5;241m.\u001b[39mpinv_wexog, np\u001b[38;5;241m.\u001b[39mtranspose(\u001b[38;5;28mself\u001b[39m\u001b[38;5;241m.\u001b[39mpinv_wexog))\n\u001b[1;32m    310\u001b[0m         \u001b[38;5;66;03m# Cache these singular values for use later.\u001b[39;00m\n",
      "File \u001b[0;32m~/opt/anaconda3/lib/python3.9/site-packages/statsmodels/tools/tools.py:339\u001b[0m, in \u001b[0;36mpinv_extended\u001b[0;34m(x, rcond)\u001b[0m\n\u001b[1;32m    337\u001b[0m x \u001b[38;5;241m=\u001b[39m np\u001b[38;5;241m.\u001b[39masarray(x)\n\u001b[1;32m    338\u001b[0m x \u001b[38;5;241m=\u001b[39m x\u001b[38;5;241m.\u001b[39mconjugate()\n\u001b[0;32m--> 339\u001b[0m u, s, vt \u001b[38;5;241m=\u001b[39m \u001b[43mnp\u001b[49m\u001b[38;5;241;43m.\u001b[39;49m\u001b[43mlinalg\u001b[49m\u001b[38;5;241;43m.\u001b[39;49m\u001b[43msvd\u001b[49m\u001b[43m(\u001b[49m\u001b[43mx\u001b[49m\u001b[43m,\u001b[49m\u001b[43m \u001b[49m\u001b[38;5;28;43;01mFalse\u001b[39;49;00m\u001b[43m)\u001b[49m\n\u001b[1;32m    340\u001b[0m s_orig \u001b[38;5;241m=\u001b[39m np\u001b[38;5;241m.\u001b[39mcopy(s)\n\u001b[1;32m    341\u001b[0m m \u001b[38;5;241m=\u001b[39m u\u001b[38;5;241m.\u001b[39mshape[\u001b[38;5;241m0\u001b[39m]\n",
      "File \u001b[0;32m<__array_function__ internals>:5\u001b[0m, in \u001b[0;36msvd\u001b[0;34m(*args, **kwargs)\u001b[0m\n",
      "File \u001b[0;32m~/opt/anaconda3/lib/python3.9/site-packages/numpy/linalg/linalg.py:1660\u001b[0m, in \u001b[0;36msvd\u001b[0;34m(a, full_matrices, compute_uv, hermitian)\u001b[0m\n\u001b[1;32m   1657\u001b[0m         gufunc \u001b[38;5;241m=\u001b[39m _umath_linalg\u001b[38;5;241m.\u001b[39msvd_n_s\n\u001b[1;32m   1659\u001b[0m signature \u001b[38;5;241m=\u001b[39m \u001b[38;5;124m'\u001b[39m\u001b[38;5;124mD->DdD\u001b[39m\u001b[38;5;124m'\u001b[39m \u001b[38;5;28;01mif\u001b[39;00m isComplexType(t) \u001b[38;5;28;01melse\u001b[39;00m \u001b[38;5;124m'\u001b[39m\u001b[38;5;124md->ddd\u001b[39m\u001b[38;5;124m'\u001b[39m\n\u001b[0;32m-> 1660\u001b[0m u, s, vh \u001b[38;5;241m=\u001b[39m \u001b[43mgufunc\u001b[49m\u001b[43m(\u001b[49m\u001b[43ma\u001b[49m\u001b[43m,\u001b[49m\u001b[43m \u001b[49m\u001b[43msignature\u001b[49m\u001b[38;5;241;43m=\u001b[39;49m\u001b[43msignature\u001b[49m\u001b[43m,\u001b[49m\u001b[43m \u001b[49m\u001b[43mextobj\u001b[49m\u001b[38;5;241;43m=\u001b[39;49m\u001b[43mextobj\u001b[49m\u001b[43m)\u001b[49m\n\u001b[1;32m   1661\u001b[0m u \u001b[38;5;241m=\u001b[39m u\u001b[38;5;241m.\u001b[39mastype(result_t, copy\u001b[38;5;241m=\u001b[39m\u001b[38;5;28;01mFalse\u001b[39;00m)\n\u001b[1;32m   1662\u001b[0m s \u001b[38;5;241m=\u001b[39m s\u001b[38;5;241m.\u001b[39mastype(_realType(result_t), copy\u001b[38;5;241m=\u001b[39m\u001b[38;5;28;01mFalse\u001b[39;00m)\n",
      "\u001b[0;31mKeyboardInterrupt\u001b[0m: "
     ]
    }
   ],
   "source": [
    "out = model_basic.outlier_test()"
   ]
  },
  {
   "cell_type": "code",
   "execution_count": null,
   "id": "560e09a9",
   "metadata": {},
   "outputs": [],
   "source": [
    "fig, axes = plt.subplots(1, 2, figsize = (15, 5))\n",
    "\n",
    "sns.scatterplot(ax = axes[0], x = (model_basic.fittedvalues), y = (model_basic.resid),color = 'orange')\n",
    "sns.lineplot(ax = axes[0], x = [model_basic.fittedvalues.min(), model_basic.fittedvalues.max()], y = [0,0], color = 'blue')\n",
    "axes[0].set_xlabel('Fitted values') \n",
    "axes[0].set_ylabel('Residuals')\n",
    "\n",
    "sns.scatterplot(ax = axes[1], x = (model_basic.fittedvalues), y = (out.student_resid),color = 'orange')\n",
    "sns.lineplot(ax = axes[1], x = [model_basic.fittedvalues.min(), model_basic.fittedvalues.max()], y = [0,0], color = 'blue')\n",
    "axes[1].set_xlabel('Fitted values')\n",
    "axes[1].set_ylabel('Studentized Residuals')"
   ]
  },
  {
   "cell_type": "code",
   "execution_count": 27,
   "id": "9bccc3e7",
   "metadata": {},
   "outputs": [],
   "source": [
    "import statsmodels.api as sm"
   ]
  },
  {
   "cell_type": "code",
   "execution_count": 24,
   "id": "99c377d3",
   "metadata": {},
   "outputs": [],
   "source": [
    "#take a look at high leverage points\n",
    "influence = model_basic.get_influence()\n",
    "leverage = influence.hat_matrix_diag"
   ]
  },
  {
   "cell_type": "code",
   "execution_count": 30,
   "id": "e540966c",
   "metadata": {},
   "outputs": [
    {
     "data": {
      "text/plain": [
       "1192"
      ]
     },
     "execution_count": 30,
     "metadata": {},
     "output_type": "execute_result"
    }
   ],
   "source": [
    "#calculate number of high leverage points\n",
    "average_leverage = (model_basic.df_model+1)/model_basic.nobs\n",
    "\n",
    "high_leverage_threshold = 4*average_leverage\n",
    "\n",
    "np.sum(leverage>high_leverage_threshold)"
   ]
  },
  {
   "cell_type": "code",
   "execution_count": 36,
   "id": "23f88cc4",
   "metadata": {},
   "outputs": [
    {
     "ename": "KeyError",
     "evalue": "'[7674, 9331, 9333, 9334, 12755, 12757, 14136, 14335, 15109, 15111, 18159, 18700, 19197, 22360, 23479, 23482, 24813, 24816, 25642, 27921, 28028, 28029, 34544, 34547, 36441, 39810, 39811, 39812, 41182, 41186, 41862, 42855, 43071, 43650, 44207, 44954, 45336, 46041, 46042, 47544, 48518, 50059, 50063, 51892, 51894, 52606, 54395, 56989, 56991, 57978, 57979, 64330, 64337, 64498, 64500, 65925, 66612, 69678, 70442, 72133, 73954, 73955, 79034, 80213, 80491, 82340, 85835, 85836, 90903, 91510, 92599, 92602, 95090, 97089, 98765, 98768, 99119, 99734, 100340, 101638, 101779, 101781, 103642, 103643, 104364, 104365, 104460, 104464, 111409, 111569, 113021, 113022, 113106, 117773, 117777, 117778, 119405, 119407, 120102, 120105, 121942, 121944, 123757, 124704, 124840, 124841, 125263, 125559, 125560, 127510, 128947, 130274, 130277, 132841, 132842, 132843, 135072, 135073, 135514, 135516, 136145, 137087, 138989, 138990, 138991, 138992, 139425, 139428, 139839, 141307, 141952, 141953, 142069, 143441, 143443, 145010, 145011, 145012, 146862, 147792, 147794, 147795, 150686, 150687, 152505, 152506, 155225, 155228, 157778, 157779, 158874, 160561, 161900, 161995, 168937, 168939, 169648, 169651, 170440, 171833, 172932, 172933, 173909, 173910, 174471, 174474, 174475, 175025, 177372, 177373, 180696, 180698, 180699, 181183, 181184, 181359, 182099, 183007, 183008, 183009, 183318, 184305, 186667, 187293, 191681, 191682, 191724, 191725, 192999, 193923, 193924, 196303, 197024, 197027, 199023, 199508, 199509, 202482, 202485, 203879, 204631, 204633, 204967, 206946, 207447, 212344, 212345, 215961, 215963, 215964, 219666, 219667, 219712, 219714, 219715, 219745, 219854, 219855, 220164, 221491, 221495, 224473, 224474, 225229, 225232, 227580, 227581, 227652, 229250, 230371, 231708, 236193, 240761, 240765, 241026, 242493, 243006, 243176, 246688, 247979, 248116, 249549, 249550, 249551, 249826, 250054, 251973, 252167, 252474, 253098, 258127, 258506, 258726, 259180, 259552, 259553, 259636, 261136, 262780, 263198, 265970, 268481, 270716, 271055, 271058, 272140, 272747, 273806, 273807, 276936, 277586, 278137, 278821, 278822, 278823, 282241, 282242, 282243, 282611, 284804, 285361, 287450, 287452, 289901, 289903, 291816, 296038, 296039, 296040, 301572, 301575, 301984, 302073, 304082, 306556, 306557, 308039, 308040, 308323, 310817, 310818, 311099, 312541, 312542, 312919, 312933, 318578, 319918, 322022, 322023, 322444, 326473, 327695, 329806, 329810, 331378, 331380, 331902, 332455, 332886, 332887, 335172, 336272, 338362, 338604, 339212, 339214, 341119, 343314, 343315, 344849, 346147, 346476, 347901, 348349, 349219, 349222, 350321, 350322, 350323, 352660, 353078, 353379, 353436, 353439, 354284, 357121, 360520, 360535, 360800, 360801, 361016, 361017, 361283, 361285, 361286, 362093, 362663, 366460, 366461, 368411, 368413, 369015, 369016, 370127, 370130, 371765, 371768, 373403, 373407, 373593, 374392, 375165, 376155, 377053, 377056, 379427, 382513, 382682, 382684, 384780, 384781, 385239, 388248, 389210, 389591, 394410, 395109, 395110, 395210, 395211, 395212, 395772, 397441, 397442, 397443, 401268, 401269, 401963, 405024, 406400, 409216, 411044, 411410, 411804, 412022, 418037, 418495, 418496, 418861, 421127, 421129, 421130, 421763, 421764, 421776, 421779, 421780, 422867, 424241, 424244, 428569, 429372, 429373, 429660, 430639, 430640, 431682, 436887, 437033, 437035, 438906, 440963, 440965, 445053, 445054, 446056] not found in axis'",
     "output_type": "error",
     "traceback": [
      "\u001b[0;31m---------------------------------------------------------------------------\u001b[0m",
      "\u001b[0;31mKeyError\u001b[0m                                  Traceback (most recent call last)",
      "Input \u001b[0;32mIn [36]\u001b[0m, in \u001b[0;36m<cell line: 2>\u001b[0;34m()\u001b[0m\n\u001b[1;32m      1\u001b[0m \u001b[38;5;66;03m#remove high leverage\u001b[39;00m\n\u001b[0;32m----> 2\u001b[0m train_original_filtered \u001b[38;5;241m=\u001b[39m \u001b[43mtrain_original\u001b[49m\u001b[38;5;241;43m.\u001b[39;49m\u001b[43mdrop\u001b[49m\u001b[43m(\u001b[49m\u001b[43mnp\u001b[49m\u001b[38;5;241;43m.\u001b[39;49m\u001b[43mwhere\u001b[49m\u001b[43m(\u001b[49m\u001b[43mleverage\u001b[49m\u001b[38;5;241;43m>\u001b[39;49m\u001b[43mhigh_leverage_threshold\u001b[49m\u001b[43m)\u001b[49m\u001b[43m[\u001b[49m\u001b[38;5;241;43m0\u001b[39;49m\u001b[43m]\u001b[49m\u001b[43m)\u001b[49m\n",
      "File \u001b[0;32m~/opt/anaconda3/lib/python3.9/site-packages/pandas/util/_decorators.py:311\u001b[0m, in \u001b[0;36mdeprecate_nonkeyword_arguments.<locals>.decorate.<locals>.wrapper\u001b[0;34m(*args, **kwargs)\u001b[0m\n\u001b[1;32m    305\u001b[0m \u001b[38;5;28;01mif\u001b[39;00m \u001b[38;5;28mlen\u001b[39m(args) \u001b[38;5;241m>\u001b[39m num_allow_args:\n\u001b[1;32m    306\u001b[0m     warnings\u001b[38;5;241m.\u001b[39mwarn(\n\u001b[1;32m    307\u001b[0m         msg\u001b[38;5;241m.\u001b[39mformat(arguments\u001b[38;5;241m=\u001b[39marguments),\n\u001b[1;32m    308\u001b[0m         \u001b[38;5;167;01mFutureWarning\u001b[39;00m,\n\u001b[1;32m    309\u001b[0m         stacklevel\u001b[38;5;241m=\u001b[39mstacklevel,\n\u001b[1;32m    310\u001b[0m     )\n\u001b[0;32m--> 311\u001b[0m \u001b[38;5;28;01mreturn\u001b[39;00m \u001b[43mfunc\u001b[49m\u001b[43m(\u001b[49m\u001b[38;5;241;43m*\u001b[39;49m\u001b[43margs\u001b[49m\u001b[43m,\u001b[49m\u001b[43m \u001b[49m\u001b[38;5;241;43m*\u001b[39;49m\u001b[38;5;241;43m*\u001b[39;49m\u001b[43mkwargs\u001b[49m\u001b[43m)\u001b[49m\n",
      "File \u001b[0;32m~/opt/anaconda3/lib/python3.9/site-packages/pandas/core/frame.py:4954\u001b[0m, in \u001b[0;36mDataFrame.drop\u001b[0;34m(self, labels, axis, index, columns, level, inplace, errors)\u001b[0m\n\u001b[1;32m   4806\u001b[0m \u001b[38;5;129m@deprecate_nonkeyword_arguments\u001b[39m(version\u001b[38;5;241m=\u001b[39m\u001b[38;5;28;01mNone\u001b[39;00m, allowed_args\u001b[38;5;241m=\u001b[39m[\u001b[38;5;124m\"\u001b[39m\u001b[38;5;124mself\u001b[39m\u001b[38;5;124m\"\u001b[39m, \u001b[38;5;124m\"\u001b[39m\u001b[38;5;124mlabels\u001b[39m\u001b[38;5;124m\"\u001b[39m])\n\u001b[1;32m   4807\u001b[0m \u001b[38;5;28;01mdef\u001b[39;00m \u001b[38;5;21mdrop\u001b[39m(\n\u001b[1;32m   4808\u001b[0m     \u001b[38;5;28mself\u001b[39m,\n\u001b[0;32m   (...)\u001b[0m\n\u001b[1;32m   4815\u001b[0m     errors: \u001b[38;5;28mstr\u001b[39m \u001b[38;5;241m=\u001b[39m \u001b[38;5;124m\"\u001b[39m\u001b[38;5;124mraise\u001b[39m\u001b[38;5;124m\"\u001b[39m,\n\u001b[1;32m   4816\u001b[0m ):\n\u001b[1;32m   4817\u001b[0m     \u001b[38;5;124;03m\"\"\"\u001b[39;00m\n\u001b[1;32m   4818\u001b[0m \u001b[38;5;124;03m    Drop specified labels from rows or columns.\u001b[39;00m\n\u001b[1;32m   4819\u001b[0m \n\u001b[0;32m   (...)\u001b[0m\n\u001b[1;32m   4952\u001b[0m \u001b[38;5;124;03m            weight  1.0     0.8\u001b[39;00m\n\u001b[1;32m   4953\u001b[0m \u001b[38;5;124;03m    \"\"\"\u001b[39;00m\n\u001b[0;32m-> 4954\u001b[0m     \u001b[38;5;28;01mreturn\u001b[39;00m \u001b[38;5;28;43msuper\u001b[39;49m\u001b[43m(\u001b[49m\u001b[43m)\u001b[49m\u001b[38;5;241;43m.\u001b[39;49m\u001b[43mdrop\u001b[49m\u001b[43m(\u001b[49m\n\u001b[1;32m   4955\u001b[0m \u001b[43m        \u001b[49m\u001b[43mlabels\u001b[49m\u001b[38;5;241;43m=\u001b[39;49m\u001b[43mlabels\u001b[49m\u001b[43m,\u001b[49m\n\u001b[1;32m   4956\u001b[0m \u001b[43m        \u001b[49m\u001b[43maxis\u001b[49m\u001b[38;5;241;43m=\u001b[39;49m\u001b[43maxis\u001b[49m\u001b[43m,\u001b[49m\n\u001b[1;32m   4957\u001b[0m \u001b[43m        \u001b[49m\u001b[43mindex\u001b[49m\u001b[38;5;241;43m=\u001b[39;49m\u001b[43mindex\u001b[49m\u001b[43m,\u001b[49m\n\u001b[1;32m   4958\u001b[0m \u001b[43m        \u001b[49m\u001b[43mcolumns\u001b[49m\u001b[38;5;241;43m=\u001b[39;49m\u001b[43mcolumns\u001b[49m\u001b[43m,\u001b[49m\n\u001b[1;32m   4959\u001b[0m \u001b[43m        \u001b[49m\u001b[43mlevel\u001b[49m\u001b[38;5;241;43m=\u001b[39;49m\u001b[43mlevel\u001b[49m\u001b[43m,\u001b[49m\n\u001b[1;32m   4960\u001b[0m \u001b[43m        \u001b[49m\u001b[43minplace\u001b[49m\u001b[38;5;241;43m=\u001b[39;49m\u001b[43minplace\u001b[49m\u001b[43m,\u001b[49m\n\u001b[1;32m   4961\u001b[0m \u001b[43m        \u001b[49m\u001b[43merrors\u001b[49m\u001b[38;5;241;43m=\u001b[39;49m\u001b[43merrors\u001b[49m\u001b[43m,\u001b[49m\n\u001b[1;32m   4962\u001b[0m \u001b[43m    \u001b[49m\u001b[43m)\u001b[49m\n",
      "File \u001b[0;32m~/opt/anaconda3/lib/python3.9/site-packages/pandas/core/generic.py:4267\u001b[0m, in \u001b[0;36mNDFrame.drop\u001b[0;34m(self, labels, axis, index, columns, level, inplace, errors)\u001b[0m\n\u001b[1;32m   4265\u001b[0m \u001b[38;5;28;01mfor\u001b[39;00m axis, labels \u001b[38;5;129;01min\u001b[39;00m axes\u001b[38;5;241m.\u001b[39mitems():\n\u001b[1;32m   4266\u001b[0m     \u001b[38;5;28;01mif\u001b[39;00m labels \u001b[38;5;129;01mis\u001b[39;00m \u001b[38;5;129;01mnot\u001b[39;00m \u001b[38;5;28;01mNone\u001b[39;00m:\n\u001b[0;32m-> 4267\u001b[0m         obj \u001b[38;5;241m=\u001b[39m \u001b[43mobj\u001b[49m\u001b[38;5;241;43m.\u001b[39;49m\u001b[43m_drop_axis\u001b[49m\u001b[43m(\u001b[49m\u001b[43mlabels\u001b[49m\u001b[43m,\u001b[49m\u001b[43m \u001b[49m\u001b[43maxis\u001b[49m\u001b[43m,\u001b[49m\u001b[43m \u001b[49m\u001b[43mlevel\u001b[49m\u001b[38;5;241;43m=\u001b[39;49m\u001b[43mlevel\u001b[49m\u001b[43m,\u001b[49m\u001b[43m \u001b[49m\u001b[43merrors\u001b[49m\u001b[38;5;241;43m=\u001b[39;49m\u001b[43merrors\u001b[49m\u001b[43m)\u001b[49m\n\u001b[1;32m   4269\u001b[0m \u001b[38;5;28;01mif\u001b[39;00m inplace:\n\u001b[1;32m   4270\u001b[0m     \u001b[38;5;28mself\u001b[39m\u001b[38;5;241m.\u001b[39m_update_inplace(obj)\n",
      "File \u001b[0;32m~/opt/anaconda3/lib/python3.9/site-packages/pandas/core/generic.py:4311\u001b[0m, in \u001b[0;36mNDFrame._drop_axis\u001b[0;34m(self, labels, axis, level, errors, consolidate, only_slice)\u001b[0m\n\u001b[1;32m   4309\u001b[0m         new_axis \u001b[38;5;241m=\u001b[39m axis\u001b[38;5;241m.\u001b[39mdrop(labels, level\u001b[38;5;241m=\u001b[39mlevel, errors\u001b[38;5;241m=\u001b[39merrors)\n\u001b[1;32m   4310\u001b[0m     \u001b[38;5;28;01melse\u001b[39;00m:\n\u001b[0;32m-> 4311\u001b[0m         new_axis \u001b[38;5;241m=\u001b[39m \u001b[43maxis\u001b[49m\u001b[38;5;241;43m.\u001b[39;49m\u001b[43mdrop\u001b[49m\u001b[43m(\u001b[49m\u001b[43mlabels\u001b[49m\u001b[43m,\u001b[49m\u001b[43m \u001b[49m\u001b[43merrors\u001b[49m\u001b[38;5;241;43m=\u001b[39;49m\u001b[43merrors\u001b[49m\u001b[43m)\u001b[49m\n\u001b[1;32m   4312\u001b[0m     indexer \u001b[38;5;241m=\u001b[39m axis\u001b[38;5;241m.\u001b[39mget_indexer(new_axis)\n\u001b[1;32m   4314\u001b[0m \u001b[38;5;66;03m# Case for non-unique axis\u001b[39;00m\n\u001b[1;32m   4315\u001b[0m \u001b[38;5;28;01melse\u001b[39;00m:\n",
      "File \u001b[0;32m~/opt/anaconda3/lib/python3.9/site-packages/pandas/core/indexes/base.py:6644\u001b[0m, in \u001b[0;36mIndex.drop\u001b[0;34m(self, labels, errors)\u001b[0m\n\u001b[1;32m   6642\u001b[0m \u001b[38;5;28;01mif\u001b[39;00m mask\u001b[38;5;241m.\u001b[39many():\n\u001b[1;32m   6643\u001b[0m     \u001b[38;5;28;01mif\u001b[39;00m errors \u001b[38;5;241m!=\u001b[39m \u001b[38;5;124m\"\u001b[39m\u001b[38;5;124mignore\u001b[39m\u001b[38;5;124m\"\u001b[39m:\n\u001b[0;32m-> 6644\u001b[0m         \u001b[38;5;28;01mraise\u001b[39;00m \u001b[38;5;167;01mKeyError\u001b[39;00m(\u001b[38;5;124mf\u001b[39m\u001b[38;5;124m\"\u001b[39m\u001b[38;5;132;01m{\u001b[39;00m\u001b[38;5;28mlist\u001b[39m(labels[mask])\u001b[38;5;132;01m}\u001b[39;00m\u001b[38;5;124m not found in axis\u001b[39m\u001b[38;5;124m\"\u001b[39m)\n\u001b[1;32m   6645\u001b[0m     indexer \u001b[38;5;241m=\u001b[39m indexer[\u001b[38;5;241m~\u001b[39mmask]\n\u001b[1;32m   6646\u001b[0m \u001b[38;5;28;01mreturn\u001b[39;00m \u001b[38;5;28mself\u001b[39m\u001b[38;5;241m.\u001b[39mdelete(indexer)\n",
      "\u001b[0;31mKeyError\u001b[0m: '[7674, 9331, 9333, 9334, 12755, 12757, 14136, 14335, 15109, 15111, 18159, 18700, 19197, 22360, 23479, 23482, 24813, 24816, 25642, 27921, 28028, 28029, 34544, 34547, 36441, 39810, 39811, 39812, 41182, 41186, 41862, 42855, 43071, 43650, 44207, 44954, 45336, 46041, 46042, 47544, 48518, 50059, 50063, 51892, 51894, 52606, 54395, 56989, 56991, 57978, 57979, 64330, 64337, 64498, 64500, 65925, 66612, 69678, 70442, 72133, 73954, 73955, 79034, 80213, 80491, 82340, 85835, 85836, 90903, 91510, 92599, 92602, 95090, 97089, 98765, 98768, 99119, 99734, 100340, 101638, 101779, 101781, 103642, 103643, 104364, 104365, 104460, 104464, 111409, 111569, 113021, 113022, 113106, 117773, 117777, 117778, 119405, 119407, 120102, 120105, 121942, 121944, 123757, 124704, 124840, 124841, 125263, 125559, 125560, 127510, 128947, 130274, 130277, 132841, 132842, 132843, 135072, 135073, 135514, 135516, 136145, 137087, 138989, 138990, 138991, 138992, 139425, 139428, 139839, 141307, 141952, 141953, 142069, 143441, 143443, 145010, 145011, 145012, 146862, 147792, 147794, 147795, 150686, 150687, 152505, 152506, 155225, 155228, 157778, 157779, 158874, 160561, 161900, 161995, 168937, 168939, 169648, 169651, 170440, 171833, 172932, 172933, 173909, 173910, 174471, 174474, 174475, 175025, 177372, 177373, 180696, 180698, 180699, 181183, 181184, 181359, 182099, 183007, 183008, 183009, 183318, 184305, 186667, 187293, 191681, 191682, 191724, 191725, 192999, 193923, 193924, 196303, 197024, 197027, 199023, 199508, 199509, 202482, 202485, 203879, 204631, 204633, 204967, 206946, 207447, 212344, 212345, 215961, 215963, 215964, 219666, 219667, 219712, 219714, 219715, 219745, 219854, 219855, 220164, 221491, 221495, 224473, 224474, 225229, 225232, 227580, 227581, 227652, 229250, 230371, 231708, 236193, 240761, 240765, 241026, 242493, 243006, 243176, 246688, 247979, 248116, 249549, 249550, 249551, 249826, 250054, 251973, 252167, 252474, 253098, 258127, 258506, 258726, 259180, 259552, 259553, 259636, 261136, 262780, 263198, 265970, 268481, 270716, 271055, 271058, 272140, 272747, 273806, 273807, 276936, 277586, 278137, 278821, 278822, 278823, 282241, 282242, 282243, 282611, 284804, 285361, 287450, 287452, 289901, 289903, 291816, 296038, 296039, 296040, 301572, 301575, 301984, 302073, 304082, 306556, 306557, 308039, 308040, 308323, 310817, 310818, 311099, 312541, 312542, 312919, 312933, 318578, 319918, 322022, 322023, 322444, 326473, 327695, 329806, 329810, 331378, 331380, 331902, 332455, 332886, 332887, 335172, 336272, 338362, 338604, 339212, 339214, 341119, 343314, 343315, 344849, 346147, 346476, 347901, 348349, 349219, 349222, 350321, 350322, 350323, 352660, 353078, 353379, 353436, 353439, 354284, 357121, 360520, 360535, 360800, 360801, 361016, 361017, 361283, 361285, 361286, 362093, 362663, 366460, 366461, 368411, 368413, 369015, 369016, 370127, 370130, 371765, 371768, 373403, 373407, 373593, 374392, 375165, 376155, 377053, 377056, 379427, 382513, 382682, 382684, 384780, 384781, 385239, 388248, 389210, 389591, 394410, 395109, 395110, 395210, 395211, 395212, 395772, 397441, 397442, 397443, 401268, 401269, 401963, 405024, 406400, 409216, 411044, 411410, 411804, 412022, 418037, 418495, 418496, 418861, 421127, 421129, 421130, 421763, 421764, 421776, 421779, 421780, 422867, 424241, 424244, 428569, 429372, 429373, 429660, 430639, 430640, 431682, 436887, 437033, 437035, 438906, 440963, 440965, 445053, 445054, 446056] not found in axis'"
     ]
    }
   ],
   "source": [
    "#remove high leverage\n",
    "train_original_filtered = train_original.drop(np.where(leverage>high_leverage_threshold)[0])\n",
    "#np.intersect1d(np.where(np.abs(out.student_resid)>3)[0]"
   ]
  },
  {
   "cell_type": "code",
   "execution_count": 14,
   "id": "e5b67de5",
   "metadata": {},
   "outputs": [
    {
     "data": {
      "text/html": [
       "<table class=\"simpletable\">\n",
       "<caption>OLS Regression Results</caption>\n",
       "<tr>\n",
       "  <th>Dep. Variable:</th>          <td>price</td>      <th>  R-squared:         </th>  <td>   0.119</td>  \n",
       "</tr>\n",
       "<tr>\n",
       "  <th>Model:</th>                   <td>OLS</td>       <th>  Adj. R-squared:    </th>  <td>   0.119</td>  \n",
       "</tr>\n",
       "<tr>\n",
       "  <th>Method:</th>             <td>Least Squares</td>  <th>  F-statistic:       </th>  <td>6.014e+04</td> \n",
       "</tr>\n",
       "<tr>\n",
       "  <th>Date:</th>             <td>Fri, 03 Mar 2023</td> <th>  Prob (F-statistic):</th>   <td>  0.00</td>   \n",
       "</tr>\n",
       "<tr>\n",
       "  <th>Time:</th>                 <td>18:25:50</td>     <th>  Log-Likelihood:    </th> <td>-1.6023e+06</td>\n",
       "</tr>\n",
       "<tr>\n",
       "  <th>No. Observations:</th>      <td>446583</td>      <th>  AIC:               </th>  <td>3.205e+06</td> \n",
       "</tr>\n",
       "<tr>\n",
       "  <th>Df Residuals:</th>          <td>446581</td>      <th>  BIC:               </th>  <td>3.205e+06</td> \n",
       "</tr>\n",
       "<tr>\n",
       "  <th>Df Model:</th>              <td>     1</td>      <th>                     </th>      <td> </td>     \n",
       "</tr>\n",
       "<tr>\n",
       "  <th>Covariance Type:</th>      <td>nonrobust</td>    <th>                     </th>      <td> </td>     \n",
       "</tr>\n",
       "</table>\n",
       "<table class=\"simpletable\">\n",
       "<tr>\n",
       "      <td></td>         <th>coef</th>     <th>std err</th>      <th>t</th>      <th>P>|t|</th>  <th>[0.025</th>    <th>0.975]</th>  \n",
       "</tr>\n",
       "<tr>\n",
       "  <th>Intercept</th> <td>   10.3590</td> <td>    0.028</td> <td>  364.357</td> <td> 0.000</td> <td>   10.303</td> <td>   10.415</td>\n",
       "</tr>\n",
       "<tr>\n",
       "  <th>distance</th>  <td>    2.8261</td> <td>    0.012</td> <td>  245.233</td> <td> 0.000</td> <td>    2.803</td> <td>    2.849</td>\n",
       "</tr>\n",
       "</table>\n",
       "<table class=\"simpletable\">\n",
       "<tr>\n",
       "  <th>Omnibus:</th>       <td>47844.473</td> <th>  Durbin-Watson:     </th> <td>   2.154</td> \n",
       "</tr>\n",
       "<tr>\n",
       "  <th>Prob(Omnibus):</th>  <td> 0.000</td>   <th>  Jarque-Bera (JB):  </th> <td>66565.123</td>\n",
       "</tr>\n",
       "<tr>\n",
       "  <th>Skew:</th>           <td> 0.855</td>   <th>  Prob(JB):          </th> <td>    0.00</td> \n",
       "</tr>\n",
       "<tr>\n",
       "  <th>Kurtosis:</th>       <td> 3.808</td>   <th>  Cond. No.          </th> <td>    6.07</td> \n",
       "</tr>\n",
       "</table><br/><br/>Notes:<br/>[1] Standard Errors assume that the covariance matrix of the errors is correctly specified."
      ],
      "text/plain": [
       "<class 'statsmodels.iolib.summary.Summary'>\n",
       "\"\"\"\n",
       "                            OLS Regression Results                            \n",
       "==============================================================================\n",
       "Dep. Variable:                  price   R-squared:                       0.119\n",
       "Model:                            OLS   Adj. R-squared:                  0.119\n",
       "Method:                 Least Squares   F-statistic:                 6.014e+04\n",
       "Date:                Fri, 03 Mar 2023   Prob (F-statistic):               0.00\n",
       "Time:                        18:25:50   Log-Likelihood:            -1.6023e+06\n",
       "No. Observations:              446583   AIC:                         3.205e+06\n",
       "Df Residuals:                  446581   BIC:                         3.205e+06\n",
       "Df Model:                           1                                         \n",
       "Covariance Type:            nonrobust                                         \n",
       "==============================================================================\n",
       "                 coef    std err          t      P>|t|      [0.025      0.975]\n",
       "------------------------------------------------------------------------------\n",
       "Intercept     10.3590      0.028    364.357      0.000      10.303      10.415\n",
       "distance       2.8261      0.012    245.233      0.000       2.803       2.849\n",
       "==============================================================================\n",
       "Omnibus:                    47844.473   Durbin-Watson:                   2.154\n",
       "Prob(Omnibus):                  0.000   Jarque-Bera (JB):            66565.123\n",
       "Skew:                           0.855   Prob(JB):                         0.00\n",
       "Kurtosis:                       3.808   Cond. No.                         6.07\n",
       "==============================================================================\n",
       "\n",
       "Notes:\n",
       "[1] Standard Errors assume that the covariance matrix of the errors is correctly specified.\n",
       "\"\"\""
      ]
     },
     "execution_count": 14,
     "metadata": {},
     "output_type": "execute_result"
    }
   ],
   "source": [
    "ols_object_distance = smf.ols(formula = 'price~distance', data = train_original)\n",
    "model_distance = ols_object_distance.fit()\n",
    "model_distance.summary()"
   ]
  },
  {
   "cell_type": "code",
   "execution_count": 15,
   "id": "182fba45",
   "metadata": {},
   "outputs": [
    {
     "data": {
      "text/plain": [
       "8.755983735084488"
      ]
     },
     "execution_count": 15,
     "metadata": {},
     "output_type": "execute_result"
    }
   ],
   "source": [
    "np.sqrt(((test_original.price - model_distance.predict(test_original))**2).mean())"
   ]
  },
  {
   "cell_type": "code",
   "execution_count": 16,
   "id": "3412fca0",
   "metadata": {},
   "outputs": [
    {
     "data": {
      "text/plain": [
       "8.74982048160825"
      ]
     },
     "execution_count": 16,
     "metadata": {},
     "output_type": "execute_result"
    }
   ],
   "source": [
    "np.sqrt(model_distance.mse_resid)"
   ]
  },
  {
   "cell_type": "code",
   "execution_count": 17,
   "id": "42954567",
   "metadata": {},
   "outputs": [
    {
     "data": {
      "text/plain": [
       "<seaborn.axisgrid.FacetGrid at 0x7fb03df1e9a0>"
      ]
     },
     "execution_count": 17,
     "metadata": {},
     "output_type": "execute_result"
    },
    {
     "data": {
      "image/png": "[encoded data removed]",
      "text/plain": [
       "<Figure size 360x360 with 1 Axes>"
      ]
     },
     "metadata": {
      "needs_background": "light"
     },
     "output_type": "display_data"
    }
   ],
   "source": [
    "sns.displot(data = train, x = 'price', kind = 'hist')"
   ]
  },
  {
   "cell_type": "code",
   "execution_count": 18,
   "id": "066b13f6",
   "metadata": {},
   "outputs": [],
   "source": [
    "new_train = train.copy()\n",
    "new_train = new_train.drop(['price', 'id'], axis = 1)\n",
    "new_train['log_distance'] = new_train['distance'].apply(lambda x: np.log(x))"
   ]
  },
  {
   "cell_type": "code",
   "execution_count": 19,
   "id": "379e3938",
   "metadata": {},
   "outputs": [],
   "source": [
    "new_test = test.copy()\n",
    "new_test = new_test.drop(['price', 'id'], axis = 1)\n",
    "new_test['log_distance'] = new_test['distance'].apply(lambda x: np.log(x))"
   ]
  },
  {
   "cell_type": "code",
   "execution_count": 20,
   "id": "b1d4840b",
   "metadata": {},
   "outputs": [
    {
     "name": "stderr",
     "output_type": "stream",
     "text": [
      "/Users/keatonolds/opt/anaconda3/lib/python3.9/site-packages/sklearn/linear_model/_ridge.py:1791: RuntimeWarning: invalid value encountered in reciprocal\n",
      "  w = ((singvals_sq + alpha) ** -1) - (alpha ** -1)\n"
     ]
    },
    {
     "data": {
      "text/plain": [
       "2.128878538946581"
      ]
     },
     "execution_count": 20,
     "metadata": {},
     "output_type": "execute_result"
    },
    {
     "data": {
      "image/png": "[encoded data removed]",
      "text/plain": [
       "<Figure size 432x288 with 1 Axes>"
      ]
     },
     "metadata": {
      "needs_background": "light"
     },
     "output_type": "display_data"
    }
   ],
   "source": [
    "from sklearn.linear_model import Ridge, RidgeCV, Lasso, LassoCV\n",
    "from sklearn.preprocessing import StandardScaler \n",
    "from sklearn.metrics import r2_score\n",
    "\n",
    "#Taking the log transform of house_price as house prices have a right-skewed distribution\n",
    "y = np.log(train.price)\n",
    "\n",
    "#Standardizing predictors so that each of them have zero mean and unit variance\n",
    "\n",
    "#Filtering all predictors\n",
    "X = new_train; \n",
    "\n",
    "#Defining a scaler object\n",
    "scaler = StandardScaler()\n",
    "\n",
    "#The scaler object will contain the mean and variance of each column (predictor) of X. \n",
    "#These values will be useful to scale test data based on the same mean and variance as obtained on train data\n",
    "scaler.fit(X)\n",
    "\n",
    "#Using the scaler object (or the values of mean and variance stored in it) to standardize X (or train data)\n",
    "Xstd = scaler.transform(X)\n",
    "\n",
    "#The tuning parameter lambda is referred as alpha in sklearn\n",
    "\n",
    "#Creating a range of values of the tuning parameter to visualize the ridge regression coefficients\n",
    "#for different values of the tuning parameter\n",
    "alphas = 10**np.linspace(10,-2,200)*0.5\n",
    "\n",
    "#Finding the ridge regression coefficients for increasing values of the tuning parameter\n",
    "coefs = []\n",
    "for a in alphas:        \n",
    "    ridge = Ridge(alpha = a)\n",
    "    ridge.fit(Xstd, y)\n",
    "    coefs.append(ridge.coef_)\n",
    "    \n",
    "#Visualizing the shrinkage in ridge regression coefficients with increasing values of the tuning parameter lambda\n",
    "plt.xlabel('xlabel', fontsize=18)\n",
    "plt.ylabel('ylabel', fontsize=18)\n",
    "plt.plot(alphas, coefs)\n",
    "plt.xscale('log')\n",
    "plt.xlabel('$\\lambda$')\n",
    "plt.ylabel('Standardized coefficient')\n",
    "plt.legend(train.columns[1:6]);\n",
    "\n",
    "#Let us use cross validation to find the optimal value of the tuning parameter - lambda\n",
    "#For the optimal lambda, the cross validation error will be the least\n",
    "\n",
    "#Note that we are reducing the range of alpha so as to better visualize the minimum\n",
    "alphas = 10**np.linspace(1.5,-3,200)*0.5\n",
    "ridgecv = RidgeCV(alphas = alphas,store_cv_values=True)\n",
    "ridgecv.fit(Xstd, y)\n",
    "\n",
    "#Optimal value of the tuning parameter - lambda\n",
    "ridgecv.alpha_\n",
    "\n",
    "#Visualizing the LOOCV (leave one out cross validatation error vs lambda)\n",
    "plt.xlabel('xlabel', fontsize=18)\n",
    "plt.ylabel('ylabel', fontsize=18)\n",
    "plt.plot(ridgecv.alphas,ridgecv.cv_values_.sum(axis=0))\n",
    "plt.plot([ridgecv.alpha_,ridgecv.alpha_],[40,40.2],':')\n",
    "plt.xlabel('$\\lambda$')\n",
    "plt.ylabel('Cross-validation error')\n",
    "\n",
    "#Visualizing the shrinkage in ridge regression coefficients with increasing values of the tuning parameter lambda\n",
    "alphas = 10**np.linspace(10,-2,200)*0.5\n",
    "plt.xlabel('xlabel', fontsize=18)\n",
    "plt.ylabel('ylabel', fontsize=18)\n",
    "plt.plot(alphas, coefs)\n",
    "plt.plot([ridgecv.alpha_,ridgecv.alpha_],[-0.4,0.2],':')\n",
    "plt.xscale('log')\n",
    "plt.xlabel('$\\lambda$')\n",
    "plt.ylabel('Standardized coefficient')\n",
    "plt.legend(train.columns[1:6]);\n",
    "\n",
    "#Test dataset\n",
    "Xtest = new_test\n",
    "\n",
    "#Standardizing test data\n",
    "Xtest_std = scaler.transform(Xtest)\n",
    "\n",
    "#Using the developed ridge regression model to predict on test data\n",
    "ridge = Ridge(alpha = ridgecv.alpha_)\n",
    "ridge.fit(Xstd, y)\n",
    "pred=ridge.predict(Xtest_std)\n",
    "\n",
    "#RMSE on test data\n",
    "np.sqrt(((np.exp(pred)-test.price)**2).mean())"
   ]
  },
  {
   "cell_type": "code",
   "execution_count": 21,
   "id": "65342b9d",
   "metadata": {},
   "outputs": [
    {
     "name": "stderr",
     "output_type": "stream",
     "text": [
      "/Users/keatonolds/opt/anaconda3/lib/python3.9/site-packages/sklearn/linear_model/_coordinate_descent.py:647: ConvergenceWarning: Objective did not converge. You might want to increase the number of iterations, check the scale of the features or consider increasing regularisation. Duality gap: 1.633e+02, tolerance: 1.442e+01\n",
      "  model = cd_fast.enet_coordinate_descent(\n"
     ]
    },
    {
     "data": {
      "text/plain": [
       "2.128673366471029"
      ]
     },
     "execution_count": 21,
     "metadata": {},
     "output_type": "execute_result"
    },
    {
     "data": {
      "image/png": "[encoded data removed]",
      "text/plain": [
       "<Figure size 432x288 with 1 Axes>"
      ]
     },
     "metadata": {
      "needs_background": "light"
     },
     "output_type": "display_data"
    }
   ],
   "source": [
    "#Creating a range of values of the tuning parameter to visualize the lasso coefficients\n",
    "#for different values of the tuning parameter\n",
    "alphas = 10**np.linspace(10,-2,100)*0.1\n",
    "\n",
    "#Finding the lasso coefficients for increasing values of the tuning parameter\n",
    "lasso = Lasso(max_iter = 10000)\n",
    "coefs = []\n",
    "\n",
    "for a in alphas:\n",
    "    lasso.set_params(alpha=a)\n",
    "    lasso.fit(Xstd, y)\n",
    "    coefs.append(lasso.coef_)\n",
    "    \n",
    "#Visualizing the shrinkage in lasso coefficients with increasing values of the tuning parameter lambda\n",
    "plt.xlabel('xlabel', fontsize=18)\n",
    "plt.ylabel('ylabel', fontsize=18)\n",
    "plt.plot(alphas, coefs)\n",
    "plt.xscale('log')\n",
    "plt.xlabel('$\\lambda$')\n",
    "plt.ylabel('Standardized coefficient')\n",
    "plt.legend(train.columns[1:6]);\n",
    "#plt.plot([lassocv.alpha_,lassocv.alpha_],[-0.4,0.25],':')\n",
    "plt.legend(train.columns[1:6]);\n",
    "\n",
    "#Let us use cross validation to find the optimal value of the tuning parameter - lambda\n",
    "#For the optimal lambda, the cross validation error will be the least\n",
    "\n",
    "#Note that we are reducing the range of alpha so as to better visualize the minimum\n",
    "alphas = 10**np.linspace(-1,-5,200)*0.5\n",
    "lassocv = LassoCV(alphas = alphas, cv = 10, max_iter = 100000)\n",
    "lassocv.fit(Xstd, y)\n",
    "\n",
    "#Optimal value of the tuning parameter - lamda\n",
    "lassocv.alpha_\n",
    "\n",
    "#Visualizing the LOOCV (leave one out cross validatation error vs lambda)\n",
    "plt.xlabel('xlabel', fontsize=18)\n",
    "plt.ylabel('ylabel', fontsize=18)\n",
    "plt.plot(lassocv.alphas_,lassocv.mse_path_.mean(axis=1))\n",
    "plt.plot([lassocv.alpha_,lassocv.alpha_],[0.145,0.151],':')\n",
    "plt.xlabel('$\\lambda$')\n",
    "plt.ylabel('Cross-validation error')\n",
    "\n",
    "#Visualizing the shrinkage in lasso coefficients with increasing values of the tuning parameter lambda\n",
    "alphas = 10**np.linspace(10,-2,100)*0.1\n",
    "plt.xlabel('xlabel', fontsize=18)\n",
    "plt.ylabel('ylabel', fontsize=18)\n",
    "plt.plot(alphas, coefs)\n",
    "plt.xscale('log')\n",
    "plt.xlabel('$\\lambda$')\n",
    "plt.ylabel('Standardized coefficient')\n",
    "plt.legend(train.columns[1:6]);\n",
    "plt.plot([lassocv.alpha_,lassocv.alpha_],[-0.4,0.25],':')\n",
    "plt.legend(train.columns[1:6]);\n",
    "\n",
    "#Using the developed lasso model to predict on test data\n",
    "lasso = Lasso(alpha = lassocv.alpha_)\n",
    "lasso.fit(Xstd, y)\n",
    "pred=lasso.predict(Xtest_std)\n",
    "\n",
    "#RMSE on test data\n",
    "np.sqrt(((np.exp(pred)-test.price)**2).mean())"
   ]
  },
  {
   "cell_type": "code",
   "execution_count": null,
   "id": "8fc89941",
   "metadata": {},
   "outputs": [],
   "source": []
  }
 ],
 "metadata": {
  "kernelspec": {
   "display_name": "Python 3 (ipykernel)",
   "language": "python",
   "name": "python3"
  },
  "language_info": {
   "codemirror_mode": {
    "name": "ipython",
    "version": 3
   },
   "file_extension": ".py",
   "mimetype": "text/x-python",
   "name": "python",
   "nbconvert_exporter": "python",
   "pygments_lexer": "ipython3",
   "version": "3.9.12"
  }
 },
 "nbformat": 4,
 "nbformat_minor": 5
}
