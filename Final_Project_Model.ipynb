{
 "cells": [
  {
   "cell_type": "code",
   "execution_count": 51,
   "id": "7beb02ab",
   "metadata": {},
   "outputs": [],
   "source": [
    "import pandas as pd\n",
    "import numpy as np\n",
    "import seaborn as sns\n",
    "import matplotlib.pyplot as plt\n",
    "import statsmodels.formula.api as smf\n",
    "import math\n",
    "from sklearn.model_selection import train_test_split\n",
    "from sklearn.preprocessing import StandardScaler"
   ]
  },
  {
   "cell_type": "code",
   "execution_count": 52,
   "id": "9f03e1ca",
   "metadata": {},
   "outputs": [],
   "source": [
    "weather = pd.read_csv('weather.csv')\n",
    "rideshare = pd.read_csv('rideshare_kaggle.csv')\n",
    "rides = pd.read_csv('cab_rides.csv')"
   ]
  },
  {
   "cell_type": "code",
   "execution_count": 53,
   "id": "5b1ed542",
   "metadata": {},
   "outputs": [
    {
     "data": {
      "text/plain": [
       "distance                0\n",
       "cab_type                0\n",
       "time_stamp              0\n",
       "destination             0\n",
       "source                  0\n",
       "price               55095\n",
       "surge_multiplier        0\n",
       "id                      0\n",
       "product_id              0\n",
       "name                    0\n",
       "dtype: int64"
      ]
     },
     "execution_count": 53,
     "metadata": {},
     "output_type": "execute_result"
    }
   ],
   "source": [
    "rides.isnull().sum()"
   ]
  },
  {
   "cell_type": "code",
   "execution_count": 54,
   "id": "9e4734b1",
   "metadata": {},
   "outputs": [],
   "source": [
    "rides.dropna(axis = 0, inplace = True)"
   ]
  },
  {
   "cell_type": "code",
   "execution_count": 55,
   "id": "9fd1b4d6",
   "metadata": {
    "scrolled": true
   },
   "outputs": [
    {
     "data": {
      "text/plain": [
       "temp             0\n",
       "location         0\n",
       "clouds           0\n",
       "pressure         0\n",
       "rain          5382\n",
       "time_stamp       0\n",
       "humidity         0\n",
       "wind             0\n",
       "dtype: int64"
      ]
     },
     "execution_count": 55,
     "metadata": {},
     "output_type": "execute_result"
    }
   ],
   "source": [
    "weather.isnull().sum()"
   ]
  },
  {
   "cell_type": "code",
   "execution_count": 56,
   "id": "a0948a83",
   "metadata": {},
   "outputs": [],
   "source": [
    "weather.fillna(0, inplace = True)"
   ]
  },
  {
   "cell_type": "code",
   "execution_count": 57,
   "id": "ae7e401d",
   "metadata": {},
   "outputs": [],
   "source": [
    "weather_avg = weather.groupby('location').mean().reset_index()\n",
    "weather_avg.drop(columns = 'time_stamp' , inplace = True)\n",
    "weather_source = weather_avg.rename(columns =(lambda x :x + '_source'))       \n",
    "weather_source.rename(columns= {'location_source' :'source'}, inplace = True)\n",
    "weather_destination = weather_avg.rename(columns =(lambda x :x+'_destination'))       \n",
    "weather_destination.rename(columns= {'location_destination' :'destination'} ,inplace = True)\n",
    "data = rides\\\n",
    "       .merge(weather_source ,on ='source')\\\n",
    "       .merge(weather_destination ,on = 'destination')\n",
    "\n",
    "#binary encoding to cab_type\n",
    "\n",
    "data['cab_type'] =data['cab_type'].replace({'Uber':1,'Lyft':0})\n",
    "\n",
    "def one_hot_encode(df , column , prefix):\n",
    "    dummy = pd.get_dummies(df[column] ,prefix = prefix)\n",
    "    df = pd.concat([df , dummy] ,axis =1)\n",
    "    df =df.drop(column , axis =1)\n",
    "    \n",
    "    return df\n",
    "\n",
    "data = one_hot_encode(data ,column =  'destination' , prefix = 'desti')\n",
    "data = one_hot_encode(data ,column =  'source' , prefix = 'src')\n",
    "data = one_hot_encode(data ,column =  'product_id' , prefix = 'pid')\n",
    "data = one_hot_encode(data ,column =  'name' , prefix = 'nm')"
   ]
  },
  {
   "cell_type": "code",
   "execution_count": 62,
   "id": "a7da057f",
   "metadata": {},
   "outputs": [],
   "source": [
    "train, test = train_test_split(data, test_size = 0.3)"
   ]
  },
  {
   "cell_type": "code",
   "execution_count": 64,
   "id": "d2a9dcfc",
   "metadata": {},
   "outputs": [],
   "source": [
    "import os  \n",
    "os.makedirs('folder/subfolder', exist_ok = True)  \n",
    "train.to_csv('folder/subfolder/train_final_project.csv') \n",
    "test.to_csv('folder/subfolder/test_final_project.csv') "
   ]
  },
  {
   "cell_type": "code",
   "execution_count": 88,
   "id": "dc42da4e",
   "metadata": {},
   "outputs": [],
   "source": [
    "id_list_train = list(train['id'])\n",
    "rides['bool'] = rides['id'].isin(id_list_train)\n",
    "train_original = rides.loc[rides['bool'], :]\n",
    "\n",
    "id_list_test = list(test['id'])\n",
    "rides['bool'] = rides['id'].isin(id_list_test)\n",
    "test_original = rides.loc[rides['bool'], :]"
   ]
  },
  {
   "cell_type": "code",
   "execution_count": 90,
   "id": "8bc01d0e",
   "metadata": {},
   "outputs": [
    {
     "data": {
      "text/html": [
       "<table class=\"simpletable\">\n",
       "<caption>OLS Regression Results</caption>\n",
       "<tr>\n",
       "  <th>Dep. Variable:</th>          <td>price</td>      <th>  R-squared:         </th>  <td>   0.929</td>  \n",
       "</tr>\n",
       "<tr>\n",
       "  <th>Model:</th>                   <td>OLS</td>       <th>  Adj. R-squared:    </th>  <td>   0.929</td>  \n",
       "</tr>\n",
       "<tr>\n",
       "  <th>Method:</th>             <td>Least Squares</td>  <th>  F-statistic:       </th>  <td>1.715e+05</td> \n",
       "</tr>\n",
       "<tr>\n",
       "  <th>Date:</th>             <td>Wed, 01 Mar 2023</td> <th>  Prob (F-statistic):</th>   <td>  0.00</td>   \n",
       "</tr>\n",
       "<tr>\n",
       "  <th>Time:</th>                 <td>21:37:05</td>     <th>  Log-Likelihood:    </th> <td>-1.0404e+06</td>\n",
       "</tr>\n",
       "<tr>\n",
       "  <th>No. Observations:</th>      <td>446583</td>      <th>  AIC:               </th>  <td>2.081e+06</td> \n",
       "</tr>\n",
       "<tr>\n",
       "  <th>Df Residuals:</th>          <td>446548</td>      <th>  BIC:               </th>  <td>2.081e+06</td> \n",
       "</tr>\n",
       "<tr>\n",
       "  <th>Df Model:</th>              <td>    34</td>      <th>                     </th>      <td> </td>     \n",
       "</tr>\n",
       "<tr>\n",
       "  <th>Covariance Type:</th>      <td>nonrobust</td>    <th>                     </th>      <td> </td>     \n",
       "</tr>\n",
       "</table>\n",
       "<table class=\"simpletable\">\n",
       "<tr>\n",
       "                           <td></td>                             <th>coef</th>     <th>std err</th>      <th>t</th>      <th>P>|t|</th>  <th>[0.025</th>    <th>0.975]</th>  \n",
       "</tr>\n",
       "<tr>\n",
       "  <th>Intercept</th>                                          <td>   -0.0113</td> <td> 3.05e-05</td> <td> -370.154</td> <td> 0.000</td> <td>   -0.011</td> <td>   -0.011</td>\n",
       "</tr>\n",
       "<tr>\n",
       "  <th>cab_type[T.Uber]</th>                                   <td>   -0.7243</td> <td>    0.005</td> <td> -147.619</td> <td> 0.000</td> <td>   -0.734</td> <td>   -0.715</td>\n",
       "</tr>\n",
       "<tr>\n",
       "  <th>destination[T.Beacon Hill]</th>                         <td>   -0.3016</td> <td>    0.018</td> <td>  -16.503</td> <td> 0.000</td> <td>   -0.337</td> <td>   -0.266</td>\n",
       "</tr>\n",
       "<tr>\n",
       "  <th>destination[T.Boston University]</th>                   <td>   -0.0622</td> <td>    0.015</td> <td>   -4.067</td> <td> 0.000</td> <td>   -0.092</td> <td>   -0.032</td>\n",
       "</tr>\n",
       "<tr>\n",
       "  <th>destination[T.Fenway]</th>                              <td>   -0.3494</td> <td>    0.015</td> <td>  -23.076</td> <td> 0.000</td> <td>   -0.379</td> <td>   -0.320</td>\n",
       "</tr>\n",
       "<tr>\n",
       "  <th>destination[T.Financial District]</th>                  <td>    0.4051</td> <td>    0.018</td> <td>   22.168</td> <td> 0.000</td> <td>    0.369</td> <td>    0.441</td>\n",
       "</tr>\n",
       "<tr>\n",
       "  <th>destination[T.Haymarket Square]</th>                    <td>    0.1387</td> <td>    0.015</td> <td>    9.022</td> <td> 0.000</td> <td>    0.109</td> <td>    0.169</td>\n",
       "</tr>\n",
       "<tr>\n",
       "  <th>destination[T.North End]</th>                           <td>    0.0298</td> <td>    0.015</td> <td>    1.980</td> <td> 0.048</td> <td>    0.000</td> <td>    0.059</td>\n",
       "</tr>\n",
       "<tr>\n",
       "  <th>destination[T.North Station]</th>                       <td>    0.1883</td> <td>    0.018</td> <td>   10.290</td> <td> 0.000</td> <td>    0.152</td> <td>    0.224</td>\n",
       "</tr>\n",
       "<tr>\n",
       "  <th>destination[T.Northeastern University]</th>             <td>   -0.0413</td> <td>    0.015</td> <td>   -2.759</td> <td> 0.006</td> <td>   -0.071</td> <td>   -0.012</td>\n",
       "</tr>\n",
       "<tr>\n",
       "  <th>destination[T.South Station]</th>                       <td>   -0.0883</td> <td>    0.015</td> <td>   -5.840</td> <td> 0.000</td> <td>   -0.118</td> <td>   -0.059</td>\n",
       "</tr>\n",
       "<tr>\n",
       "  <th>destination[T.Theatre District]</th>                    <td>    0.2561</td> <td>    0.018</td> <td>   14.030</td> <td> 0.000</td> <td>    0.220</td> <td>    0.292</td>\n",
       "</tr>\n",
       "<tr>\n",
       "  <th>destination[T.West End]</th>                            <td>   -0.0478</td> <td>    0.018</td> <td>   -2.621</td> <td> 0.009</td> <td>   -0.084</td> <td>   -0.012</td>\n",
       "</tr>\n",
       "<tr>\n",
       "  <th>source[T.Beacon Hill]</th>                              <td>   -0.2943</td> <td>    0.018</td> <td>  -16.127</td> <td> 0.000</td> <td>   -0.330</td> <td>   -0.259</td>\n",
       "</tr>\n",
       "<tr>\n",
       "  <th>source[T.Boston University]</th>                        <td>   -0.3080</td> <td>    0.015</td> <td>  -20.003</td> <td> 0.000</td> <td>   -0.338</td> <td>   -0.278</td>\n",
       "</tr>\n",
       "<tr>\n",
       "  <th>source[T.Fenway]</th>                                   <td>   -0.0859</td> <td>    0.015</td> <td>   -5.666</td> <td> 0.000</td> <td>   -0.116</td> <td>   -0.056</td>\n",
       "</tr>\n",
       "<tr>\n",
       "  <th>source[T.Financial District]</th>                       <td>    0.3416</td> <td>    0.018</td> <td>   18.552</td> <td> 0.000</td> <td>    0.306</td> <td>    0.378</td>\n",
       "</tr>\n",
       "<tr>\n",
       "  <th>source[T.Haymarket Square]</th>                         <td>    0.3511</td> <td>    0.016</td> <td>   22.610</td> <td> 0.000</td> <td>    0.321</td> <td>    0.382</td>\n",
       "</tr>\n",
       "<tr>\n",
       "  <th>source[T.North End]</th>                                <td>    0.5658</td> <td>    0.015</td> <td>   37.614</td> <td> 0.000</td> <td>    0.536</td> <td>    0.595</td>\n",
       "</tr>\n",
       "<tr>\n",
       "  <th>source[T.North Station]</th>                            <td>    0.0749</td> <td>    0.018</td> <td>    4.088</td> <td> 0.000</td> <td>    0.039</td> <td>    0.111</td>\n",
       "</tr>\n",
       "<tr>\n",
       "  <th>source[T.Northeastern University]</th>                  <td>   -0.2984</td> <td>    0.015</td> <td>  -19.752</td> <td> 0.000</td> <td>   -0.328</td> <td>   -0.269</td>\n",
       "</tr>\n",
       "<tr>\n",
       "  <th>source[T.South Station]</th>                            <td>    0.1820</td> <td>    0.015</td> <td>   12.172</td> <td> 0.000</td> <td>    0.153</td> <td>    0.211</td>\n",
       "</tr>\n",
       "<tr>\n",
       "  <th>source[T.Theatre District]</th>                         <td>    0.5386</td> <td>    0.018</td> <td>   29.594</td> <td> 0.000</td> <td>    0.503</td> <td>    0.574</td>\n",
       "</tr>\n",
       "<tr>\n",
       "  <th>source[T.West End]</th>                                 <td>    0.0570</td> <td>    0.018</td> <td>    3.124</td> <td> 0.002</td> <td>    0.021</td> <td>    0.093</td>\n",
       "</tr>\n",
       "<tr>\n",
       "  <th>product_id[T.6c84fd89-3f11-4782-9b50-97c468b19529]</th> <td>    4.7591</td> <td>    0.011</td> <td>  443.806</td> <td> 0.000</td> <td>    4.738</td> <td>    4.780</td>\n",
       "</tr>\n",
       "<tr>\n",
       "  <th>product_id[T.6d318bcc-22a3-4af6-bddd-b409bfce1546]</th> <td>    7.2290</td> <td>    0.006</td> <td> 1186.089</td> <td> 0.000</td> <td>    7.217</td> <td>    7.241</td>\n",
       "</tr>\n",
       "<tr>\n",
       "  <th>product_id[T.6f72dfc5-27f1-42e8-84db-ccc7a75f6969]</th> <td>   -0.0700</td> <td>    0.006</td> <td>  -11.480</td> <td> 0.000</td> <td>   -0.082</td> <td>   -0.058</td>\n",
       "</tr>\n",
       "<tr>\n",
       "  <th>product_id[T.997acbb5-e102-41e1-b155-9df7de0a73f2]</th> <td>   -3.5300</td> <td>    0.006</td> <td> -579.461</td> <td> 0.000</td> <td>   -3.542</td> <td>   -3.518</td>\n",
       "</tr>\n",
       "<tr>\n",
       "  <th>product_id[T.9a0e7b09-b92b-4c41-9779-2ad22b4d779d]</th> <td>   -3.0218</td> <td>    0.006</td> <td> -497.221</td> <td> 0.000</td> <td>   -3.034</td> <td>   -3.010</td>\n",
       "</tr>\n",
       "<tr>\n",
       "  <th>product_id[T.lyft]</th>                                 <td>   -3.8078</td> <td>    0.006</td> <td> -627.650</td> <td> 0.000</td> <td>   -3.820</td> <td>   -3.796</td>\n",
       "</tr>\n",
       "<tr>\n",
       "  <th>product_id[T.lyft_line]</th>                            <td>   -5.2509</td> <td>    0.006</td> <td> -865.293</td> <td> 0.000</td> <td>   -5.263</td> <td>   -5.239</td>\n",
       "</tr>\n",
       "<tr>\n",
       "  <th>product_id[T.lyft_lux]</th>                             <td>    2.9414</td> <td>    0.006</td> <td>  485.767</td> <td> 0.000</td> <td>    2.930</td> <td>    2.953</td>\n",
       "</tr>\n",
       "<tr>\n",
       "  <th>product_id[T.lyft_luxsuv]</th>                          <td>    7.5462</td> <td>    0.006</td> <td> 1249.086</td> <td> 0.000</td> <td>    7.534</td> <td>    7.558</td>\n",
       "</tr>\n",
       "<tr>\n",
       "  <th>product_id[T.lyft_plus]</th>                            <td>   -0.9505</td> <td>    0.006</td> <td> -157.328</td> <td> 0.000</td> <td>   -0.962</td> <td>   -0.939</td>\n",
       "</tr>\n",
       "<tr>\n",
       "  <th>product_id[T.lyft_premier]</th>                         <td>    0.2798</td> <td>    0.006</td> <td>   46.122</td> <td> 0.000</td> <td>    0.268</td> <td>    0.292</td>\n",
       "</tr>\n",
       "<tr>\n",
       "  <th>name[T.Black SUV]</th>                                  <td>    7.2290</td> <td>    0.006</td> <td> 1186.089</td> <td> 0.000</td> <td>    7.217</td> <td>    7.241</td>\n",
       "</tr>\n",
       "<tr>\n",
       "  <th>name[T.Lux]</th>                                        <td>    0.2798</td> <td>    0.006</td> <td>   46.122</td> <td> 0.000</td> <td>    0.268</td> <td>    0.292</td>\n",
       "</tr>\n",
       "<tr>\n",
       "  <th>name[T.Lux Black]</th>                                  <td>    2.9414</td> <td>    0.006</td> <td>  485.767</td> <td> 0.000</td> <td>    2.930</td> <td>    2.953</td>\n",
       "</tr>\n",
       "<tr>\n",
       "  <th>name[T.Lux Black XL]</th>                               <td>    7.5462</td> <td>    0.006</td> <td> 1249.086</td> <td> 0.000</td> <td>    7.534</td> <td>    7.558</td>\n",
       "</tr>\n",
       "<tr>\n",
       "  <th>name[T.Lyft]</th>                                       <td>   -3.8078</td> <td>    0.006</td> <td> -627.650</td> <td> 0.000</td> <td>   -3.820</td> <td>   -3.796</td>\n",
       "</tr>\n",
       "<tr>\n",
       "  <th>name[T.Lyft XL]</th>                                    <td>   -0.9505</td> <td>    0.006</td> <td> -157.328</td> <td> 0.000</td> <td>   -0.962</td> <td>   -0.939</td>\n",
       "</tr>\n",
       "<tr>\n",
       "  <th>name[T.Shared]</th>                                     <td>   -5.2509</td> <td>    0.006</td> <td> -865.293</td> <td> 0.000</td> <td>   -5.263</td> <td>   -5.239</td>\n",
       "</tr>\n",
       "<tr>\n",
       "  <th>name[T.UberPool]</th>                                   <td>   -3.5300</td> <td>    0.006</td> <td> -579.461</td> <td> 0.000</td> <td>   -3.542</td> <td>   -3.518</td>\n",
       "</tr>\n",
       "<tr>\n",
       "  <th>name[T.UberX]</th>                                      <td>   -6.0907</td> <td>    0.011</td> <td> -567.505</td> <td> 0.000</td> <td>   -6.112</td> <td>   -6.070</td>\n",
       "</tr>\n",
       "<tr>\n",
       "  <th>name[T.UberXL]</th>                                     <td>   -0.0700</td> <td>    0.006</td> <td>  -11.480</td> <td> 0.000</td> <td>   -0.082</td> <td>   -0.058</td>\n",
       "</tr>\n",
       "<tr>\n",
       "  <th>name[T.WAV]</th>                                        <td>   -3.0218</td> <td>    0.006</td> <td> -497.221</td> <td> 0.000</td> <td>   -3.034</td> <td>   -3.010</td>\n",
       "</tr>\n",
       "<tr>\n",
       "  <th>distance</th>                                           <td>    2.8823</td> <td>    0.004</td> <td>  674.980</td> <td> 0.000</td> <td>    2.874</td> <td>    2.891</td>\n",
       "</tr>\n",
       "<tr>\n",
       "  <th>time_stamp</th>                                         <td>-5.388e-12</td> <td> 2.81e-14</td> <td> -192.052</td> <td> 0.000</td> <td>-5.44e-12</td> <td>-5.33e-12</td>\n",
       "</tr>\n",
       "<tr>\n",
       "  <th>surge_multiplier</th>                                   <td>   18.4478</td> <td>    0.040</td> <td>  459.753</td> <td> 0.000</td> <td>   18.369</td> <td>   18.526</td>\n",
       "</tr>\n",
       "</table>\n",
       "<table class=\"simpletable\">\n",
       "<tr>\n",
       "  <th>Omnibus:</th>       <td>171130.574</td> <th>  Durbin-Watson:     </th>  <td>   1.659</td>  \n",
       "</tr>\n",
       "<tr>\n",
       "  <th>Prob(Omnibus):</th>   <td> 0.000</td>   <th>  Jarque-Bera (JB):  </th> <td>3233522.927</td>\n",
       "</tr>\n",
       "<tr>\n",
       "  <th>Skew:</th>            <td> 1.369</td>   <th>  Prob(JB):          </th>  <td>    0.00</td>  \n",
       "</tr>\n",
       "<tr>\n",
       "  <th>Kurtosis:</th>        <td>15.895</td>   <th>  Cond. No.          </th>  <td>8.11e+21</td>  \n",
       "</tr>\n",
       "</table><br/><br/>Notes:<br/>[1] Standard Errors assume that the covariance matrix of the errors is correctly specified.<br/>[2] The smallest eigenvalue is 1.62e-14. This might indicate that there are<br/>strong multicollinearity problems or that the design matrix is singular."
      ],
      "text/plain": [
       "<class 'statsmodels.iolib.summary.Summary'>\n",
       "\"\"\"\n",
       "                            OLS Regression Results                            \n",
       "==============================================================================\n",
       "Dep. Variable:                  price   R-squared:                       0.929\n",
       "Model:                            OLS   Adj. R-squared:                  0.929\n",
       "Method:                 Least Squares   F-statistic:                 1.715e+05\n",
       "Date:                Wed, 01 Mar 2023   Prob (F-statistic):               0.00\n",
       "Time:                        21:37:05   Log-Likelihood:            -1.0404e+06\n",
       "No. Observations:              446583   AIC:                         2.081e+06\n",
       "Df Residuals:                  446548   BIC:                         2.081e+06\n",
       "Df Model:                          34                                         \n",
       "Covariance Type:            nonrobust                                         \n",
       "======================================================================================================================\n",
       "                                                         coef    std err          t      P>|t|      [0.025      0.975]\n",
       "----------------------------------------------------------------------------------------------------------------------\n",
       "Intercept                                             -0.0113   3.05e-05   -370.154      0.000      -0.011      -0.011\n",
       "cab_type[T.Uber]                                      -0.7243      0.005   -147.619      0.000      -0.734      -0.715\n",
       "destination[T.Beacon Hill]                            -0.3016      0.018    -16.503      0.000      -0.337      -0.266\n",
       "destination[T.Boston University]                      -0.0622      0.015     -4.067      0.000      -0.092      -0.032\n",
       "destination[T.Fenway]                                 -0.3494      0.015    -23.076      0.000      -0.379      -0.320\n",
       "destination[T.Financial District]                      0.4051      0.018     22.168      0.000       0.369       0.441\n",
       "destination[T.Haymarket Square]                        0.1387      0.015      9.022      0.000       0.109       0.169\n",
       "destination[T.North End]                               0.0298      0.015      1.980      0.048       0.000       0.059\n",
       "destination[T.North Station]                           0.1883      0.018     10.290      0.000       0.152       0.224\n",
       "destination[T.Northeastern University]                -0.0413      0.015     -2.759      0.006      -0.071      -0.012\n",
       "destination[T.South Station]                          -0.0883      0.015     -5.840      0.000      -0.118      -0.059\n",
       "destination[T.Theatre District]                        0.2561      0.018     14.030      0.000       0.220       0.292\n",
       "destination[T.West End]                               -0.0478      0.018     -2.621      0.009      -0.084      -0.012\n",
       "source[T.Beacon Hill]                                 -0.2943      0.018    -16.127      0.000      -0.330      -0.259\n",
       "source[T.Boston University]                           -0.3080      0.015    -20.003      0.000      -0.338      -0.278\n",
       "source[T.Fenway]                                      -0.0859      0.015     -5.666      0.000      -0.116      -0.056\n",
       "source[T.Financial District]                           0.3416      0.018     18.552      0.000       0.306       0.378\n",
       "source[T.Haymarket Square]                             0.3511      0.016     22.610      0.000       0.321       0.382\n",
       "source[T.North End]                                    0.5658      0.015     37.614      0.000       0.536       0.595\n",
       "source[T.North Station]                                0.0749      0.018      4.088      0.000       0.039       0.111\n",
       "source[T.Northeastern University]                     -0.2984      0.015    -19.752      0.000      -0.328      -0.269\n",
       "source[T.South Station]                                0.1820      0.015     12.172      0.000       0.153       0.211\n",
       "source[T.Theatre District]                             0.5386      0.018     29.594      0.000       0.503       0.574\n",
       "source[T.West End]                                     0.0570      0.018      3.124      0.002       0.021       0.093\n",
       "product_id[T.6c84fd89-3f11-4782-9b50-97c468b19529]     4.7591      0.011    443.806      0.000       4.738       4.780\n",
       "product_id[T.6d318bcc-22a3-4af6-bddd-b409bfce1546]     7.2290      0.006   1186.089      0.000       7.217       7.241\n",
       "product_id[T.6f72dfc5-27f1-42e8-84db-ccc7a75f6969]    -0.0700      0.006    -11.480      0.000      -0.082      -0.058\n",
       "product_id[T.997acbb5-e102-41e1-b155-9df7de0a73f2]    -3.5300      0.006   -579.461      0.000      -3.542      -3.518\n",
       "product_id[T.9a0e7b09-b92b-4c41-9779-2ad22b4d779d]    -3.0218      0.006   -497.221      0.000      -3.034      -3.010\n",
       "product_id[T.lyft]                                    -3.8078      0.006   -627.650      0.000      -3.820      -3.796\n",
       "product_id[T.lyft_line]                               -5.2509      0.006   -865.293      0.000      -5.263      -5.239\n",
       "product_id[T.lyft_lux]                                 2.9414      0.006    485.767      0.000       2.930       2.953\n",
       "product_id[T.lyft_luxsuv]                              7.5462      0.006   1249.086      0.000       7.534       7.558\n",
       "product_id[T.lyft_plus]                               -0.9505      0.006   -157.328      0.000      -0.962      -0.939\n",
       "product_id[T.lyft_premier]                             0.2798      0.006     46.122      0.000       0.268       0.292\n",
       "name[T.Black SUV]                                      7.2290      0.006   1186.089      0.000       7.217       7.241\n",
       "name[T.Lux]                                            0.2798      0.006     46.122      0.000       0.268       0.292\n",
       "name[T.Lux Black]                                      2.9414      0.006    485.767      0.000       2.930       2.953\n",
       "name[T.Lux Black XL]                                   7.5462      0.006   1249.086      0.000       7.534       7.558\n",
       "name[T.Lyft]                                          -3.8078      0.006   -627.650      0.000      -3.820      -3.796\n",
       "name[T.Lyft XL]                                       -0.9505      0.006   -157.328      0.000      -0.962      -0.939\n",
       "name[T.Shared]                                        -5.2509      0.006   -865.293      0.000      -5.263      -5.239\n",
       "name[T.UberPool]                                      -3.5300      0.006   -579.461      0.000      -3.542      -3.518\n",
       "name[T.UberX]                                         -6.0907      0.011   -567.505      0.000      -6.112      -6.070\n",
       "name[T.UberXL]                                        -0.0700      0.006    -11.480      0.000      -0.082      -0.058\n",
       "name[T.WAV]                                           -3.0218      0.006   -497.221      0.000      -3.034      -3.010\n",
       "distance                                               2.8823      0.004    674.980      0.000       2.874       2.891\n",
       "time_stamp                                         -5.388e-12   2.81e-14   -192.052      0.000   -5.44e-12   -5.33e-12\n",
       "surge_multiplier                                      18.4478      0.040    459.753      0.000      18.369      18.526\n",
       "==============================================================================\n",
       "Omnibus:                   171130.574   Durbin-Watson:                   1.659\n",
       "Prob(Omnibus):                  0.000   Jarque-Bera (JB):          3233522.927\n",
       "Skew:                           1.369   Prob(JB):                         0.00\n",
       "Kurtosis:                      15.895   Cond. No.                     8.11e+21\n",
       "==============================================================================\n",
       "\n",
       "Notes:\n",
       "[1] Standard Errors assume that the covariance matrix of the errors is correctly specified.\n",
       "[2] The smallest eigenvalue is 1.62e-14. This might indicate that there are\n",
       "strong multicollinearity problems or that the design matrix is singular.\n",
       "\"\"\""
      ]
     },
     "execution_count": 90,
     "metadata": {},
     "output_type": "execute_result"
    }
   ],
   "source": [
    "ols_object_basic = smf.ols(formula = 'price~distance+cab_type+time_stamp+destination+source+surge_multiplier+product_id+name', data = train_original)\n",
    "model_basic = ols_object_basic.fit()\n",
    "model_basic.summary()"
   ]
  },
  {
   "cell_type": "code",
   "execution_count": 91,
   "id": "cdce1a3a",
   "metadata": {},
   "outputs": [
    {
     "data": {
      "text/plain": [
       "2.504402031953646"
      ]
     },
     "execution_count": 91,
     "metadata": {},
     "output_type": "execute_result"
    }
   ],
   "source": [
    "np.sqrt(((test_original.price - model_basic.predict(test_original))**2).mean())"
   ]
  },
  {
   "cell_type": "code",
   "execution_count": 92,
   "id": "7f6e5e34",
   "metadata": {},
   "outputs": [
    {
     "data": {
      "text/plain": [
       "2.4861210002537324"
      ]
     },
     "execution_count": 92,
     "metadata": {},
     "output_type": "execute_result"
    }
   ],
   "source": [
    "np.sqrt(model_basic.mse_resid)"
   ]
  },
  {
   "cell_type": "code",
   "execution_count": 93,
   "id": "e5b67de5",
   "metadata": {},
   "outputs": [
    {
     "data": {
      "text/html": [
       "<table class=\"simpletable\">\n",
       "<caption>OLS Regression Results</caption>\n",
       "<tr>\n",
       "  <th>Dep. Variable:</th>          <td>price</td>      <th>  R-squared:         </th>  <td>   0.119</td>  \n",
       "</tr>\n",
       "<tr>\n",
       "  <th>Model:</th>                   <td>OLS</td>       <th>  Adj. R-squared:    </th>  <td>   0.119</td>  \n",
       "</tr>\n",
       "<tr>\n",
       "  <th>Method:</th>             <td>Least Squares</td>  <th>  F-statistic:       </th>  <td>6.059e+04</td> \n",
       "</tr>\n",
       "<tr>\n",
       "  <th>Date:</th>             <td>Wed, 01 Mar 2023</td> <th>  Prob (F-statistic):</th>   <td>  0.00</td>   \n",
       "</tr>\n",
       "<tr>\n",
       "  <th>Time:</th>                 <td>21:38:10</td>     <th>  Log-Likelihood:    </th> <td>-1.6021e+06</td>\n",
       "</tr>\n",
       "<tr>\n",
       "  <th>No. Observations:</th>      <td>446583</td>      <th>  AIC:               </th>  <td>3.204e+06</td> \n",
       "</tr>\n",
       "<tr>\n",
       "  <th>Df Residuals:</th>          <td>446581</td>      <th>  BIC:               </th>  <td>3.204e+06</td> \n",
       "</tr>\n",
       "<tr>\n",
       "  <th>Df Model:</th>              <td>     1</td>      <th>                     </th>      <td> </td>     \n",
       "</tr>\n",
       "<tr>\n",
       "  <th>Covariance Type:</th>      <td>nonrobust</td>    <th>                     </th>      <td> </td>     \n",
       "</tr>\n",
       "</table>\n",
       "<table class=\"simpletable\">\n",
       "<tr>\n",
       "      <td></td>         <th>coef</th>     <th>std err</th>      <th>t</th>      <th>P>|t|</th>  <th>[0.025</th>    <th>0.975]</th>  \n",
       "</tr>\n",
       "<tr>\n",
       "  <th>Intercept</th> <td>   10.3375</td> <td>    0.028</td> <td>  363.915</td> <td> 0.000</td> <td>   10.282</td> <td>   10.393</td>\n",
       "</tr>\n",
       "<tr>\n",
       "  <th>distance</th>  <td>    2.8342</td> <td>    0.012</td> <td>  246.145</td> <td> 0.000</td> <td>    2.812</td> <td>    2.857</td>\n",
       "</tr>\n",
       "</table>\n",
       "<table class=\"simpletable\">\n",
       "<tr>\n",
       "  <th>Omnibus:</th>       <td>47381.330</td> <th>  Durbin-Watson:     </th> <td>   2.152</td> \n",
       "</tr>\n",
       "<tr>\n",
       "  <th>Prob(Omnibus):</th>  <td> 0.000</td>   <th>  Jarque-Bera (JB):  </th> <td>65616.029</td>\n",
       "</tr>\n",
       "<tr>\n",
       "  <th>Skew:</th>           <td> 0.852</td>   <th>  Prob(JB):          </th> <td>    0.00</td> \n",
       "</tr>\n",
       "<tr>\n",
       "  <th>Kurtosis:</th>       <td> 3.791</td>   <th>  Cond. No.          </th> <td>    6.07</td> \n",
       "</tr>\n",
       "</table><br/><br/>Notes:<br/>[1] Standard Errors assume that the covariance matrix of the errors is correctly specified."
      ],
      "text/plain": [
       "<class 'statsmodels.iolib.summary.Summary'>\n",
       "\"\"\"\n",
       "                            OLS Regression Results                            \n",
       "==============================================================================\n",
       "Dep. Variable:                  price   R-squared:                       0.119\n",
       "Model:                            OLS   Adj. R-squared:                  0.119\n",
       "Method:                 Least Squares   F-statistic:                 6.059e+04\n",
       "Date:                Wed, 01 Mar 2023   Prob (F-statistic):               0.00\n",
       "Time:                        21:38:10   Log-Likelihood:            -1.6021e+06\n",
       "No. Observations:              446583   AIC:                         3.204e+06\n",
       "Df Residuals:                  446581   BIC:                         3.204e+06\n",
       "Df Model:                           1                                         \n",
       "Covariance Type:            nonrobust                                         \n",
       "==============================================================================\n",
       "                 coef    std err          t      P>|t|      [0.025      0.975]\n",
       "------------------------------------------------------------------------------\n",
       "Intercept     10.3375      0.028    363.915      0.000      10.282      10.393\n",
       "distance       2.8342      0.012    246.145      0.000       2.812       2.857\n",
       "==============================================================================\n",
       "Omnibus:                    47381.330   Durbin-Watson:                   2.152\n",
       "Prob(Omnibus):                  0.000   Jarque-Bera (JB):            65616.029\n",
       "Skew:                           0.852   Prob(JB):                         0.00\n",
       "Kurtosis:                       3.791   Cond. No.                         6.07\n",
       "==============================================================================\n",
       "\n",
       "Notes:\n",
       "[1] Standard Errors assume that the covariance matrix of the errors is correctly specified.\n",
       "\"\"\""
      ]
     },
     "execution_count": 93,
     "metadata": {},
     "output_type": "execute_result"
    }
   ],
   "source": [
    "ols_object_distance = smf.ols(formula = 'price~distance', data = train_original)\n",
    "model_distance = ols_object_distance.fit()\n",
    "model_distance.summary()"
   ]
  },
  {
   "cell_type": "code",
   "execution_count": 94,
   "id": "182fba45",
   "metadata": {},
   "outputs": [
    {
     "data": {
      "text/plain": [
       "8.764931172337134"
      ]
     },
     "execution_count": 94,
     "metadata": {},
     "output_type": "execute_result"
    }
   ],
   "source": [
    "np.sqrt(((test_original.price - model_distance.predict(test_original))**2).mean())"
   ]
  },
  {
   "cell_type": "code",
   "execution_count": 95,
   "id": "3412fca0",
   "metadata": {},
   "outputs": [
    {
     "data": {
      "text/plain": [
       "8.745974723385276"
      ]
     },
     "execution_count": 95,
     "metadata": {},
     "output_type": "execute_result"
    }
   ],
   "source": [
    "np.sqrt(model_distance.mse_resid)"
   ]
  },
  {
   "cell_type": "code",
   "execution_count": 96,
   "id": "42954567",
   "metadata": {},
   "outputs": [
    {
     "data": {
      "text/plain": [
       "<seaborn.axisgrid.FacetGrid at 0x7f9be73d4bb0>"
      ]
     },
     "execution_count": 96,
     "metadata": {},
     "output_type": "execute_result"
    },
    {
     "data": {
      "image/png": "[encoded data removed]",
      "text/plain": [
       "<Figure size 360x360 with 1 Axes>"
      ]
     },
     "metadata": {
      "needs_background": "light"
     },
     "output_type": "display_data"
    }
   ],
   "source": [
    "sns.displot(data = train, x = 'price', kind = 'hist')"
   ]
  },
  {
   "cell_type": "code",
   "execution_count": 127,
   "id": "066b13f6",
   "metadata": {},
   "outputs": [],
   "source": [
    "new_train = train.copy()\n",
    "new_train = new_train.drop(['price', 'id'], axis = 1)\n",
    "new_train['log_distance'] = new_train['distance'].apply(lambda x: np.log(x))"
   ]
  },
  {
   "cell_type": "code",
   "execution_count": 128,
   "id": "379e3938",
   "metadata": {},
   "outputs": [],
   "source": [
    "new_test = test.copy()\n",
    "new_test = new_test.drop(['price', 'id'], axis = 1)\n",
    "new_test['log_distance'] = new_test['distance'].apply(lambda x: np.log(x))"
   ]
  },
  {
   "cell_type": "code",
   "execution_count": 129,
   "id": "b1d4840b",
   "metadata": {},
   "outputs": [
    {
     "data": {
      "text/plain": [
       "2.1481345197173627"
      ]
     },
     "execution_count": 129,
     "metadata": {},
     "output_type": "execute_result"
    },
    {
     "data": {
      "image/png": "[encoded data removed]",
      "text/plain": [
       "<Figure size 432x288 with 1 Axes>"
      ]
     },
     "metadata": {
      "needs_background": "light"
     },
     "output_type": "display_data"
    }
   ],
   "source": [
    "from sklearn.linear_model import Ridge, RidgeCV, Lasso, LassoCV\n",
    "from sklearn.preprocessing import StandardScaler \n",
    "from sklearn.metrics import r2_score\n",
    "\n",
    "#Taking the log transform of house_price as house prices have a right-skewed distribution\n",
    "y = np.log(train.price)\n",
    "\n",
    "#Standardizing predictors so that each of them have zero mean and unit variance\n",
    "\n",
    "#Filtering all predictors\n",
    "X = new_train; \n",
    "\n",
    "#Defining a scaler object\n",
    "scaler = StandardScaler()\n",
    "\n",
    "#The scaler object will contain the mean and variance of each column (predictor) of X. \n",
    "#These values will be useful to scale test data based on the same mean and variance as obtained on train data\n",
    "scaler.fit(X)\n",
    "\n",
    "#Using the scaler object (or the values of mean and variance stored in it) to standardize X (or train data)\n",
    "Xstd = scaler.transform(X)\n",
    "\n",
    "#The tuning parameter lambda is referred as alpha in sklearn\n",
    "\n",
    "#Creating a range of values of the tuning parameter to visualize the ridge regression coefficients\n",
    "#for different values of the tuning parameter\n",
    "alphas = 10**np.linspace(10,-2,200)*0.5\n",
    "\n",
    "#Finding the ridge regression coefficients for increasing values of the tuning parameter\n",
    "coefs = []\n",
    "for a in alphas:        \n",
    "    ridge = Ridge(alpha = a)\n",
    "    ridge.fit(Xstd, y)\n",
    "    coefs.append(ridge.coef_)\n",
    "    \n",
    "#Visualizing the shrinkage in ridge regression coefficients with increasing values of the tuning parameter lambda\n",
    "plt.xlabel('xlabel', fontsize=18)\n",
    "plt.ylabel('ylabel', fontsize=18)\n",
    "plt.plot(alphas, coefs)\n",
    "plt.xscale('log')\n",
    "plt.xlabel('$\\lambda$')\n",
    "plt.ylabel('Standardized coefficient')\n",
    "plt.legend(train.columns[1:6]);\n",
    "\n",
    "#Let us use cross validation to find the optimal value of the tuning parameter - lambda\n",
    "#For the optimal lambda, the cross validation error will be the least\n",
    "\n",
    "#Note that we are reducing the range of alpha so as to better visualize the minimum\n",
    "alphas = 10**np.linspace(1.5,-3,200)*0.5\n",
    "ridgecv = RidgeCV(alphas = alphas,store_cv_values=True)\n",
    "ridgecv.fit(Xstd, y)\n",
    "\n",
    "#Optimal value of the tuning parameter - lambda\n",
    "ridgecv.alpha_\n",
    "\n",
    "#Visualizing the LOOCV (leave one out cross validatation error vs lambda)\n",
    "plt.xlabel('xlabel', fontsize=18)\n",
    "plt.ylabel('ylabel', fontsize=18)\n",
    "plt.plot(ridgecv.alphas,ridgecv.cv_values_.sum(axis=0))\n",
    "plt.plot([ridgecv.alpha_,ridgecv.alpha_],[40,40.2],':')\n",
    "plt.xlabel('$\\lambda$')\n",
    "plt.ylabel('Cross-validation error')\n",
    "\n",
    "#Visualizing the shrinkage in ridge regression coefficients with increasing values of the tuning parameter lambda\n",
    "alphas = 10**np.linspace(10,-2,200)*0.5\n",
    "plt.xlabel('xlabel', fontsize=18)\n",
    "plt.ylabel('ylabel', fontsize=18)\n",
    "plt.plot(alphas, coefs)\n",
    "plt.plot([ridgecv.alpha_,ridgecv.alpha_],[-0.4,0.2],':')\n",
    "plt.xscale('log')\n",
    "plt.xlabel('$\\lambda$')\n",
    "plt.ylabel('Standardized coefficient')\n",
    "plt.legend(train.columns[1:6]);\n",
    "\n",
    "#Test dataset\n",
    "Xtest = new_test\n",
    "\n",
    "#Standardizing test data\n",
    "Xtest_std = scaler.transform(Xtest)\n",
    "\n",
    "#Using the developed ridge regression model to predict on test data\n",
    "ridge = Ridge(alpha = ridgecv.alpha_)\n",
    "ridge.fit(Xstd, y)\n",
    "pred=ridge.predict(Xtest_std)\n",
    "\n",
    "#RMSE on test data\n",
    "np.sqrt(((np.exp(pred)-test.price)**2).mean())"
   ]
  },
  {
   "cell_type": "code",
   "execution_count": 130,
   "id": "65342b9d",
   "metadata": {},
   "outputs": [
    {
     "name": "stderr",
     "output_type": "stream",
     "text": [
      "/Users/michaelkim/opt/anaconda3/lib/python3.9/site-packages/sklearn/linear_model/_coordinate_descent.py:530: ConvergenceWarning: Objective did not converge. You might want to increase the number of iterations. Duality gap: 138.60226567900372, tolerance: 14.440040258538652\n",
      "  model = cd_fast.enet_coordinate_descent(\n"
     ]
    },
    {
     "data": {
      "text/plain": [
       "2.148114692839189"
      ]
     },
     "execution_count": 130,
     "metadata": {},
     "output_type": "execute_result"
    },
    {
     "data": {
      "image/png": "[encoded data removed]",
      "text/plain": [
       "<Figure size 432x288 with 1 Axes>"
      ]
     },
     "metadata": {
      "needs_background": "light"
     },
     "output_type": "display_data"
    }
   ],
   "source": [
    "#Creating a range of values of the tuning parameter to visualize the lasso coefficients\n",
    "#for different values of the tuning parameter\n",
    "alphas = 10**np.linspace(10,-2,100)*0.1\n",
    "\n",
    "#Finding the lasso coefficients for increasing values of the tuning parameter\n",
    "lasso = Lasso(max_iter = 10000)\n",
    "coefs = []\n",
    "\n",
    "for a in alphas:\n",
    "    lasso.set_params(alpha=a)\n",
    "    lasso.fit(Xstd, y)\n",
    "    coefs.append(lasso.coef_)\n",
    "    \n",
    "#Visualizing the shrinkage in lasso coefficients with increasing values of the tuning parameter lambda\n",
    "plt.xlabel('xlabel', fontsize=18)\n",
    "plt.ylabel('ylabel', fontsize=18)\n",
    "plt.plot(alphas, coefs)\n",
    "plt.xscale('log')\n",
    "plt.xlabel('$\\lambda$')\n",
    "plt.ylabel('Standardized coefficient')\n",
    "plt.legend(train.columns[1:6]);\n",
    "#plt.plot([lassocv.alpha_,lassocv.alpha_],[-0.4,0.25],':')\n",
    "plt.legend(train.columns[1:6]);\n",
    "\n",
    "#Let us use cross validation to find the optimal value of the tuning parameter - lambda\n",
    "#For the optimal lambda, the cross validation error will be the least\n",
    "\n",
    "#Note that we are reducing the range of alpha so as to better visualize the minimum\n",
    "alphas = 10**np.linspace(-1,-5,200)*0.5\n",
    "lassocv = LassoCV(alphas = alphas, cv = 10, max_iter = 100000)\n",
    "lassocv.fit(Xstd, y)\n",
    "\n",
    "#Optimal value of the tuning parameter - lamda\n",
    "lassocv.alpha_\n",
    "\n",
    "#Visualizing the LOOCV (leave one out cross validatation error vs lambda)\n",
    "plt.xlabel('xlabel', fontsize=18)\n",
    "plt.ylabel('ylabel', fontsize=18)\n",
    "plt.plot(lassocv.alphas_,lassocv.mse_path_.mean(axis=1))\n",
    "plt.plot([lassocv.alpha_,lassocv.alpha_],[0.145,0.151],':')\n",
    "plt.xlabel('$\\lambda$')\n",
    "plt.ylabel('Cross-validation error')\n",
    "\n",
    "#Visualizing the shrinkage in lasso coefficients with increasing values of the tuning parameter lambda\n",
    "alphas = 10**np.linspace(10,-2,100)*0.1\n",
    "plt.xlabel('xlabel', fontsize=18)\n",
    "plt.ylabel('ylabel', fontsize=18)\n",
    "plt.plot(alphas, coefs)\n",
    "plt.xscale('log')\n",
    "plt.xlabel('$\\lambda$')\n",
    "plt.ylabel('Standardized coefficient')\n",
    "plt.legend(train.columns[1:6]);\n",
    "plt.plot([lassocv.alpha_,lassocv.alpha_],[-0.4,0.25],':')\n",
    "plt.legend(train.columns[1:6]);\n",
    "\n",
    "#Using the developed lasso model to predict on test data\n",
    "lasso = Lasso(alpha = lassocv.alpha_)\n",
    "lasso.fit(Xstd, y)\n",
    "pred=lasso.predict(Xtest_std)\n",
    "\n",
    "#RMSE on test data\n",
    "np.sqrt(((np.exp(pred)-test.price)**2).mean())"
   ]
  },
  {
   "cell_type": "code",
   "execution_count": null,
   "id": "8fc89941",
   "metadata": {},
   "outputs": [],
   "source": []
  }
 ],
 "metadata": {
  "kernelspec": {
   "display_name": "Python 3 (ipykernel)",
   "language": "python",
   "name": "python3"
  },
  "language_info": {
   "codemirror_mode": {
    "name": "ipython",
    "version": 3
   },
   "file_extension": ".py",
   "mimetype": "text/x-python",
   "name": "python",
   "nbconvert_exporter": "python",
   "pygments_lexer": "ipython3",
   "version": "3.9.7"
  }
 },
 "nbformat": 4,
 "nbformat_minor": 5
}
