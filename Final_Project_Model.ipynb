{
 "cells": [
  {
   "cell_type": "code",
   "execution_count": 1,
   "id": "7beb02ab",
   "metadata": {},
   "outputs": [],
   "source": [
    "import pandas as pd\n",
    "import numpy as np\n",
    "import seaborn as sns\n",
    "import matplotlib.pyplot as plt\n",
    "import statsmodels.formula.api as smf\n",
    "import math\n",
    "from sklearn.model_selection import train_test_split\n",
    "from sklearn.preprocessing import StandardScaler"
   ]
  },
  {
   "cell_type": "code",
   "execution_count": 2,
   "id": "9f03e1ca",
   "metadata": {},
   "outputs": [],
   "source": [
    "weather = pd.read_csv('weather.csv')\n",
    "rides = pd.read_csv('cab_rides.csv')"
   ]
  },
  {
   "cell_type": "code",
   "execution_count": 3,
   "id": "5b1ed542",
   "metadata": {},
   "outputs": [
    {
     "data": {
      "text/plain": [
       "distance                0\n",
       "cab_type                0\n",
       "time_stamp              0\n",
       "destination             0\n",
       "source                  0\n",
       "price               55095\n",
       "surge_multiplier        0\n",
       "id                      0\n",
       "product_id              0\n",
       "name                    0\n",
       "dtype: int64"
      ]
     },
     "execution_count": 3,
     "metadata": {},
     "output_type": "execute_result"
    }
   ],
   "source": [
    "rides.isnull().sum()"
   ]
  },
  {
   "cell_type": "code",
   "execution_count": 4,
   "id": "9e4734b1",
   "metadata": {},
   "outputs": [],
   "source": [
    "rides.dropna(axis = 0, inplace = True)"
   ]
  },
  {
   "cell_type": "code",
   "execution_count": 5,
   "id": "9fd1b4d6",
   "metadata": {
    "scrolled": true
   },
   "outputs": [
    {
     "data": {
      "text/plain": [
       "temp             0\n",
       "location         0\n",
       "clouds           0\n",
       "pressure         0\n",
       "rain          5382\n",
       "time_stamp       0\n",
       "humidity         0\n",
       "wind             0\n",
       "dtype: int64"
      ]
     },
     "execution_count": 5,
     "metadata": {},
     "output_type": "execute_result"
    }
   ],
   "source": [
    "weather.isnull().sum()"
   ]
  },
  {
   "cell_type": "code",
   "execution_count": 6,
   "id": "a0948a83",
   "metadata": {},
   "outputs": [],
   "source": [
    "weather.fillna(0, inplace = True)"
   ]
  },
  {
   "cell_type": "code",
   "execution_count": 7,
   "id": "ae7e401d",
   "metadata": {},
   "outputs": [],
   "source": [
    "weather_avg = weather.groupby('location').mean().reset_index()\n",
    "weather_avg.drop(columns = 'time_stamp' , inplace = True)\n",
    "weather_source = weather_avg.rename(columns =(lambda x :x + '_source'))       \n",
    "weather_source.rename(columns= {'location_source' :'source'}, inplace = True)\n",
    "weather_destination = weather_avg.rename(columns =(lambda x :x+'_destination'))       \n",
    "weather_destination.rename(columns= {'location_destination' :'destination'} ,inplace = True)\n",
    "data = rides\\\n",
    "       .merge(weather_source ,on ='source')\\\n",
    "       .merge(weather_destination ,on = 'destination')\n",
    "\n",
    "#binary encoding to cab_type\n",
    "\n",
    "data['cab_type'] =data['cab_type'].replace({'Uber':1,'Lyft':0})\n",
    "\n",
    "def one_hot_encode(df , column , prefix):\n",
    "    dummy = pd.get_dummies(df[column] ,prefix = prefix)\n",
    "    df = pd.concat([df , dummy] ,axis =1)\n",
    "    df =df.drop(column , axis =1)\n",
    "    \n",
    "    return df\n",
    "\n",
    "data = one_hot_encode(data ,column =  'destination' , prefix = 'desti')\n",
    "data = one_hot_encode(data ,column =  'source' , prefix = 'src')\n",
    "data = one_hot_encode(data ,column =  'product_id' , prefix = 'pid')\n",
    "data = one_hot_encode(data ,column =  'name' , prefix = 'nm')"
   ]
  },
  {
   "cell_type": "code",
   "execution_count": 8,
   "id": "a7da057f",
   "metadata": {},
   "outputs": [],
   "source": [
    "train, test = train_test_split(data, test_size = 0.3)"
   ]
  },
  {
   "cell_type": "code",
   "execution_count": 9,
   "id": "d2a9dcfc",
   "metadata": {},
   "outputs": [],
   "source": [
    "import os  \n",
    "os.makedirs('folder/subfolder', exist_ok = True)  \n",
    "train.to_csv('folder/subfolder/train_final_project.csv') \n",
    "test.to_csv('folder/subfolder/test_final_project.csv') "
   ]
  },
  {
   "cell_type": "code",
   "execution_count": 10,
   "id": "dc42da4e",
   "metadata": {},
   "outputs": [],
   "source": [
    "id_list_train = list(train['id'])\n",
    "rides['bool'] = rides['id'].isin(id_list_train)\n",
    "train_original = rides.loc[rides['bool'], :]\n",
    "\n",
    "id_list_test = list(test['id'])\n",
    "rides['bool'] = rides['id'].isin(id_list_test)\n",
    "test_original = rides.loc[rides['bool'], :]"
   ]
  },
  {
   "cell_type": "code",
   "execution_count": 43,
   "id": "fe91d236",
   "metadata": {},
   "outputs": [
    {
     "data": {
      "text/plain": [
       "(1000, 11)"
      ]
     },
     "execution_count": 43,
     "metadata": {},
     "output_type": "execute_result"
    }
   ],
   "source": [
    "train_orig_half = train_original.iloc[0:1000,:]\n",
    "train_orig_half.shape"
   ]
  },
  {
   "cell_type": "code",
   "execution_count": 48,
   "id": "8bc01d0e",
   "metadata": {},
   "outputs": [
    {
     "data": {
      "text/html": [
       "<table class=\"simpletable\">\n",
       "<caption>OLS Regression Results</caption>\n",
       "<tr>\n",
       "  <th>Dep. Variable:</th>          <td>price</td>      <th>  R-squared:         </th>  <td>   0.929</td>  \n",
       "</tr>\n",
       "<tr>\n",
       "  <th>Model:</th>                   <td>OLS</td>       <th>  Adj. R-squared:    </th>  <td>   0.929</td>  \n",
       "</tr>\n",
       "<tr>\n",
       "  <th>Method:</th>             <td>Least Squares</td>  <th>  F-statistic:       </th>  <td>1.715e+05</td> \n",
       "</tr>\n",
       "<tr>\n",
       "  <th>Date:</th>             <td>Sat, 04 Mar 2023</td> <th>  Prob (F-statistic):</th>   <td>  0.00</td>   \n",
       "</tr>\n",
       "<tr>\n",
       "  <th>Time:</th>                 <td>19:34:17</td>     <th>  Log-Likelihood:    </th> <td>-1.0404e+06</td>\n",
       "</tr>\n",
       "<tr>\n",
       "  <th>No. Observations:</th>      <td>446583</td>      <th>  AIC:               </th>  <td>2.081e+06</td> \n",
       "</tr>\n",
       "<tr>\n",
       "  <th>Df Residuals:</th>          <td>446548</td>      <th>  BIC:               </th>  <td>2.081e+06</td> \n",
       "</tr>\n",
       "<tr>\n",
       "  <th>Df Model:</th>              <td>    34</td>      <th>                     </th>      <td> </td>     \n",
       "</tr>\n",
       "<tr>\n",
       "  <th>Covariance Type:</th>      <td>nonrobust</td>    <th>                     </th>      <td> </td>     \n",
       "</tr>\n",
       "</table>\n",
       "<table class=\"simpletable\">\n",
       "<tr>\n",
       "                           <td></td>                             <th>coef</th>     <th>std err</th>      <th>t</th>      <th>P>|t|</th>  <th>[0.025</th>    <th>0.975]</th>  \n",
       "</tr>\n",
       "<tr>\n",
       "  <th>Intercept</th>                                          <td>    0.0149</td> <td> 1.62e-05</td> <td>  919.597</td> <td> 0.000</td> <td>    0.015</td> <td>    0.015</td>\n",
       "</tr>\n",
       "<tr>\n",
       "  <th>cab_type[T.Uber]</th>                                   <td>   -0.7385</td> <td>    0.005</td> <td> -150.506</td> <td> 0.000</td> <td>   -0.748</td> <td>   -0.729</td>\n",
       "</tr>\n",
       "<tr>\n",
       "  <th>destination[T.Beacon Hill]</th>                         <td>   -0.3229</td> <td>    0.018</td> <td>  -17.692</td> <td> 0.000</td> <td>   -0.359</td> <td>   -0.287</td>\n",
       "</tr>\n",
       "<tr>\n",
       "  <th>destination[T.Boston University]</th>                   <td>   -0.0566</td> <td>    0.015</td> <td>   -3.711</td> <td> 0.000</td> <td>   -0.087</td> <td>   -0.027</td>\n",
       "</tr>\n",
       "<tr>\n",
       "  <th>destination[T.Fenway]</th>                              <td>   -0.3767</td> <td>    0.015</td> <td>  -24.879</td> <td> 0.000</td> <td>   -0.406</td> <td>   -0.347</td>\n",
       "</tr>\n",
       "<tr>\n",
       "  <th>destination[T.Financial District]</th>                  <td>    0.3944</td> <td>    0.018</td> <td>   21.591</td> <td> 0.000</td> <td>    0.359</td> <td>    0.430</td>\n",
       "</tr>\n",
       "<tr>\n",
       "  <th>destination[T.Haymarket Square]</th>                    <td>    0.1478</td> <td>    0.015</td> <td>    9.611</td> <td> 0.000</td> <td>    0.118</td> <td>    0.178</td>\n",
       "</tr>\n",
       "<tr>\n",
       "  <th>destination[T.North End]</th>                           <td>    0.0101</td> <td>    0.015</td> <td>    0.670</td> <td> 0.503</td> <td>   -0.019</td> <td>    0.040</td>\n",
       "</tr>\n",
       "<tr>\n",
       "  <th>destination[T.North Station]</th>                       <td>    0.2005</td> <td>    0.018</td> <td>   10.965</td> <td> 0.000</td> <td>    0.165</td> <td>    0.236</td>\n",
       "</tr>\n",
       "<tr>\n",
       "  <th>destination[T.Northeastern University]</th>             <td>   -0.0434</td> <td>    0.015</td> <td>   -2.897</td> <td> 0.004</td> <td>   -0.073</td> <td>   -0.014</td>\n",
       "</tr>\n",
       "<tr>\n",
       "  <th>destination[T.South Station]</th>                       <td>   -0.0821</td> <td>    0.015</td> <td>   -5.428</td> <td> 0.000</td> <td>   -0.112</td> <td>   -0.052</td>\n",
       "</tr>\n",
       "<tr>\n",
       "  <th>destination[T.Theatre District]</th>                    <td>    0.2336</td> <td>    0.018</td> <td>   12.821</td> <td> 0.000</td> <td>    0.198</td> <td>    0.269</td>\n",
       "</tr>\n",
       "<tr>\n",
       "  <th>destination[T.West End]</th>                            <td>   -0.0483</td> <td>    0.018</td> <td>   -2.651</td> <td> 0.008</td> <td>   -0.084</td> <td>   -0.013</td>\n",
       "</tr>\n",
       "<tr>\n",
       "  <th>source[T.Beacon Hill]</th>                              <td>   -0.3155</td> <td>    0.018</td> <td>  -17.284</td> <td> 0.000</td> <td>   -0.351</td> <td>   -0.280</td>\n",
       "</tr>\n",
       "<tr>\n",
       "  <th>source[T.Boston University]</th>                        <td>   -0.2947</td> <td>    0.015</td> <td>  -19.175</td> <td> 0.000</td> <td>   -0.325</td> <td>   -0.265</td>\n",
       "</tr>\n",
       "<tr>\n",
       "  <th>source[T.Fenway]</th>                                   <td>   -0.0972</td> <td>    0.015</td> <td>   -6.411</td> <td> 0.000</td> <td>   -0.127</td> <td>   -0.067</td>\n",
       "</tr>\n",
       "<tr>\n",
       "  <th>source[T.Financial District]</th>                       <td>    0.3518</td> <td>    0.018</td> <td>   19.104</td> <td> 0.000</td> <td>    0.316</td> <td>    0.388</td>\n",
       "</tr>\n",
       "<tr>\n",
       "  <th>source[T.Haymarket Square]</th>                         <td>    0.3661</td> <td>    0.016</td> <td>   23.537</td> <td> 0.000</td> <td>    0.336</td> <td>    0.397</td>\n",
       "</tr>\n",
       "<tr>\n",
       "  <th>source[T.North End]</th>                                <td>    0.5370</td> <td>    0.015</td> <td>   35.718</td> <td> 0.000</td> <td>    0.508</td> <td>    0.566</td>\n",
       "</tr>\n",
       "<tr>\n",
       "  <th>source[T.North Station]</th>                            <td>    0.0754</td> <td>    0.018</td> <td>    4.116</td> <td> 0.000</td> <td>    0.039</td> <td>    0.111</td>\n",
       "</tr>\n",
       "<tr>\n",
       "  <th>source[T.Northeastern University]</th>                  <td>   -0.3124</td> <td>    0.015</td> <td>  -20.685</td> <td> 0.000</td> <td>   -0.342</td> <td>   -0.283</td>\n",
       "</tr>\n",
       "<tr>\n",
       "  <th>source[T.South Station]</th>                            <td>    0.1604</td> <td>    0.015</td> <td>   10.727</td> <td> 0.000</td> <td>    0.131</td> <td>    0.190</td>\n",
       "</tr>\n",
       "<tr>\n",
       "  <th>source[T.Theatre District]</th>                         <td>    0.5187</td> <td>    0.018</td> <td>   28.459</td> <td> 0.000</td> <td>    0.483</td> <td>    0.554</td>\n",
       "</tr>\n",
       "<tr>\n",
       "  <th>source[T.West End]</th>                                 <td>    0.0686</td> <td>    0.018</td> <td>    3.759</td> <td> 0.000</td> <td>    0.033</td> <td>    0.104</td>\n",
       "</tr>\n",
       "<tr>\n",
       "  <th>product_id[T.6c84fd89-3f11-4782-9b50-97c468b19529]</th> <td>    4.7015</td> <td>    0.011</td> <td>  438.734</td> <td> 0.000</td> <td>    4.680</td> <td>    4.722</td>\n",
       "</tr>\n",
       "<tr>\n",
       "  <th>product_id[T.6d318bcc-22a3-4af6-bddd-b409bfce1546]</th> <td>    7.2458</td> <td>    0.006</td> <td> 1190.917</td> <td> 0.000</td> <td>    7.234</td> <td>    7.258</td>\n",
       "</tr>\n",
       "<tr>\n",
       "  <th>product_id[T.6f72dfc5-27f1-42e8-84db-ccc7a75f6969]</th> <td>   -0.0694</td> <td>    0.006</td> <td>  -11.385</td> <td> 0.000</td> <td>   -0.081</td> <td>   -0.057</td>\n",
       "</tr>\n",
       "<tr>\n",
       "  <th>product_id[T.997acbb5-e102-41e1-b155-9df7de0a73f2]</th> <td>   -3.5269</td> <td>    0.006</td> <td> -579.167</td> <td> 0.000</td> <td>   -3.539</td> <td>   -3.515</td>\n",
       "</tr>\n",
       "<tr>\n",
       "  <th>product_id[T.9a0e7b09-b92b-4c41-9779-2ad22b4d779d]</th> <td>   -3.0297</td> <td>    0.006</td> <td> -497.321</td> <td> 0.000</td> <td>   -3.042</td> <td>   -3.018</td>\n",
       "</tr>\n",
       "<tr>\n",
       "  <th>product_id[T.lyft]</th>                                 <td>   -3.8155</td> <td>    0.006</td> <td> -630.488</td> <td> 0.000</td> <td>   -3.827</td> <td>   -3.804</td>\n",
       "</tr>\n",
       "<tr>\n",
       "  <th>product_id[T.lyft_line]</th>                            <td>   -5.2514</td> <td>    0.006</td> <td> -865.477</td> <td> 0.000</td> <td>   -5.263</td> <td>   -5.240</td>\n",
       "</tr>\n",
       "<tr>\n",
       "  <th>product_id[T.lyft_lux]</th>                             <td>    2.9082</td> <td>    0.006</td> <td>  479.489</td> <td> 0.000</td> <td>    2.896</td> <td>    2.920</td>\n",
       "</tr>\n",
       "<tr>\n",
       "  <th>product_id[T.lyft_luxsuv]</th>                          <td>    7.5502</td> <td>    0.006</td> <td> 1246.901</td> <td> 0.000</td> <td>    7.538</td> <td>    7.562</td>\n",
       "</tr>\n",
       "<tr>\n",
       "  <th>product_id[T.lyft_plus]</th>                            <td>   -0.9685</td> <td>    0.006</td> <td> -159.574</td> <td> 0.000</td> <td>   -0.980</td> <td>   -0.957</td>\n",
       "</tr>\n",
       "<tr>\n",
       "  <th>product_id[T.lyft_premier]</th>                         <td>    0.2740</td> <td>    0.006</td> <td>   45.260</td> <td> 0.000</td> <td>    0.262</td> <td>    0.286</td>\n",
       "</tr>\n",
       "<tr>\n",
       "  <th>name[T.Black SUV]</th>                                  <td>    7.2458</td> <td>    0.006</td> <td> 1190.917</td> <td> 0.000</td> <td>    7.234</td> <td>    7.258</td>\n",
       "</tr>\n",
       "<tr>\n",
       "  <th>name[T.Lux]</th>                                        <td>    0.2740</td> <td>    0.006</td> <td>   45.260</td> <td> 0.000</td> <td>    0.262</td> <td>    0.286</td>\n",
       "</tr>\n",
       "<tr>\n",
       "  <th>name[T.Lux Black]</th>                                  <td>    2.9082</td> <td>    0.006</td> <td>  479.489</td> <td> 0.000</td> <td>    2.896</td> <td>    2.920</td>\n",
       "</tr>\n",
       "<tr>\n",
       "  <th>name[T.Lux Black XL]</th>                               <td>    7.5502</td> <td>    0.006</td> <td> 1246.901</td> <td> 0.000</td> <td>    7.538</td> <td>    7.562</td>\n",
       "</tr>\n",
       "<tr>\n",
       "  <th>name[T.Lyft]</th>                                       <td>   -3.8155</td> <td>    0.006</td> <td> -630.488</td> <td> 0.000</td> <td>   -3.827</td> <td>   -3.804</td>\n",
       "</tr>\n",
       "<tr>\n",
       "  <th>name[T.Lyft XL]</th>                                    <td>   -0.9685</td> <td>    0.006</td> <td> -159.574</td> <td> 0.000</td> <td>   -0.980</td> <td>   -0.957</td>\n",
       "</tr>\n",
       "<tr>\n",
       "  <th>name[T.Shared]</th>                                     <td>   -5.2514</td> <td>    0.006</td> <td> -865.477</td> <td> 0.000</td> <td>   -5.263</td> <td>   -5.240</td>\n",
       "</tr>\n",
       "<tr>\n",
       "  <th>name[T.UberPool]</th>                                   <td>   -3.5269</td> <td>    0.006</td> <td> -579.167</td> <td> 0.000</td> <td>   -3.539</td> <td>   -3.515</td>\n",
       "</tr>\n",
       "<tr>\n",
       "  <th>name[T.UberX]</th>                                      <td>   -6.0597</td> <td>    0.011</td> <td> -565.349</td> <td> 0.000</td> <td>   -6.081</td> <td>   -6.039</td>\n",
       "</tr>\n",
       "<tr>\n",
       "  <th>name[T.UberXL]</th>                                     <td>   -0.0694</td> <td>    0.006</td> <td>  -11.385</td> <td> 0.000</td> <td>   -0.081</td> <td>   -0.057</td>\n",
       "</tr>\n",
       "<tr>\n",
       "  <th>name[T.WAV]</th>                                        <td>   -3.0297</td> <td>    0.006</td> <td> -497.321</td> <td> 0.000</td> <td>   -3.042</td> <td>   -3.018</td>\n",
       "</tr>\n",
       "<tr>\n",
       "  <th>distance</th>                                           <td>    2.8851</td> <td>    0.004</td> <td>  674.645</td> <td> 0.000</td> <td>    2.877</td> <td>    2.893</td>\n",
       "</tr>\n",
       "<tr>\n",
       "  <th>time_stamp</th>                                         <td>-5.389e-12</td> <td> 2.81e-14</td> <td> -192.016</td> <td> 0.000</td> <td>-5.44e-12</td> <td>-5.33e-12</td>\n",
       "</tr>\n",
       "<tr>\n",
       "  <th>surge_multiplier</th>                                   <td>   18.4414</td> <td>    0.040</td> <td>  459.445</td> <td> 0.000</td> <td>   18.363</td> <td>   18.520</td>\n",
       "</tr>\n",
       "</table>\n",
       "<table class=\"simpletable\">\n",
       "<tr>\n",
       "  <th>Omnibus:</th>       <td>170140.748</td> <th>  Durbin-Watson:     </th>  <td>   1.654</td>  \n",
       "</tr>\n",
       "<tr>\n",
       "  <th>Prob(Omnibus):</th>   <td> 0.000</td>   <th>  Jarque-Bera (JB):  </th> <td>3032463.940</td>\n",
       "</tr>\n",
       "<tr>\n",
       "  <th>Skew:</th>            <td> 1.375</td>   <th>  Prob(JB):          </th>  <td>    0.00</td>  \n",
       "</tr>\n",
       "<tr>\n",
       "  <th>Kurtosis:</th>        <td>15.466</td>   <th>  Cond. No.          </th>  <td>2.60e+21</td>  \n",
       "</tr>\n",
       "</table><br/><br/>Notes:<br/>[1] Standard Errors assume that the covariance matrix of the errors is correctly specified.<br/>[2] The smallest eigenvalue is 1.57e-13. This might indicate that there are<br/>strong multicollinearity problems or that the design matrix is singular."
      ],
      "text/plain": [
       "<class 'statsmodels.iolib.summary.Summary'>\n",
       "\"\"\"\n",
       "                            OLS Regression Results                            \n",
       "==============================================================================\n",
       "Dep. Variable:                  price   R-squared:                       0.929\n",
       "Model:                            OLS   Adj. R-squared:                  0.929\n",
       "Method:                 Least Squares   F-statistic:                 1.715e+05\n",
       "Date:                Sat, 04 Mar 2023   Prob (F-statistic):               0.00\n",
       "Time:                        19:34:17   Log-Likelihood:            -1.0404e+06\n",
       "No. Observations:              446583   AIC:                         2.081e+06\n",
       "Df Residuals:                  446548   BIC:                         2.081e+06\n",
       "Df Model:                          34                                         \n",
       "Covariance Type:            nonrobust                                         \n",
       "======================================================================================================================\n",
       "                                                         coef    std err          t      P>|t|      [0.025      0.975]\n",
       "----------------------------------------------------------------------------------------------------------------------\n",
       "Intercept                                              0.0149   1.62e-05    919.597      0.000       0.015       0.015\n",
       "cab_type[T.Uber]                                      -0.7385      0.005   -150.506      0.000      -0.748      -0.729\n",
       "destination[T.Beacon Hill]                            -0.3229      0.018    -17.692      0.000      -0.359      -0.287\n",
       "destination[T.Boston University]                      -0.0566      0.015     -3.711      0.000      -0.087      -0.027\n",
       "destination[T.Fenway]                                 -0.3767      0.015    -24.879      0.000      -0.406      -0.347\n",
       "destination[T.Financial District]                      0.3944      0.018     21.591      0.000       0.359       0.430\n",
       "destination[T.Haymarket Square]                        0.1478      0.015      9.611      0.000       0.118       0.178\n",
       "destination[T.North End]                               0.0101      0.015      0.670      0.503      -0.019       0.040\n",
       "destination[T.North Station]                           0.2005      0.018     10.965      0.000       0.165       0.236\n",
       "destination[T.Northeastern University]                -0.0434      0.015     -2.897      0.004      -0.073      -0.014\n",
       "destination[T.South Station]                          -0.0821      0.015     -5.428      0.000      -0.112      -0.052\n",
       "destination[T.Theatre District]                        0.2336      0.018     12.821      0.000       0.198       0.269\n",
       "destination[T.West End]                               -0.0483      0.018     -2.651      0.008      -0.084      -0.013\n",
       "source[T.Beacon Hill]                                 -0.3155      0.018    -17.284      0.000      -0.351      -0.280\n",
       "source[T.Boston University]                           -0.2947      0.015    -19.175      0.000      -0.325      -0.265\n",
       "source[T.Fenway]                                      -0.0972      0.015     -6.411      0.000      -0.127      -0.067\n",
       "source[T.Financial District]                           0.3518      0.018     19.104      0.000       0.316       0.388\n",
       "source[T.Haymarket Square]                             0.3661      0.016     23.537      0.000       0.336       0.397\n",
       "source[T.North End]                                    0.5370      0.015     35.718      0.000       0.508       0.566\n",
       "source[T.North Station]                                0.0754      0.018      4.116      0.000       0.039       0.111\n",
       "source[T.Northeastern University]                     -0.3124      0.015    -20.685      0.000      -0.342      -0.283\n",
       "source[T.South Station]                                0.1604      0.015     10.727      0.000       0.131       0.190\n",
       "source[T.Theatre District]                             0.5187      0.018     28.459      0.000       0.483       0.554\n",
       "source[T.West End]                                     0.0686      0.018      3.759      0.000       0.033       0.104\n",
       "product_id[T.6c84fd89-3f11-4782-9b50-97c468b19529]     4.7015      0.011    438.734      0.000       4.680       4.722\n",
       "product_id[T.6d318bcc-22a3-4af6-bddd-b409bfce1546]     7.2458      0.006   1190.917      0.000       7.234       7.258\n",
       "product_id[T.6f72dfc5-27f1-42e8-84db-ccc7a75f6969]    -0.0694      0.006    -11.385      0.000      -0.081      -0.057\n",
       "product_id[T.997acbb5-e102-41e1-b155-9df7de0a73f2]    -3.5269      0.006   -579.167      0.000      -3.539      -3.515\n",
       "product_id[T.9a0e7b09-b92b-4c41-9779-2ad22b4d779d]    -3.0297      0.006   -497.321      0.000      -3.042      -3.018\n",
       "product_id[T.lyft]                                    -3.8155      0.006   -630.488      0.000      -3.827      -3.804\n",
       "product_id[T.lyft_line]                               -5.2514      0.006   -865.477      0.000      -5.263      -5.240\n",
       "product_id[T.lyft_lux]                                 2.9082      0.006    479.489      0.000       2.896       2.920\n",
       "product_id[T.lyft_luxsuv]                              7.5502      0.006   1246.901      0.000       7.538       7.562\n",
       "product_id[T.lyft_plus]                               -0.9685      0.006   -159.574      0.000      -0.980      -0.957\n",
       "product_id[T.lyft_premier]                             0.2740      0.006     45.260      0.000       0.262       0.286\n",
       "name[T.Black SUV]                                      7.2458      0.006   1190.917      0.000       7.234       7.258\n",
       "name[T.Lux]                                            0.2740      0.006     45.260      0.000       0.262       0.286\n",
       "name[T.Lux Black]                                      2.9082      0.006    479.489      0.000       2.896       2.920\n",
       "name[T.Lux Black XL]                                   7.5502      0.006   1246.901      0.000       7.538       7.562\n",
       "name[T.Lyft]                                          -3.8155      0.006   -630.488      0.000      -3.827      -3.804\n",
       "name[T.Lyft XL]                                       -0.9685      0.006   -159.574      0.000      -0.980      -0.957\n",
       "name[T.Shared]                                        -5.2514      0.006   -865.477      0.000      -5.263      -5.240\n",
       "name[T.UberPool]                                      -3.5269      0.006   -579.167      0.000      -3.539      -3.515\n",
       "name[T.UberX]                                         -6.0597      0.011   -565.349      0.000      -6.081      -6.039\n",
       "name[T.UberXL]                                        -0.0694      0.006    -11.385      0.000      -0.081      -0.057\n",
       "name[T.WAV]                                           -3.0297      0.006   -497.321      0.000      -3.042      -3.018\n",
       "distance                                               2.8851      0.004    674.645      0.000       2.877       2.893\n",
       "time_stamp                                         -5.389e-12   2.81e-14   -192.016      0.000   -5.44e-12   -5.33e-12\n",
       "surge_multiplier                                      18.4414      0.040    459.445      0.000      18.363      18.520\n",
       "==============================================================================\n",
       "Omnibus:                   170140.748   Durbin-Watson:                   1.654\n",
       "Prob(Omnibus):                  0.000   Jarque-Bera (JB):          3032463.940\n",
       "Skew:                           1.375   Prob(JB):                         0.00\n",
       "Kurtosis:                      15.466   Cond. No.                     2.60e+21\n",
       "==============================================================================\n",
       "\n",
       "Notes:\n",
       "[1] Standard Errors assume that the covariance matrix of the errors is correctly specified.\n",
       "[2] The smallest eigenvalue is 1.57e-13. This might indicate that there are\n",
       "strong multicollinearity problems or that the design matrix is singular.\n",
       "\"\"\""
      ]
     },
     "execution_count": 48,
     "metadata": {},
     "output_type": "execute_result"
    }
   ],
   "source": [
    "ols_object_basic = smf.ols(formula = 'price~distance+cab_type+time_stamp+destination+source+surge_multiplier+product_id+name', data = train_original)\n",
    "model_basic = ols_object_basic.fit()\n",
    "model_basic.summary()"
   ]
  },
  {
   "cell_type": "code",
   "execution_count": 12,
   "id": "cdce1a3a",
   "metadata": {},
   "outputs": [
    {
     "data": {
      "text/plain": [
       "2.5035111618769643"
      ]
     },
     "execution_count": 12,
     "metadata": {},
     "output_type": "execute_result"
    }
   ],
   "source": [
    "np.sqrt(((test_original.price - model_basic.predict(test_original))**2).mean())"
   ]
  },
  {
   "cell_type": "code",
   "execution_count": 13,
   "id": "7f6e5e34",
   "metadata": {},
   "outputs": [
    {
     "data": {
      "text/plain": [
       "2.4862828447118144"
      ]
     },
     "execution_count": 13,
     "metadata": {},
     "output_type": "execute_result"
    }
   ],
   "source": [
    "np.sqrt(model_basic.mse_resid)"
   ]
  },
  {
   "cell_type": "code",
   "execution_count": 45,
   "id": "f54caa42",
   "metadata": {},
   "outputs": [],
   "source": [
    "out = model_basic.outlier_test()"
   ]
  },
  {
   "cell_type": "code",
   "execution_count": 16,
   "id": "5746911f",
   "metadata": {},
   "outputs": [
    {
     "ename": "NameError",
     "evalue": "name 'out' is not defined",
     "output_type": "error",
     "traceback": [
      "\u001b[0;31m---------------------------------------------------------------------------\u001b[0m",
      "\u001b[0;31mNameError\u001b[0m                                 Traceback (most recent call last)",
      "Input \u001b[0;32mIn [16]\u001b[0m, in \u001b[0;36m<cell line: 8>\u001b[0;34m()\u001b[0m\n\u001b[1;32m      5\u001b[0m axes[\u001b[38;5;241m0\u001b[39m]\u001b[38;5;241m.\u001b[39mset_xlabel(\u001b[38;5;124m'\u001b[39m\u001b[38;5;124mFitted values\u001b[39m\u001b[38;5;124m'\u001b[39m) \n\u001b[1;32m      6\u001b[0m axes[\u001b[38;5;241m0\u001b[39m]\u001b[38;5;241m.\u001b[39mset_ylabel(\u001b[38;5;124m'\u001b[39m\u001b[38;5;124mResiduals\u001b[39m\u001b[38;5;124m'\u001b[39m)\n\u001b[0;32m----> 8\u001b[0m sns\u001b[38;5;241m.\u001b[39mscatterplot(ax \u001b[38;5;241m=\u001b[39m axes[\u001b[38;5;241m1\u001b[39m], x \u001b[38;5;241m=\u001b[39m (model_basic\u001b[38;5;241m.\u001b[39mfittedvalues), y \u001b[38;5;241m=\u001b[39m (\u001b[43mout\u001b[49m\u001b[38;5;241m.\u001b[39mstudent_resid),color \u001b[38;5;241m=\u001b[39m \u001b[38;5;124m'\u001b[39m\u001b[38;5;124morange\u001b[39m\u001b[38;5;124m'\u001b[39m)\n\u001b[1;32m      9\u001b[0m sns\u001b[38;5;241m.\u001b[39mlineplot(ax \u001b[38;5;241m=\u001b[39m axes[\u001b[38;5;241m1\u001b[39m], x \u001b[38;5;241m=\u001b[39m [model_basic\u001b[38;5;241m.\u001b[39mfittedvalues\u001b[38;5;241m.\u001b[39mmin(), model_basic\u001b[38;5;241m.\u001b[39mfittedvalues\u001b[38;5;241m.\u001b[39mmax()], y \u001b[38;5;241m=\u001b[39m [\u001b[38;5;241m0\u001b[39m,\u001b[38;5;241m0\u001b[39m], color \u001b[38;5;241m=\u001b[39m \u001b[38;5;124m'\u001b[39m\u001b[38;5;124mblue\u001b[39m\u001b[38;5;124m'\u001b[39m)\n\u001b[1;32m     10\u001b[0m axes[\u001b[38;5;241m1\u001b[39m]\u001b[38;5;241m.\u001b[39mset_xlabel(\u001b[38;5;124m'\u001b[39m\u001b[38;5;124mFitted values\u001b[39m\u001b[38;5;124m'\u001b[39m)\n",
      "\u001b[0;31mNameError\u001b[0m: name 'out' is not defined"
     ]
    },
    {
     "data": {
      "image/png": "[encoded data removed]",
      "text/plain": [
       "<Figure size 1080x360 with 2 Axes>"
      ]
     },
     "metadata": {
      "needs_background": "light"
     },
     "output_type": "display_data"
    }
   ],
   "source": [
    "fig, axes = plt.subplots(1, 2, figsize = (15, 5))\n",
    "\n",
    "sns.scatterplot(ax = axes[0], x = (model_basic.fittedvalues), y = (model_basic.resid),color = 'orange')\n",
    "sns.lineplot(ax = axes[0], x = [model_basic.fittedvalues.min(), model_basic.fittedvalues.max()], y = [0,0], color = 'blue')\n",
    "axes[0].set_xlabel('Fitted values') \n",
    "axes[0].set_ylabel('Residuals')\n",
    "\n",
    "sns.scatterplot(ax = axes[1], x = (model_basic.fittedvalues), y = (out.student_resid),color = 'orange')\n",
    "sns.lineplot(ax = axes[1], x = [model_basic.fittedvalues.min(), model_basic.fittedvalues.max()], y = [0,0], color = 'blue')\n",
    "axes[1].set_xlabel('Fitted values')\n",
    "axes[1].set_ylabel('Studentized Residuals')"
   ]
  },
  {
   "cell_type": "code",
   "execution_count": 17,
   "id": "ab85a574",
   "metadata": {},
   "outputs": [],
   "source": [
    "import statsmodels.api as sm"
   ]
  },
  {
   "cell_type": "code",
   "execution_count": 49,
   "id": "664ee6a3",
   "metadata": {},
   "outputs": [],
   "source": [
    "#take a look at high leverage points\n",
    "influence = model_basic.get_influence()\n",
    "leverage = influence.hat_matrix_diag\n",
    "#obtain standardized residuals\n",
    "standardized_residuals = influence.resid_studentized_internal"
   ]
  },
  {
   "cell_type": "code",
   "execution_count": 51,
   "id": "95e926f9",
   "metadata": {},
   "outputs": [
    {
     "data": {
      "text/plain": [
       "array([ 1.42211664,  1.06802524, -0.4324371 , ...,  0.31198972,\n",
       "        1.28574998,  1.88666952])"
      ]
     },
     "execution_count": 51,
     "metadata": {},
     "output_type": "execute_result"
    }
   ],
   "source": [
    "standardized_residuals"
   ]
  },
  {
   "cell_type": "code",
   "execution_count": 50,
   "id": "f73c8cb0",
   "metadata": {},
   "outputs": [
    {
     "data": {
      "text/plain": [
       "1104"
      ]
     },
     "execution_count": 50,
     "metadata": {},
     "output_type": "execute_result"
    }
   ],
   "source": [
    "#calculate number of high leverage points\n",
    "average_leverage = (model_basic.df_model+1)/model_basic.nobs\n",
    "\n",
    "high_leverage_threshold = 4*average_leverage\n",
    "\n",
    "np.sum(leverage>high_leverage_threshold)"
   ]
  },
  {
   "cell_type": "code",
   "execution_count": 22,
   "id": "395c6663",
   "metadata": {},
   "outputs": [],
   "source": [
    "#remove high leverage\n",
    "train_orig_filtered = train.drop(np.intersect1d(np.where(np.abs(out.student_resid)>3)[0],\n",
    "                                           (np.where(leverage>high_leverage_threshold)[0])))"
   ]
  },
  {
   "cell_type": "code",
   "execution_count": 23,
   "id": "e5b67de5",
   "metadata": {},
   "outputs": [
    {
     "data": {
      "text/html": [
       "<table class=\"simpletable\">\n",
       "<caption>OLS Regression Results</caption>\n",
       "<tr>\n",
       "  <th>Dep. Variable:</th>          <td>price</td>      <th>  R-squared:         </th>  <td>   0.118</td>  \n",
       "</tr>\n",
       "<tr>\n",
       "  <th>Model:</th>                   <td>OLS</td>       <th>  Adj. R-squared:    </th>  <td>   0.118</td>  \n",
       "</tr>\n",
       "<tr>\n",
       "  <th>Method:</th>             <td>Least Squares</td>  <th>  F-statistic:       </th>  <td>6.001e+04</td> \n",
       "</tr>\n",
       "<tr>\n",
       "  <th>Date:</th>             <td>Sat, 04 Mar 2023</td> <th>  Prob (F-statistic):</th>   <td>  0.00</td>   \n",
       "</tr>\n",
       "<tr>\n",
       "  <th>Time:</th>                 <td>15:58:53</td>     <th>  Log-Likelihood:    </th> <td>-1.6024e+06</td>\n",
       "</tr>\n",
       "<tr>\n",
       "  <th>No. Observations:</th>      <td>446583</td>      <th>  AIC:               </th>  <td>3.205e+06</td> \n",
       "</tr>\n",
       "<tr>\n",
       "  <th>Df Residuals:</th>          <td>446581</td>      <th>  BIC:               </th>  <td>3.205e+06</td> \n",
       "</tr>\n",
       "<tr>\n",
       "  <th>Df Model:</th>              <td>     1</td>      <th>                     </th>      <td> </td>     \n",
       "</tr>\n",
       "<tr>\n",
       "  <th>Covariance Type:</th>      <td>nonrobust</td>    <th>                     </th>      <td> </td>     \n",
       "</tr>\n",
       "</table>\n",
       "<table class=\"simpletable\">\n",
       "<tr>\n",
       "      <td></td>         <th>coef</th>     <th>std err</th>      <th>t</th>      <th>P>|t|</th>  <th>[0.025</th>    <th>0.975]</th>  \n",
       "</tr>\n",
       "<tr>\n",
       "  <th>Intercept</th> <td>   10.3540</td> <td>    0.028</td> <td>  363.992</td> <td> 0.000</td> <td>   10.298</td> <td>   10.410</td>\n",
       "</tr>\n",
       "<tr>\n",
       "  <th>distance</th>  <td>    2.8280</td> <td>    0.012</td> <td>  244.972</td> <td> 0.000</td> <td>    2.805</td> <td>    2.851</td>\n",
       "</tr>\n",
       "</table>\n",
       "<table class=\"simpletable\">\n",
       "<tr>\n",
       "  <th>Omnibus:</th>       <td>47856.322</td> <th>  Durbin-Watson:     </th> <td>   2.158</td> \n",
       "</tr>\n",
       "<tr>\n",
       "  <th>Prob(Omnibus):</th>  <td> 0.000</td>   <th>  Jarque-Bera (JB):  </th> <td>66554.436</td>\n",
       "</tr>\n",
       "<tr>\n",
       "  <th>Skew:</th>           <td> 0.856</td>   <th>  Prob(JB):          </th> <td>    0.00</td> \n",
       "</tr>\n",
       "<tr>\n",
       "  <th>Kurtosis:</th>       <td> 3.805</td>   <th>  Cond. No.          </th> <td>    6.07</td> \n",
       "</tr>\n",
       "</table><br/><br/>Notes:<br/>[1] Standard Errors assume that the covariance matrix of the errors is correctly specified."
      ],
      "text/plain": [
       "<class 'statsmodels.iolib.summary.Summary'>\n",
       "\"\"\"\n",
       "                            OLS Regression Results                            \n",
       "==============================================================================\n",
       "Dep. Variable:                  price   R-squared:                       0.118\n",
       "Model:                            OLS   Adj. R-squared:                  0.118\n",
       "Method:                 Least Squares   F-statistic:                 6.001e+04\n",
       "Date:                Sat, 04 Mar 2023   Prob (F-statistic):               0.00\n",
       "Time:                        15:58:53   Log-Likelihood:            -1.6024e+06\n",
       "No. Observations:              446583   AIC:                         3.205e+06\n",
       "Df Residuals:                  446581   BIC:                         3.205e+06\n",
       "Df Model:                           1                                         \n",
       "Covariance Type:            nonrobust                                         \n",
       "==============================================================================\n",
       "                 coef    std err          t      P>|t|      [0.025      0.975]\n",
       "------------------------------------------------------------------------------\n",
       "Intercept     10.3540      0.028    363.992      0.000      10.298      10.410\n",
       "distance       2.8280      0.012    244.972      0.000       2.805       2.851\n",
       "==============================================================================\n",
       "Omnibus:                    47856.322   Durbin-Watson:                   2.158\n",
       "Prob(Omnibus):                  0.000   Jarque-Bera (JB):            66554.436\n",
       "Skew:                           0.856   Prob(JB):                         0.00\n",
       "Kurtosis:                       3.805   Cond. No.                         6.07\n",
       "==============================================================================\n",
       "\n",
       "Notes:\n",
       "[1] Standard Errors assume that the covariance matrix of the errors is correctly specified.\n",
       "\"\"\""
      ]
     },
     "execution_count": 23,
     "metadata": {},
     "output_type": "execute_result"
    }
   ],
   "source": [
    "ols_object_distance = smf.ols(formula = 'price~distance', data = train_original)\n",
    "model_distance = ols_object_distance.fit()\n",
    "model_distance.summary()"
   ]
  },
  {
   "cell_type": "code",
   "execution_count": 24,
   "id": "182fba45",
   "metadata": {},
   "outputs": [
    {
     "data": {
      "text/plain": [
       "8.751933744449495"
      ]
     },
     "execution_count": 24,
     "metadata": {},
     "output_type": "execute_result"
    }
   ],
   "source": [
    "np.sqrt(((test_original.price - model_distance.predict(test_original))**2).mean())"
   ]
  },
  {
   "cell_type": "code",
   "execution_count": 25,
   "id": "3412fca0",
   "metadata": {},
   "outputs": [
    {
     "data": {
      "text/plain": [
       "8.751554026422484"
      ]
     },
     "execution_count": 25,
     "metadata": {},
     "output_type": "execute_result"
    }
   ],
   "source": [
    "np.sqrt(model_distance.mse_resid)"
   ]
  },
  {
   "cell_type": "code",
   "execution_count": 30,
   "id": "4f659c68",
   "metadata": {},
   "outputs": [
    {
     "ename": "KeyboardInterrupt",
     "evalue": "",
     "output_type": "error",
     "traceback": [
      "\u001b[0;31m---------------------------------------------------------------------------\u001b[0m",
      "\u001b[0;31mKeyboardInterrupt\u001b[0m                         Traceback (most recent call last)",
      "Input \u001b[0;32mIn [30]\u001b[0m, in \u001b[0;36m<cell line: 1>\u001b[0;34m()\u001b[0m\n\u001b[0;32m----> 1\u001b[0m out \u001b[38;5;241m=\u001b[39m \u001b[43mmodel_distance\u001b[49m\u001b[38;5;241;43m.\u001b[39;49m\u001b[43moutlier_test\u001b[49m\u001b[43m(\u001b[49m\u001b[43m)\u001b[49m\n\u001b[1;32m      2\u001b[0m out\n",
      "File \u001b[0;32m~/opt/anaconda3/lib/python3.9/site-packages/statsmodels/regression/linear_model.py:2993\u001b[0m, in \u001b[0;36mOLSResults.outlier_test\u001b[0;34m(self, method, alpha, labels, order, cutoff)\u001b[0m\n\u001b[1;32m   2947\u001b[0m \u001b[38;5;124;03m\"\"\"\u001b[39;00m\n\u001b[1;32m   2948\u001b[0m \u001b[38;5;124;03mTest observations for outliers according to method.\u001b[39;00m\n\u001b[1;32m   2949\u001b[0m \n\u001b[0;32m   (...)\u001b[0m\n\u001b[1;32m   2990\u001b[0m \u001b[38;5;124;03mdf = df_resid - 1.\u001b[39;00m\n\u001b[1;32m   2991\u001b[0m \u001b[38;5;124;03m\"\"\"\u001b[39;00m\n\u001b[1;32m   2992\u001b[0m \u001b[38;5;28;01mfrom\u001b[39;00m \u001b[38;5;21;01mstatsmodels\u001b[39;00m\u001b[38;5;21;01m.\u001b[39;00m\u001b[38;5;21;01mstats\u001b[39;00m\u001b[38;5;21;01m.\u001b[39;00m\u001b[38;5;21;01moutliers_influence\u001b[39;00m \u001b[38;5;28;01mimport\u001b[39;00m outlier_test\n\u001b[0;32m-> 2993\u001b[0m \u001b[38;5;28;01mreturn\u001b[39;00m \u001b[43moutlier_test\u001b[49m\u001b[43m(\u001b[49m\u001b[38;5;28;43mself\u001b[39;49m\u001b[43m,\u001b[49m\u001b[43m \u001b[49m\u001b[43mmethod\u001b[49m\u001b[43m,\u001b[49m\u001b[43m \u001b[49m\u001b[43malpha\u001b[49m\u001b[43m,\u001b[49m\u001b[43m \u001b[49m\u001b[43mlabels\u001b[49m\u001b[38;5;241;43m=\u001b[39;49m\u001b[43mlabels\u001b[49m\u001b[43m,\u001b[49m\n\u001b[1;32m   2994\u001b[0m \u001b[43m                    \u001b[49m\u001b[43morder\u001b[49m\u001b[38;5;241;43m=\u001b[39;49m\u001b[43morder\u001b[49m\u001b[43m,\u001b[49m\u001b[43m \u001b[49m\u001b[43mcutoff\u001b[49m\u001b[38;5;241;43m=\u001b[39;49m\u001b[43mcutoff\u001b[49m\u001b[43m)\u001b[49m\n",
      "File \u001b[0;32m~/opt/anaconda3/lib/python3.9/site-packages/statsmodels/stats/outliers_influence.py:79\u001b[0m, in \u001b[0;36moutlier_test\u001b[0;34m(model_results, method, alpha, labels, order, cutoff)\u001b[0m\n\u001b[1;32m     75\u001b[0m     results \u001b[38;5;241m=\u001b[39m maybe_unwrap_results(model_results)\n\u001b[1;32m     76\u001b[0m     \u001b[38;5;28;01mraise\u001b[39;00m \u001b[38;5;167;01mAttributeError\u001b[39;00m(\u001b[38;5;124m\"\u001b[39m\u001b[38;5;124mmodel_results object \u001b[39m\u001b[38;5;132;01m%s\u001b[39;00m\u001b[38;5;124m does not have a \u001b[39m\u001b[38;5;124m\"\u001b[39m\n\u001b[1;32m     77\u001b[0m                          \u001b[38;5;124m\"\u001b[39m\u001b[38;5;124mget_influence \u001b[39m\u001b[38;5;124m\"\u001b[39m\n\u001b[1;32m     78\u001b[0m                          \u001b[38;5;124m\"\u001b[39m\u001b[38;5;124mmethod.\u001b[39m\u001b[38;5;124m\"\u001b[39m \u001b[38;5;241m%\u001b[39m results\u001b[38;5;241m.\u001b[39m\u001b[38;5;18m__class__\u001b[39m\u001b[38;5;241m.\u001b[39m\u001b[38;5;18m__name__\u001b[39m)\n\u001b[0;32m---> 79\u001b[0m resid \u001b[38;5;241m=\u001b[39m \u001b[43minfl\u001b[49m\u001b[43m(\u001b[49m\u001b[43m)\u001b[49m\u001b[38;5;241;43m.\u001b[39;49m\u001b[43mresid_studentized_external\u001b[49m\n\u001b[1;32m     80\u001b[0m \u001b[38;5;28;01mif\u001b[39;00m order:\n\u001b[1;32m     81\u001b[0m     idx \u001b[38;5;241m=\u001b[39m np\u001b[38;5;241m.\u001b[39mabs(resid)\u001b[38;5;241m.\u001b[39margsort()[::\u001b[38;5;241m-\u001b[39m\u001b[38;5;241m1\u001b[39m]\n",
      "File \u001b[0;32m~/opt/anaconda3/lib/python3.9/site-packages/pandas/_libs/properties.pyx:37\u001b[0m, in \u001b[0;36mpandas._libs.properties.CachedProperty.__get__\u001b[0;34m()\u001b[0m\n",
      "File \u001b[0;32m~/opt/anaconda3/lib/python3.9/site-packages/statsmodels/stats/outliers_influence.py:663\u001b[0m, in \u001b[0;36mOLSInfluence.resid_studentized_external\u001b[0;34m(self)\u001b[0m\n\u001b[1;32m    655\u001b[0m \u001b[38;5;129m@cache_readonly\u001b[39m\n\u001b[1;32m    656\u001b[0m \u001b[38;5;28;01mdef\u001b[39;00m \u001b[38;5;21mresid_studentized_external\u001b[39m(\u001b[38;5;28mself\u001b[39m):\n\u001b[1;32m    657\u001b[0m     \u001b[38;5;124;03m\"\"\"Studentized residuals using LOOO variance\u001b[39;00m\n\u001b[1;32m    658\u001b[0m \n\u001b[1;32m    659\u001b[0m \u001b[38;5;124;03m    this uses sigma from leave-one-out estimates\u001b[39;00m\n\u001b[1;32m    660\u001b[0m \n\u001b[1;32m    661\u001b[0m \u001b[38;5;124;03m    requires leave one out loop for observations\u001b[39;00m\n\u001b[1;32m    662\u001b[0m \u001b[38;5;124;03m    \"\"\"\u001b[39;00m\n\u001b[0;32m--> 663\u001b[0m     sigma_looo \u001b[38;5;241m=\u001b[39m np\u001b[38;5;241m.\u001b[39msqrt(\u001b[38;5;28;43mself\u001b[39;49m\u001b[38;5;241;43m.\u001b[39;49m\u001b[43msigma2_not_obsi\u001b[49m)\n\u001b[1;32m    664\u001b[0m     \u001b[38;5;28;01mreturn\u001b[39;00m \u001b[38;5;28mself\u001b[39m\u001b[38;5;241m.\u001b[39mget_resid_studentized_external(sigma\u001b[38;5;241m=\u001b[39msigma_looo)\n",
      "File \u001b[0;32m~/opt/anaconda3/lib/python3.9/site-packages/pandas/_libs/properties.pyx:37\u001b[0m, in \u001b[0;36mpandas._libs.properties.CachedProperty.__get__\u001b[0;34m()\u001b[0m\n",
      "File \u001b[0;32m~/opt/anaconda3/lib/python3.9/site-packages/statsmodels/stats/outliers_influence.py:798\u001b[0m, in \u001b[0;36mOLSInfluence.sigma2_not_obsi\u001b[0;34m(self)\u001b[0m\n\u001b[1;32m    790\u001b[0m \u001b[38;5;129m@cache_readonly\u001b[39m\n\u001b[1;32m    791\u001b[0m \u001b[38;5;28;01mdef\u001b[39;00m \u001b[38;5;21msigma2_not_obsi\u001b[39m(\u001b[38;5;28mself\u001b[39m):\n\u001b[1;32m    792\u001b[0m     \u001b[38;5;124;03m\"\"\"error variance for all LOOO regressions\u001b[39;00m\n\u001b[1;32m    793\u001b[0m \n\u001b[1;32m    794\u001b[0m \u001b[38;5;124;03m    This is 'mse_resid' from each auxiliary regression.\u001b[39;00m\n\u001b[1;32m    795\u001b[0m \n\u001b[1;32m    796\u001b[0m \u001b[38;5;124;03m    uses results from leave-one-observation-out loop\u001b[39;00m\n\u001b[1;32m    797\u001b[0m \u001b[38;5;124;03m    \"\"\"\u001b[39;00m\n\u001b[0;32m--> 798\u001b[0m     \u001b[38;5;28;01mreturn\u001b[39;00m np\u001b[38;5;241m.\u001b[39masarray(\u001b[38;5;28;43mself\u001b[39;49m\u001b[38;5;241;43m.\u001b[39;49m\u001b[43m_res_looo\u001b[49m[\u001b[38;5;124m'\u001b[39m\u001b[38;5;124mmse_resid\u001b[39m\u001b[38;5;124m'\u001b[39m])\n",
      "File \u001b[0;32m~/opt/anaconda3/lib/python3.9/site-packages/pandas/_libs/properties.pyx:37\u001b[0m, in \u001b[0;36mpandas._libs.properties.CachedProperty.__get__\u001b[0;34m()\u001b[0m\n",
      "File \u001b[0;32m~/opt/anaconda3/lib/python3.9/site-packages/statsmodels/stats/outliers_influence.py:958\u001b[0m, in \u001b[0;36mOLSInfluence._res_looo\u001b[0;34m(self)\u001b[0m\n\u001b[1;32m    956\u001b[0m cv_iter \u001b[38;5;241m=\u001b[39m LeaveOneOut(\u001b[38;5;28mself\u001b[39m\u001b[38;5;241m.\u001b[39mnobs)\n\u001b[1;32m    957\u001b[0m \u001b[38;5;28;01mfor\u001b[39;00m inidx, outidx \u001b[38;5;129;01min\u001b[39;00m cv_iter:\n\u001b[0;32m--> 958\u001b[0m     res_i \u001b[38;5;241m=\u001b[39m \u001b[38;5;28mself\u001b[39m\u001b[38;5;241m.\u001b[39mmodel_class(endog[inidx], \u001b[43mexog\u001b[49m\u001b[43m[\u001b[49m\u001b[43minidx\u001b[49m\u001b[43m]\u001b[49m)\u001b[38;5;241m.\u001b[39mfit()\n\u001b[1;32m    959\u001b[0m     params[outidx] \u001b[38;5;241m=\u001b[39m res_i\u001b[38;5;241m.\u001b[39mparams\n\u001b[1;32m    960\u001b[0m     mse_resid[outidx] \u001b[38;5;241m=\u001b[39m res_i\u001b[38;5;241m.\u001b[39mmse_resid\n",
      "\u001b[0;31mKeyboardInterrupt\u001b[0m: "
     ]
    }
   ],
   "source": [
    "out = model_distance.outlier_test()\n",
    "out"
   ]
  },
  {
   "cell_type": "code",
   "execution_count": 26,
   "id": "42954567",
   "metadata": {},
   "outputs": [
    {
     "data": {
      "text/plain": [
       "<seaborn.axisgrid.FacetGrid at 0x7febb17dd280>"
      ]
     },
     "execution_count": 26,
     "metadata": {},
     "output_type": "execute_result"
    },
    {
     "data": {
      "image/png": "[encoded data removed]",
      "text/plain": [
       "<Figure size 360x360 with 1 Axes>"
      ]
     },
     "metadata": {
      "needs_background": "light"
     },
     "output_type": "display_data"
    }
   ],
   "source": [
    "sns.displot(data = train, x = 'price', kind = 'hist')"
   ]
  },
  {
   "cell_type": "code",
   "execution_count": 27,
   "id": "066b13f6",
   "metadata": {},
   "outputs": [],
   "source": [
    "new_train = train.copy()\n",
    "new_train = new_train.drop(['price', 'id'], axis = 1)\n",
    "new_train['log_distance'] = new_train['distance'].apply(lambda x: np.log(x))"
   ]
  },
  {
   "cell_type": "code",
   "execution_count": 28,
   "id": "379e3938",
   "metadata": {},
   "outputs": [],
   "source": [
    "new_test = test.copy()\n",
    "new_test = new_test.drop(['price', 'id'], axis = 1)\n",
    "new_test['log_distance'] = new_test['distance'].apply(lambda x: np.log(x))"
   ]
  },
  {
   "cell_type": "code",
   "execution_count": null,
   "id": "b1d4840b",
   "metadata": {},
   "outputs": [],
   "source": [
    "from sklearn.linear_model import Ridge, RidgeCV, Lasso, LassoCV\n",
    "from sklearn.preprocessing import StandardScaler \n",
    "from sklearn.metrics import r2_score\n",
    "\n",
    "#Taking the log transform of house_price as house prices have a right-skewed distribution\n",
    "y = np.log(train.price)\n",
    "\n",
    "#Standardizing predictors so that each of them have zero mean and unit variance\n",
    "\n",
    "#Filtering all predictors\n",
    "X = new_train; \n",
    "\n",
    "#Defining a scaler object\n",
    "scaler = StandardScaler()\n",
    "\n",
    "#The scaler object will contain the mean and variance of each column (predictor) of X. \n",
    "#These values will be useful to scale test data based on the same mean and variance as obtained on train data\n",
    "scaler.fit(X)\n",
    "\n",
    "#Using the scaler object (or the values of mean and variance stored in it) to standardize X (or train data)\n",
    "Xstd = scaler.transform(X)\n",
    "\n",
    "#The tuning parameter lambda is referred as alpha in sklearn\n",
    "\n",
    "#Creating a range of values of the tuning parameter to visualize the ridge regression coefficients\n",
    "#for different values of the tuning parameter\n",
    "alphas = 10**np.linspace(10,-2,200)*0.5\n",
    "\n",
    "#Finding the ridge regression coefficients for increasing values of the tuning parameter\n",
    "coefs = []\n",
    "for a in alphas:        \n",
    "    ridge = Ridge(alpha = a)\n",
    "    ridge.fit(Xstd, y)\n",
    "    coefs.append(ridge.coef_)\n",
    "    \n",
    "#Visualizing the shrinkage in ridge regression coefficients with increasing values of the tuning parameter lambda\n",
    "plt.xlabel('xlabel', fontsize=18)\n",
    "plt.ylabel('ylabel', fontsize=18)\n",
    "plt.plot(alphas, coefs)\n",
    "plt.xscale('log')\n",
    "plt.xlabel('$\\lambda$')\n",
    "plt.ylabel('Standardized coefficient')\n",
    "plt.legend(train.columns[1:6]);\n",
    "\n",
    "#Let us use cross validation to find the optimal value of the tuning parameter - lambda\n",
    "#For the optimal lambda, the cross validation error will be the least\n",
    "\n",
    "#Note that we are reducing the range of alpha so as to better visualize the minimum\n",
    "alphas = 10**np.linspace(1.5,-3,200)*0.5\n",
    "ridgecv = RidgeCV(alphas = alphas,store_cv_values=True)\n",
    "ridgecv.fit(Xstd, y)\n",
    "\n",
    "#Optimal value of the tuning parameter - lambda\n",
    "ridgecv.alpha_\n",
    "\n",
    "#Visualizing the LOOCV (leave one out cross validatation error vs lambda)\n",
    "plt.xlabel('xlabel', fontsize=18)\n",
    "plt.ylabel('ylabel', fontsize=18)\n",
    "plt.plot(ridgecv.alphas,ridgecv.cv_values_.sum(axis=0))\n",
    "plt.plot([ridgecv.alpha_,ridgecv.alpha_],[40,40.2],':')\n",
    "plt.xlabel('$\\lambda$')\n",
    "plt.ylabel('Cross-validation error')\n",
    "\n",
    "#Visualizing the shrinkage in ridge regression coefficients with increasing values of the tuning parameter lambda\n",
    "alphas = 10**np.linspace(10,-2,200)*0.5\n",
    "plt.xlabel('xlabel', fontsize=18)\n",
    "plt.ylabel('ylabel', fontsize=18)\n",
    "plt.plot(alphas, coefs)\n",
    "plt.plot([ridgecv.alpha_,ridgecv.alpha_],[-0.4,0.2],':')\n",
    "plt.xscale('log')\n",
    "plt.xlabel('$\\lambda$')\n",
    "plt.ylabel('Standardized coefficient')\n",
    "plt.legend(train.columns[1:6]);\n",
    "\n",
    "#Test dataset\n",
    "Xtest = new_test\n",
    "\n",
    "#Standardizing test data\n",
    "Xtest_std = scaler.transform(Xtest)\n",
    "\n",
    "#Using the developed ridge regression model to predict on test data\n",
    "ridge = Ridge(alpha = ridgecv.alpha_)\n",
    "ridge.fit(Xstd, y)\n",
    "pred=ridge.predict(Xtest_std)\n",
    "\n",
    "#RMSE on test data\n",
    "np.sqrt(((np.exp(pred)-test.price)**2).mean())"
   ]
  },
  {
   "cell_type": "code",
   "execution_count": null,
   "id": "65342b9d",
   "metadata": {},
   "outputs": [],
   "source": [
    "#Creating a range of values of the tuning parameter to visualize the lasso coefficients\n",
    "#for different values of the tuning parameter\n",
    "alphas = 10**np.linspace(10,-2,100)*0.1\n",
    "\n",
    "#Finding the lasso coefficients for increasing values of the tuning parameter\n",
    "lasso = Lasso(max_iter = 10000)\n",
    "coefs = []\n",
    "\n",
    "for a in alphas:\n",
    "    lasso.set_params(alpha=a)\n",
    "    lasso.fit(Xstd, y)\n",
    "    coefs.append(lasso.coef_)\n",
    "    \n",
    "#Visualizing the shrinkage in lasso coefficients with increasing values of the tuning parameter lambda\n",
    "plt.xlabel('xlabel', fontsize=18)\n",
    "plt.ylabel('ylabel', fontsize=18)\n",
    "plt.plot(alphas, coefs)\n",
    "plt.xscale('log')\n",
    "plt.xlabel('$\\lambda$')\n",
    "plt.ylabel('Standardized coefficient')\n",
    "plt.legend(train.columns[1:6]);\n",
    "#plt.plot([lassocv.alpha_,lassocv.alpha_],[-0.4,0.25],':')\n",
    "plt.legend(train.columns[1:6]);\n",
    "\n",
    "#Let us use cross validation to find the optimal value of the tuning parameter - lambda\n",
    "#For the optimal lambda, the cross validation error will be the least\n",
    "\n",
    "#Note that we are reducing the range of alpha so as to better visualize the minimum\n",
    "alphas = 10**np.linspace(-1,-5,200)*0.5\n",
    "lassocv = LassoCV(alphas = alphas, cv = 10, max_iter = 100000)\n",
    "lassocv.fit(Xstd, y)\n",
    "\n",
    "#Optimal value of the tuning parameter - lamda\n",
    "lassocv.alpha_\n",
    "\n",
    "#Visualizing the LOOCV (leave one out cross validatation error vs lambda)\n",
    "plt.xlabel('xlabel', fontsize=18)\n",
    "plt.ylabel('ylabel', fontsize=18)\n",
    "plt.plot(lassocv.alphas_,lassocv.mse_path_.mean(axis=1))\n",
    "plt.plot([lassocv.alpha_,lassocv.alpha_],[0.145,0.151],':')\n",
    "plt.xlabel('$\\lambda$')\n",
    "plt.ylabel('Cross-validation error')\n",
    "\n",
    "#Visualizing the shrinkage in lasso coefficients with increasing values of the tuning parameter lambda\n",
    "alphas = 10**np.linspace(10,-2,100)*0.1\n",
    "plt.xlabel('xlabel', fontsize=18)\n",
    "plt.ylabel('ylabel', fontsize=18)\n",
    "plt.plot(alphas, coefs)\n",
    "plt.xscale('log')\n",
    "plt.xlabel('$\\lambda$')\n",
    "plt.ylabel('Standardized coefficient')\n",
    "plt.legend(train.columns[1:6]);\n",
    "plt.plot([lassocv.alpha_,lassocv.alpha_],[-0.4,0.25],':')\n",
    "plt.legend(train.columns[1:6]);\n",
    "\n",
    "#Using the developed lasso model to predict on test data\n",
    "lasso = Lasso(alpha = lassocv.alpha_)\n",
    "lasso.fit(Xstd, y)\n",
    "pred=lasso.predict(Xtest_std)\n",
    "\n",
    "#RMSE on test data\n",
    "np.sqrt(((np.exp(pred)-test.price)**2).mean())"
   ]
  },
  {
   "cell_type": "code",
   "execution_count": null,
   "id": "8fc89941",
   "metadata": {},
   "outputs": [],
   "source": [
    "A. A"
   ]
  }
 ],
 "metadata": {
  "kernelspec": {
   "display_name": "Python 3 (ipykernel)",
   "language": "python",
   "name": "python3"
  },
  "language_info": {
   "codemirror_mode": {
    "name": "ipython",
    "version": 3
   },
   "file_extension": ".py",
   "mimetype": "text/x-python",
   "name": "python",
   "nbconvert_exporter": "python",
   "pygments_lexer": "ipython3",
   "version": "3.9.12"
  }
 },
 "nbformat": 4,
 "nbformat_minor": 5
}
