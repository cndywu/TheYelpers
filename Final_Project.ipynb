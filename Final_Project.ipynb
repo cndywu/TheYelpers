{
 "cells": [
  {
   "cell_type": "code",
   "execution_count": 6,
   "id": "7bef1f49",
   "metadata": {},
   "outputs": [],
   "source": [
    "import pandas as pd\n",
    "import numpy as np\n",
    "import seaborn as sns\n",
    "import matplotlib.pyplot as plt\n",
    "import statsmodels.formula.api as sm\n",
    "import math\n",
    "from sklearn.model_selection import train_test_split\n",
    "from sklearn.preprocessing import StandardScaler"
   ]
  },
  {
   "cell_type": "code",
   "execution_count": 2,
   "id": "05beb495",
   "metadata": {},
   "outputs": [],
   "source": [
    "weather = pd.read_csv('weather.csv')\n",
    "rideshare = pd.read_csv('rideshare_kaggle.csv')\n",
    "rides = pd.read_csv('cab_rides.csv')"
   ]
  },
  {
   "cell_type": "code",
   "execution_count": 11,
   "id": "0ba81283",
   "metadata": {},
   "outputs": [
    {
     "data": {
      "text/plain": [
       "distance                0\n",
       "cab_type                0\n",
       "time_stamp              0\n",
       "destination             0\n",
       "source                  0\n",
       "price               55095\n",
       "surge_multiplier        0\n",
       "id                      0\n",
       "product_id              0\n",
       "name                    0\n",
       "dtype: int64"
      ]
     },
     "execution_count": 11,
     "metadata": {},
     "output_type": "execute_result"
    }
   ],
   "source": [
    "rides.isnull().sum()"
   ]
  },
  {
   "cell_type": "code",
   "execution_count": 12,
   "id": "3591eefa",
   "metadata": {},
   "outputs": [],
   "source": [
    "rides.dropna(axis = 0, inplace = True)"
   ]
  },
  {
   "cell_type": "code",
   "execution_count": 13,
   "id": "bb824790",
   "metadata": {
    "scrolled": true
   },
   "outputs": [
    {
     "data": {
      "text/plain": [
       "temp             0\n",
       "location         0\n",
       "clouds           0\n",
       "pressure         0\n",
       "rain          5382\n",
       "time_stamp       0\n",
       "humidity         0\n",
       "wind             0\n",
       "dtype: int64"
      ]
     },
     "execution_count": 13,
     "metadata": {},
     "output_type": "execute_result"
    }
   ],
   "source": [
    "weather.isnull().sum()"
   ]
  },
  {
   "cell_type": "code",
   "execution_count": 14,
   "id": "0a70d503",
   "metadata": {},
   "outputs": [],
   "source": [
    "weather.fillna(0, inplace = True)"
   ]
  },
  {
   "cell_type": "code",
   "execution_count": 18,
   "id": "1264f377",
   "metadata": {},
   "outputs": [],
   "source": [
    "weather_avg = weather.groupby('location').mean().reset_index()\n",
    "weather_avg.drop(columns = 'time_stamp' , inplace = True)\n",
    "weather_source = weather_avg.rename(columns =(lambda x :x + '_source'))       \n",
    "weather_source.rename(columns= {'location_source' :'source'}, inplace = True)\n",
    "weather_destination = weather_avg.rename(columns =(lambda x :x+'_destination'))       \n",
    "weather_destination.rename(columns= {'location_destination' :'destination'} ,inplace = True)\n",
    "data = rides\\\n",
    "       .merge(weather_source ,on ='source')\\\n",
    "       .merge(weather_destination ,on = 'destination')\n",
    "data = data.drop('id'  , axis =1)\n",
    "\n",
    "#binary encoding to cab_type\n",
    "\n",
    "data['cab_type'] =data['cab_type'].replace({'Uber':1,'Lyft':0})\n",
    "\n",
    "def one_hot_encode(df , column , prefix):\n",
    "    dummy = pd.get_dummies(df[column] ,prefix = prefix)\n",
    "    df = pd.concat([df , dummy] ,axis =1)\n",
    "    df =df.drop(column , axis =1)\n",
    "    \n",
    "    return df\n",
    "\n",
    "data = one_hot_encode(data ,column =  'destination' , prefix = 'desti')\n",
    "data = one_hot_encode(data ,column =  'source' , prefix = 'src')\n",
    "data = one_hot_encode(data ,column =  'product_id' , prefix = 'pid')\n",
    "data = one_hot_encode(data ,column =  'name' , prefix = 'nm')"
   ]
  },
  {
   "cell_type": "code",
   "execution_count": 24,
   "id": "b1580244",
   "metadata": {},
   "outputs": [
    {
     "data": {
      "text/plain": [
       "Index(['distance', 'cab_type', 'time_stamp', 'price', 'surge_multiplier',\n",
       "       'temp_source', 'clouds_source', 'pressure_source', 'rain_source',\n",
       "       'humidity_source', 'wind_source', 'temp_destination',\n",
       "       'clouds_destination', 'pressure_destination', 'rain_destination',\n",
       "       'humidity_destination', 'wind_destination', 'desti_Back Bay',\n",
       "       'desti_Beacon Hill', 'desti_Boston University', 'desti_Fenway',\n",
       "       'desti_Financial District', 'desti_Haymarket Square', 'desti_North End',\n",
       "       'desti_North Station', 'desti_Northeastern University',\n",
       "       'desti_South Station', 'desti_Theatre District', 'desti_West End',\n",
       "       'src_Back Bay', 'src_Beacon Hill', 'src_Boston University',\n",
       "       'src_Fenway', 'src_Financial District', 'src_Haymarket Square',\n",
       "       'src_North End', 'src_North Station', 'src_Northeastern University',\n",
       "       'src_South Station', 'src_Theatre District', 'src_West End',\n",
       "       'pid_55c66225-fbe7-4fd5-9072-eab1ece5e23e',\n",
       "       'pid_6c84fd89-3f11-4782-9b50-97c468b19529',\n",
       "       'pid_6d318bcc-22a3-4af6-bddd-b409bfce1546',\n",
       "       'pid_6f72dfc5-27f1-42e8-84db-ccc7a75f6969',\n",
       "       'pid_997acbb5-e102-41e1-b155-9df7de0a73f2',\n",
       "       'pid_9a0e7b09-b92b-4c41-9779-2ad22b4d779d', 'pid_lyft', 'pid_lyft_line',\n",
       "       'pid_lyft_lux', 'pid_lyft_luxsuv', 'pid_lyft_plus', 'pid_lyft_premier',\n",
       "       'nm_Black', 'nm_Black SUV', 'nm_Lux', 'nm_Lux Black', 'nm_Lux Black XL',\n",
       "       'nm_Lyft', 'nm_Lyft XL', 'nm_Shared', 'nm_UberPool', 'nm_UberX',\n",
       "       'nm_UberXL', 'nm_WAV'],\n",
       "      dtype='object')"
      ]
     },
     "execution_count": 24,
     "metadata": {},
     "output_type": "execute_result"
    }
   ],
   "source": [
    "data.columns"
   ]
  },
  {
   "cell_type": "code",
   "execution_count": 19,
   "id": "97b1a712",
   "metadata": {},
   "outputs": [
    {
     "name": "stdout",
     "output_type": "stream",
     "text": [
      "(446583, 64) (191393, 64) (446583,) (191393,)\n"
     ]
    }
   ],
   "source": [
    "x = data.drop('price', axis = 1)\n",
    "y = data['price']\n",
    "\n",
    "x_train, x_test, y_train, y_test = train_test_split(x, y, test_size = 0.3)\n",
    "print(x_train.shape , x_test.shape , y_train.shape , y_test.shape)\n",
    "\n",
    "sc = StandardScaler()\n",
    "sc.fit(x_train)\n",
    "\n",
    "x_train = pd.DataFrame(sc.transform(x_train) ,columns =x.columns)\n",
    "x_test =  pd.DataFrame(sc.transform(x_test) ,columns = x.columns)"
   ]
  },
  {
   "cell_type": "code",
   "execution_count": null,
   "id": "b3c3c732",
   "metadata": {},
   "outputs": [],
   "source": [
    "ols_object_bonus = smf.ols(formula = 'money_made_inv~out_prncp_inv+I(out_prncp_inv**2)+loan_amnt*out_prncp_inv+I(loan_amnt**2)+int_rate*loan_amnt*out_prncp_inv+I(int_rate**2)+term*out_prncp_inv+sub_grade*loan_amnt*term+annual_inc', data = not_zero)\n",
    "model_bonus = ols_object_bonus.fit()\n",
    "model_bonus.summary()"
   ]
  },
  {
   "cell_type": "code",
   "execution_count": 21,
   "id": "6e546674",
   "metadata": {},
   "outputs": [
    {
     "data": {
      "text/plain": [
       "Index(['id', 'timestamp', 'hour', 'day', 'month', 'datetime', 'timezone',\n",
       "       'source', 'destination', 'cab_type', 'product_id', 'name', 'price',\n",
       "       'distance', 'surge_multiplier', 'latitude', 'longitude', 'temperature',\n",
       "       'apparentTemperature', 'short_summary', 'long_summary',\n",
       "       'precipIntensity', 'precipProbability', 'humidity', 'windSpeed',\n",
       "       'windGust', 'windGustTime', 'visibility', 'temperatureHigh',\n",
       "       'temperatureHighTime', 'temperatureLow', 'temperatureLowTime',\n",
       "       'apparentTemperatureHigh', 'apparentTemperatureHighTime',\n",
       "       'apparentTemperatureLow', 'apparentTemperatureLowTime', 'icon',\n",
       "       'dewPoint', 'pressure', 'windBearing', 'cloudCover', 'uvIndex',\n",
       "       'visibility.1', 'ozone', 'sunriseTime', 'sunsetTime', 'moonPhase',\n",
       "       'precipIntensityMax', 'uvIndexTime', 'temperatureMin',\n",
       "       'temperatureMinTime', 'temperatureMax', 'temperatureMaxTime',\n",
       "       'apparentTemperatureMin', 'apparentTemperatureMinTime',\n",
       "       'apparentTemperatureMax', 'apparentTemperatureMaxTime'],\n",
       "      dtype='object')"
      ]
     },
     "execution_count": 21,
     "metadata": {},
     "output_type": "execute_result"
    }
   ],
   "source": [
    "rideshare.columns"
   ]
  },
  {
   "cell_type": "code",
   "execution_count": null,
   "id": "4fb55fc0",
   "metadata": {},
   "outputs": [],
   "source": []
  }
 ],
 "metadata": {
  "kernelspec": {
   "display_name": "Python 3 (ipykernel)",
   "language": "python",
   "name": "python3"
  },
  "language_info": {
   "codemirror_mode": {
    "name": "ipython",
    "version": 3
   },
   "file_extension": ".py",
   "mimetype": "text/x-python",
   "name": "python",
   "nbconvert_exporter": "python",
   "pygments_lexer": "ipython3",
   "version": "3.9.7"
  }
 },
 "nbformat": 4,
 "nbformat_minor": 5
}
