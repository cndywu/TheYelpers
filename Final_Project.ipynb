{
 "cells": [
  {
   "cell_type": "code",
   "execution_count": 35,
   "id": "7bef1f49",
   "metadata": {},
   "outputs": [],
   "source": [
    "import pandas as pd\n",
    "import numpy as np\n",
    "import seaborn as sns\n",
    "import matplotlib.pyplot as plt\n",
    "import statsmodels.formula.api as smf\n",
    "import math\n",
    "from sklearn.model_selection import train_test_split\n",
    "from sklearn.preprocessing import StandardScaler\n",
    "from datetime import date\n",
    "import calendar"
   ]
  },
  {
   "cell_type": "code",
   "execution_count": 13,
   "id": "05beb495",
   "metadata": {},
   "outputs": [],
   "source": [
    "weather = pd.read_csv('weather.csv')\n",
    "rides = pd.read_csv('cab_rides.csv')"
   ]
  },
  {
   "cell_type": "code",
   "execution_count": 14,
   "id": "0ba81283",
   "metadata": {},
   "outputs": [
    {
     "data": {
      "text/plain": [
       "distance                0\n",
       "cab_type                0\n",
       "time_stamp              0\n",
       "destination             0\n",
       "source                  0\n",
       "price               55095\n",
       "surge_multiplier        0\n",
       "id                      0\n",
       "product_id              0\n",
       "name                    0\n",
       "dtype: int64"
      ]
     },
     "execution_count": 14,
     "metadata": {},
     "output_type": "execute_result"
    }
   ],
   "source": [
    "rides.isnull().sum()"
   ]
  },
  {
   "cell_type": "code",
   "execution_count": 15,
   "id": "3591eefa",
   "metadata": {},
   "outputs": [],
   "source": [
    "rides.dropna(axis = 0, inplace = True)"
   ]
  },
  {
   "cell_type": "code",
   "execution_count": 16,
   "id": "bb824790",
   "metadata": {
    "scrolled": true
   },
   "outputs": [
    {
     "data": {
      "text/plain": [
       "temp             0\n",
       "location         0\n",
       "clouds           0\n",
       "pressure         0\n",
       "rain          5382\n",
       "time_stamp       0\n",
       "humidity         0\n",
       "wind             0\n",
       "dtype: int64"
      ]
     },
     "execution_count": 16,
     "metadata": {},
     "output_type": "execute_result"
    }
   ],
   "source": [
    "weather.isnull().sum()"
   ]
  },
  {
   "cell_type": "code",
   "execution_count": 17,
   "id": "0a70d503",
   "metadata": {},
   "outputs": [],
   "source": [
    "weather.fillna(0, inplace = True)"
   ]
  },
  {
   "cell_type": "code",
   "execution_count": 18,
   "id": "1264f377",
   "metadata": {},
   "outputs": [],
   "source": [
    "weather_avg = weather.groupby('location').mean().reset_index()\n",
    "weather_avg.drop(columns = 'time_stamp' , inplace = True)\n",
    "weather_source = weather_avg.rename(columns =(lambda x :x + '_source'))       \n",
    "weather_source.rename(columns= {'location_source' :'source'}, inplace = True)\n",
    "weather_destination = weather_avg.rename(columns =(lambda x :x+'_destination'))       \n",
    "weather_destination.rename(columns= {'location_destination' :'destination'} ,inplace = True)\n",
    "data = rides\\\n",
    "       .merge(weather_source ,on ='source')\\\n",
    "       .merge(weather_destination ,on = 'destination')\n",
    "data = data.drop('id'  , axis =1)\n",
    "\n",
    "#binary encoding to cab_type\n",
    "\n",
    "data['cab_type'] =data['cab_type'].replace({'Uber':1,'Lyft':0})\n",
    "\n",
    "def one_hot_encode(df , column , prefix):\n",
    "    dummy = pd.get_dummies(df[column] ,prefix = prefix)\n",
    "    df = pd.concat([df , dummy] ,axis =1)\n",
    "    df =df.drop(column , axis =1)\n",
    "    \n",
    "    return df\n",
    "\n",
    "data = one_hot_encode(data ,column =  'destination' , prefix = 'desti')\n",
    "data = one_hot_encode(data ,column =  'source' , prefix = 'src')\n",
    "data = one_hot_encode(data ,column =  'product_id' , prefix = 'pid')\n",
    "data = one_hot_encode(data ,column =  'name' , prefix = 'nm')"
   ]
  },
  {
   "cell_type": "code",
   "execution_count": 19,
   "id": "b1580244",
   "metadata": {},
   "outputs": [
    {
     "data": {
      "text/plain": [
       "Index(['distance', 'cab_type', 'time_stamp', 'price', 'surge_multiplier',\n",
       "       'temp_source', 'clouds_source', 'pressure_source', 'rain_source',\n",
       "       'humidity_source', 'wind_source', 'temp_destination',\n",
       "       'clouds_destination', 'pressure_destination', 'rain_destination',\n",
       "       'humidity_destination', 'wind_destination', 'desti_Back Bay',\n",
       "       'desti_Beacon Hill', 'desti_Boston University', 'desti_Fenway',\n",
       "       'desti_Financial District', 'desti_Haymarket Square', 'desti_North End',\n",
       "       'desti_North Station', 'desti_Northeastern University',\n",
       "       'desti_South Station', 'desti_Theatre District', 'desti_West End',\n",
       "       'src_Back Bay', 'src_Beacon Hill', 'src_Boston University',\n",
       "       'src_Fenway', 'src_Financial District', 'src_Haymarket Square',\n",
       "       'src_North End', 'src_North Station', 'src_Northeastern University',\n",
       "       'src_South Station', 'src_Theatre District', 'src_West End',\n",
       "       'pid_55c66225-fbe7-4fd5-9072-eab1ece5e23e',\n",
       "       'pid_6c84fd89-3f11-4782-9b50-97c468b19529',\n",
       "       'pid_6d318bcc-22a3-4af6-bddd-b409bfce1546',\n",
       "       'pid_6f72dfc5-27f1-42e8-84db-ccc7a75f6969',\n",
       "       'pid_997acbb5-e102-41e1-b155-9df7de0a73f2',\n",
       "       'pid_9a0e7b09-b92b-4c41-9779-2ad22b4d779d', 'pid_lyft', 'pid_lyft_line',\n",
       "       'pid_lyft_lux', 'pid_lyft_luxsuv', 'pid_lyft_plus', 'pid_lyft_premier',\n",
       "       'nm_Black', 'nm_Black SUV', 'nm_Lux', 'nm_Lux Black', 'nm_Lux Black XL',\n",
       "       'nm_Lyft', 'nm_Lyft XL', 'nm_Shared', 'nm_UberPool', 'nm_UberX',\n",
       "       'nm_UberXL', 'nm_WAV'],\n",
       "      dtype='object')"
      ]
     },
     "execution_count": 19,
     "metadata": {},
     "output_type": "execute_result"
    }
   ],
   "source": [
    "data.columns"
   ]
  },
  {
   "cell_type": "code",
   "execution_count": 20,
   "id": "97b1a712",
   "metadata": {},
   "outputs": [
    {
     "name": "stdout",
     "output_type": "stream",
     "text": [
      "(446583, 64) (191393, 64) (446583,) (191393,)\n"
     ]
    }
   ],
   "source": [
    "x = data.drop('price', axis = 1)\n",
    "y = data['price']\n",
    "\n",
    "x_train, x_test, y_train, y_test = train_test_split(x, y, test_size = 0.3)\n",
    "print(x_train.shape , x_test.shape , y_train.shape , y_test.shape)\n",
    "\n",
    "sc = StandardScaler()\n",
    "sc.fit(x_train)\n",
    "\n",
    "x_train = pd.DataFrame(sc.transform(x_train) ,columns =x.columns)\n",
    "x_test =  pd.DataFrame(sc.transform(x_test) ,columns = x.columns)"
   ]
  },
  {
   "cell_type": "code",
   "execution_count": null,
   "id": "96aae0e4",
   "metadata": {},
   "outputs": [],
   "source": [
    "from sklearn.model_selection import train_test_split\n"
   ]
  },
  {
   "cell_type": "code",
   "execution_count": null,
   "id": "f3067eb9",
   "metadata": {},
   "outputs": [],
   "source": [
    "train, test = train_test_split(data, shuffle=True, train_size=0.7)"
   ]
  },
  {
   "cell_type": "code",
   "execution_count": null,
   "id": "4f1631d0",
   "metadata": {},
   "outputs": [],
   "source": [
    "train"
   ]
  },
  {
   "cell_type": "code",
   "execution_count": null,
   "id": "7d584394",
   "metadata": {},
   "outputs": [],
   "source": [
    "test"
   ]
  },
  {
   "cell_type": "code",
   "execution_count": null,
   "id": "969a447d",
   "metadata": {},
   "outputs": [],
   "source": []
  },
  {
   "cell_type": "code",
   "execution_count": 36,
   "id": "e1f646cd",
   "metadata": {},
   "outputs": [],
   "source": [
    "train.to_csv('train.csv', index=False)"
   ]
  },
  {
   "cell_type": "code",
   "execution_count": 37,
   "id": "67de2c87",
   "metadata": {},
   "outputs": [],
   "source": [
    "test.to_csv('test.csv', index=False)"
   ]
  },
  {
   "cell_type": "markdown",
   "id": "407135d1",
   "metadata": {},
   "source": [
    "# DONT TOUCH ABOVE THIS"
   ]
  },
  {
   "cell_type": "code",
   "execution_count": 162,
   "id": "46cf85d2",
   "metadata": {},
   "outputs": [],
   "source": [
    "train = pd.read_csv('train.csv')\n",
    "test = pd.read_csv('test.csv')"
   ]
  },
  {
   "cell_type": "code",
   "execution_count": 164,
   "id": "0b57e2bc",
   "metadata": {},
   "outputs": [],
   "source": [
    "# convert the datetime fields from epoch to datetime\n",
    "train['timestamp'] = pd.to_datetime(train['time_stamp'], unit='ms')\n",
    "test['timestamp'] = pd.to_datetime(test['time_stamp'], unit='ms')  \n",
    "\n",
    "#Find hour of each trip\n",
    "train['hour'] = train['timestamp'].dt.strftime('%H')\n",
    "test['hour'] = test['timestamp'].dt.strftime('%H')\n",
    "\n",
    "#Find date of each trip\n",
    "train['date'] = train['timestamp'].dt.strftime('%Y-%m-%d') \n",
    "test['date'] = test['timestamp'].dt.strftime('%Y-%m-%d') \n",
    "\n",
    "#Find day name of each trip\n",
    "train['day'] = train['timestamp'].dt.day_name()\n",
    "train['day'] = train['timestamp'].dt.day_name()\n",
    "\n",
    "# drop redundant fields \n",
    "train = train.drop('time_stamp', axis=1)\n",
    "test = test.drop('time_stamp', axis=1)"
   ]
  },
  {
   "cell_type": "code",
   "execution_count": 165,
   "id": "920eb64c",
   "metadata": {},
   "outputs": [
    {
     "data": {
      "text/html": [
       "<div>\n",
       "<style scoped>\n",
       "    .dataframe tbody tr th:only-of-type {\n",
       "        vertical-align: middle;\n",
       "    }\n",
       "\n",
       "    .dataframe tbody tr th {\n",
       "        vertical-align: top;\n",
       "    }\n",
       "\n",
       "    .dataframe thead th {\n",
       "        text-align: right;\n",
       "    }\n",
       "</style>\n",
       "<table border=\"1\" class=\"dataframe\">\n",
       "  <thead>\n",
       "    <tr style=\"text-align: right;\">\n",
       "      <th></th>\n",
       "      <th>distance</th>\n",
       "      <th>cab_type</th>\n",
       "      <th>price</th>\n",
       "      <th>surge_multiplier</th>\n",
       "      <th>temp_source</th>\n",
       "      <th>clouds_source</th>\n",
       "      <th>pressure_source</th>\n",
       "      <th>rain_source</th>\n",
       "      <th>humidity_source</th>\n",
       "      <th>wind_source</th>\n",
       "      <th>...</th>\n",
       "      <th>nm_Lyft XL</th>\n",
       "      <th>nm_Shared</th>\n",
       "      <th>nm_UberPool</th>\n",
       "      <th>nm_UberX</th>\n",
       "      <th>nm_UberXL</th>\n",
       "      <th>nm_WAV</th>\n",
       "      <th>timestamp</th>\n",
       "      <th>hour</th>\n",
       "      <th>date</th>\n",
       "      <th>day</th>\n",
       "    </tr>\n",
       "  </thead>\n",
       "  <tbody>\n",
       "    <tr>\n",
       "      <th>0</th>\n",
       "      <td>3.44</td>\n",
       "      <td>1</td>\n",
       "      <td>17.0</td>\n",
       "      <td>1.0</td>\n",
       "      <td>39.394092</td>\n",
       "      <td>0.677495</td>\n",
       "      <td>1008.438031</td>\n",
       "      <td>0.008310</td>\n",
       "      <td>0.755468</td>\n",
       "      <td>6.848948</td>\n",
       "      <td>...</td>\n",
       "      <td>0</td>\n",
       "      <td>0</td>\n",
       "      <td>0</td>\n",
       "      <td>0</td>\n",
       "      <td>0</td>\n",
       "      <td>1</td>\n",
       "      <td>2018-11-26 15:05:10.344</td>\n",
       "      <td>15</td>\n",
       "      <td>2018-11-26</td>\n",
       "      <td>Monday</td>\n",
       "    </tr>\n",
       "    <tr>\n",
       "      <th>1</th>\n",
       "      <td>2.49</td>\n",
       "      <td>0</td>\n",
       "      <td>16.5</td>\n",
       "      <td>1.0</td>\n",
       "      <td>39.047285</td>\n",
       "      <td>0.677801</td>\n",
       "      <td>1008.448356</td>\n",
       "      <td>0.008297</td>\n",
       "      <td>0.765048</td>\n",
       "      <td>6.810325</td>\n",
       "      <td>...</td>\n",
       "      <td>0</td>\n",
       "      <td>0</td>\n",
       "      <td>0</td>\n",
       "      <td>0</td>\n",
       "      <td>0</td>\n",
       "      <td>0</td>\n",
       "      <td>2018-11-30 22:18:08.459</td>\n",
       "      <td>22</td>\n",
       "      <td>2018-11-30</td>\n",
       "      <td>Friday</td>\n",
       "    </tr>\n",
       "    <tr>\n",
       "      <th>2</th>\n",
       "      <td>1.11</td>\n",
       "      <td>1</td>\n",
       "      <td>26.0</td>\n",
       "      <td>1.0</td>\n",
       "      <td>39.090841</td>\n",
       "      <td>0.676730</td>\n",
       "      <td>1008.441912</td>\n",
       "      <td>0.008644</td>\n",
       "      <td>0.764054</td>\n",
       "      <td>6.853117</td>\n",
       "      <td>...</td>\n",
       "      <td>0</td>\n",
       "      <td>0</td>\n",
       "      <td>0</td>\n",
       "      <td>0</td>\n",
       "      <td>0</td>\n",
       "      <td>0</td>\n",
       "      <td>2018-11-28 13:17:08.318</td>\n",
       "      <td>13</td>\n",
       "      <td>2018-11-28</td>\n",
       "      <td>Wednesday</td>\n",
       "    </tr>\n",
       "    <tr>\n",
       "      <th>3</th>\n",
       "      <td>2.46</td>\n",
       "      <td>1</td>\n",
       "      <td>28.5</td>\n",
       "      <td>1.0</td>\n",
       "      <td>38.964379</td>\n",
       "      <td>0.679866</td>\n",
       "      <td>1008.453289</td>\n",
       "      <td>0.007343</td>\n",
       "      <td>0.767266</td>\n",
       "      <td>6.711721</td>\n",
       "      <td>...</td>\n",
       "      <td>0</td>\n",
       "      <td>0</td>\n",
       "      <td>0</td>\n",
       "      <td>0</td>\n",
       "      <td>0</td>\n",
       "      <td>0</td>\n",
       "      <td>2018-12-15 12:10:08.678</td>\n",
       "      <td>12</td>\n",
       "      <td>2018-12-15</td>\n",
       "      <td>Saturday</td>\n",
       "    </tr>\n",
       "    <tr>\n",
       "      <th>4</th>\n",
       "      <td>0.54</td>\n",
       "      <td>1</td>\n",
       "      <td>10.5</td>\n",
       "      <td>1.0</td>\n",
       "      <td>39.394092</td>\n",
       "      <td>0.677495</td>\n",
       "      <td>1008.438031</td>\n",
       "      <td>0.008310</td>\n",
       "      <td>0.755468</td>\n",
       "      <td>6.848948</td>\n",
       "      <td>...</td>\n",
       "      <td>0</td>\n",
       "      <td>0</td>\n",
       "      <td>0</td>\n",
       "      <td>0</td>\n",
       "      <td>0</td>\n",
       "      <td>1</td>\n",
       "      <td>2018-12-15 20:00:07.067</td>\n",
       "      <td>20</td>\n",
       "      <td>2018-12-15</td>\n",
       "      <td>Saturday</td>\n",
       "    </tr>\n",
       "    <tr>\n",
       "      <th>...</th>\n",
       "      <td>...</td>\n",
       "      <td>...</td>\n",
       "      <td>...</td>\n",
       "      <td>...</td>\n",
       "      <td>...</td>\n",
       "      <td>...</td>\n",
       "      <td>...</td>\n",
       "      <td>...</td>\n",
       "      <td>...</td>\n",
       "      <td>...</td>\n",
       "      <td>...</td>\n",
       "      <td>...</td>\n",
       "      <td>...</td>\n",
       "      <td>...</td>\n",
       "      <td>...</td>\n",
       "      <td>...</td>\n",
       "      <td>...</td>\n",
       "      <td>...</td>\n",
       "      <td>...</td>\n",
       "      <td>...</td>\n",
       "      <td>...</td>\n",
       "    </tr>\n",
       "    <tr>\n",
       "      <th>446578</th>\n",
       "      <td>2.67</td>\n",
       "      <td>0</td>\n",
       "      <td>16.5</td>\n",
       "      <td>1.0</td>\n",
       "      <td>39.082122</td>\n",
       "      <td>0.678432</td>\n",
       "      <td>1008.447820</td>\n",
       "      <td>0.007925</td>\n",
       "      <td>0.764073</td>\n",
       "      <td>6.778528</td>\n",
       "      <td>...</td>\n",
       "      <td>1</td>\n",
       "      <td>0</td>\n",
       "      <td>0</td>\n",
       "      <td>0</td>\n",
       "      <td>0</td>\n",
       "      <td>0</td>\n",
       "      <td>2018-11-29 03:05:08.150</td>\n",
       "      <td>03</td>\n",
       "      <td>2018-11-29</td>\n",
       "      <td>Thursday</td>\n",
       "    </tr>\n",
       "    <tr>\n",
       "      <th>446579</th>\n",
       "      <td>2.84</td>\n",
       "      <td>0</td>\n",
       "      <td>22.5</td>\n",
       "      <td>1.0</td>\n",
       "      <td>38.964379</td>\n",
       "      <td>0.679866</td>\n",
       "      <td>1008.453289</td>\n",
       "      <td>0.007343</td>\n",
       "      <td>0.767266</td>\n",
       "      <td>6.711721</td>\n",
       "      <td>...</td>\n",
       "      <td>0</td>\n",
       "      <td>0</td>\n",
       "      <td>0</td>\n",
       "      <td>0</td>\n",
       "      <td>0</td>\n",
       "      <td>0</td>\n",
       "      <td>2018-12-15 22:15:12.411</td>\n",
       "      <td>22</td>\n",
       "      <td>2018-12-15</td>\n",
       "      <td>Saturday</td>\n",
       "    </tr>\n",
       "    <tr>\n",
       "      <th>446580</th>\n",
       "      <td>0.61</td>\n",
       "      <td>1</td>\n",
       "      <td>7.5</td>\n",
       "      <td>1.0</td>\n",
       "      <td>39.067897</td>\n",
       "      <td>0.676711</td>\n",
       "      <td>1008.445239</td>\n",
       "      <td>0.008660</td>\n",
       "      <td>0.764837</td>\n",
       "      <td>6.843193</td>\n",
       "      <td>...</td>\n",
       "      <td>0</td>\n",
       "      <td>0</td>\n",
       "      <td>1</td>\n",
       "      <td>0</td>\n",
       "      <td>0</td>\n",
       "      <td>0</td>\n",
       "      <td>2018-12-14 07:45:09.534</td>\n",
       "      <td>07</td>\n",
       "      <td>2018-12-14</td>\n",
       "      <td>Friday</td>\n",
       "    </tr>\n",
       "    <tr>\n",
       "      <th>446581</th>\n",
       "      <td>3.07</td>\n",
       "      <td>1</td>\n",
       "      <td>10.5</td>\n",
       "      <td>1.0</td>\n",
       "      <td>38.964379</td>\n",
       "      <td>0.679866</td>\n",
       "      <td>1008.453289</td>\n",
       "      <td>0.007343</td>\n",
       "      <td>0.767266</td>\n",
       "      <td>6.711721</td>\n",
       "      <td>...</td>\n",
       "      <td>0</td>\n",
       "      <td>0</td>\n",
       "      <td>0</td>\n",
       "      <td>1</td>\n",
       "      <td>0</td>\n",
       "      <td>0</td>\n",
       "      <td>2018-11-29 00:03:41.410</td>\n",
       "      <td>00</td>\n",
       "      <td>2018-11-29</td>\n",
       "      <td>Thursday</td>\n",
       "    </tr>\n",
       "    <tr>\n",
       "      <th>446582</th>\n",
       "      <td>0.54</td>\n",
       "      <td>1</td>\n",
       "      <td>16.0</td>\n",
       "      <td>1.0</td>\n",
       "      <td>39.394092</td>\n",
       "      <td>0.677495</td>\n",
       "      <td>1008.438031</td>\n",
       "      <td>0.008310</td>\n",
       "      <td>0.755468</td>\n",
       "      <td>6.848948</td>\n",
       "      <td>...</td>\n",
       "      <td>0</td>\n",
       "      <td>0</td>\n",
       "      <td>0</td>\n",
       "      <td>0</td>\n",
       "      <td>0</td>\n",
       "      <td>0</td>\n",
       "      <td>2018-12-15 05:25:03.705</td>\n",
       "      <td>05</td>\n",
       "      <td>2018-12-15</td>\n",
       "      <td>Saturday</td>\n",
       "    </tr>\n",
       "  </tbody>\n",
       "</table>\n",
       "<p>446583 rows × 68 columns</p>\n",
       "</div>"
      ],
      "text/plain": [
       "        distance  cab_type  price  surge_multiplier  temp_source  \\\n",
       "0           3.44         1   17.0               1.0    39.394092   \n",
       "1           2.49         0   16.5               1.0    39.047285   \n",
       "2           1.11         1   26.0               1.0    39.090841   \n",
       "3           2.46         1   28.5               1.0    38.964379   \n",
       "4           0.54         1   10.5               1.0    39.394092   \n",
       "...          ...       ...    ...               ...          ...   \n",
       "446578      2.67         0   16.5               1.0    39.082122   \n",
       "446579      2.84         0   22.5               1.0    38.964379   \n",
       "446580      0.61         1    7.5               1.0    39.067897   \n",
       "446581      3.07         1   10.5               1.0    38.964379   \n",
       "446582      0.54         1   16.0               1.0    39.394092   \n",
       "\n",
       "        clouds_source  pressure_source  rain_source  humidity_source  \\\n",
       "0            0.677495      1008.438031     0.008310         0.755468   \n",
       "1            0.677801      1008.448356     0.008297         0.765048   \n",
       "2            0.676730      1008.441912     0.008644         0.764054   \n",
       "3            0.679866      1008.453289     0.007343         0.767266   \n",
       "4            0.677495      1008.438031     0.008310         0.755468   \n",
       "...               ...              ...          ...              ...   \n",
       "446578       0.678432      1008.447820     0.007925         0.764073   \n",
       "446579       0.679866      1008.453289     0.007343         0.767266   \n",
       "446580       0.676711      1008.445239     0.008660         0.764837   \n",
       "446581       0.679866      1008.453289     0.007343         0.767266   \n",
       "446582       0.677495      1008.438031     0.008310         0.755468   \n",
       "\n",
       "        wind_source  ...  nm_Lyft XL  nm_Shared  nm_UberPool  nm_UberX  \\\n",
       "0          6.848948  ...           0          0            0         0   \n",
       "1          6.810325  ...           0          0            0         0   \n",
       "2          6.853117  ...           0          0            0         0   \n",
       "3          6.711721  ...           0          0            0         0   \n",
       "4          6.848948  ...           0          0            0         0   \n",
       "...             ...  ...         ...        ...          ...       ...   \n",
       "446578     6.778528  ...           1          0            0         0   \n",
       "446579     6.711721  ...           0          0            0         0   \n",
       "446580     6.843193  ...           0          0            1         0   \n",
       "446581     6.711721  ...           0          0            0         1   \n",
       "446582     6.848948  ...           0          0            0         0   \n",
       "\n",
       "        nm_UberXL  nm_WAV               timestamp  hour        date        day  \n",
       "0               0       1 2018-11-26 15:05:10.344    15  2018-11-26     Monday  \n",
       "1               0       0 2018-11-30 22:18:08.459    22  2018-11-30     Friday  \n",
       "2               0       0 2018-11-28 13:17:08.318    13  2018-11-28  Wednesday  \n",
       "3               0       0 2018-12-15 12:10:08.678    12  2018-12-15   Saturday  \n",
       "4               0       1 2018-12-15 20:00:07.067    20  2018-12-15   Saturday  \n",
       "...           ...     ...                     ...   ...         ...        ...  \n",
       "446578          0       0 2018-11-29 03:05:08.150    03  2018-11-29   Thursday  \n",
       "446579          0       0 2018-12-15 22:15:12.411    22  2018-12-15   Saturday  \n",
       "446580          0       0 2018-12-14 07:45:09.534    07  2018-12-14     Friday  \n",
       "446581          0       0 2018-11-29 00:03:41.410    00  2018-11-29   Thursday  \n",
       "446582          0       0 2018-12-15 05:25:03.705    05  2018-12-15   Saturday  \n",
       "\n",
       "[446583 rows x 68 columns]"
      ]
     },
     "execution_count": 165,
     "metadata": {},
     "output_type": "execute_result"
    }
   ],
   "source": [
    "train"
   ]
  },
  {
   "cell_type": "code",
   "execution_count": 166,
   "id": "39b53610",
   "metadata": {},
   "outputs": [],
   "source": [
    "train['hour']=train['hour'].astype('int')"
   ]
  },
  {
   "cell_type": "code",
   "execution_count": 168,
   "id": "2b34347a",
   "metadata": {},
   "outputs": [
    {
     "data": {
      "text/plain": [
       "(14000.0, 22000.0)"
      ]
     },
     "execution_count": 168,
     "metadata": {},
     "output_type": "execute_result"
    },
    {
     "data": {
      "image/png": "[encoded data removed]",
      "text/plain": [
       "<Figure size 432x288 with 1 Axes>"
      ]
     },
     "metadata": {},
     "output_type": "display_data"
    }
   ],
   "source": [
    "a=sns.histplot(x='hour', data=train)\n",
    "a.set_ylim(14000,22000)"
   ]
  },
  {
   "cell_type": "code",
   "execution_count": 171,
   "id": "e0c33986",
   "metadata": {},
   "outputs": [],
   "source": [
    "def dummy(x):\n",
    "    if x['hour'] == 0 or x['hour']==23:\n",
    "        return 1\n",
    "    if x['hour']>=10 and x['hour']<=18:\n",
    "        return 1\n",
    "    else:\n",
    "        return 0"
   ]
  },
  {
   "cell_type": "code",
   "execution_count": 172,
   "id": "9de5d230",
   "metadata": {},
   "outputs": [],
   "source": [
    "train['rush_dummy'] = train.apply(lambda x: dummy(x), axis=1)"
   ]
  },
  {
   "cell_type": "code",
   "execution_count": 174,
   "id": "0889f441",
   "metadata": {},
   "outputs": [
    {
     "data": {
      "text/html": [
       "<div>\n",
       "<style scoped>\n",
       "    .dataframe tbody tr th:only-of-type {\n",
       "        vertical-align: middle;\n",
       "    }\n",
       "\n",
       "    .dataframe tbody tr th {\n",
       "        vertical-align: top;\n",
       "    }\n",
       "\n",
       "    .dataframe thead th {\n",
       "        text-align: right;\n",
       "    }\n",
       "</style>\n",
       "<table border=\"1\" class=\"dataframe\">\n",
       "  <thead>\n",
       "    <tr style=\"text-align: right;\">\n",
       "      <th></th>\n",
       "      <th>distance</th>\n",
       "      <th>cab_type</th>\n",
       "      <th>price</th>\n",
       "      <th>surge_multiplier</th>\n",
       "      <th>temp_source</th>\n",
       "      <th>clouds_source</th>\n",
       "      <th>pressure_source</th>\n",
       "      <th>rain_source</th>\n",
       "      <th>humidity_source</th>\n",
       "      <th>wind_source</th>\n",
       "      <th>...</th>\n",
       "      <th>nm_Shared</th>\n",
       "      <th>nm_UberPool</th>\n",
       "      <th>nm_UberX</th>\n",
       "      <th>nm_UberXL</th>\n",
       "      <th>nm_WAV</th>\n",
       "      <th>timestamp</th>\n",
       "      <th>hour</th>\n",
       "      <th>date</th>\n",
       "      <th>day</th>\n",
       "      <th>rush_dummy</th>\n",
       "    </tr>\n",
       "  </thead>\n",
       "  <tbody>\n",
       "    <tr>\n",
       "      <th>1</th>\n",
       "      <td>2.49</td>\n",
       "      <td>0</td>\n",
       "      <td>16.5</td>\n",
       "      <td>1.0</td>\n",
       "      <td>39.047285</td>\n",
       "      <td>0.677801</td>\n",
       "      <td>1008.448356</td>\n",
       "      <td>0.008297</td>\n",
       "      <td>0.765048</td>\n",
       "      <td>6.810325</td>\n",
       "      <td>...</td>\n",
       "      <td>0</td>\n",
       "      <td>0</td>\n",
       "      <td>0</td>\n",
       "      <td>0</td>\n",
       "      <td>0</td>\n",
       "      <td>2018-11-30 22:18:08.459</td>\n",
       "      <td>22</td>\n",
       "      <td>2018-11-30</td>\n",
       "      <td>Friday</td>\n",
       "      <td>0</td>\n",
       "    </tr>\n",
       "    <tr>\n",
       "      <th>4</th>\n",
       "      <td>0.54</td>\n",
       "      <td>1</td>\n",
       "      <td>10.5</td>\n",
       "      <td>1.0</td>\n",
       "      <td>39.394092</td>\n",
       "      <td>0.677495</td>\n",
       "      <td>1008.438031</td>\n",
       "      <td>0.008310</td>\n",
       "      <td>0.755468</td>\n",
       "      <td>6.848948</td>\n",
       "      <td>...</td>\n",
       "      <td>0</td>\n",
       "      <td>0</td>\n",
       "      <td>0</td>\n",
       "      <td>0</td>\n",
       "      <td>1</td>\n",
       "      <td>2018-12-15 20:00:07.067</td>\n",
       "      <td>20</td>\n",
       "      <td>2018-12-15</td>\n",
       "      <td>Saturday</td>\n",
       "      <td>0</td>\n",
       "    </tr>\n",
       "    <tr>\n",
       "      <th>5</th>\n",
       "      <td>3.39</td>\n",
       "      <td>1</td>\n",
       "      <td>11.0</td>\n",
       "      <td>1.0</td>\n",
       "      <td>39.047744</td>\n",
       "      <td>0.679235</td>\n",
       "      <td>1008.459254</td>\n",
       "      <td>0.007738</td>\n",
       "      <td>0.763786</td>\n",
       "      <td>6.692180</td>\n",
       "      <td>...</td>\n",
       "      <td>0</td>\n",
       "      <td>1</td>\n",
       "      <td>0</td>\n",
       "      <td>0</td>\n",
       "      <td>0</td>\n",
       "      <td>2018-12-13 20:35:10.309</td>\n",
       "      <td>20</td>\n",
       "      <td>2018-12-13</td>\n",
       "      <td>Thursday</td>\n",
       "      <td>0</td>\n",
       "    </tr>\n",
       "    <tr>\n",
       "      <th>6</th>\n",
       "      <td>3.08</td>\n",
       "      <td>1</td>\n",
       "      <td>11.0</td>\n",
       "      <td>1.0</td>\n",
       "      <td>38.983403</td>\n",
       "      <td>0.677247</td>\n",
       "      <td>1008.441090</td>\n",
       "      <td>0.008657</td>\n",
       "      <td>0.767266</td>\n",
       "      <td>6.816233</td>\n",
       "      <td>...</td>\n",
       "      <td>0</td>\n",
       "      <td>0</td>\n",
       "      <td>1</td>\n",
       "      <td>0</td>\n",
       "      <td>0</td>\n",
       "      <td>2018-12-16 06:30:05.674</td>\n",
       "      <td>6</td>\n",
       "      <td>2018-12-16</td>\n",
       "      <td>Sunday</td>\n",
       "      <td>0</td>\n",
       "    </tr>\n",
       "    <tr>\n",
       "      <th>7</th>\n",
       "      <td>0.73</td>\n",
       "      <td>1</td>\n",
       "      <td>15.0</td>\n",
       "      <td>1.0</td>\n",
       "      <td>38.983403</td>\n",
       "      <td>0.677247</td>\n",
       "      <td>1008.441090</td>\n",
       "      <td>0.008657</td>\n",
       "      <td>0.767266</td>\n",
       "      <td>6.816233</td>\n",
       "      <td>...</td>\n",
       "      <td>0</td>\n",
       "      <td>0</td>\n",
       "      <td>0</td>\n",
       "      <td>0</td>\n",
       "      <td>0</td>\n",
       "      <td>2018-12-01 22:38:02.251</td>\n",
       "      <td>22</td>\n",
       "      <td>2018-12-01</td>\n",
       "      <td>Saturday</td>\n",
       "      <td>0</td>\n",
       "    </tr>\n",
       "    <tr>\n",
       "      <th>...</th>\n",
       "      <td>...</td>\n",
       "      <td>...</td>\n",
       "      <td>...</td>\n",
       "      <td>...</td>\n",
       "      <td>...</td>\n",
       "      <td>...</td>\n",
       "      <td>...</td>\n",
       "      <td>...</td>\n",
       "      <td>...</td>\n",
       "      <td>...</td>\n",
       "      <td>...</td>\n",
       "      <td>...</td>\n",
       "      <td>...</td>\n",
       "      <td>...</td>\n",
       "      <td>...</td>\n",
       "      <td>...</td>\n",
       "      <td>...</td>\n",
       "      <td>...</td>\n",
       "      <td>...</td>\n",
       "      <td>...</td>\n",
       "      <td>...</td>\n",
       "    </tr>\n",
       "    <tr>\n",
       "      <th>446577</th>\n",
       "      <td>3.07</td>\n",
       "      <td>1</td>\n",
       "      <td>8.5</td>\n",
       "      <td>1.0</td>\n",
       "      <td>38.964379</td>\n",
       "      <td>0.679866</td>\n",
       "      <td>1008.453289</td>\n",
       "      <td>0.007343</td>\n",
       "      <td>0.767266</td>\n",
       "      <td>6.711721</td>\n",
       "      <td>...</td>\n",
       "      <td>0</td>\n",
       "      <td>1</td>\n",
       "      <td>0</td>\n",
       "      <td>0</td>\n",
       "      <td>0</td>\n",
       "      <td>2018-12-17 20:45:09.310</td>\n",
       "      <td>20</td>\n",
       "      <td>2018-12-17</td>\n",
       "      <td>Monday</td>\n",
       "      <td>0</td>\n",
       "    </tr>\n",
       "    <tr>\n",
       "      <th>446578</th>\n",
       "      <td>2.67</td>\n",
       "      <td>0</td>\n",
       "      <td>16.5</td>\n",
       "      <td>1.0</td>\n",
       "      <td>39.082122</td>\n",
       "      <td>0.678432</td>\n",
       "      <td>1008.447820</td>\n",
       "      <td>0.007925</td>\n",
       "      <td>0.764073</td>\n",
       "      <td>6.778528</td>\n",
       "      <td>...</td>\n",
       "      <td>0</td>\n",
       "      <td>0</td>\n",
       "      <td>0</td>\n",
       "      <td>0</td>\n",
       "      <td>0</td>\n",
       "      <td>2018-11-29 03:05:08.150</td>\n",
       "      <td>3</td>\n",
       "      <td>2018-11-29</td>\n",
       "      <td>Thursday</td>\n",
       "      <td>0</td>\n",
       "    </tr>\n",
       "    <tr>\n",
       "      <th>446579</th>\n",
       "      <td>2.84</td>\n",
       "      <td>0</td>\n",
       "      <td>22.5</td>\n",
       "      <td>1.0</td>\n",
       "      <td>38.964379</td>\n",
       "      <td>0.679866</td>\n",
       "      <td>1008.453289</td>\n",
       "      <td>0.007343</td>\n",
       "      <td>0.767266</td>\n",
       "      <td>6.711721</td>\n",
       "      <td>...</td>\n",
       "      <td>0</td>\n",
       "      <td>0</td>\n",
       "      <td>0</td>\n",
       "      <td>0</td>\n",
       "      <td>0</td>\n",
       "      <td>2018-12-15 22:15:12.411</td>\n",
       "      <td>22</td>\n",
       "      <td>2018-12-15</td>\n",
       "      <td>Saturday</td>\n",
       "      <td>0</td>\n",
       "    </tr>\n",
       "    <tr>\n",
       "      <th>446580</th>\n",
       "      <td>0.61</td>\n",
       "      <td>1</td>\n",
       "      <td>7.5</td>\n",
       "      <td>1.0</td>\n",
       "      <td>39.067897</td>\n",
       "      <td>0.676711</td>\n",
       "      <td>1008.445239</td>\n",
       "      <td>0.008660</td>\n",
       "      <td>0.764837</td>\n",
       "      <td>6.843193</td>\n",
       "      <td>...</td>\n",
       "      <td>0</td>\n",
       "      <td>1</td>\n",
       "      <td>0</td>\n",
       "      <td>0</td>\n",
       "      <td>0</td>\n",
       "      <td>2018-12-14 07:45:09.534</td>\n",
       "      <td>7</td>\n",
       "      <td>2018-12-14</td>\n",
       "      <td>Friday</td>\n",
       "      <td>0</td>\n",
       "    </tr>\n",
       "    <tr>\n",
       "      <th>446582</th>\n",
       "      <td>0.54</td>\n",
       "      <td>1</td>\n",
       "      <td>16.0</td>\n",
       "      <td>1.0</td>\n",
       "      <td>39.394092</td>\n",
       "      <td>0.677495</td>\n",
       "      <td>1008.438031</td>\n",
       "      <td>0.008310</td>\n",
       "      <td>0.755468</td>\n",
       "      <td>6.848948</td>\n",
       "      <td>...</td>\n",
       "      <td>0</td>\n",
       "      <td>0</td>\n",
       "      <td>0</td>\n",
       "      <td>0</td>\n",
       "      <td>0</td>\n",
       "      <td>2018-12-15 05:25:03.705</td>\n",
       "      <td>5</td>\n",
       "      <td>2018-12-15</td>\n",
       "      <td>Saturday</td>\n",
       "      <td>0</td>\n",
       "    </tr>\n",
       "  </tbody>\n",
       "</table>\n",
       "<p>228956 rows × 69 columns</p>\n",
       "</div>"
      ],
      "text/plain": [
       "        distance  cab_type  price  surge_multiplier  temp_source  \\\n",
       "1           2.49         0   16.5               1.0    39.047285   \n",
       "4           0.54         1   10.5               1.0    39.394092   \n",
       "5           3.39         1   11.0               1.0    39.047744   \n",
       "6           3.08         1   11.0               1.0    38.983403   \n",
       "7           0.73         1   15.0               1.0    38.983403   \n",
       "...          ...       ...    ...               ...          ...   \n",
       "446577      3.07         1    8.5               1.0    38.964379   \n",
       "446578      2.67         0   16.5               1.0    39.082122   \n",
       "446579      2.84         0   22.5               1.0    38.964379   \n",
       "446580      0.61         1    7.5               1.0    39.067897   \n",
       "446582      0.54         1   16.0               1.0    39.394092   \n",
       "\n",
       "        clouds_source  pressure_source  rain_source  humidity_source  \\\n",
       "1            0.677801      1008.448356     0.008297         0.765048   \n",
       "4            0.677495      1008.438031     0.008310         0.755468   \n",
       "5            0.679235      1008.459254     0.007738         0.763786   \n",
       "6            0.677247      1008.441090     0.008657         0.767266   \n",
       "7            0.677247      1008.441090     0.008657         0.767266   \n",
       "...               ...              ...          ...              ...   \n",
       "446577       0.679866      1008.453289     0.007343         0.767266   \n",
       "446578       0.678432      1008.447820     0.007925         0.764073   \n",
       "446579       0.679866      1008.453289     0.007343         0.767266   \n",
       "446580       0.676711      1008.445239     0.008660         0.764837   \n",
       "446582       0.677495      1008.438031     0.008310         0.755468   \n",
       "\n",
       "        wind_source  ...  nm_Shared  nm_UberPool  nm_UberX  nm_UberXL  nm_WAV  \\\n",
       "1          6.810325  ...          0            0         0          0       0   \n",
       "4          6.848948  ...          0            0         0          0       1   \n",
       "5          6.692180  ...          0            1         0          0       0   \n",
       "6          6.816233  ...          0            0         1          0       0   \n",
       "7          6.816233  ...          0            0         0          0       0   \n",
       "...             ...  ...        ...          ...       ...        ...     ...   \n",
       "446577     6.711721  ...          0            1         0          0       0   \n",
       "446578     6.778528  ...          0            0         0          0       0   \n",
       "446579     6.711721  ...          0            0         0          0       0   \n",
       "446580     6.843193  ...          0            1         0          0       0   \n",
       "446582     6.848948  ...          0            0         0          0       0   \n",
       "\n",
       "                     timestamp  hour        date       day  rush_dummy  \n",
       "1      2018-11-30 22:18:08.459    22  2018-11-30    Friday           0  \n",
       "4      2018-12-15 20:00:07.067    20  2018-12-15  Saturday           0  \n",
       "5      2018-12-13 20:35:10.309    20  2018-12-13  Thursday           0  \n",
       "6      2018-12-16 06:30:05.674     6  2018-12-16    Sunday           0  \n",
       "7      2018-12-01 22:38:02.251    22  2018-12-01  Saturday           0  \n",
       "...                        ...   ...         ...       ...         ...  \n",
       "446577 2018-12-17 20:45:09.310    20  2018-12-17    Monday           0  \n",
       "446578 2018-11-29 03:05:08.150     3  2018-11-29  Thursday           0  \n",
       "446579 2018-12-15 22:15:12.411    22  2018-12-15  Saturday           0  \n",
       "446580 2018-12-14 07:45:09.534     7  2018-12-14    Friday           0  \n",
       "446582 2018-12-15 05:25:03.705     5  2018-12-15  Saturday           0  \n",
       "\n",
       "[228956 rows x 69 columns]"
      ]
     },
     "execution_count": 174,
     "metadata": {},
     "output_type": "execute_result"
    }
   ],
   "source": [
    "train.loc[train['rush_dummy'] == 0]"
   ]
  },
  {
   "cell_type": "code",
   "execution_count": 177,
   "id": "f8cfc669",
   "metadata": {},
   "outputs": [
    {
     "data": {
      "text/plain": [
       "<AxesSubplot:xlabel='rush_dummy', ylabel='price'>"
      ]
     },
     "execution_count": 177,
     "metadata": {},
     "output_type": "execute_result"
    },
    {
     "data": {
      "image/png": "[encoded data removed]",
      "text/plain": [
       "<Figure size 432x288 with 1 Axes>"
      ]
     },
     "metadata": {},
     "output_type": "display_data"
    }
   ],
   "source": [
    "sns.boxplot(y='price', x='rush_dummy', data=train)"
   ]
  },
  {
   "cell_type": "code",
   "execution_count": 204,
   "id": "231b364b",
   "metadata": {},
   "outputs": [
    {
     "data": {
      "text/plain": [
       "<AxesSubplot:xlabel='day', ylabel='price'>"
      ]
     },
     "execution_count": 204,
     "metadata": {},
     "output_type": "execute_result"
    },
    {
     "data": {
      "image/png": "[encoded data removed]",
      "text/plain": [
       "<Figure size 432x288 with 1 Axes>"
      ]
     },
     "metadata": {},
     "output_type": "display_data"
    }
   ],
   "source": [
    "sns.boxplot(x='day',y='price', data=train )"
   ]
  },
  {
   "cell_type": "code",
   "execution_count": 212,
   "id": "19f95a97",
   "metadata": {},
   "outputs": [
    {
     "data": {
      "text/plain": [
       "(14000.0, 110000.0)"
      ]
     },
     "execution_count": 212,
     "metadata": {},
     "output_type": "execute_result"
    },
    {
     "data": {
      "image/png": "[encoded data removed]",
      "text/plain": [
       "<Figure size 432x288 with 1 Axes>"
      ]
     },
     "metadata": {},
     "output_type": "display_data"
    }
   ],
   "source": [
    "sns.set(font_scale=0.7)\n",
    "#order = ['Monday', 'Tuesday', 'Wednesday', 'Thursday', 'Friday', 'Saturday','Sunday']\n",
    "a=sns.histplot(x='day', data=train)\n",
    "a.set_ylim(14000,110000)"
   ]
  },
  {
   "cell_type": "code",
   "execution_count": 214,
   "id": "b99ae905",
   "metadata": {},
   "outputs": [
    {
     "data": {
      "text/plain": [
       "<AxesSubplot:xlabel='hour', ylabel='price'>"
      ]
     },
     "execution_count": 214,
     "metadata": {},
     "output_type": "execute_result"
    },
    {
     "data": {
      "image/png": "[encoded data removed]",
      "text/plain": [
       "<Figure size 432x288 with 1 Axes>"
      ]
     },
     "metadata": {},
     "output_type": "display_data"
    }
   ],
   "source": [
    "sns.lineplot(x='hour', y='price', hue='day', data=train)"
   ]
  },
  {
   "cell_type": "code",
   "execution_count": 217,
   "id": "b08312fe",
   "metadata": {},
   "outputs": [
    {
     "data": {
      "text/plain": [
       "<AxesSubplot:xlabel='distance', ylabel='price'>"
      ]
     },
     "execution_count": 217,
     "metadata": {},
     "output_type": "execute_result"
    },
    {
     "data": {
      "image/png": "[encoded data removed]",
      "text/plain": [
       "<Figure size 432x288 with 1 Axes>"
      ]
     },
     "metadata": {},
     "output_type": "display_data"
    }
   ],
   "source": [
    "sns.scatterplot(x='distance',y='price', data=train)"
   ]
  },
  {
   "cell_type": "code",
   "execution_count": 219,
   "id": "578852b4",
   "metadata": {},
   "outputs": [
    {
     "ename": "TypeError",
     "evalue": "'Series' object is not callable",
     "output_type": "error",
     "traceback": [
      "\u001b[0;31m---------------------------------------------------------------------------\u001b[0m",
      "\u001b[0;31mTypeError\u001b[0m                                 Traceback (most recent call last)",
      "Input \u001b[0;32mIn [219]\u001b[0m, in \u001b[0;36m<cell line: 1>\u001b[0;34m()\u001b[0m\n\u001b[0;32m----> 1\u001b[0m \u001b[43mtrain\u001b[49m\u001b[38;5;241;43m.\u001b[39;49m\u001b[43mdtypes\u001b[49m\u001b[43m(\u001b[49m\u001b[43m)\u001b[49m\n",
      "\u001b[0;31mTypeError\u001b[0m: 'Series' object is not callable"
     ]
    }
   ],
   "source": [
    "train.dtypes()"
   ]
  },
  {
   "cell_type": "code",
   "execution_count": null,
   "id": "f2c4f8e4",
   "metadata": {},
   "outputs": [],
   "source": []
  }
 ],
 "metadata": {
  "kernelspec": {
   "display_name": "Python 3 (ipykernel)",
   "language": "python",
   "name": "python3"
  },
  "language_info": {
   "codemirror_mode": {
    "name": "ipython",
    "version": 3
   },
   "file_extension": ".py",
   "mimetype": "text/x-python",
   "name": "python",
   "nbconvert_exporter": "python",
   "pygments_lexer": "ipython3",
   "version": "3.9.12"
  }
 },
 "nbformat": 4,
 "nbformat_minor": 5
}
