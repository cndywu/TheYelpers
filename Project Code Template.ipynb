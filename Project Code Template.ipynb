{
 "cells": [
  {
   "cell_type": "raw",
   "id": "33dd6c4c",
   "metadata": {},
   "source": [
    "---\n",
    "title: \"Project Code\"\n",
    "subtitle: The Yelpers\n",
    "author: Michael Kim, Cindy Wu, Keaton Olds, Sabrina Kozarovitsky\n",
    "date: 03/14/2023\n",
    "number-sections: true\n",
    "abstract: _This file contains the code for the project on <>, as part of the STAT303-2 course in Winter 2023_.\n",
    "format: \n",
    "  html:\n",
    "    toc: true\n",
    "    toc-title: Contents\n",
    "    self-contained: true\n",
    "    font-size: 100%\n",
    "    toc-depth: 4\n",
    "    mainfont: serif\n",
    "jupyter: python3\n",
    "---"
   ]
  },
  {
   "cell_type": "code",
   "execution_count": 251,
   "id": "22dde4b0",
   "metadata": {},
   "outputs": [],
   "source": [
    "import pandas as pd\n",
    "import numpy as np\n",
    "import statsmodels.formula.api as smf\n",
    "import seaborn as sns\n",
    "import matplotlib.pyplot as plt\n",
    "import math\n",
    "from datetime import datetime"
   ]
  },
  {
   "cell_type": "code",
   "execution_count": 252,
   "id": "988394ca",
   "metadata": {},
   "outputs": [],
   "source": [
    "train = pd.read_csv('train_final_best_2.csv')\n",
    "test = pd.read_csv('test_final_best_2.csv')"
   ]
  },
  {
   "cell_type": "markdown",
   "id": "fe7ea9bb",
   "metadata": {},
   "source": [
    "## Data quality check / cleaning / preparation \n",
    "\n",
    "Put code with comments. The comments should explain the code such that it can be easily understood. You may put text *(in a markdown cell)* before a large chunk of code to explain the overall purpose of the code, if it is not intuitive. **Put the name of the person / persons who contributed to each code chunk / set of code chunks.** An example is given below."
   ]
  },
  {
   "cell_type": "markdown",
   "id": "db149d8b",
   "metadata": {},
   "source": [
    "### Data quality check\n",
    "*By Elton John*"
   ]
  },
  {
   "cell_type": "markdown",
   "id": "fbc82e7f",
   "metadata": {},
   "source": [
    "The code below visualizes the distribution of all the variables in the dataset, and their association with the response."
   ]
  },
  {
   "cell_type": "code",
   "execution_count": 253,
   "id": "5955618d",
   "metadata": {},
   "outputs": [],
   "source": [
    "#...Distribution of continuous variables...#"
   ]
  },
  {
   "cell_type": "code",
   "execution_count": 254,
   "id": "8faafdbf",
   "metadata": {},
   "outputs": [],
   "source": [
    "#...Distribution of categorical variables...#"
   ]
  },
  {
   "cell_type": "code",
   "execution_count": 255,
   "id": "e389f4ef",
   "metadata": {},
   "outputs": [],
   "source": [
    "#...Association of the response with the predictors...#"
   ]
  },
  {
   "cell_type": "markdown",
   "id": "d1561829",
   "metadata": {},
   "source": [
    "### Data cleaning\n",
    "*By Xena Valenzuela*\n",
    "\n",
    "From the data quality check we realized that:\n",
    "\n",
    "1. Some of the columns that should have contained only numeric values, specifically <>, <>, and <> have special characters such as \\*, #, %. We'll remove these characters, and convert the datatype of these columns to numeric.\n",
    "\n",
    "2. Some of the columns have more than 60% missing values, and it is very difficult to impute their values, as the values seem to be missing at random with negligible association with other predictors. We'll remove such columns from the data.\n",
    "\n",
    "3. The column `number_of_bedrooms` has some unreasonably high values such as 15. As our data consist of single-family homes in Evanston, we suspect that any value greater than 5 may be incorrect. We'll replace all values that are greater than 5 with an estimate obtained using the $K$-nearest neighbor approach.\n",
    "\n",
    "4. The columns `house_price` has some unreasonably high values. We'll tag all values greater than 1 billion dollars as \"potentially incorrect observation\", to see if they distort our prediction / inference later on.\n",
    "\n",
    "The code below implements the above cleaning."
   ]
  },
  {
   "cell_type": "code",
   "execution_count": 256,
   "id": "46f73626",
   "metadata": {},
   "outputs": [],
   "source": [
    "#...Code with comments...#"
   ]
  },
  {
   "cell_type": "markdown",
   "id": "9b91a14e",
   "metadata": {},
   "source": [
    "### Data preparation\n",
    "*By Sabrina Kozarovitsky*\n",
    "\n",
    "The following data preparation steps helped us to prepare our data for implementing various modeling / validation techniques:\n",
    "\n",
    "1. Based on personal experience, I believe that certain hours and days may have more demand than others which may lead to higher prices. The data currently in date_hour is in a string format. In order to better use the day and time of the ride as a predictor in our model, it is important to convert date_hour into a datetime format. Additionaly, to see if hour and day may affect demand and in turn price, we can extract hour and day into separate columns to use as separate predictors. This code preparation will be useful in EDA."
   ]
  },
  {
   "cell_type": "code",
   "execution_count": 257,
   "id": "77b2b85a",
   "metadata": {},
   "outputs": [
    {
     "data": {
      "text/plain": [
       "str"
      ]
     },
     "execution_count": 257,
     "metadata": {},
     "output_type": "execute_result"
    }
   ],
   "source": [
    "type(train['date_hour'][0])"
   ]
  },
  {
   "cell_type": "code",
   "execution_count": 258,
   "id": "2cecc4d7",
   "metadata": {},
   "outputs": [],
   "source": [
    "train['timestamp'] = train.date_hour.apply(lambda x: (datetime.strptime(x,'%Y-%m-%d:%H.%M.%S')))\n",
    "test['timestamp'] = test.date_hour.apply(lambda x: (datetime.strptime(x,'%Y-%m-%d:%H.%M.%S')))\n",
    "\n",
    "#Find hour of each trip\n",
    "train['hour'] = train['timestamp'].dt.strftime('%H')\n",
    "test['hour'] = test['timestamp'].dt.strftime('%H')\n",
    "\n",
    "#Find date of each trip\n",
    "train['date'] = train['timestamp'].dt.strftime('%Y-%m-%d') \n",
    "test['date'] = test['timestamp'].dt.strftime('%Y-%m-%d') \n",
    "\n",
    "#Find day name of each trip\n",
    "train['day'] = train['timestamp'].dt.day_name()\n",
    "test['day'] = test['timestamp'].dt.day_name()\n",
    "\n",
    "# drop redundant fields \n",
    "train = train.drop('timestamp', axis=1)\n",
    "test = test.drop('timestamp', axis=1)"
   ]
  },
  {
   "cell_type": "code",
   "execution_count": 259,
   "id": "faf5af7a",
   "metadata": {},
   "outputs": [],
   "source": [
    "#converting hour to int to ensure that EDA graphs are in order of time\n",
    "train['hour']=train['hour'].astype('int')"
   ]
  },
  {
   "cell_type": "markdown",
   "id": "fbb11c9b",
   "metadata": {},
   "source": [
    "## Exploratory data analysis"
   ]
  },
  {
   "cell_type": "markdown",
   "id": "e4bd74a9",
   "metadata": {},
   "source": [
    "Put code with comments. The comments should explain the code such that it can be easily understood. You may put text *(in a markdown cell)* before a large chunk of code to explain the overall purpose of the code, if it is not intuitive. **Put the name of the person / persons who contributed to each code chunk / set of code chunks.**"
   ]
  },
  {
   "cell_type": "markdown",
   "id": "c5ac8dea",
   "metadata": {},
   "source": [
    "### Cindy: General EDA"
   ]
  },
  {
   "cell_type": "code",
   "execution_count": 260,
   "id": "32e53454",
   "metadata": {},
   "outputs": [
    {
     "data": {
      "text/plain": [
       "Text(23.958505555555554, 0.5, 'Price')"
      ]
     },
     "execution_count": 260,
     "metadata": {},
     "output_type": "execute_result"
    },
    {
     "data": {
      "image/png": "[encoded data removed]",
      "text/plain": [
       "<Figure size 372.67x360 with 1 Axes>"
      ]
     },
     "metadata": {},
     "output_type": "display_data"
    }
   ],
   "source": [
    "# seeing whether lyft vs uber is a good predictor of price\n",
    "sns.lmplot(data = train, x = 'distance', y = 'price', hue = 'cab_type', scatter_kws={'alpha':0.7})\n",
    "plt.title('Price vs Distance, by Rideshare Company')\n",
    "plt.xlabel('Distance')\n",
    "plt.ylabel('Price')\n"
   ]
  },
  {
   "cell_type": "code",
   "execution_count": 261,
   "id": "0669f01e",
   "metadata": {},
   "outputs": [
    {
     "data": {
      "text/plain": [
       "Text(0, 0.5, 'Price')"
      ]
     },
     "execution_count": 261,
     "metadata": {},
     "output_type": "execute_result"
    },
    {
     "data": {
      "image/png": "[encoded data removed]",
      "text/plain": [
       "<Figure size 432x288 with 1 Axes>"
      ]
     },
     "metadata": {},
     "output_type": "display_data"
    }
   ],
   "source": [
    "# investigating surge multiplier, although it was left out of further analysis since we don't know the surge multiplier value when predicting prices in real life\n",
    "a = sns.scatterplot(data = train, x = 'distance', y = 'price', hue = 'surge_multiplier')\n",
    "plt.title('Price vs Distance, by Surge Multiplier')\n",
    "plt.xlabel('Distance')\n",
    "plt.ylabel('Price')"
   ]
  },
  {
   "cell_type": "markdown",
   "id": "e74a5886",
   "metadata": {},
   "source": [
    "### Cindy: Weather EDA"
   ]
  },
  {
   "cell_type": "code",
   "execution_count": 262,
   "id": "0c84813f",
   "metadata": {},
   "outputs": [
    {
     "data": {
      "text/plain": [
       "<AxesSubplot:xlabel='wind_d_strength', ylabel='price'>"
      ]
     },
     "execution_count": 262,
     "metadata": {},
     "output_type": "execute_result"
    },
    {
     "data": {
      "image/png": "[encoded data removed]",
      "text/plain": [
       "<Figure size 1152x504 with 2 Axes>"
      ]
     },
     "metadata": {},
     "output_type": "display_data"
    }
   ],
   "source": [
    "# wind \n",
    "\n",
    "# getting 25, 50, and 75th quartile amounts for wind\n",
    "wd25, wd50, wd75 = train['wind'].quantile([0.25, 0.5, 0.75])\n",
    "# creating separate column with values indicating how severe the wind was based on its relationship to the quartiles\n",
    "train.loc[train['wind'] < wd25, 'wind_d_strength'] = 1\n",
    "train.loc[((train['wind'] < wd50) & (train['wind'] >= wd25)), 'wind_d_strength'] = 2\n",
    "train.loc[((train['wind'] < wd75) & (train['wind'] >= wd50)), 'wind_d_strength'] = 3\n",
    "train.loc[train['wind'] >= wd75, 'wind_d_strength'] = 4\n",
    "# graphing how wind strength relates to price of ride, broken down by uber/lyft \n",
    "fig, ax =plt.subplots(1,2, figsize=(16, 7))\n",
    "sns.boxplot(ax=ax[0], data = train, x = 'wind_d_strength', y = 'price')\n",
    "sns.boxplot(ax=ax[1], data = train, x = 'wind_d_strength', y = 'price', hue = 'cab_type')"
   ]
  },
  {
   "cell_type": "code",
   "execution_count": 263,
   "id": "d56406df",
   "metadata": {},
   "outputs": [
    {
     "data": {
      "text/plain": [
       "<AxesSubplot:xlabel='pressure_d_strength', ylabel='price'>"
      ]
     },
     "execution_count": 263,
     "metadata": {},
     "output_type": "execute_result"
    },
    {
     "data": {
      "image/png": "[encoded data removed]",
      "text/plain": [
       "<Figure size 1152x504 with 2 Axes>"
      ]
     },
     "metadata": {},
     "output_type": "display_data"
    }
   ],
   "source": [
    "# pressure \n",
    "\n",
    "# getting 25, 50, and 75th quartile amounts for pressure\n",
    "pd25, pd50, pd75 = train['pressure'].quantile([0.25, 0.5, 0.75])\n",
    "# creating separate column with values indicating how severe the pressure was based on its relationship to the quartiles\n",
    "train.loc[train['pressure'] < pd25, 'pressure_d_strength'] = 1\n",
    "train.loc[((train['pressure'] < pd50) & (train['pressure'] >= pd25)), 'pressure_d_strength'] = 2\n",
    "train.loc[((train['pressure'] < pd75) & (train['pressure'] >= pd50)), 'pressure_d_strength'] = 3\n",
    "train.loc[train['pressure'] >= pd75, 'pressure_d_strength'] = 4\n",
    "# graphing how pressure strength relates to price of ride, broken down by uber/lyft \n",
    "fig, ax =plt.subplots(1,2, figsize=(16, 7))\n",
    "sns.boxplot(ax = ax[0], data = train, x = 'pressure_d_strength', y = 'price')\n",
    "sns.boxplot(ax = ax[1], data = train, x = 'pressure_d_strength', y = 'price', hue = 'cab_type')\n"
   ]
  },
  {
   "cell_type": "code",
   "execution_count": 264,
   "id": "4529d9e8",
   "metadata": {},
   "outputs": [
    {
     "data": {
      "text/plain": [
       "<AxesSubplot:xlabel='humidity_d_strength', ylabel='price'>"
      ]
     },
     "execution_count": 264,
     "metadata": {},
     "output_type": "execute_result"
    },
    {
     "data": {
      "image/png": "[encoded data removed]",
      "text/plain": [
       "<Figure size 1152x504 with 2 Axes>"
      ]
     },
     "metadata": {},
     "output_type": "display_data"
    }
   ],
   "source": [
    "# humidity \n",
    "\n",
    "# getting 25, 50, and 75th quartile amounts for pressure\n",
    "hd25, hd50, hd75 = train['humidity'].quantile([0.25, 0.5, 0.75])\n",
    "#  # creating separate column with values indicating how severe the humidity was based on its relationship to the quartiles\n",
    "train.loc[train['humidity'] < hd25, 'humidity_d_strength'] = 1\n",
    "train.loc[((train['humidity'] < hd50) & (train['humidity'] >= hd25)), 'humidity_d_strength'] = 2\n",
    "train.loc[((train['humidity'] < hd75) & (train['humidity'] >= hd50)), 'humidity_d_strength'] = 3\n",
    "train.loc[train['humidity'] >= hd75, 'humidity_d_strength'] = 4\n",
    "# graphing how humidity strength relates to price of ride, broken down by uber/lyft \n",
    "fig, ax =plt.subplots(1,2, figsize=(16, 7))\n",
    "sns.boxplot(ax = ax[0], data = train, x = 'humidity_d_strength', y = 'price', hue = 'cab_type')\n",
    "sns.boxplot(ax = ax[1], data = train, x = 'humidity_d_strength', y = 'price', hue = 'cab_type')\n"
   ]
  },
  {
   "cell_type": "code",
   "execution_count": 265,
   "id": "665c2208",
   "metadata": {},
   "outputs": [
    {
     "data": {
      "text/plain": [
       "<AxesSubplot:xlabel='humidity_strength_3', ylabel='price'>"
      ]
     },
     "execution_count": 265,
     "metadata": {},
     "output_type": "execute_result"
    },
    {
     "data": {
      "image/png": "[encoded data removed]",
      "text/plain": [
       "<Figure size 1152x504 with 2 Axes>"
      ]
     },
     "metadata": {},
     "output_type": "display_data"
    }
   ],
   "source": [
    "# trying to bin humidity into 3 instead of 4 to see if there's a stronger relationship...\n",
    "train.loc[train['humidity'] < hd25, 'humidity_strength_3'] = 1\n",
    "train.loc[((train['humidity'] < hd75) & (train['humidity'] >= hd25)), 'humidity_strength_3'] = 2\n",
    "train.loc[train['humidity'] >= hd75, 'humidity_strength_3'] = 3\n",
    "#plotting it again\n",
    "fig, ax =plt.subplots(1,2, figsize=(16, 7))\n",
    "sns.boxplot(ax = ax[0], data = train, x = 'humidity_strength_3', y = 'price')\n",
    "sns.boxplot(ax = ax[1], data = train, x = 'humidity_strength_3', y = 'price', hue = 'cab_type')\n",
    "# there was no real difference "
   ]
  },
  {
   "cell_type": "code",
   "execution_count": 266,
   "id": "2117af7e",
   "metadata": {},
   "outputs": [
    {
     "data": {
      "text/plain": [
       "[Text(8.200000000000003, 0.5, 'Price')]"
      ]
     },
     "execution_count": 266,
     "metadata": {},
     "output_type": "execute_result"
    },
    {
     "data": {
      "image/png": "[encoded data removed]",
      "text/plain": [
       "<Figure size 1152x504 with 2 Axes>"
      ]
     },
     "metadata": {},
     "output_type": "display_data"
    }
   ],
   "source": [
    "# instead of using humidity, pressure, and wind on its own, create another indicator value for \"bad\" and \"good\" weather\n",
    "# defined bad weather as rides where wind and pressure strength were in the top 25th percentile \n",
    "train.loc[(train['wind_d_strength'] == 4) & (train['pressure_d_strength'] == 4), 'bad_weather'] = 1\n",
    "train.fillna(0, inplace = True)\n",
    "\n",
    "fig, ax =plt.subplots(1,2, figsize=(16, 7))\n",
    "sns.boxplot(ax = ax[0], data = train, x = 'bad_weather', y = 'price')\n",
    "sns.boxplot(ax = ax[1], data = train, x = 'bad_weather', y = 'price', hue = 'cab_type')\n",
    "#graph price based on whether it was good or bad weather\n",
    "\n",
    "a.set(title = 'Prices during Good and Bad Weather')\n",
    "a.set(xlabel = 'Weather')\n",
    "a.set(ylabel = 'Price')"
   ]
  },
  {
   "cell_type": "code",
   "execution_count": 71,
   "id": "00d1c443",
   "metadata": {},
   "outputs": [
    {
     "ename": "ValueError",
     "evalue": "Could not interpret value `bad_weather` for parameter `hue`",
     "output_type": "error",
     "traceback": [
      "\u001b[0;31m---------------------------------------------------------------------------\u001b[0m",
      "\u001b[0;31mValueError\u001b[0m                                Traceback (most recent call last)",
      "Input \u001b[0;32mIn [71]\u001b[0m, in \u001b[0;36m<cell line: 2>\u001b[0;34m()\u001b[0m\n\u001b[1;32m      1\u001b[0m \u001b[38;5;66;03m# investigate how bad/good weather related with distance\u001b[39;00m\n\u001b[0;32m----> 2\u001b[0m \u001b[43msns\u001b[49m\u001b[38;5;241;43m.\u001b[39;49m\u001b[43mscatterplot\u001b[49m\u001b[43m(\u001b[49m\u001b[43mdata\u001b[49m\u001b[43m \u001b[49m\u001b[38;5;241;43m=\u001b[39;49m\u001b[43m \u001b[49m\u001b[43mtrain\u001b[49m\u001b[43m,\u001b[49m\u001b[43m \u001b[49m\u001b[43mx\u001b[49m\u001b[43m \u001b[49m\u001b[38;5;241;43m=\u001b[39;49m\u001b[43m \u001b[49m\u001b[38;5;124;43m'\u001b[39;49m\u001b[38;5;124;43mdistance\u001b[39;49m\u001b[38;5;124;43m'\u001b[39;49m\u001b[43m,\u001b[49m\u001b[43m \u001b[49m\u001b[43my\u001b[49m\u001b[43m \u001b[49m\u001b[38;5;241;43m=\u001b[39;49m\u001b[43m \u001b[49m\u001b[38;5;124;43m'\u001b[39;49m\u001b[38;5;124;43mprice\u001b[39;49m\u001b[38;5;124;43m'\u001b[39;49m\u001b[43m,\u001b[49m\u001b[43m \u001b[49m\u001b[43mhue\u001b[49m\u001b[43m \u001b[49m\u001b[38;5;241;43m=\u001b[39;49m\u001b[43m \u001b[49m\u001b[38;5;124;43m'\u001b[39;49m\u001b[38;5;124;43mbad_weather\u001b[39;49m\u001b[38;5;124;43m'\u001b[39;49m\u001b[43m)\u001b[49m\n\u001b[1;32m      3\u001b[0m plt\u001b[38;5;241m.\u001b[39mtitle(\u001b[38;5;124m'\u001b[39m\u001b[38;5;124mPrice vs Distance\u001b[39m\u001b[38;5;124m'\u001b[39m)\n\u001b[1;32m      4\u001b[0m plt\u001b[38;5;241m.\u001b[39mxlabel(\u001b[38;5;124m'\u001b[39m\u001b[38;5;124mDistance\u001b[39m\u001b[38;5;124m'\u001b[39m)\n",
      "File \u001b[0;32m~/opt/anaconda3/lib/python3.9/site-packages/seaborn/_decorators.py:46\u001b[0m, in \u001b[0;36m_deprecate_positional_args.<locals>.inner_f\u001b[0;34m(*args, **kwargs)\u001b[0m\n\u001b[1;32m     36\u001b[0m     warnings\u001b[38;5;241m.\u001b[39mwarn(\n\u001b[1;32m     37\u001b[0m         \u001b[38;5;124m\"\u001b[39m\u001b[38;5;124mPass the following variable\u001b[39m\u001b[38;5;132;01m{}\u001b[39;00m\u001b[38;5;124m as \u001b[39m\u001b[38;5;132;01m{}\u001b[39;00m\u001b[38;5;124mkeyword arg\u001b[39m\u001b[38;5;132;01m{}\u001b[39;00m\u001b[38;5;124m: \u001b[39m\u001b[38;5;132;01m{}\u001b[39;00m\u001b[38;5;124m. \u001b[39m\u001b[38;5;124m\"\u001b[39m\n\u001b[1;32m     38\u001b[0m         \u001b[38;5;124m\"\u001b[39m\u001b[38;5;124mFrom version 0.12, the only valid positional argument \u001b[39m\u001b[38;5;124m\"\u001b[39m\n\u001b[0;32m   (...)\u001b[0m\n\u001b[1;32m     43\u001b[0m         \u001b[38;5;167;01mFutureWarning\u001b[39;00m\n\u001b[1;32m     44\u001b[0m     )\n\u001b[1;32m     45\u001b[0m kwargs\u001b[38;5;241m.\u001b[39mupdate({k: arg \u001b[38;5;28;01mfor\u001b[39;00m k, arg \u001b[38;5;129;01min\u001b[39;00m \u001b[38;5;28mzip\u001b[39m(sig\u001b[38;5;241m.\u001b[39mparameters, args)})\n\u001b[0;32m---> 46\u001b[0m \u001b[38;5;28;01mreturn\u001b[39;00m \u001b[43mf\u001b[49m\u001b[43m(\u001b[49m\u001b[38;5;241;43m*\u001b[39;49m\u001b[38;5;241;43m*\u001b[39;49m\u001b[43mkwargs\u001b[49m\u001b[43m)\u001b[49m\n",
      "File \u001b[0;32m~/opt/anaconda3/lib/python3.9/site-packages/seaborn/relational.py:808\u001b[0m, in \u001b[0;36mscatterplot\u001b[0;34m(x, y, hue, style, size, data, palette, hue_order, hue_norm, sizes, size_order, size_norm, markers, style_order, x_bins, y_bins, units, estimator, ci, n_boot, alpha, x_jitter, y_jitter, legend, ax, **kwargs)\u001b[0m\n\u001b[1;32m    793\u001b[0m \u001b[38;5;129m@_deprecate_positional_args\u001b[39m\n\u001b[1;32m    794\u001b[0m \u001b[38;5;28;01mdef\u001b[39;00m \u001b[38;5;21mscatterplot\u001b[39m(\n\u001b[1;32m    795\u001b[0m     \u001b[38;5;241m*\u001b[39m,\n\u001b[0;32m   (...)\u001b[0m\n\u001b[1;32m    804\u001b[0m     legend\u001b[38;5;241m=\u001b[39m\u001b[38;5;124m\"\u001b[39m\u001b[38;5;124mauto\u001b[39m\u001b[38;5;124m\"\u001b[39m, ax\u001b[38;5;241m=\u001b[39m\u001b[38;5;28;01mNone\u001b[39;00m, \u001b[38;5;241m*\u001b[39m\u001b[38;5;241m*\u001b[39mkwargs\n\u001b[1;32m    805\u001b[0m ):\n\u001b[1;32m    807\u001b[0m     variables \u001b[38;5;241m=\u001b[39m _ScatterPlotter\u001b[38;5;241m.\u001b[39mget_semantics(\u001b[38;5;28mlocals\u001b[39m())\n\u001b[0;32m--> 808\u001b[0m     p \u001b[38;5;241m=\u001b[39m \u001b[43m_ScatterPlotter\u001b[49m\u001b[43m(\u001b[49m\n\u001b[1;32m    809\u001b[0m \u001b[43m        \u001b[49m\u001b[43mdata\u001b[49m\u001b[38;5;241;43m=\u001b[39;49m\u001b[43mdata\u001b[49m\u001b[43m,\u001b[49m\u001b[43m \u001b[49m\u001b[43mvariables\u001b[49m\u001b[38;5;241;43m=\u001b[39;49m\u001b[43mvariables\u001b[49m\u001b[43m,\u001b[49m\n\u001b[1;32m    810\u001b[0m \u001b[43m        \u001b[49m\u001b[43mx_bins\u001b[49m\u001b[38;5;241;43m=\u001b[39;49m\u001b[43mx_bins\u001b[49m\u001b[43m,\u001b[49m\u001b[43m \u001b[49m\u001b[43my_bins\u001b[49m\u001b[38;5;241;43m=\u001b[39;49m\u001b[43my_bins\u001b[49m\u001b[43m,\u001b[49m\n\u001b[1;32m    811\u001b[0m \u001b[43m        \u001b[49m\u001b[43mestimator\u001b[49m\u001b[38;5;241;43m=\u001b[39;49m\u001b[43mestimator\u001b[49m\u001b[43m,\u001b[49m\u001b[43m \u001b[49m\u001b[43mci\u001b[49m\u001b[38;5;241;43m=\u001b[39;49m\u001b[43mci\u001b[49m\u001b[43m,\u001b[49m\u001b[43m \u001b[49m\u001b[43mn_boot\u001b[49m\u001b[38;5;241;43m=\u001b[39;49m\u001b[43mn_boot\u001b[49m\u001b[43m,\u001b[49m\n\u001b[1;32m    812\u001b[0m \u001b[43m        \u001b[49m\u001b[43malpha\u001b[49m\u001b[38;5;241;43m=\u001b[39;49m\u001b[43malpha\u001b[49m\u001b[43m,\u001b[49m\u001b[43m \u001b[49m\u001b[43mx_jitter\u001b[49m\u001b[38;5;241;43m=\u001b[39;49m\u001b[43mx_jitter\u001b[49m\u001b[43m,\u001b[49m\u001b[43m \u001b[49m\u001b[43my_jitter\u001b[49m\u001b[38;5;241;43m=\u001b[39;49m\u001b[43my_jitter\u001b[49m\u001b[43m,\u001b[49m\u001b[43m \u001b[49m\u001b[43mlegend\u001b[49m\u001b[38;5;241;43m=\u001b[39;49m\u001b[43mlegend\u001b[49m\u001b[43m,\u001b[49m\n\u001b[1;32m    813\u001b[0m \u001b[43m    \u001b[49m\u001b[43m)\u001b[49m\n\u001b[1;32m    815\u001b[0m     p\u001b[38;5;241m.\u001b[39mmap_hue(palette\u001b[38;5;241m=\u001b[39mpalette, order\u001b[38;5;241m=\u001b[39mhue_order, norm\u001b[38;5;241m=\u001b[39mhue_norm)\n\u001b[1;32m    816\u001b[0m     p\u001b[38;5;241m.\u001b[39mmap_size(sizes\u001b[38;5;241m=\u001b[39msizes, order\u001b[38;5;241m=\u001b[39msize_order, norm\u001b[38;5;241m=\u001b[39msize_norm)\n",
      "File \u001b[0;32m~/opt/anaconda3/lib/python3.9/site-packages/seaborn/relational.py:587\u001b[0m, in \u001b[0;36m_ScatterPlotter.__init__\u001b[0;34m(self, data, variables, x_bins, y_bins, estimator, ci, n_boot, alpha, x_jitter, y_jitter, legend)\u001b[0m\n\u001b[1;32m    571\u001b[0m \u001b[38;5;28;01mdef\u001b[39;00m \u001b[38;5;21m__init__\u001b[39m(\n\u001b[1;32m    572\u001b[0m     \u001b[38;5;28mself\u001b[39m, \u001b[38;5;241m*\u001b[39m,\n\u001b[1;32m    573\u001b[0m     data\u001b[38;5;241m=\u001b[39m\u001b[38;5;28;01mNone\u001b[39;00m, variables\u001b[38;5;241m=\u001b[39m{},\n\u001b[0;32m   (...)\u001b[0m\n\u001b[1;32m    581\u001b[0m     \u001b[38;5;66;03m# the kind of plot to draw, but for the time being we need to set\u001b[39;00m\n\u001b[1;32m    582\u001b[0m     \u001b[38;5;66;03m# this information so the SizeMapping can use it\u001b[39;00m\n\u001b[1;32m    583\u001b[0m     \u001b[38;5;28mself\u001b[39m\u001b[38;5;241m.\u001b[39m_default_size_range \u001b[38;5;241m=\u001b[39m (\n\u001b[1;32m    584\u001b[0m         np\u001b[38;5;241m.\u001b[39mr_[\u001b[38;5;241m.5\u001b[39m, \u001b[38;5;241m2\u001b[39m] \u001b[38;5;241m*\u001b[39m np\u001b[38;5;241m.\u001b[39msquare(mpl\u001b[38;5;241m.\u001b[39mrcParams[\u001b[38;5;124m\"\u001b[39m\u001b[38;5;124mlines.markersize\u001b[39m\u001b[38;5;124m\"\u001b[39m])\n\u001b[1;32m    585\u001b[0m     )\n\u001b[0;32m--> 587\u001b[0m     \u001b[38;5;28;43msuper\u001b[39;49m\u001b[43m(\u001b[49m\u001b[43m)\u001b[49m\u001b[38;5;241;43m.\u001b[39;49m\u001b[38;5;21;43m__init__\u001b[39;49m\u001b[43m(\u001b[49m\u001b[43mdata\u001b[49m\u001b[38;5;241;43m=\u001b[39;49m\u001b[43mdata\u001b[49m\u001b[43m,\u001b[49m\u001b[43m \u001b[49m\u001b[43mvariables\u001b[49m\u001b[38;5;241;43m=\u001b[39;49m\u001b[43mvariables\u001b[49m\u001b[43m)\u001b[49m\n\u001b[1;32m    589\u001b[0m     \u001b[38;5;28mself\u001b[39m\u001b[38;5;241m.\u001b[39malpha \u001b[38;5;241m=\u001b[39m alpha\n\u001b[1;32m    590\u001b[0m     \u001b[38;5;28mself\u001b[39m\u001b[38;5;241m.\u001b[39mlegend \u001b[38;5;241m=\u001b[39m legend\n",
      "File \u001b[0;32m~/opt/anaconda3/lib/python3.9/site-packages/seaborn/_core.py:605\u001b[0m, in \u001b[0;36mVectorPlotter.__init__\u001b[0;34m(self, data, variables)\u001b[0m\n\u001b[1;32m    603\u001b[0m \u001b[38;5;28;01mdef\u001b[39;00m \u001b[38;5;21m__init__\u001b[39m(\u001b[38;5;28mself\u001b[39m, data\u001b[38;5;241m=\u001b[39m\u001b[38;5;28;01mNone\u001b[39;00m, variables\u001b[38;5;241m=\u001b[39m{}):\n\u001b[0;32m--> 605\u001b[0m     \u001b[38;5;28;43mself\u001b[39;49m\u001b[38;5;241;43m.\u001b[39;49m\u001b[43massign_variables\u001b[49m\u001b[43m(\u001b[49m\u001b[43mdata\u001b[49m\u001b[43m,\u001b[49m\u001b[43m \u001b[49m\u001b[43mvariables\u001b[49m\u001b[43m)\u001b[49m\n\u001b[1;32m    607\u001b[0m     \u001b[38;5;28;01mfor\u001b[39;00m var, \u001b[38;5;28mcls\u001b[39m \u001b[38;5;129;01min\u001b[39;00m \u001b[38;5;28mself\u001b[39m\u001b[38;5;241m.\u001b[39m_semantic_mappings\u001b[38;5;241m.\u001b[39mitems():\n\u001b[1;32m    608\u001b[0m \n\u001b[1;32m    609\u001b[0m         \u001b[38;5;66;03m# Create the mapping function\u001b[39;00m\n\u001b[1;32m    610\u001b[0m         map_func \u001b[38;5;241m=\u001b[39m partial(\u001b[38;5;28mcls\u001b[39m\u001b[38;5;241m.\u001b[39mmap, plotter\u001b[38;5;241m=\u001b[39m\u001b[38;5;28mself\u001b[39m)\n",
      "File \u001b[0;32m~/opt/anaconda3/lib/python3.9/site-packages/seaborn/_core.py:668\u001b[0m, in \u001b[0;36mVectorPlotter.assign_variables\u001b[0;34m(self, data, variables)\u001b[0m\n\u001b[1;32m    666\u001b[0m \u001b[38;5;28;01melse\u001b[39;00m:\n\u001b[1;32m    667\u001b[0m     \u001b[38;5;28mself\u001b[39m\u001b[38;5;241m.\u001b[39minput_format \u001b[38;5;241m=\u001b[39m \u001b[38;5;124m\"\u001b[39m\u001b[38;5;124mlong\u001b[39m\u001b[38;5;124m\"\u001b[39m\n\u001b[0;32m--> 668\u001b[0m     plot_data, variables \u001b[38;5;241m=\u001b[39m \u001b[38;5;28;43mself\u001b[39;49m\u001b[38;5;241;43m.\u001b[39;49m\u001b[43m_assign_variables_longform\u001b[49m\u001b[43m(\u001b[49m\n\u001b[1;32m    669\u001b[0m \u001b[43m        \u001b[49m\u001b[43mdata\u001b[49m\u001b[43m,\u001b[49m\u001b[43m \u001b[49m\u001b[38;5;241;43m*\u001b[39;49m\u001b[38;5;241;43m*\u001b[39;49m\u001b[43mvariables\u001b[49m\u001b[43m,\u001b[49m\n\u001b[1;32m    670\u001b[0m \u001b[43m    \u001b[49m\u001b[43m)\u001b[49m\n\u001b[1;32m    672\u001b[0m \u001b[38;5;28mself\u001b[39m\u001b[38;5;241m.\u001b[39mplot_data \u001b[38;5;241m=\u001b[39m plot_data\n\u001b[1;32m    673\u001b[0m \u001b[38;5;28mself\u001b[39m\u001b[38;5;241m.\u001b[39mvariables \u001b[38;5;241m=\u001b[39m variables\n",
      "File \u001b[0;32m~/opt/anaconda3/lib/python3.9/site-packages/seaborn/_core.py:903\u001b[0m, in \u001b[0;36mVectorPlotter._assign_variables_longform\u001b[0;34m(self, data, **kwargs)\u001b[0m\n\u001b[1;32m    898\u001b[0m \u001b[38;5;28;01melif\u001b[39;00m \u001b[38;5;28misinstance\u001b[39m(val, (\u001b[38;5;28mstr\u001b[39m, \u001b[38;5;28mbytes\u001b[39m)):\n\u001b[1;32m    899\u001b[0m \n\u001b[1;32m    900\u001b[0m     \u001b[38;5;66;03m# This looks like a column name but we don't know what it means!\u001b[39;00m\n\u001b[1;32m    902\u001b[0m     err \u001b[38;5;241m=\u001b[39m \u001b[38;5;124mf\u001b[39m\u001b[38;5;124m\"\u001b[39m\u001b[38;5;124mCould not interpret value `\u001b[39m\u001b[38;5;132;01m{\u001b[39;00mval\u001b[38;5;132;01m}\u001b[39;00m\u001b[38;5;124m` for parameter `\u001b[39m\u001b[38;5;132;01m{\u001b[39;00mkey\u001b[38;5;132;01m}\u001b[39;00m\u001b[38;5;124m`\u001b[39m\u001b[38;5;124m\"\u001b[39m\n\u001b[0;32m--> 903\u001b[0m     \u001b[38;5;28;01mraise\u001b[39;00m \u001b[38;5;167;01mValueError\u001b[39;00m(err)\n\u001b[1;32m    905\u001b[0m \u001b[38;5;28;01melse\u001b[39;00m:\n\u001b[1;32m    906\u001b[0m \n\u001b[1;32m    907\u001b[0m     \u001b[38;5;66;03m# Otherwise, assume the value is itself data\u001b[39;00m\n\u001b[1;32m    908\u001b[0m \n\u001b[1;32m    909\u001b[0m     \u001b[38;5;66;03m# Raise when data object is present and a vector can't matched\u001b[39;00m\n\u001b[1;32m    910\u001b[0m     \u001b[38;5;28;01mif\u001b[39;00m \u001b[38;5;28misinstance\u001b[39m(data, pd\u001b[38;5;241m.\u001b[39mDataFrame) \u001b[38;5;129;01mand\u001b[39;00m \u001b[38;5;129;01mnot\u001b[39;00m \u001b[38;5;28misinstance\u001b[39m(val, pd\u001b[38;5;241m.\u001b[39mSeries):\n",
      "\u001b[0;31mValueError\u001b[0m: Could not interpret value `bad_weather` for parameter `hue`"
     ]
    }
   ],
   "source": [
    "# investigate how bad/good weather related with distance\n",
    "sns.scatterplot(data = train, x = 'distance', y = 'price', hue = 'bad_weather')\n",
    "plt.title('Price vs Distance')\n",
    "plt.xlabel('Distance')\n",
    "plt.ylabel('Price')"
   ]
  },
  {
   "cell_type": "markdown",
   "id": "47fa4d92",
   "metadata": {},
   "source": [
    "### Cindy: Location EDA"
   ]
  },
  {
   "cell_type": "code",
   "execution_count": 72,
   "id": "fb75f5e4",
   "metadata": {},
   "outputs": [
    {
     "data": {
      "text/html": [
       "<div>\n",
       "<style scoped>\n",
       "    .dataframe tbody tr th:only-of-type {\n",
       "        vertical-align: middle;\n",
       "    }\n",
       "\n",
       "    .dataframe tbody tr th {\n",
       "        vertical-align: top;\n",
       "    }\n",
       "\n",
       "    .dataframe thead th {\n",
       "        text-align: right;\n",
       "    }\n",
       "</style>\n",
       "<table border=\"1\" class=\"dataframe\">\n",
       "  <thead>\n",
       "    <tr style=\"text-align: right;\">\n",
       "      <th></th>\n",
       "      <th>location</th>\n",
       "      <th>count</th>\n",
       "    </tr>\n",
       "  </thead>\n",
       "  <tbody>\n",
       "    <tr>\n",
       "      <th>0</th>\n",
       "      <td>Haymarket Square</td>\n",
       "      <td>262</td>\n",
       "    </tr>\n",
       "    <tr>\n",
       "      <th>1</th>\n",
       "      <td>North Station</td>\n",
       "      <td>225</td>\n",
       "    </tr>\n",
       "    <tr>\n",
       "      <th>2</th>\n",
       "      <td>Northeastern University</td>\n",
       "      <td>221</td>\n",
       "    </tr>\n",
       "    <tr>\n",
       "      <th>3</th>\n",
       "      <td>South Station</td>\n",
       "      <td>208</td>\n",
       "    </tr>\n",
       "    <tr>\n",
       "      <th>4</th>\n",
       "      <td>Boston University</td>\n",
       "      <td>205</td>\n",
       "    </tr>\n",
       "    <tr>\n",
       "      <th>5</th>\n",
       "      <td>Theatre District</td>\n",
       "      <td>204</td>\n",
       "    </tr>\n",
       "    <tr>\n",
       "      <th>6</th>\n",
       "      <td>Beacon Hill</td>\n",
       "      <td>204</td>\n",
       "    </tr>\n",
       "    <tr>\n",
       "      <th>7</th>\n",
       "      <td>Financial District</td>\n",
       "      <td>202</td>\n",
       "    </tr>\n",
       "    <tr>\n",
       "      <th>8</th>\n",
       "      <td>Fenway</td>\n",
       "      <td>196</td>\n",
       "    </tr>\n",
       "    <tr>\n",
       "      <th>9</th>\n",
       "      <td>North End</td>\n",
       "      <td>188</td>\n",
       "    </tr>\n",
       "    <tr>\n",
       "      <th>10</th>\n",
       "      <td>West End</td>\n",
       "      <td>185</td>\n",
       "    </tr>\n",
       "    <tr>\n",
       "      <th>11</th>\n",
       "      <td>Back Bay</td>\n",
       "      <td>183</td>\n",
       "    </tr>\n",
       "  </tbody>\n",
       "</table>\n",
       "</div>"
      ],
      "text/plain": [
       "                   location  count\n",
       "0          Haymarket Square    262\n",
       "1             North Station    225\n",
       "2   Northeastern University    221\n",
       "3             South Station    208\n",
       "4         Boston University    205\n",
       "5          Theatre District    204\n",
       "6               Beacon Hill    204\n",
       "7        Financial District    202\n",
       "8                    Fenway    196\n",
       "9                 North End    188\n",
       "10                 West End    185\n",
       "11                 Back Bay    183"
      ]
     },
     "execution_count": 72,
     "metadata": {},
     "output_type": "execute_result"
    }
   ],
   "source": [
    "# getting a dataframe containing the # of rides to/from each location\n",
    "locationdf = pd.DataFrame(train['location'].value_counts()).reset_index()\n",
    "locationdf.columns = ['location', 'count']\n",
    "locationdf"
   ]
  },
  {
   "cell_type": "code",
   "execution_count": 73,
   "id": "ebd12ca0",
   "metadata": {},
   "outputs": [
    {
     "data": {
      "text/plain": [
       "[Text(0.5, 0, 'Location')]"
      ]
     },
     "execution_count": 73,
     "metadata": {},
     "output_type": "execute_result"
    },
    {
     "data": {
      "image/png": "[encoded data removed]",
      "text/plain": [
       "<Figure size 432x288 with 1 Axes>"
      ]
     },
     "metadata": {
      "needs_background": "light"
     },
     "output_type": "display_data"
    }
   ],
   "source": [
    "# it's roughly around the same area, but going to graph it to vizualize it better\n",
    "a = sns.barplot(data = locationdf, x = 'location', y = 'count')\n",
    "a.set(title='Number of Rides by Location')\n",
    "a.set(ylabel='Number of Rides')\n",
    "a.set(xlabel='Location')"
   ]
  },
  {
   "cell_type": "code",
   "execution_count": 74,
   "id": "602f4522",
   "metadata": {},
   "outputs": [
    {
     "data": {
      "text/html": [
       "<div>\n",
       "<style scoped>\n",
       "    .dataframe tbody tr th:only-of-type {\n",
       "        vertical-align: middle;\n",
       "    }\n",
       "\n",
       "    .dataframe tbody tr th {\n",
       "        vertical-align: top;\n",
       "    }\n",
       "\n",
       "    .dataframe thead th {\n",
       "        text-align: right;\n",
       "    }\n",
       "</style>\n",
       "<table border=\"1\" class=\"dataframe\">\n",
       "  <thead>\n",
       "    <tr style=\"text-align: right;\">\n",
       "      <th></th>\n",
       "      <th>location</th>\n",
       "      <th>price</th>\n",
       "    </tr>\n",
       "  </thead>\n",
       "  <tbody>\n",
       "    <tr>\n",
       "      <th>0</th>\n",
       "      <td>Back Bay</td>\n",
       "      <td>17.467213</td>\n",
       "    </tr>\n",
       "    <tr>\n",
       "      <th>1</th>\n",
       "      <td>Beacon Hill</td>\n",
       "      <td>15.284314</td>\n",
       "    </tr>\n",
       "    <tr>\n",
       "      <th>2</th>\n",
       "      <td>Boston University</td>\n",
       "      <td>18.987805</td>\n",
       "    </tr>\n",
       "    <tr>\n",
       "      <th>3</th>\n",
       "      <td>Fenway</td>\n",
       "      <td>18.346939</td>\n",
       "    </tr>\n",
       "    <tr>\n",
       "      <th>4</th>\n",
       "      <td>Financial District</td>\n",
       "      <td>18.168317</td>\n",
       "    </tr>\n",
       "    <tr>\n",
       "      <th>5</th>\n",
       "      <td>Haymarket Square</td>\n",
       "      <td>14.024809</td>\n",
       "    </tr>\n",
       "    <tr>\n",
       "      <th>6</th>\n",
       "      <td>North End</td>\n",
       "      <td>15.781915</td>\n",
       "    </tr>\n",
       "    <tr>\n",
       "      <th>7</th>\n",
       "      <td>North Station</td>\n",
       "      <td>16.695556</td>\n",
       "    </tr>\n",
       "    <tr>\n",
       "      <th>8</th>\n",
       "      <td>Northeastern University</td>\n",
       "      <td>17.834842</td>\n",
       "    </tr>\n",
       "    <tr>\n",
       "      <th>9</th>\n",
       "      <td>South Station</td>\n",
       "      <td>16.192308</td>\n",
       "    </tr>\n",
       "    <tr>\n",
       "      <th>10</th>\n",
       "      <td>Theatre District</td>\n",
       "      <td>15.725490</td>\n",
       "    </tr>\n",
       "    <tr>\n",
       "      <th>11</th>\n",
       "      <td>West End</td>\n",
       "      <td>15.432432</td>\n",
       "    </tr>\n",
       "  </tbody>\n",
       "</table>\n",
       "</div>"
      ],
      "text/plain": [
       "                   location      price\n",
       "0                  Back Bay  17.467213\n",
       "1               Beacon Hill  15.284314\n",
       "2         Boston University  18.987805\n",
       "3                    Fenway  18.346939\n",
       "4        Financial District  18.168317\n",
       "5          Haymarket Square  14.024809\n",
       "6                 North End  15.781915\n",
       "7             North Station  16.695556\n",
       "8   Northeastern University  17.834842\n",
       "9             South Station  16.192308\n",
       "10         Theatre District  15.725490\n",
       "11                 West End  15.432432"
      ]
     },
     "execution_count": 74,
     "metadata": {},
     "output_type": "execute_result"
    }
   ],
   "source": [
    "locationprice = pd.DataFrame(train.groupby('location').agg('mean')['price']).reset_index()\n",
    "locationprice"
   ]
  },
  {
   "cell_type": "code",
   "execution_count": 75,
   "id": "610aadcc",
   "metadata": {},
   "outputs": [
    {
     "data": {
      "text/plain": [
       "[Text(0.5, 0, 'Location')]"
      ]
     },
     "execution_count": 75,
     "metadata": {},
     "output_type": "execute_result"
    },
    {
     "data": {
      "image/png": "[encoded data removed]",
      "text/plain": [
       "<Figure size 432x288 with 1 Axes>"
      ]
     },
     "metadata": {
      "needs_background": "light"
     },
     "output_type": "display_data"
    }
   ],
   "source": [
    "# vizualize avg price by location \n",
    "a = sns.barplot(data = locationprice, x = 'location', y = 'price')\n",
    "a.set(title='Average Price of Rides by Location')\n",
    "a.set(ylabel='Average Price')\n",
    "a.set(xlabel='Location')"
   ]
  },
  {
   "cell_type": "markdown",
   "id": "c5e19ff6",
   "metadata": {},
   "source": [
    "### Sabrina: Time EDA"
   ]
  },
  {
   "cell_type": "code",
   "execution_count": 76,
   "id": "90ab7c98",
   "metadata": {},
   "outputs": [
    {
     "data": {
      "text/plain": [
       "<AxesSubplot:xlabel='hour', ylabel='price'>"
      ]
     },
     "execution_count": 76,
     "metadata": {},
     "output_type": "execute_result"
    },
    {
     "data": {
      "image/png": "[encoded data removed]",
      "text/plain": [
       "<Figure size 432x288 with 1 Axes>"
      ]
     },
     "metadata": {
      "needs_background": "light"
     },
     "output_type": "display_data"
    }
   ],
   "source": [
    "#Graphing to see average price by hour\n",
    "sns.lineplot(x='hour', y='price', data=train)\n",
    "#Average stays roughly between 14 and 18 dollars but is variable so we should consider different ways of binning hour"
   ]
  },
  {
   "cell_type": "code",
   "execution_count": 77,
   "id": "126d6406",
   "metadata": {},
   "outputs": [
    {
     "data": {
      "image/png": "[encoded data removed]",
      "text/plain": [
       "<Figure size 432x288 with 1 Axes>"
      ]
     },
     "metadata": {
      "needs_background": "light"
     },
     "output_type": "display_data"
    }
   ],
   "source": [
    "#Plotting counts of hour to see if some hours are more popular than others\n",
    "a=sns.countplot(x='hour', data=train)\n",
    "#Seems like the most rides occur between midnight and 2 am"
   ]
  },
  {
   "cell_type": "code",
   "execution_count": 82,
   "id": "c798f087",
   "metadata": {},
   "outputs": [],
   "source": [
    "#Creating function that will categorize hours with more than 150 rides as busiest, hours with approx. 100-150 rides as busy, and hours with less than 100 rides as not busy\n",
    "def busy(x):\n",
    "    if x['hour'] == 0 or x['hour']==1 or x['hour']==7 or x['hour']==9:\n",
    "        return ('Busiest')\n",
    "    if x['hour'] == 2 or x['hour']==4 or x['hour']==6 or x['hour']==10 or x['hour']==14 or x['hour']==17 or x['hour']==19 or x['hour']==22:\n",
    "        return ('Busy')\n",
    "    else:\n",
    "        return ('Not Busy')"
   ]
  },
  {
   "cell_type": "code",
   "execution_count": 79,
   "id": "b2cf254c",
   "metadata": {},
   "outputs": [],
   "source": [
    "#applying function to dataframe\n",
    "train['busyness'] = train.apply(lambda x: busy(x), axis=1)"
   ]
  },
  {
   "cell_type": "code",
   "execution_count": 250,
   "id": "8b6f91df",
   "metadata": {},
   "outputs": [
    {
     "ename": "ValueError",
     "evalue": "Could not interpret input 'busyness'",
     "output_type": "error",
     "traceback": [
      "\u001b[0;31m---------------------------------------------------------------------------\u001b[0m",
      "\u001b[0;31mValueError\u001b[0m                                Traceback (most recent call last)",
      "Input \u001b[0;32mIn [250]\u001b[0m, in \u001b[0;36m<cell line: 3>\u001b[0;34m()\u001b[0m\n\u001b[1;32m      1\u001b[0m \u001b[38;5;66;03m#Visualizing whether busier hours have higher prices\u001b[39;00m\n\u001b[1;32m      2\u001b[0m fig, ax \u001b[38;5;241m=\u001b[39mplt\u001b[38;5;241m.\u001b[39msubplots(\u001b[38;5;241m1\u001b[39m,\u001b[38;5;241m2\u001b[39m, figsize\u001b[38;5;241m=\u001b[39m(\u001b[38;5;241m16\u001b[39m, \u001b[38;5;241m7\u001b[39m))\n\u001b[0;32m----> 3\u001b[0m \u001b[43msns\u001b[49m\u001b[38;5;241;43m.\u001b[39;49m\u001b[43mboxplot\u001b[49m\u001b[43m(\u001b[49m\u001b[43max\u001b[49m\u001b[43m \u001b[49m\u001b[38;5;241;43m=\u001b[39;49m\u001b[43m \u001b[49m\u001b[43max\u001b[49m\u001b[43m[\u001b[49m\u001b[38;5;241;43m0\u001b[39;49m\u001b[43m]\u001b[49m\u001b[43m,\u001b[49m\u001b[43m \u001b[49m\u001b[43mdata\u001b[49m\u001b[43m \u001b[49m\u001b[38;5;241;43m=\u001b[39;49m\u001b[43m \u001b[49m\u001b[43mtrain\u001b[49m\u001b[43m,\u001b[49m\u001b[43m \u001b[49m\u001b[43mx\u001b[49m\u001b[43m \u001b[49m\u001b[38;5;241;43m=\u001b[39;49m\u001b[43m \u001b[49m\u001b[38;5;124;43m'\u001b[39;49m\u001b[38;5;124;43mbusyness\u001b[39;49m\u001b[38;5;124;43m'\u001b[39;49m\u001b[43m,\u001b[49m\u001b[43m \u001b[49m\u001b[43my\u001b[49m\u001b[43m \u001b[49m\u001b[38;5;241;43m=\u001b[39;49m\u001b[43m \u001b[49m\u001b[38;5;124;43m'\u001b[39;49m\u001b[38;5;124;43mprice\u001b[39;49m\u001b[38;5;124;43m'\u001b[39;49m\u001b[43m)\u001b[49m\n\u001b[1;32m      4\u001b[0m sns\u001b[38;5;241m.\u001b[39mboxplot(ax \u001b[38;5;241m=\u001b[39m ax[\u001b[38;5;241m1\u001b[39m], data \u001b[38;5;241m=\u001b[39m train, x \u001b[38;5;241m=\u001b[39m \u001b[38;5;124m'\u001b[39m\u001b[38;5;124mbusyness\u001b[39m\u001b[38;5;124m'\u001b[39m, y \u001b[38;5;241m=\u001b[39m \u001b[38;5;124m'\u001b[39m\u001b[38;5;124mprice\u001b[39m\u001b[38;5;124m'\u001b[39m, hue \u001b[38;5;241m=\u001b[39m \u001b[38;5;124m'\u001b[39m\u001b[38;5;124mcab_type\u001b[39m\u001b[38;5;124m'\u001b[39m)\n\u001b[1;32m      5\u001b[0m plt\u001b[38;5;241m.\u001b[39mtitle(\u001b[38;5;124m'\u001b[39m\u001b[38;5;124mPrice Distribution by Busyness\u001b[39m\u001b[38;5;124m'\u001b[39m)\n",
      "File \u001b[0;32m~/opt/anaconda3/lib/python3.9/site-packages/seaborn/_decorators.py:46\u001b[0m, in \u001b[0;36m_deprecate_positional_args.<locals>.inner_f\u001b[0;34m(*args, **kwargs)\u001b[0m\n\u001b[1;32m     36\u001b[0m     warnings\u001b[38;5;241m.\u001b[39mwarn(\n\u001b[1;32m     37\u001b[0m         \u001b[38;5;124m\"\u001b[39m\u001b[38;5;124mPass the following variable\u001b[39m\u001b[38;5;132;01m{}\u001b[39;00m\u001b[38;5;124m as \u001b[39m\u001b[38;5;132;01m{}\u001b[39;00m\u001b[38;5;124mkeyword arg\u001b[39m\u001b[38;5;132;01m{}\u001b[39;00m\u001b[38;5;124m: \u001b[39m\u001b[38;5;132;01m{}\u001b[39;00m\u001b[38;5;124m. \u001b[39m\u001b[38;5;124m\"\u001b[39m\n\u001b[1;32m     38\u001b[0m         \u001b[38;5;124m\"\u001b[39m\u001b[38;5;124mFrom version 0.12, the only valid positional argument \u001b[39m\u001b[38;5;124m\"\u001b[39m\n\u001b[0;32m   (...)\u001b[0m\n\u001b[1;32m     43\u001b[0m         \u001b[38;5;167;01mFutureWarning\u001b[39;00m\n\u001b[1;32m     44\u001b[0m     )\n\u001b[1;32m     45\u001b[0m kwargs\u001b[38;5;241m.\u001b[39mupdate({k: arg \u001b[38;5;28;01mfor\u001b[39;00m k, arg \u001b[38;5;129;01min\u001b[39;00m \u001b[38;5;28mzip\u001b[39m(sig\u001b[38;5;241m.\u001b[39mparameters, args)})\n\u001b[0;32m---> 46\u001b[0m \u001b[38;5;28;01mreturn\u001b[39;00m \u001b[43mf\u001b[49m\u001b[43m(\u001b[49m\u001b[38;5;241;43m*\u001b[39;49m\u001b[38;5;241;43m*\u001b[39;49m\u001b[43mkwargs\u001b[49m\u001b[43m)\u001b[49m\n",
      "File \u001b[0;32m~/opt/anaconda3/lib/python3.9/site-packages/seaborn/categorical.py:2243\u001b[0m, in \u001b[0;36mboxplot\u001b[0;34m(x, y, hue, data, order, hue_order, orient, color, palette, saturation, width, dodge, fliersize, linewidth, whis, ax, **kwargs)\u001b[0m\n\u001b[1;32m   2231\u001b[0m \u001b[38;5;129m@_deprecate_positional_args\u001b[39m\n\u001b[1;32m   2232\u001b[0m \u001b[38;5;28;01mdef\u001b[39;00m \u001b[38;5;21mboxplot\u001b[39m(\n\u001b[1;32m   2233\u001b[0m     \u001b[38;5;241m*\u001b[39m,\n\u001b[0;32m   (...)\u001b[0m\n\u001b[1;32m   2240\u001b[0m     \u001b[38;5;241m*\u001b[39m\u001b[38;5;241m*\u001b[39mkwargs\n\u001b[1;32m   2241\u001b[0m ):\n\u001b[0;32m-> 2243\u001b[0m     plotter \u001b[38;5;241m=\u001b[39m \u001b[43m_BoxPlotter\u001b[49m\u001b[43m(\u001b[49m\u001b[43mx\u001b[49m\u001b[43m,\u001b[49m\u001b[43m \u001b[49m\u001b[43my\u001b[49m\u001b[43m,\u001b[49m\u001b[43m \u001b[49m\u001b[43mhue\u001b[49m\u001b[43m,\u001b[49m\u001b[43m \u001b[49m\u001b[43mdata\u001b[49m\u001b[43m,\u001b[49m\u001b[43m \u001b[49m\u001b[43morder\u001b[49m\u001b[43m,\u001b[49m\u001b[43m \u001b[49m\u001b[43mhue_order\u001b[49m\u001b[43m,\u001b[49m\n\u001b[1;32m   2244\u001b[0m \u001b[43m                          \u001b[49m\u001b[43morient\u001b[49m\u001b[43m,\u001b[49m\u001b[43m \u001b[49m\u001b[43mcolor\u001b[49m\u001b[43m,\u001b[49m\u001b[43m \u001b[49m\u001b[43mpalette\u001b[49m\u001b[43m,\u001b[49m\u001b[43m \u001b[49m\u001b[43msaturation\u001b[49m\u001b[43m,\u001b[49m\n\u001b[1;32m   2245\u001b[0m \u001b[43m                          \u001b[49m\u001b[43mwidth\u001b[49m\u001b[43m,\u001b[49m\u001b[43m \u001b[49m\u001b[43mdodge\u001b[49m\u001b[43m,\u001b[49m\u001b[43m \u001b[49m\u001b[43mfliersize\u001b[49m\u001b[43m,\u001b[49m\u001b[43m \u001b[49m\u001b[43mlinewidth\u001b[49m\u001b[43m)\u001b[49m\n\u001b[1;32m   2247\u001b[0m     \u001b[38;5;28;01mif\u001b[39;00m ax \u001b[38;5;129;01mis\u001b[39;00m \u001b[38;5;28;01mNone\u001b[39;00m:\n\u001b[1;32m   2248\u001b[0m         ax \u001b[38;5;241m=\u001b[39m plt\u001b[38;5;241m.\u001b[39mgca()\n",
      "File \u001b[0;32m~/opt/anaconda3/lib/python3.9/site-packages/seaborn/categorical.py:406\u001b[0m, in \u001b[0;36m_BoxPlotter.__init__\u001b[0;34m(self, x, y, hue, data, order, hue_order, orient, color, palette, saturation, width, dodge, fliersize, linewidth)\u001b[0m\n\u001b[1;32m    402\u001b[0m \u001b[38;5;28;01mdef\u001b[39;00m \u001b[38;5;21m__init__\u001b[39m(\u001b[38;5;28mself\u001b[39m, x, y, hue, data, order, hue_order,\n\u001b[1;32m    403\u001b[0m              orient, color, palette, saturation,\n\u001b[1;32m    404\u001b[0m              width, dodge, fliersize, linewidth):\n\u001b[0;32m--> 406\u001b[0m     \u001b[38;5;28;43mself\u001b[39;49m\u001b[38;5;241;43m.\u001b[39;49m\u001b[43mestablish_variables\u001b[49m\u001b[43m(\u001b[49m\u001b[43mx\u001b[49m\u001b[43m,\u001b[49m\u001b[43m \u001b[49m\u001b[43my\u001b[49m\u001b[43m,\u001b[49m\u001b[43m \u001b[49m\u001b[43mhue\u001b[49m\u001b[43m,\u001b[49m\u001b[43m \u001b[49m\u001b[43mdata\u001b[49m\u001b[43m,\u001b[49m\u001b[43m \u001b[49m\u001b[43morient\u001b[49m\u001b[43m,\u001b[49m\u001b[43m \u001b[49m\u001b[43morder\u001b[49m\u001b[43m,\u001b[49m\u001b[43m \u001b[49m\u001b[43mhue_order\u001b[49m\u001b[43m)\u001b[49m\n\u001b[1;32m    407\u001b[0m     \u001b[38;5;28mself\u001b[39m\u001b[38;5;241m.\u001b[39mestablish_colors(color, palette, saturation)\n\u001b[1;32m    409\u001b[0m     \u001b[38;5;28mself\u001b[39m\u001b[38;5;241m.\u001b[39mdodge \u001b[38;5;241m=\u001b[39m dodge\n",
      "File \u001b[0;32m~/opt/anaconda3/lib/python3.9/site-packages/seaborn/categorical.py:153\u001b[0m, in \u001b[0;36m_CategoricalPlotter.establish_variables\u001b[0;34m(self, x, y, hue, data, orient, order, hue_order, units)\u001b[0m\n\u001b[1;32m    151\u001b[0m     \u001b[38;5;28;01mif\u001b[39;00m \u001b[38;5;28misinstance\u001b[39m(var, \u001b[38;5;28mstr\u001b[39m):\n\u001b[1;32m    152\u001b[0m         err \u001b[38;5;241m=\u001b[39m \u001b[38;5;124m\"\u001b[39m\u001b[38;5;124mCould not interpret input \u001b[39m\u001b[38;5;124m'\u001b[39m\u001b[38;5;132;01m{}\u001b[39;00m\u001b[38;5;124m'\u001b[39m\u001b[38;5;124m\"\u001b[39m\u001b[38;5;241m.\u001b[39mformat(var)\n\u001b[0;32m--> 153\u001b[0m         \u001b[38;5;28;01mraise\u001b[39;00m \u001b[38;5;167;01mValueError\u001b[39;00m(err)\n\u001b[1;32m    155\u001b[0m \u001b[38;5;66;03m# Figure out the plotting orientation\u001b[39;00m\n\u001b[1;32m    156\u001b[0m orient \u001b[38;5;241m=\u001b[39m infer_orient(\n\u001b[1;32m    157\u001b[0m     x, y, orient, require_numeric\u001b[38;5;241m=\u001b[39m\u001b[38;5;28mself\u001b[39m\u001b[38;5;241m.\u001b[39mrequire_numeric\n\u001b[1;32m    158\u001b[0m )\n",
      "\u001b[0;31mValueError\u001b[0m: Could not interpret input 'busyness'"
     ]
    },
    {
     "data": {
      "image/png": "[encoded data removed]",
      "text/plain": [
       "<Figure size 1152x504 with 2 Axes>"
      ]
     },
     "metadata": {},
     "output_type": "display_data"
    }
   ],
   "source": [
    "#Visualizing whether busier hours have higher prices\n",
    "fig, ax =plt.subplots(1,2, figsize=(16, 7))\n",
    "sns.boxplot(ax = ax[0], data = train, x = 'busyness', y = 'price')\n",
    "sns.boxplot(ax = ax[1], data = train, x = 'busyness', y = 'price', hue = 'cab_type')\n",
    "plt.title('Price Distribution by Busyness')\n",
    "#Seems not to be much of a difference in price based on busyness overall but may make a difference for uber rides"
   ]
  },
  {
   "cell_type": "code",
   "execution_count": 249,
   "id": "b7708655",
   "metadata": {},
   "outputs": [
    {
     "ename": "ValueError",
     "evalue": "Could not interpret value `busyness` for parameter `hue`",
     "output_type": "error",
     "traceback": [
      "\u001b[0;31m---------------------------------------------------------------------------\u001b[0m",
      "\u001b[0;31mValueError\u001b[0m                                Traceback (most recent call last)",
      "Input \u001b[0;32mIn [249]\u001b[0m, in \u001b[0;36m<cell line: 2>\u001b[0;34m()\u001b[0m\n\u001b[1;32m      1\u001b[0m \u001b[38;5;66;03m#Another visualization to conifirm previous conclusion\u001b[39;00m\n\u001b[0;32m----> 2\u001b[0m a \u001b[38;5;241m=\u001b[39m \u001b[43msns\u001b[49m\u001b[38;5;241;43m.\u001b[39;49m\u001b[43mscatterplot\u001b[49m\u001b[43m(\u001b[49m\u001b[43mdata\u001b[49m\u001b[43m \u001b[49m\u001b[38;5;241;43m=\u001b[39;49m\u001b[43m \u001b[49m\u001b[43mtrain\u001b[49m\u001b[43m,\u001b[49m\u001b[43m \u001b[49m\u001b[43mx\u001b[49m\u001b[43m \u001b[49m\u001b[38;5;241;43m=\u001b[39;49m\u001b[43m \u001b[49m\u001b[38;5;124;43m'\u001b[39;49m\u001b[38;5;124;43mhour\u001b[39;49m\u001b[38;5;124;43m'\u001b[39;49m\u001b[43m,\u001b[49m\u001b[43m \u001b[49m\u001b[43my\u001b[49m\u001b[43m \u001b[49m\u001b[38;5;241;43m=\u001b[39;49m\u001b[43m \u001b[49m\u001b[38;5;124;43m'\u001b[39;49m\u001b[38;5;124;43mprice\u001b[39;49m\u001b[38;5;124;43m'\u001b[39;49m\u001b[43m,\u001b[49m\u001b[43m \u001b[49m\u001b[43mhue\u001b[49m\u001b[43m \u001b[49m\u001b[38;5;241;43m=\u001b[39;49m\u001b[43m \u001b[49m\u001b[38;5;124;43m'\u001b[39;49m\u001b[38;5;124;43mbusyness\u001b[39;49m\u001b[38;5;124;43m'\u001b[39;49m\u001b[43m)\u001b[49m\n\u001b[1;32m      3\u001b[0m plt\u001b[38;5;241m.\u001b[39mtitle(\u001b[38;5;124m'\u001b[39m\u001b[38;5;124mPrice vs Hour, by Busyness\u001b[39m\u001b[38;5;124m'\u001b[39m)\n\u001b[1;32m      4\u001b[0m plt\u001b[38;5;241m.\u001b[39mxlabel(\u001b[38;5;124m'\u001b[39m\u001b[38;5;124mHour\u001b[39m\u001b[38;5;124m'\u001b[39m)\n",
      "File \u001b[0;32m~/opt/anaconda3/lib/python3.9/site-packages/seaborn/_decorators.py:46\u001b[0m, in \u001b[0;36m_deprecate_positional_args.<locals>.inner_f\u001b[0;34m(*args, **kwargs)\u001b[0m\n\u001b[1;32m     36\u001b[0m     warnings\u001b[38;5;241m.\u001b[39mwarn(\n\u001b[1;32m     37\u001b[0m         \u001b[38;5;124m\"\u001b[39m\u001b[38;5;124mPass the following variable\u001b[39m\u001b[38;5;132;01m{}\u001b[39;00m\u001b[38;5;124m as \u001b[39m\u001b[38;5;132;01m{}\u001b[39;00m\u001b[38;5;124mkeyword arg\u001b[39m\u001b[38;5;132;01m{}\u001b[39;00m\u001b[38;5;124m: \u001b[39m\u001b[38;5;132;01m{}\u001b[39;00m\u001b[38;5;124m. \u001b[39m\u001b[38;5;124m\"\u001b[39m\n\u001b[1;32m     38\u001b[0m         \u001b[38;5;124m\"\u001b[39m\u001b[38;5;124mFrom version 0.12, the only valid positional argument \u001b[39m\u001b[38;5;124m\"\u001b[39m\n\u001b[0;32m   (...)\u001b[0m\n\u001b[1;32m     43\u001b[0m         \u001b[38;5;167;01mFutureWarning\u001b[39;00m\n\u001b[1;32m     44\u001b[0m     )\n\u001b[1;32m     45\u001b[0m kwargs\u001b[38;5;241m.\u001b[39mupdate({k: arg \u001b[38;5;28;01mfor\u001b[39;00m k, arg \u001b[38;5;129;01min\u001b[39;00m \u001b[38;5;28mzip\u001b[39m(sig\u001b[38;5;241m.\u001b[39mparameters, args)})\n\u001b[0;32m---> 46\u001b[0m \u001b[38;5;28;01mreturn\u001b[39;00m \u001b[43mf\u001b[49m\u001b[43m(\u001b[49m\u001b[38;5;241;43m*\u001b[39;49m\u001b[38;5;241;43m*\u001b[39;49m\u001b[43mkwargs\u001b[49m\u001b[43m)\u001b[49m\n",
      "File \u001b[0;32m~/opt/anaconda3/lib/python3.9/site-packages/seaborn/relational.py:808\u001b[0m, in \u001b[0;36mscatterplot\u001b[0;34m(x, y, hue, style, size, data, palette, hue_order, hue_norm, sizes, size_order, size_norm, markers, style_order, x_bins, y_bins, units, estimator, ci, n_boot, alpha, x_jitter, y_jitter, legend, ax, **kwargs)\u001b[0m\n\u001b[1;32m    793\u001b[0m \u001b[38;5;129m@_deprecate_positional_args\u001b[39m\n\u001b[1;32m    794\u001b[0m \u001b[38;5;28;01mdef\u001b[39;00m \u001b[38;5;21mscatterplot\u001b[39m(\n\u001b[1;32m    795\u001b[0m     \u001b[38;5;241m*\u001b[39m,\n\u001b[0;32m   (...)\u001b[0m\n\u001b[1;32m    804\u001b[0m     legend\u001b[38;5;241m=\u001b[39m\u001b[38;5;124m\"\u001b[39m\u001b[38;5;124mauto\u001b[39m\u001b[38;5;124m\"\u001b[39m, ax\u001b[38;5;241m=\u001b[39m\u001b[38;5;28;01mNone\u001b[39;00m, \u001b[38;5;241m*\u001b[39m\u001b[38;5;241m*\u001b[39mkwargs\n\u001b[1;32m    805\u001b[0m ):\n\u001b[1;32m    807\u001b[0m     variables \u001b[38;5;241m=\u001b[39m _ScatterPlotter\u001b[38;5;241m.\u001b[39mget_semantics(\u001b[38;5;28mlocals\u001b[39m())\n\u001b[0;32m--> 808\u001b[0m     p \u001b[38;5;241m=\u001b[39m \u001b[43m_ScatterPlotter\u001b[49m\u001b[43m(\u001b[49m\n\u001b[1;32m    809\u001b[0m \u001b[43m        \u001b[49m\u001b[43mdata\u001b[49m\u001b[38;5;241;43m=\u001b[39;49m\u001b[43mdata\u001b[49m\u001b[43m,\u001b[49m\u001b[43m \u001b[49m\u001b[43mvariables\u001b[49m\u001b[38;5;241;43m=\u001b[39;49m\u001b[43mvariables\u001b[49m\u001b[43m,\u001b[49m\n\u001b[1;32m    810\u001b[0m \u001b[43m        \u001b[49m\u001b[43mx_bins\u001b[49m\u001b[38;5;241;43m=\u001b[39;49m\u001b[43mx_bins\u001b[49m\u001b[43m,\u001b[49m\u001b[43m \u001b[49m\u001b[43my_bins\u001b[49m\u001b[38;5;241;43m=\u001b[39;49m\u001b[43my_bins\u001b[49m\u001b[43m,\u001b[49m\n\u001b[1;32m    811\u001b[0m \u001b[43m        \u001b[49m\u001b[43mestimator\u001b[49m\u001b[38;5;241;43m=\u001b[39;49m\u001b[43mestimator\u001b[49m\u001b[43m,\u001b[49m\u001b[43m \u001b[49m\u001b[43mci\u001b[49m\u001b[38;5;241;43m=\u001b[39;49m\u001b[43mci\u001b[49m\u001b[43m,\u001b[49m\u001b[43m \u001b[49m\u001b[43mn_boot\u001b[49m\u001b[38;5;241;43m=\u001b[39;49m\u001b[43mn_boot\u001b[49m\u001b[43m,\u001b[49m\n\u001b[1;32m    812\u001b[0m \u001b[43m        \u001b[49m\u001b[43malpha\u001b[49m\u001b[38;5;241;43m=\u001b[39;49m\u001b[43malpha\u001b[49m\u001b[43m,\u001b[49m\u001b[43m \u001b[49m\u001b[43mx_jitter\u001b[49m\u001b[38;5;241;43m=\u001b[39;49m\u001b[43mx_jitter\u001b[49m\u001b[43m,\u001b[49m\u001b[43m \u001b[49m\u001b[43my_jitter\u001b[49m\u001b[38;5;241;43m=\u001b[39;49m\u001b[43my_jitter\u001b[49m\u001b[43m,\u001b[49m\u001b[43m \u001b[49m\u001b[43mlegend\u001b[49m\u001b[38;5;241;43m=\u001b[39;49m\u001b[43mlegend\u001b[49m\u001b[43m,\u001b[49m\n\u001b[1;32m    813\u001b[0m \u001b[43m    \u001b[49m\u001b[43m)\u001b[49m\n\u001b[1;32m    815\u001b[0m     p\u001b[38;5;241m.\u001b[39mmap_hue(palette\u001b[38;5;241m=\u001b[39mpalette, order\u001b[38;5;241m=\u001b[39mhue_order, norm\u001b[38;5;241m=\u001b[39mhue_norm)\n\u001b[1;32m    816\u001b[0m     p\u001b[38;5;241m.\u001b[39mmap_size(sizes\u001b[38;5;241m=\u001b[39msizes, order\u001b[38;5;241m=\u001b[39msize_order, norm\u001b[38;5;241m=\u001b[39msize_norm)\n",
      "File \u001b[0;32m~/opt/anaconda3/lib/python3.9/site-packages/seaborn/relational.py:587\u001b[0m, in \u001b[0;36m_ScatterPlotter.__init__\u001b[0;34m(self, data, variables, x_bins, y_bins, estimator, ci, n_boot, alpha, x_jitter, y_jitter, legend)\u001b[0m\n\u001b[1;32m    571\u001b[0m \u001b[38;5;28;01mdef\u001b[39;00m \u001b[38;5;21m__init__\u001b[39m(\n\u001b[1;32m    572\u001b[0m     \u001b[38;5;28mself\u001b[39m, \u001b[38;5;241m*\u001b[39m,\n\u001b[1;32m    573\u001b[0m     data\u001b[38;5;241m=\u001b[39m\u001b[38;5;28;01mNone\u001b[39;00m, variables\u001b[38;5;241m=\u001b[39m{},\n\u001b[0;32m   (...)\u001b[0m\n\u001b[1;32m    581\u001b[0m     \u001b[38;5;66;03m# the kind of plot to draw, but for the time being we need to set\u001b[39;00m\n\u001b[1;32m    582\u001b[0m     \u001b[38;5;66;03m# this information so the SizeMapping can use it\u001b[39;00m\n\u001b[1;32m    583\u001b[0m     \u001b[38;5;28mself\u001b[39m\u001b[38;5;241m.\u001b[39m_default_size_range \u001b[38;5;241m=\u001b[39m (\n\u001b[1;32m    584\u001b[0m         np\u001b[38;5;241m.\u001b[39mr_[\u001b[38;5;241m.5\u001b[39m, \u001b[38;5;241m2\u001b[39m] \u001b[38;5;241m*\u001b[39m np\u001b[38;5;241m.\u001b[39msquare(mpl\u001b[38;5;241m.\u001b[39mrcParams[\u001b[38;5;124m\"\u001b[39m\u001b[38;5;124mlines.markersize\u001b[39m\u001b[38;5;124m\"\u001b[39m])\n\u001b[1;32m    585\u001b[0m     )\n\u001b[0;32m--> 587\u001b[0m     \u001b[38;5;28;43msuper\u001b[39;49m\u001b[43m(\u001b[49m\u001b[43m)\u001b[49m\u001b[38;5;241;43m.\u001b[39;49m\u001b[38;5;21;43m__init__\u001b[39;49m\u001b[43m(\u001b[49m\u001b[43mdata\u001b[49m\u001b[38;5;241;43m=\u001b[39;49m\u001b[43mdata\u001b[49m\u001b[43m,\u001b[49m\u001b[43m \u001b[49m\u001b[43mvariables\u001b[49m\u001b[38;5;241;43m=\u001b[39;49m\u001b[43mvariables\u001b[49m\u001b[43m)\u001b[49m\n\u001b[1;32m    589\u001b[0m     \u001b[38;5;28mself\u001b[39m\u001b[38;5;241m.\u001b[39malpha \u001b[38;5;241m=\u001b[39m alpha\n\u001b[1;32m    590\u001b[0m     \u001b[38;5;28mself\u001b[39m\u001b[38;5;241m.\u001b[39mlegend \u001b[38;5;241m=\u001b[39m legend\n",
      "File \u001b[0;32m~/opt/anaconda3/lib/python3.9/site-packages/seaborn/_core.py:605\u001b[0m, in \u001b[0;36mVectorPlotter.__init__\u001b[0;34m(self, data, variables)\u001b[0m\n\u001b[1;32m    603\u001b[0m \u001b[38;5;28;01mdef\u001b[39;00m \u001b[38;5;21m__init__\u001b[39m(\u001b[38;5;28mself\u001b[39m, data\u001b[38;5;241m=\u001b[39m\u001b[38;5;28;01mNone\u001b[39;00m, variables\u001b[38;5;241m=\u001b[39m{}):\n\u001b[0;32m--> 605\u001b[0m     \u001b[38;5;28;43mself\u001b[39;49m\u001b[38;5;241;43m.\u001b[39;49m\u001b[43massign_variables\u001b[49m\u001b[43m(\u001b[49m\u001b[43mdata\u001b[49m\u001b[43m,\u001b[49m\u001b[43m \u001b[49m\u001b[43mvariables\u001b[49m\u001b[43m)\u001b[49m\n\u001b[1;32m    607\u001b[0m     \u001b[38;5;28;01mfor\u001b[39;00m var, \u001b[38;5;28mcls\u001b[39m \u001b[38;5;129;01min\u001b[39;00m \u001b[38;5;28mself\u001b[39m\u001b[38;5;241m.\u001b[39m_semantic_mappings\u001b[38;5;241m.\u001b[39mitems():\n\u001b[1;32m    608\u001b[0m \n\u001b[1;32m    609\u001b[0m         \u001b[38;5;66;03m# Create the mapping function\u001b[39;00m\n\u001b[1;32m    610\u001b[0m         map_func \u001b[38;5;241m=\u001b[39m partial(\u001b[38;5;28mcls\u001b[39m\u001b[38;5;241m.\u001b[39mmap, plotter\u001b[38;5;241m=\u001b[39m\u001b[38;5;28mself\u001b[39m)\n",
      "File \u001b[0;32m~/opt/anaconda3/lib/python3.9/site-packages/seaborn/_core.py:668\u001b[0m, in \u001b[0;36mVectorPlotter.assign_variables\u001b[0;34m(self, data, variables)\u001b[0m\n\u001b[1;32m    666\u001b[0m \u001b[38;5;28;01melse\u001b[39;00m:\n\u001b[1;32m    667\u001b[0m     \u001b[38;5;28mself\u001b[39m\u001b[38;5;241m.\u001b[39minput_format \u001b[38;5;241m=\u001b[39m \u001b[38;5;124m\"\u001b[39m\u001b[38;5;124mlong\u001b[39m\u001b[38;5;124m\"\u001b[39m\n\u001b[0;32m--> 668\u001b[0m     plot_data, variables \u001b[38;5;241m=\u001b[39m \u001b[38;5;28;43mself\u001b[39;49m\u001b[38;5;241;43m.\u001b[39;49m\u001b[43m_assign_variables_longform\u001b[49m\u001b[43m(\u001b[49m\n\u001b[1;32m    669\u001b[0m \u001b[43m        \u001b[49m\u001b[43mdata\u001b[49m\u001b[43m,\u001b[49m\u001b[43m \u001b[49m\u001b[38;5;241;43m*\u001b[39;49m\u001b[38;5;241;43m*\u001b[39;49m\u001b[43mvariables\u001b[49m\u001b[43m,\u001b[49m\n\u001b[1;32m    670\u001b[0m \u001b[43m    \u001b[49m\u001b[43m)\u001b[49m\n\u001b[1;32m    672\u001b[0m \u001b[38;5;28mself\u001b[39m\u001b[38;5;241m.\u001b[39mplot_data \u001b[38;5;241m=\u001b[39m plot_data\n\u001b[1;32m    673\u001b[0m \u001b[38;5;28mself\u001b[39m\u001b[38;5;241m.\u001b[39mvariables \u001b[38;5;241m=\u001b[39m variables\n",
      "File \u001b[0;32m~/opt/anaconda3/lib/python3.9/site-packages/seaborn/_core.py:903\u001b[0m, in \u001b[0;36mVectorPlotter._assign_variables_longform\u001b[0;34m(self, data, **kwargs)\u001b[0m\n\u001b[1;32m    898\u001b[0m \u001b[38;5;28;01melif\u001b[39;00m \u001b[38;5;28misinstance\u001b[39m(val, (\u001b[38;5;28mstr\u001b[39m, \u001b[38;5;28mbytes\u001b[39m)):\n\u001b[1;32m    899\u001b[0m \n\u001b[1;32m    900\u001b[0m     \u001b[38;5;66;03m# This looks like a column name but we don't know what it means!\u001b[39;00m\n\u001b[1;32m    902\u001b[0m     err \u001b[38;5;241m=\u001b[39m \u001b[38;5;124mf\u001b[39m\u001b[38;5;124m\"\u001b[39m\u001b[38;5;124mCould not interpret value `\u001b[39m\u001b[38;5;132;01m{\u001b[39;00mval\u001b[38;5;132;01m}\u001b[39;00m\u001b[38;5;124m` for parameter `\u001b[39m\u001b[38;5;132;01m{\u001b[39;00mkey\u001b[38;5;132;01m}\u001b[39;00m\u001b[38;5;124m`\u001b[39m\u001b[38;5;124m\"\u001b[39m\n\u001b[0;32m--> 903\u001b[0m     \u001b[38;5;28;01mraise\u001b[39;00m \u001b[38;5;167;01mValueError\u001b[39;00m(err)\n\u001b[1;32m    905\u001b[0m \u001b[38;5;28;01melse\u001b[39;00m:\n\u001b[1;32m    906\u001b[0m \n\u001b[1;32m    907\u001b[0m     \u001b[38;5;66;03m# Otherwise, assume the value is itself data\u001b[39;00m\n\u001b[1;32m    908\u001b[0m \n\u001b[1;32m    909\u001b[0m     \u001b[38;5;66;03m# Raise when data object is present and a vector can't matched\u001b[39;00m\n\u001b[1;32m    910\u001b[0m     \u001b[38;5;28;01mif\u001b[39;00m \u001b[38;5;28misinstance\u001b[39m(data, pd\u001b[38;5;241m.\u001b[39mDataFrame) \u001b[38;5;129;01mand\u001b[39;00m \u001b[38;5;129;01mnot\u001b[39;00m \u001b[38;5;28misinstance\u001b[39m(val, pd\u001b[38;5;241m.\u001b[39mSeries):\n",
      "\u001b[0;31mValueError\u001b[0m: Could not interpret value `busyness` for parameter `hue`"
     ]
    }
   ],
   "source": [
    "#Another visualization to conifirm previous conclusion\n",
    "a = sns.scatterplot(data = train, x = 'hour', y = 'price', hue = 'busyness')\n",
    "plt.title('Price vs Hour, by Busyness')\n",
    "plt.xlabel('Hour')\n",
    "plt.ylabel('Price')\n",
    "#Again we can see that there is no significant difference in price by busyness of the hour"
   ]
  },
  {
   "cell_type": "markdown",
   "id": "5d869dad",
   "metadata": {},
   "source": [
    "### Sabrina: Combining Hour and Location EDAs"
   ]
  },
  {
   "cell_type": "code",
   "execution_count": 205,
   "id": "9c0200ba",
   "metadata": {},
   "outputs": [
    {
     "ename": "ValueError",
     "evalue": "Could not interpret input 'busyness'",
     "output_type": "error",
     "traceback": [
      "\u001b[0;31m---------------------------------------------------------------------------\u001b[0m",
      "\u001b[0;31mValueError\u001b[0m                                Traceback (most recent call last)",
      "Input \u001b[0;32mIn [205]\u001b[0m, in \u001b[0;36m<cell line: 2>\u001b[0;34m()\u001b[0m\n\u001b[1;32m      1\u001b[0m \u001b[38;5;66;03m#graphing location price by hour busyness\u001b[39;00m\n\u001b[0;32m----> 2\u001b[0m \u001b[43msns\u001b[49m\u001b[38;5;241;43m.\u001b[39;49m\u001b[43mcountplot\u001b[49m\u001b[43m(\u001b[49m\u001b[43mx\u001b[49m\u001b[38;5;241;43m=\u001b[39;49m\u001b[38;5;124;43m'\u001b[39;49m\u001b[38;5;124;43mlocation\u001b[39;49m\u001b[38;5;124;43m'\u001b[39;49m\u001b[43m,\u001b[49m\u001b[43m \u001b[49m\u001b[43mdata\u001b[49m\u001b[38;5;241;43m=\u001b[39;49m\u001b[43mtrain\u001b[49m\u001b[43m,\u001b[49m\u001b[43m \u001b[49m\u001b[43mhue\u001b[49m\u001b[38;5;241;43m=\u001b[39;49m\u001b[38;5;124;43m'\u001b[39;49m\u001b[38;5;124;43mbusyness\u001b[39;49m\u001b[38;5;124;43m'\u001b[39;49m\u001b[43m)\u001b[49m\n\u001b[1;32m      3\u001b[0m plt\u001b[38;5;241m.\u001b[39mlegend(title\u001b[38;5;241m=\u001b[39m\u001b[38;5;124m'\u001b[39m\u001b[38;5;124mBusyness\u001b[39m\u001b[38;5;124m'\u001b[39m, fontsize\u001b[38;5;241m=\u001b[39m\u001b[38;5;241m11\u001b[39m)\n\u001b[1;32m      4\u001b[0m plt\u001b[38;5;241m.\u001b[39mxticks(rotation\u001b[38;5;241m=\u001b[39m\u001b[38;5;241m45\u001b[39m)\n",
      "File \u001b[0;32m~/opt/anaconda3/lib/python3.9/site-packages/seaborn/_decorators.py:46\u001b[0m, in \u001b[0;36m_deprecate_positional_args.<locals>.inner_f\u001b[0;34m(*args, **kwargs)\u001b[0m\n\u001b[1;32m     36\u001b[0m     warnings\u001b[38;5;241m.\u001b[39mwarn(\n\u001b[1;32m     37\u001b[0m         \u001b[38;5;124m\"\u001b[39m\u001b[38;5;124mPass the following variable\u001b[39m\u001b[38;5;132;01m{}\u001b[39;00m\u001b[38;5;124m as \u001b[39m\u001b[38;5;132;01m{}\u001b[39;00m\u001b[38;5;124mkeyword arg\u001b[39m\u001b[38;5;132;01m{}\u001b[39;00m\u001b[38;5;124m: \u001b[39m\u001b[38;5;132;01m{}\u001b[39;00m\u001b[38;5;124m. \u001b[39m\u001b[38;5;124m\"\u001b[39m\n\u001b[1;32m     38\u001b[0m         \u001b[38;5;124m\"\u001b[39m\u001b[38;5;124mFrom version 0.12, the only valid positional argument \u001b[39m\u001b[38;5;124m\"\u001b[39m\n\u001b[0;32m   (...)\u001b[0m\n\u001b[1;32m     43\u001b[0m         \u001b[38;5;167;01mFutureWarning\u001b[39;00m\n\u001b[1;32m     44\u001b[0m     )\n\u001b[1;32m     45\u001b[0m kwargs\u001b[38;5;241m.\u001b[39mupdate({k: arg \u001b[38;5;28;01mfor\u001b[39;00m k, arg \u001b[38;5;129;01min\u001b[39;00m \u001b[38;5;28mzip\u001b[39m(sig\u001b[38;5;241m.\u001b[39mparameters, args)})\n\u001b[0;32m---> 46\u001b[0m \u001b[38;5;28;01mreturn\u001b[39;00m \u001b[43mf\u001b[49m\u001b[43m(\u001b[49m\u001b[38;5;241;43m*\u001b[39;49m\u001b[38;5;241;43m*\u001b[39;49m\u001b[43mkwargs\u001b[49m\u001b[43m)\u001b[49m\n",
      "File \u001b[0;32m~/opt/anaconda3/lib/python3.9/site-packages/seaborn/categorical.py:3598\u001b[0m, in \u001b[0;36mcountplot\u001b[0;34m(x, y, hue, data, order, hue_order, orient, color, palette, saturation, dodge, ax, **kwargs)\u001b[0m\n\u001b[1;32m   3595\u001b[0m \u001b[38;5;28;01melif\u001b[39;00m x \u001b[38;5;129;01mis\u001b[39;00m \u001b[38;5;129;01mnot\u001b[39;00m \u001b[38;5;28;01mNone\u001b[39;00m \u001b[38;5;129;01mand\u001b[39;00m y \u001b[38;5;129;01mis\u001b[39;00m \u001b[38;5;129;01mnot\u001b[39;00m \u001b[38;5;28;01mNone\u001b[39;00m:\n\u001b[1;32m   3596\u001b[0m     \u001b[38;5;28;01mraise\u001b[39;00m \u001b[38;5;167;01mValueError\u001b[39;00m(\u001b[38;5;124m\"\u001b[39m\u001b[38;5;124mCannot pass values for both `x` and `y`\u001b[39m\u001b[38;5;124m\"\u001b[39m)\n\u001b[0;32m-> 3598\u001b[0m plotter \u001b[38;5;241m=\u001b[39m \u001b[43m_CountPlotter\u001b[49m\u001b[43m(\u001b[49m\n\u001b[1;32m   3599\u001b[0m \u001b[43m    \u001b[49m\u001b[43mx\u001b[49m\u001b[43m,\u001b[49m\u001b[43m \u001b[49m\u001b[43my\u001b[49m\u001b[43m,\u001b[49m\u001b[43m \u001b[49m\u001b[43mhue\u001b[49m\u001b[43m,\u001b[49m\u001b[43m \u001b[49m\u001b[43mdata\u001b[49m\u001b[43m,\u001b[49m\u001b[43m \u001b[49m\u001b[43morder\u001b[49m\u001b[43m,\u001b[49m\u001b[43m \u001b[49m\u001b[43mhue_order\u001b[49m\u001b[43m,\u001b[49m\n\u001b[1;32m   3600\u001b[0m \u001b[43m    \u001b[49m\u001b[43mestimator\u001b[49m\u001b[43m,\u001b[49m\u001b[43m \u001b[49m\u001b[43mci\u001b[49m\u001b[43m,\u001b[49m\u001b[43m \u001b[49m\u001b[43mn_boot\u001b[49m\u001b[43m,\u001b[49m\u001b[43m \u001b[49m\u001b[43munits\u001b[49m\u001b[43m,\u001b[49m\u001b[43m \u001b[49m\u001b[43mseed\u001b[49m\u001b[43m,\u001b[49m\n\u001b[1;32m   3601\u001b[0m \u001b[43m    \u001b[49m\u001b[43morient\u001b[49m\u001b[43m,\u001b[49m\u001b[43m \u001b[49m\u001b[43mcolor\u001b[49m\u001b[43m,\u001b[49m\u001b[43m \u001b[49m\u001b[43mpalette\u001b[49m\u001b[43m,\u001b[49m\u001b[43m \u001b[49m\u001b[43msaturation\u001b[49m\u001b[43m,\u001b[49m\n\u001b[1;32m   3602\u001b[0m \u001b[43m    \u001b[49m\u001b[43merrcolor\u001b[49m\u001b[43m,\u001b[49m\u001b[43m \u001b[49m\u001b[43merrwidth\u001b[49m\u001b[43m,\u001b[49m\u001b[43m \u001b[49m\u001b[43mcapsize\u001b[49m\u001b[43m,\u001b[49m\u001b[43m \u001b[49m\u001b[43mdodge\u001b[49m\n\u001b[1;32m   3603\u001b[0m \u001b[43m\u001b[49m\u001b[43m)\u001b[49m\n\u001b[1;32m   3605\u001b[0m plotter\u001b[38;5;241m.\u001b[39mvalue_label \u001b[38;5;241m=\u001b[39m \u001b[38;5;124m\"\u001b[39m\u001b[38;5;124mcount\u001b[39m\u001b[38;5;124m\"\u001b[39m\n\u001b[1;32m   3607\u001b[0m \u001b[38;5;28;01mif\u001b[39;00m ax \u001b[38;5;129;01mis\u001b[39;00m \u001b[38;5;28;01mNone\u001b[39;00m:\n",
      "File \u001b[0;32m~/opt/anaconda3/lib/python3.9/site-packages/seaborn/categorical.py:1584\u001b[0m, in \u001b[0;36m_BarPlotter.__init__\u001b[0;34m(self, x, y, hue, data, order, hue_order, estimator, ci, n_boot, units, seed, orient, color, palette, saturation, errcolor, errwidth, capsize, dodge)\u001b[0m\n\u001b[1;32m   1579\u001b[0m \u001b[38;5;28;01mdef\u001b[39;00m \u001b[38;5;21m__init__\u001b[39m(\u001b[38;5;28mself\u001b[39m, x, y, hue, data, order, hue_order,\n\u001b[1;32m   1580\u001b[0m              estimator, ci, n_boot, units, seed,\n\u001b[1;32m   1581\u001b[0m              orient, color, palette, saturation, errcolor,\n\u001b[1;32m   1582\u001b[0m              errwidth, capsize, dodge):\n\u001b[1;32m   1583\u001b[0m     \u001b[38;5;124;03m\"\"\"Initialize the plotter.\"\"\"\u001b[39;00m\n\u001b[0;32m-> 1584\u001b[0m     \u001b[38;5;28;43mself\u001b[39;49m\u001b[38;5;241;43m.\u001b[39;49m\u001b[43mestablish_variables\u001b[49m\u001b[43m(\u001b[49m\u001b[43mx\u001b[49m\u001b[43m,\u001b[49m\u001b[43m \u001b[49m\u001b[43my\u001b[49m\u001b[43m,\u001b[49m\u001b[43m \u001b[49m\u001b[43mhue\u001b[49m\u001b[43m,\u001b[49m\u001b[43m \u001b[49m\u001b[43mdata\u001b[49m\u001b[43m,\u001b[49m\u001b[43m \u001b[49m\u001b[43morient\u001b[49m\u001b[43m,\u001b[49m\n\u001b[1;32m   1585\u001b[0m \u001b[43m                             \u001b[49m\u001b[43morder\u001b[49m\u001b[43m,\u001b[49m\u001b[43m \u001b[49m\u001b[43mhue_order\u001b[49m\u001b[43m,\u001b[49m\u001b[43m \u001b[49m\u001b[43munits\u001b[49m\u001b[43m)\u001b[49m\n\u001b[1;32m   1586\u001b[0m     \u001b[38;5;28mself\u001b[39m\u001b[38;5;241m.\u001b[39mestablish_colors(color, palette, saturation)\n\u001b[1;32m   1587\u001b[0m     \u001b[38;5;28mself\u001b[39m\u001b[38;5;241m.\u001b[39mestimate_statistic(estimator, ci, n_boot, seed)\n",
      "File \u001b[0;32m~/opt/anaconda3/lib/python3.9/site-packages/seaborn/categorical.py:153\u001b[0m, in \u001b[0;36m_CategoricalPlotter.establish_variables\u001b[0;34m(self, x, y, hue, data, orient, order, hue_order, units)\u001b[0m\n\u001b[1;32m    151\u001b[0m     \u001b[38;5;28;01mif\u001b[39;00m \u001b[38;5;28misinstance\u001b[39m(var, \u001b[38;5;28mstr\u001b[39m):\n\u001b[1;32m    152\u001b[0m         err \u001b[38;5;241m=\u001b[39m \u001b[38;5;124m\"\u001b[39m\u001b[38;5;124mCould not interpret input \u001b[39m\u001b[38;5;124m'\u001b[39m\u001b[38;5;132;01m{}\u001b[39;00m\u001b[38;5;124m'\u001b[39m\u001b[38;5;124m\"\u001b[39m\u001b[38;5;241m.\u001b[39mformat(var)\n\u001b[0;32m--> 153\u001b[0m         \u001b[38;5;28;01mraise\u001b[39;00m \u001b[38;5;167;01mValueError\u001b[39;00m(err)\n\u001b[1;32m    155\u001b[0m \u001b[38;5;66;03m# Figure out the plotting orientation\u001b[39;00m\n\u001b[1;32m    156\u001b[0m orient \u001b[38;5;241m=\u001b[39m infer_orient(\n\u001b[1;32m    157\u001b[0m     x, y, orient, require_numeric\u001b[38;5;241m=\u001b[39m\u001b[38;5;28mself\u001b[39m\u001b[38;5;241m.\u001b[39mrequire_numeric\n\u001b[1;32m    158\u001b[0m )\n",
      "\u001b[0;31mValueError\u001b[0m: Could not interpret input 'busyness'"
     ]
    }
   ],
   "source": [
    "#graphing location price by hour busyness\n",
    "sns.countplot(x='location', data=train, hue='busyness')\n",
    "plt.legend(title='Busyness', fontsize=11)\n",
    "plt.xticks(rotation=45)\n",
    "#Busy hours seem more expensive, especially in Haymarket Square"
   ]
  },
  {
   "cell_type": "markdown",
   "id": "ddc82cf0",
   "metadata": {},
   "source": [
    "### Sabrina: Day EDA"
   ]
  },
  {
   "cell_type": "code",
   "execution_count": 93,
   "id": "2d414e69",
   "metadata": {
    "scrolled": true
   },
   "outputs": [
    {
     "data": {
      "text/plain": [
       "Text(0.5, 1.0, 'Price Distribution by Day')"
      ]
     },
     "execution_count": 93,
     "metadata": {},
     "output_type": "execute_result"
    },
    {
     "data": {
      "image/png": "[encoded data removed]",
      "text/plain": [
       "<Figure size 432x288 with 1 Axes>"
      ]
     },
     "metadata": {},
     "output_type": "display_data"
    }
   ],
   "source": [
    "#Visualizing to see if price depends on day\n",
    "order = ['Monday', 'Tuesday', 'Wednesday', 'Thursday', 'Friday', 'Saturday','Sunday']\n",
    "sns.boxplot(x='day',y='price', data=train, order=order )\n",
    "plt.title('Price Distribution by Day')\n",
    "#Price seems to vary by day, Friday and Sunday seem most expensive"
   ]
  },
  {
   "cell_type": "code",
   "execution_count": 94,
   "id": "e32e01e2",
   "metadata": {},
   "outputs": [
    {
     "data": {
      "image/png": "[encoded data removed]",
      "text/plain": [
       "<Figure size 432x288 with 1 Axes>"
      ]
     },
     "metadata": {},
     "output_type": "display_data"
    }
   ],
   "source": [
    "#Visualizing ride number per day to see if some days are busier than others\n",
    "sns.set(font_scale=0.7)\n",
    "order = ['Monday', 'Tuesday', 'Wednesday', 'Thursday', 'Friday', 'Saturday','Sunday']\n",
    "a=sns.countplot(x='day', data=train, order=order)\n",
    "#Barely any rides during the weekend which is concerning"
   ]
  },
  {
   "cell_type": "code",
   "execution_count": 96,
   "id": "ad64096b",
   "metadata": {},
   "outputs": [
    {
     "data": {
      "text/html": [
       "<div>\n",
       "<style scoped>\n",
       "    .dataframe tbody tr th:only-of-type {\n",
       "        vertical-align: middle;\n",
       "    }\n",
       "\n",
       "    .dataframe tbody tr th {\n",
       "        vertical-align: top;\n",
       "    }\n",
       "\n",
       "    .dataframe thead th {\n",
       "        text-align: right;\n",
       "    }\n",
       "</style>\n",
       "<table border=\"1\" class=\"dataframe\">\n",
       "  <thead>\n",
       "    <tr style=\"text-align: right;\">\n",
       "      <th></th>\n",
       "      <th>Unnamed: 0</th>\n",
       "      <th>distance</th>\n",
       "      <th>cab_type</th>\n",
       "      <th>destination</th>\n",
       "      <th>source</th>\n",
       "      <th>price</th>\n",
       "      <th>surge_multiplier</th>\n",
       "      <th>id</th>\n",
       "      <th>product_id</th>\n",
       "      <th>name</th>\n",
       "      <th>...</th>\n",
       "      <th>wind</th>\n",
       "      <th>time_weather</th>\n",
       "      <th>hour</th>\n",
       "      <th>date</th>\n",
       "      <th>day</th>\n",
       "      <th>wind_d_strength</th>\n",
       "      <th>pressure_d_strength</th>\n",
       "      <th>humidity_d_strength</th>\n",
       "      <th>humidity_strength_3</th>\n",
       "      <th>busyness</th>\n",
       "    </tr>\n",
       "  </thead>\n",
       "  <tbody>\n",
       "    <tr>\n",
       "      <th>425</th>\n",
       "      <td>3818</td>\n",
       "      <td>3.04</td>\n",
       "      <td>Uber</td>\n",
       "      <td>West End</td>\n",
       "      <td>Boston University</td>\n",
       "      <td>16.0</td>\n",
       "      <td>1.0</td>\n",
       "      <td>8b4b47cd-8398-4564-add7-9c55ef1ae144</td>\n",
       "      <td>6f72dfc5-27f1-42e8-84db-ccc7a75f6969</td>\n",
       "      <td>UberXL</td>\n",
       "      <td>...</td>\n",
       "      <td>3.85</td>\n",
       "      <td>2018-12-02 23:52:56.000</td>\n",
       "      <td>23</td>\n",
       "      <td>2018-12-02</td>\n",
       "      <td>Sunday</td>\n",
       "      <td>1.0</td>\n",
       "      <td>3.0</td>\n",
       "      <td>4.0</td>\n",
       "      <td>3.0</td>\n",
       "      <td>Not Busy</td>\n",
       "    </tr>\n",
       "    <tr>\n",
       "      <th>481</th>\n",
       "      <td>3798</td>\n",
       "      <td>2.30</td>\n",
       "      <td>Uber</td>\n",
       "      <td>Back Bay</td>\n",
       "      <td>Haymarket Square</td>\n",
       "      <td>30.5</td>\n",
       "      <td>1.0</td>\n",
       "      <td>2d61cf2b-2dbc-4c95-ae84-89a0e1ef6cb4</td>\n",
       "      <td>6d318bcc-22a3-4af6-bddd-b409bfce1546</td>\n",
       "      <td>Black SUV</td>\n",
       "      <td>...</td>\n",
       "      <td>2.44</td>\n",
       "      <td>2018-12-02 19:53:05.000</td>\n",
       "      <td>19</td>\n",
       "      <td>2018-12-02</td>\n",
       "      <td>Sunday</td>\n",
       "      <td>1.0</td>\n",
       "      <td>3.0</td>\n",
       "      <td>4.0</td>\n",
       "      <td>3.0</td>\n",
       "      <td>Busy</td>\n",
       "    </tr>\n",
       "    <tr>\n",
       "      <th>603</th>\n",
       "      <td>3815</td>\n",
       "      <td>3.04</td>\n",
       "      <td>Uber</td>\n",
       "      <td>West End</td>\n",
       "      <td>Boston University</td>\n",
       "      <td>9.0</td>\n",
       "      <td>1.0</td>\n",
       "      <td>4ef6a5c7-e254-41ef-a6d7-78c4e5613a97</td>\n",
       "      <td>9a0e7b09-b92b-4c41-9779-2ad22b4d779d</td>\n",
       "      <td>WAV</td>\n",
       "      <td>...</td>\n",
       "      <td>3.85</td>\n",
       "      <td>2018-12-02 23:52:56.000</td>\n",
       "      <td>23</td>\n",
       "      <td>2018-12-02</td>\n",
       "      <td>Sunday</td>\n",
       "      <td>1.0</td>\n",
       "      <td>3.0</td>\n",
       "      <td>4.0</td>\n",
       "      <td>3.0</td>\n",
       "      <td>Not Busy</td>\n",
       "    </tr>\n",
       "    <tr>\n",
       "      <th>733</th>\n",
       "      <td>3816</td>\n",
       "      <td>3.04</td>\n",
       "      <td>Uber</td>\n",
       "      <td>West End</td>\n",
       "      <td>Boston University</td>\n",
       "      <td>25.0</td>\n",
       "      <td>1.0</td>\n",
       "      <td>6d6fe9fa-743e-4958-bcee-dd8a7d4d7a63</td>\n",
       "      <td>6c84fd89-3f11-4782-9b50-97c468b19529</td>\n",
       "      <td>Black</td>\n",
       "      <td>...</td>\n",
       "      <td>3.85</td>\n",
       "      <td>2018-12-02 23:52:56.000</td>\n",
       "      <td>23</td>\n",
       "      <td>2018-12-02</td>\n",
       "      <td>Sunday</td>\n",
       "      <td>1.0</td>\n",
       "      <td>3.0</td>\n",
       "      <td>4.0</td>\n",
       "      <td>3.0</td>\n",
       "      <td>Not Busy</td>\n",
       "    </tr>\n",
       "    <tr>\n",
       "      <th>864</th>\n",
       "      <td>1069</td>\n",
       "      <td>2.72</td>\n",
       "      <td>Uber</td>\n",
       "      <td>West End</td>\n",
       "      <td>Fenway</td>\n",
       "      <td>9.0</td>\n",
       "      <td>1.0</td>\n",
       "      <td>af71ac42-de43-4aa7-b742-1fdcd7f25550</td>\n",
       "      <td>9a0e7b09-b92b-4c41-9779-2ad22b4d779d</td>\n",
       "      <td>WAV</td>\n",
       "      <td>...</td>\n",
       "      <td>2.47</td>\n",
       "      <td>2018-12-02 19:53:04.000</td>\n",
       "      <td>19</td>\n",
       "      <td>2018-12-02</td>\n",
       "      <td>Sunday</td>\n",
       "      <td>1.0</td>\n",
       "      <td>3.0</td>\n",
       "      <td>4.0</td>\n",
       "      <td>3.0</td>\n",
       "      <td>Busy</td>\n",
       "    </tr>\n",
       "    <tr>\n",
       "      <th>944</th>\n",
       "      <td>1070</td>\n",
       "      <td>1.44</td>\n",
       "      <td>Lyft</td>\n",
       "      <td>Back Bay</td>\n",
       "      <td>Fenway</td>\n",
       "      <td>27.5</td>\n",
       "      <td>1.0</td>\n",
       "      <td>fa888248-99fd-44cd-be52-b6f9114254ff</td>\n",
       "      <td>lyft_luxsuv</td>\n",
       "      <td>Lux Black XL</td>\n",
       "      <td>...</td>\n",
       "      <td>2.47</td>\n",
       "      <td>2018-12-02 19:53:04.000</td>\n",
       "      <td>19</td>\n",
       "      <td>2018-12-02</td>\n",
       "      <td>Sunday</td>\n",
       "      <td>1.0</td>\n",
       "      <td>3.0</td>\n",
       "      <td>4.0</td>\n",
       "      <td>3.0</td>\n",
       "      <td>Busy</td>\n",
       "    </tr>\n",
       "    <tr>\n",
       "      <th>951</th>\n",
       "      <td>2630</td>\n",
       "      <td>2.84</td>\n",
       "      <td>Lyft</td>\n",
       "      <td>West End</td>\n",
       "      <td>Fenway</td>\n",
       "      <td>16.5</td>\n",
       "      <td>1.0</td>\n",
       "      <td>4c4166b6-212b-40b8-b625-b9daf9fb7134</td>\n",
       "      <td>lyft_plus</td>\n",
       "      <td>Lyft XL</td>\n",
       "      <td>...</td>\n",
       "      <td>9.91</td>\n",
       "      <td>2018-12-16 19:45:07.000</td>\n",
       "      <td>19</td>\n",
       "      <td>2018-12-16</td>\n",
       "      <td>Sunday</td>\n",
       "      <td>3.0</td>\n",
       "      <td>4.0</td>\n",
       "      <td>3.0</td>\n",
       "      <td>2.0</td>\n",
       "      <td>Busy</td>\n",
       "    </tr>\n",
       "    <tr>\n",
       "      <th>1053</th>\n",
       "      <td>2629</td>\n",
       "      <td>2.84</td>\n",
       "      <td>Lyft</td>\n",
       "      <td>West End</td>\n",
       "      <td>Fenway</td>\n",
       "      <td>19.5</td>\n",
       "      <td>1.0</td>\n",
       "      <td>1eb9ce60-4fb2-4a22-8814-4ab1cb3738c1</td>\n",
       "      <td>lyft_premier</td>\n",
       "      <td>Lux</td>\n",
       "      <td>...</td>\n",
       "      <td>9.91</td>\n",
       "      <td>2018-12-16 19:45:07.000</td>\n",
       "      <td>19</td>\n",
       "      <td>2018-12-16</td>\n",
       "      <td>Sunday</td>\n",
       "      <td>3.0</td>\n",
       "      <td>4.0</td>\n",
       "      <td>3.0</td>\n",
       "      <td>2.0</td>\n",
       "      <td>Busy</td>\n",
       "    </tr>\n",
       "    <tr>\n",
       "      <th>1333</th>\n",
       "      <td>1071</td>\n",
       "      <td>1.44</td>\n",
       "      <td>Lyft</td>\n",
       "      <td>Back Bay</td>\n",
       "      <td>Fenway</td>\n",
       "      <td>16.5</td>\n",
       "      <td>1.0</td>\n",
       "      <td>ff3ee53f-5f14-4474-a057-869fa20f7ef8</td>\n",
       "      <td>lyft_lux</td>\n",
       "      <td>Lux Black</td>\n",
       "      <td>...</td>\n",
       "      <td>2.47</td>\n",
       "      <td>2018-12-02 19:53:04.000</td>\n",
       "      <td>19</td>\n",
       "      <td>2018-12-02</td>\n",
       "      <td>Sunday</td>\n",
       "      <td>1.0</td>\n",
       "      <td>3.0</td>\n",
       "      <td>4.0</td>\n",
       "      <td>3.0</td>\n",
       "      <td>Busy</td>\n",
       "    </tr>\n",
       "    <tr>\n",
       "      <th>1602</th>\n",
       "      <td>2631</td>\n",
       "      <td>2.84</td>\n",
       "      <td>Lyft</td>\n",
       "      <td>West End</td>\n",
       "      <td>Fenway</td>\n",
       "      <td>26.0</td>\n",
       "      <td>1.0</td>\n",
       "      <td>685c2277-5b5d-481a-9ede-feec6c8bcbe7</td>\n",
       "      <td>lyft_lux</td>\n",
       "      <td>Lux Black</td>\n",
       "      <td>...</td>\n",
       "      <td>9.91</td>\n",
       "      <td>2018-12-16 19:45:07.000</td>\n",
       "      <td>19</td>\n",
       "      <td>2018-12-16</td>\n",
       "      <td>Sunday</td>\n",
       "      <td>3.0</td>\n",
       "      <td>4.0</td>\n",
       "      <td>3.0</td>\n",
       "      <td>2.0</td>\n",
       "      <td>Busy</td>\n",
       "    </tr>\n",
       "    <tr>\n",
       "      <th>1781</th>\n",
       "      <td>3817</td>\n",
       "      <td>3.04</td>\n",
       "      <td>Uber</td>\n",
       "      <td>West End</td>\n",
       "      <td>Boston University</td>\n",
       "      <td>9.0</td>\n",
       "      <td>1.0</td>\n",
       "      <td>88512d1b-0870-425b-b755-2789f0e48fd0</td>\n",
       "      <td>997acbb5-e102-41e1-b155-9df7de0a73f2</td>\n",
       "      <td>UberPool</td>\n",
       "      <td>...</td>\n",
       "      <td>3.85</td>\n",
       "      <td>2018-12-02 23:52:56.000</td>\n",
       "      <td>23</td>\n",
       "      <td>2018-12-02</td>\n",
       "      <td>Sunday</td>\n",
       "      <td>1.0</td>\n",
       "      <td>3.0</td>\n",
       "      <td>4.0</td>\n",
       "      <td>3.0</td>\n",
       "      <td>Not Busy</td>\n",
       "    </tr>\n",
       "  </tbody>\n",
       "</table>\n",
       "<p>11 rows × 28 columns</p>\n",
       "</div>"
      ],
      "text/plain": [
       "      Unnamed: 0  distance cab_type destination             source  price  \\\n",
       "425         3818      3.04     Uber    West End  Boston University   16.0   \n",
       "481         3798      2.30     Uber    Back Bay   Haymarket Square   30.5   \n",
       "603         3815      3.04     Uber    West End  Boston University    9.0   \n",
       "733         3816      3.04     Uber    West End  Boston University   25.0   \n",
       "864         1069      2.72     Uber    West End             Fenway    9.0   \n",
       "944         1070      1.44     Lyft    Back Bay             Fenway   27.5   \n",
       "951         2630      2.84     Lyft    West End             Fenway   16.5   \n",
       "1053        2629      2.84     Lyft    West End             Fenway   19.5   \n",
       "1333        1071      1.44     Lyft    Back Bay             Fenway   16.5   \n",
       "1602        2631      2.84     Lyft    West End             Fenway   26.0   \n",
       "1781        3817      3.04     Uber    West End  Boston University    9.0   \n",
       "\n",
       "      surge_multiplier                                    id  \\\n",
       "425                1.0  8b4b47cd-8398-4564-add7-9c55ef1ae144   \n",
       "481                1.0  2d61cf2b-2dbc-4c95-ae84-89a0e1ef6cb4   \n",
       "603                1.0  4ef6a5c7-e254-41ef-a6d7-78c4e5613a97   \n",
       "733                1.0  6d6fe9fa-743e-4958-bcee-dd8a7d4d7a63   \n",
       "864                1.0  af71ac42-de43-4aa7-b742-1fdcd7f25550   \n",
       "944                1.0  fa888248-99fd-44cd-be52-b6f9114254ff   \n",
       "951                1.0  4c4166b6-212b-40b8-b625-b9daf9fb7134   \n",
       "1053               1.0  1eb9ce60-4fb2-4a22-8814-4ab1cb3738c1   \n",
       "1333               1.0  ff3ee53f-5f14-4474-a057-869fa20f7ef8   \n",
       "1602               1.0  685c2277-5b5d-481a-9ede-feec6c8bcbe7   \n",
       "1781               1.0  88512d1b-0870-425b-b755-2789f0e48fd0   \n",
       "\n",
       "                                product_id          name  ...  wind  \\\n",
       "425   6f72dfc5-27f1-42e8-84db-ccc7a75f6969        UberXL  ...  3.85   \n",
       "481   6d318bcc-22a3-4af6-bddd-b409bfce1546     Black SUV  ...  2.44   \n",
       "603   9a0e7b09-b92b-4c41-9779-2ad22b4d779d           WAV  ...  3.85   \n",
       "733   6c84fd89-3f11-4782-9b50-97c468b19529         Black  ...  3.85   \n",
       "864   9a0e7b09-b92b-4c41-9779-2ad22b4d779d           WAV  ...  2.47   \n",
       "944                            lyft_luxsuv  Lux Black XL  ...  2.47   \n",
       "951                              lyft_plus       Lyft XL  ...  9.91   \n",
       "1053                          lyft_premier           Lux  ...  9.91   \n",
       "1333                              lyft_lux     Lux Black  ...  2.47   \n",
       "1602                              lyft_lux     Lux Black  ...  9.91   \n",
       "1781  997acbb5-e102-41e1-b155-9df7de0a73f2      UberPool  ...  3.85   \n",
       "\n",
       "                 time_weather  hour        date     day  wind_d_strength  \\\n",
       "425   2018-12-02 23:52:56.000    23  2018-12-02  Sunday              1.0   \n",
       "481   2018-12-02 19:53:05.000    19  2018-12-02  Sunday              1.0   \n",
       "603   2018-12-02 23:52:56.000    23  2018-12-02  Sunday              1.0   \n",
       "733   2018-12-02 23:52:56.000    23  2018-12-02  Sunday              1.0   \n",
       "864   2018-12-02 19:53:04.000    19  2018-12-02  Sunday              1.0   \n",
       "944   2018-12-02 19:53:04.000    19  2018-12-02  Sunday              1.0   \n",
       "951   2018-12-16 19:45:07.000    19  2018-12-16  Sunday              3.0   \n",
       "1053  2018-12-16 19:45:07.000    19  2018-12-16  Sunday              3.0   \n",
       "1333  2018-12-02 19:53:04.000    19  2018-12-02  Sunday              1.0   \n",
       "1602  2018-12-16 19:45:07.000    19  2018-12-16  Sunday              3.0   \n",
       "1781  2018-12-02 23:52:56.000    23  2018-12-02  Sunday              1.0   \n",
       "\n",
       "      pressure_d_strength  humidity_d_strength  humidity_strength_3  busyness  \n",
       "425                   3.0                  4.0                  3.0  Not Busy  \n",
       "481                   3.0                  4.0                  3.0      Busy  \n",
       "603                   3.0                  4.0                  3.0  Not Busy  \n",
       "733                   3.0                  4.0                  3.0  Not Busy  \n",
       "864                   3.0                  4.0                  3.0      Busy  \n",
       "944                   3.0                  4.0                  3.0      Busy  \n",
       "951                   4.0                  3.0                  2.0      Busy  \n",
       "1053                  4.0                  3.0                  2.0      Busy  \n",
       "1333                  3.0                  4.0                  3.0      Busy  \n",
       "1602                  4.0                  3.0                  2.0      Busy  \n",
       "1781                  3.0                  4.0                  3.0  Not Busy  \n",
       "\n",
       "[11 rows x 28 columns]"
      ]
     },
     "execution_count": 96,
     "metadata": {},
     "output_type": "execute_result"
    }
   ],
   "source": [
    "train.loc[train['day']=='Sunday']\n",
    "#only 11 rides\n",
    "#Although price varies significantly. May be helpful in overall prediction but not so much if stakeholders are looking for weekend predictions"
   ]
  },
  {
   "cell_type": "markdown",
   "id": "acab331a",
   "metadata": {},
   "source": [
    "## Developing the model"
   ]
  },
  {
   "cell_type": "markdown",
   "id": "ae5ec4c9",
   "metadata": {},
   "source": [
    "Put code with comments. The comments should explain the code such that it can be easily understood. You may put text *(in a markdown cell)* before a large chunk of code to explain the overall purpose of the code, if it is not intuitive. **Put the name of the person / persons who contributed to each code chunk / set of code chunks.**"
   ]
  },
  {
   "cell_type": "markdown",
   "id": "8efb4fb6",
   "metadata": {},
   "source": [
    "## Michael: Base Models Development"
   ]
  },
  {
   "cell_type": "code",
   "execution_count": 8,
   "id": "7dab14cb",
   "metadata": {},
   "outputs": [
    {
     "data": {
      "text/plain": [
       "16.821596244131456"
      ]
     },
     "execution_count": 8,
     "metadata": {},
     "output_type": "execute_result"
    }
   ],
   "source": [
    "#Test data mean for price variable\n",
    "test.price.mean()"
   ]
  },
  {
   "cell_type": "code",
   "execution_count": 7,
   "id": "5095ed21",
   "metadata": {},
   "outputs": [
    {
     "data": {
      "text/plain": [
       "9.862237316817094"
      ]
     },
     "execution_count": 7,
     "metadata": {},
     "output_type": "execute_result"
    }
   ],
   "source": [
    "#Test data standard deviation for price variable\n",
    "test.price.std()"
   ]
  },
  {
   "cell_type": "code",
   "execution_count": 3,
   "id": "e1bd10ea",
   "metadata": {},
   "outputs": [
    {
     "data": {
      "text/html": [
       "<table class=\"simpletable\">\n",
       "<caption>OLS Regression Results</caption>\n",
       "<tr>\n",
       "  <th>Dep. Variable:</th>          <td>price</td>      <th>  R-squared:         </th> <td>   0.118</td> \n",
       "</tr>\n",
       "<tr>\n",
       "  <th>Model:</th>                   <td>OLS</td>       <th>  Adj. R-squared:    </th> <td>   0.118</td> \n",
       "</tr>\n",
       "<tr>\n",
       "  <th>Method:</th>             <td>Least Squares</td>  <th>  F-statistic:       </th> <td>   333.2</td> \n",
       "</tr>\n",
       "<tr>\n",
       "  <th>Date:</th>             <td>Wed, 15 Mar 2023</td> <th>  Prob (F-statistic):</th> <td>5.96e-70</td> \n",
       "</tr>\n",
       "<tr>\n",
       "  <th>Time:</th>                 <td>04:16:25</td>     <th>  Log-Likelihood:    </th> <td> -8942.7</td> \n",
       "</tr>\n",
       "<tr>\n",
       "  <th>No. Observations:</th>      <td>  2483</td>      <th>  AIC:               </th> <td>1.789e+04</td>\n",
       "</tr>\n",
       "<tr>\n",
       "  <th>Df Residuals:</th>          <td>  2481</td>      <th>  BIC:               </th> <td>1.790e+04</td>\n",
       "</tr>\n",
       "<tr>\n",
       "  <th>Df Model:</th>              <td>     1</td>      <th>                     </th>     <td> </td>    \n",
       "</tr>\n",
       "<tr>\n",
       "  <th>Covariance Type:</th>      <td>nonrobust</td>    <th>                     </th>     <td> </td>    \n",
       "</tr>\n",
       "</table>\n",
       "<table class=\"simpletable\">\n",
       "<tr>\n",
       "      <td></td>         <th>coef</th>     <th>std err</th>      <th>t</th>      <th>P>|t|</th>  <th>[0.025</th>    <th>0.975]</th>  \n",
       "</tr>\n",
       "<tr>\n",
       "  <th>Intercept</th> <td>   10.2923</td> <td>    0.389</td> <td>   26.442</td> <td> 0.000</td> <td>    9.529</td> <td>   11.056</td>\n",
       "</tr>\n",
       "<tr>\n",
       "  <th>distance</th>  <td>    2.9060</td> <td>    0.159</td> <td>   18.254</td> <td> 0.000</td> <td>    2.594</td> <td>    3.218</td>\n",
       "</tr>\n",
       "</table>\n",
       "<table class=\"simpletable\">\n",
       "<tr>\n",
       "  <th>Omnibus:</th>       <td>481.603</td> <th>  Durbin-Watson:     </th> <td>   2.036</td> \n",
       "</tr>\n",
       "<tr>\n",
       "  <th>Prob(Omnibus):</th> <td> 0.000</td>  <th>  Jarque-Bera (JB):  </th> <td>1140.219</td> \n",
       "</tr>\n",
       "<tr>\n",
       "  <th>Skew:</th>          <td> 1.075</td>  <th>  Prob(JB):          </th> <td>2.54e-248</td>\n",
       "</tr>\n",
       "<tr>\n",
       "  <th>Kurtosis:</th>      <td> 5.530</td>  <th>  Cond. No.          </th> <td>    6.07</td> \n",
       "</tr>\n",
       "</table><br/><br/>Notes:<br/>[1] Standard Errors assume that the covariance matrix of the errors is correctly specified."
      ],
      "text/plain": [
       "<class 'statsmodels.iolib.summary.Summary'>\n",
       "\"\"\"\n",
       "                            OLS Regression Results                            \n",
       "==============================================================================\n",
       "Dep. Variable:                  price   R-squared:                       0.118\n",
       "Model:                            OLS   Adj. R-squared:                  0.118\n",
       "Method:                 Least Squares   F-statistic:                     333.2\n",
       "Date:                Wed, 15 Mar 2023   Prob (F-statistic):           5.96e-70\n",
       "Time:                        04:16:25   Log-Likelihood:                -8942.7\n",
       "No. Observations:                2483   AIC:                         1.789e+04\n",
       "Df Residuals:                    2481   BIC:                         1.790e+04\n",
       "Df Model:                           1                                         \n",
       "Covariance Type:            nonrobust                                         \n",
       "==============================================================================\n",
       "                 coef    std err          t      P>|t|      [0.025      0.975]\n",
       "------------------------------------------------------------------------------\n",
       "Intercept     10.2923      0.389     26.442      0.000       9.529      11.056\n",
       "distance       2.9060      0.159     18.254      0.000       2.594       3.218\n",
       "==============================================================================\n",
       "Omnibus:                      481.603   Durbin-Watson:                   2.036\n",
       "Prob(Omnibus):                  0.000   Jarque-Bera (JB):             1140.219\n",
       "Skew:                           1.075   Prob(JB):                    2.54e-248\n",
       "Kurtosis:                       5.530   Cond. No.                         6.07\n",
       "==============================================================================\n",
       "\n",
       "Notes:\n",
       "[1] Standard Errors assume that the covariance matrix of the errors is correctly specified.\n",
       "\"\"\""
      ]
     },
     "execution_count": 3,
     "metadata": {},
     "output_type": "execute_result"
    }
   ],
   "source": [
    "#Creating linear regression model with distance as only predictor as base model\n",
    "slr_model_initial = smf.ols(formula = 'price~distance', data = train).fit()\n",
    "slr_model_initial.summary()"
   ]
  },
  {
   "cell_type": "code",
   "execution_count": 4,
   "id": "91587f0c",
   "metadata": {},
   "outputs": [
    {
     "data": {
      "text/plain": [
       "9.162502675127415"
      ]
     },
     "execution_count": 4,
     "metadata": {},
     "output_type": "execute_result"
    }
   ],
   "source": [
    "#Calculating RMSE for test data for initial linear regression model with one predictor\n",
    "np.sqrt(((test.price - slr_model_initial.predict(test))**2).mean())"
   ]
  },
  {
   "cell_type": "code",
   "execution_count": 6,
   "id": "b46e273d",
   "metadata": {},
   "outputs": [
    {
     "data": {
      "text/plain": [
       "8.873038155281062"
      ]
     },
     "execution_count": 6,
     "metadata": {},
     "output_type": "execute_result"
    }
   ],
   "source": [
    "#Calculating RSE for train data for initial linear regression model with one predictor\n",
    "np.sqrt(slr_model_initial.mse_resid)"
   ]
  },
  {
   "cell_type": "code",
   "execution_count": 11,
   "id": "04d8ce31",
   "metadata": {},
   "outputs": [
    {
     "data": {
      "text/html": [
       "<table class=\"simpletable\">\n",
       "<caption>OLS Regression Results</caption>\n",
       "<tr>\n",
       "  <th>Dep. Variable:</th>          <td>price</td>      <th>  R-squared:         </th> <td>   0.887</td> \n",
       "</tr>\n",
       "<tr>\n",
       "  <th>Model:</th>                   <td>OLS</td>       <th>  Adj. R-squared:    </th> <td>   0.885</td> \n",
       "</tr>\n",
       "<tr>\n",
       "  <th>Method:</th>             <td>Least Squares</td>  <th>  F-statistic:       </th> <td>   581.0</td> \n",
       "</tr>\n",
       "<tr>\n",
       "  <th>Date:</th>             <td>Wed, 15 Mar 2023</td> <th>  Prob (F-statistic):</th>  <td>  0.00</td>  \n",
       "</tr>\n",
       "<tr>\n",
       "  <th>Time:</th>                 <td>04:22:37</td>     <th>  Log-Likelihood:    </th> <td> -6395.0</td> \n",
       "</tr>\n",
       "<tr>\n",
       "  <th>No. Observations:</th>      <td>  2483</td>      <th>  AIC:               </th> <td>1.286e+04</td>\n",
       "</tr>\n",
       "<tr>\n",
       "  <th>Df Residuals:</th>          <td>  2449</td>      <th>  BIC:               </th> <td>1.306e+04</td>\n",
       "</tr>\n",
       "<tr>\n",
       "  <th>Df Model:</th>              <td>    33</td>      <th>                     </th>     <td> </td>    \n",
       "</tr>\n",
       "<tr>\n",
       "  <th>Covariance Type:</th>      <td>nonrobust</td>    <th>                     </th>     <td> </td>    \n",
       "</tr>\n",
       "</table>\n",
       "<table class=\"simpletable\">\n",
       "<tr>\n",
       "                           <td></td>                             <th>coef</th>     <th>std err</th>      <th>t</th>      <th>P>|t|</th>  <th>[0.025</th>    <th>0.975]</th>  \n",
       "</tr>\n",
       "<tr>\n",
       "  <th>Intercept</th>                                          <td> 3.055e+12</td> <td> 4.14e+12</td> <td>    0.738</td> <td> 0.461</td> <td>-5.06e+12</td> <td> 1.12e+13</td>\n",
       "</tr>\n",
       "<tr>\n",
       "  <th>cab_type[T.Uber]</th>                                   <td>-6.709e+12</td> <td> 9.09e+12</td> <td>   -0.738</td> <td> 0.461</td> <td>-2.45e+13</td> <td> 1.11e+13</td>\n",
       "</tr>\n",
       "<tr>\n",
       "  <th>destination[T.Beacon Hill]</th>                         <td>   -0.3032</td> <td>    0.319</td> <td>   -0.951</td> <td> 0.342</td> <td>   -0.928</td> <td>    0.322</td>\n",
       "</tr>\n",
       "<tr>\n",
       "  <th>destination[T.Boston University]</th>                   <td> 8.655e+10</td> <td> 1.17e+11</td> <td>    0.738</td> <td> 0.461</td> <td>-1.43e+11</td> <td> 3.17e+11</td>\n",
       "</tr>\n",
       "<tr>\n",
       "  <th>destination[T.Fenway]</th>                              <td> 8.655e+10</td> <td> 1.17e+11</td> <td>    0.738</td> <td> 0.461</td> <td>-1.43e+11</td> <td> 3.17e+11</td>\n",
       "</tr>\n",
       "<tr>\n",
       "  <th>destination[T.Financial District]</th>                  <td>    0.1269</td> <td>    0.307</td> <td>    0.413</td> <td> 0.680</td> <td>   -0.475</td> <td>    0.729</td>\n",
       "</tr>\n",
       "<tr>\n",
       "  <th>destination[T.Haymarket Square]</th>                    <td> 8.655e+10</td> <td> 1.17e+11</td> <td>    0.738</td> <td> 0.461</td> <td>-1.43e+11</td> <td> 3.17e+11</td>\n",
       "</tr>\n",
       "<tr>\n",
       "  <th>destination[T.North End]</th>                           <td> 8.655e+10</td> <td> 1.17e+11</td> <td>    0.738</td> <td> 0.461</td> <td>-1.43e+11</td> <td> 3.17e+11</td>\n",
       "</tr>\n",
       "<tr>\n",
       "  <th>destination[T.North Station]</th>                       <td>    0.5213</td> <td>    0.305</td> <td>    1.707</td> <td> 0.088</td> <td>   -0.078</td> <td>    1.120</td>\n",
       "</tr>\n",
       "<tr>\n",
       "  <th>destination[T.Northeastern University]</th>             <td> 8.655e+10</td> <td> 1.17e+11</td> <td>    0.738</td> <td> 0.461</td> <td>-1.43e+11</td> <td> 3.17e+11</td>\n",
       "</tr>\n",
       "<tr>\n",
       "  <th>destination[T.South Station]</th>                       <td> 8.655e+10</td> <td> 1.17e+11</td> <td>    0.738</td> <td> 0.461</td> <td>-1.43e+11</td> <td> 3.17e+11</td>\n",
       "</tr>\n",
       "<tr>\n",
       "  <th>destination[T.Theatre District]</th>                    <td>    0.0474</td> <td>    0.307</td> <td>    0.155</td> <td> 0.877</td> <td>   -0.554</td> <td>    0.649</td>\n",
       "</tr>\n",
       "<tr>\n",
       "  <th>destination[T.West End]</th>                            <td>   -0.2009</td> <td>    0.318</td> <td>   -0.631</td> <td> 0.528</td> <td>   -0.825</td> <td>    0.423</td>\n",
       "</tr>\n",
       "<tr>\n",
       "  <th>source[T.Beacon Hill]</th>                              <td>   -1.1500</td> <td>    0.328</td> <td>   -3.504</td> <td> 0.000</td> <td>   -1.794</td> <td>   -0.506</td>\n",
       "</tr>\n",
       "<tr>\n",
       "  <th>source[T.Boston University]</th>                        <td> 8.655e+10</td> <td> 1.17e+11</td> <td>    0.738</td> <td> 0.461</td> <td>-1.43e+11</td> <td> 3.17e+11</td>\n",
       "</tr>\n",
       "<tr>\n",
       "  <th>source[T.Fenway]</th>                                   <td> 8.655e+10</td> <td> 1.17e+11</td> <td>    0.738</td> <td> 0.461</td> <td>-1.43e+11</td> <td> 3.17e+11</td>\n",
       "</tr>\n",
       "<tr>\n",
       "  <th>source[T.Financial District]</th>                       <td>   -0.0524</td> <td>    0.332</td> <td>   -0.158</td> <td> 0.875</td> <td>   -0.703</td> <td>    0.598</td>\n",
       "</tr>\n",
       "<tr>\n",
       "  <th>source[T.Haymarket Square]</th>                         <td> 8.655e+10</td> <td> 1.17e+11</td> <td>    0.738</td> <td> 0.461</td> <td>-1.43e+11</td> <td> 3.17e+11</td>\n",
       "</tr>\n",
       "<tr>\n",
       "  <th>source[T.North End]</th>                                <td> 8.655e+10</td> <td> 1.17e+11</td> <td>    0.738</td> <td> 0.461</td> <td>-1.43e+11</td> <td> 3.17e+11</td>\n",
       "</tr>\n",
       "<tr>\n",
       "  <th>source[T.North Station]</th>                            <td>   -1.2469</td> <td>    0.321</td> <td>   -3.879</td> <td> 0.000</td> <td>   -1.877</td> <td>   -0.617</td>\n",
       "</tr>\n",
       "<tr>\n",
       "  <th>source[T.Northeastern University]</th>                  <td> 8.655e+10</td> <td> 1.17e+11</td> <td>    0.738</td> <td> 0.461</td> <td>-1.43e+11</td> <td> 3.17e+11</td>\n",
       "</tr>\n",
       "<tr>\n",
       "  <th>source[T.South Station]</th>                            <td> 8.655e+10</td> <td> 1.17e+11</td> <td>    0.738</td> <td> 0.461</td> <td>-1.43e+11</td> <td> 3.17e+11</td>\n",
       "</tr>\n",
       "<tr>\n",
       "  <th>source[T.Theatre District]</th>                         <td>   -0.3737</td> <td>    0.328</td> <td>   -1.139</td> <td> 0.255</td> <td>   -1.017</td> <td>    0.269</td>\n",
       "</tr>\n",
       "<tr>\n",
       "  <th>source[T.West End]</th>                                 <td>   -0.8629</td> <td>    0.337</td> <td>   -2.563</td> <td> 0.010</td> <td>   -1.523</td> <td>   -0.203</td>\n",
       "</tr>\n",
       "<tr>\n",
       "  <th>product_id[T.6c84fd89-3f11-4782-9b50-97c468b19529]</th> <td> 3.568e+12</td> <td> 4.83e+12</td> <td>    0.738</td> <td> 0.461</td> <td>-5.91e+12</td> <td>  1.3e+13</td>\n",
       "</tr>\n",
       "<tr>\n",
       "  <th>product_id[T.6d318bcc-22a3-4af6-bddd-b409bfce1546]</th> <td> 1.829e+12</td> <td> 2.48e+12</td> <td>    0.738</td> <td> 0.461</td> <td>-3.03e+12</td> <td> 6.69e+12</td>\n",
       "</tr>\n",
       "<tr>\n",
       "  <th>product_id[T.6f72dfc5-27f1-42e8-84db-ccc7a75f6969]</th> <td> 1.867e+12</td> <td> 2.53e+12</td> <td>    0.738</td> <td> 0.461</td> <td>-3.09e+12</td> <td> 6.83e+12</td>\n",
       "</tr>\n",
       "<tr>\n",
       "  <th>product_id[T.997acbb5-e102-41e1-b155-9df7de0a73f2]</th> <td> 1.905e+12</td> <td> 2.58e+12</td> <td>    0.738</td> <td> 0.461</td> <td>-3.16e+12</td> <td> 6.97e+12</td>\n",
       "</tr>\n",
       "<tr>\n",
       "  <th>product_id[T.9a0e7b09-b92b-4c41-9779-2ad22b4d779d]</th> <td> 1.666e+12</td> <td> 2.26e+12</td> <td>    0.738</td> <td> 0.461</td> <td>-2.76e+12</td> <td> 6.09e+12</td>\n",
       "</tr>\n",
       "<tr>\n",
       "  <th>product_id[T.lyft]</th>                                 <td>-1.562e+12</td> <td> 2.12e+12</td> <td>   -0.738</td> <td> 0.461</td> <td>-5.71e+12</td> <td> 2.59e+12</td>\n",
       "</tr>\n",
       "<tr>\n",
       "  <th>product_id[T.lyft_line]</th>                            <td> -1.48e+12</td> <td> 2.01e+12</td> <td>   -0.738</td> <td> 0.461</td> <td>-5.41e+12</td> <td> 2.45e+12</td>\n",
       "</tr>\n",
       "<tr>\n",
       "  <th>product_id[T.lyft_lux]</th>                             <td>-1.515e+12</td> <td> 2.05e+12</td> <td>   -0.738</td> <td> 0.461</td> <td>-5.54e+12</td> <td> 2.51e+12</td>\n",
       "</tr>\n",
       "<tr>\n",
       "  <th>product_id[T.lyft_luxsuv]</th>                          <td>-1.578e+12</td> <td> 2.14e+12</td> <td>   -0.738</td> <td> 0.461</td> <td>-5.77e+12</td> <td> 2.62e+12</td>\n",
       "</tr>\n",
       "<tr>\n",
       "  <th>product_id[T.lyft_plus]</th>                            <td>-1.662e+12</td> <td> 2.25e+12</td> <td>   -0.738</td> <td> 0.461</td> <td>-6.08e+12</td> <td> 2.76e+12</td>\n",
       "</tr>\n",
       "<tr>\n",
       "  <th>product_id[T.lyft_premier]</th>                         <td>-1.571e+12</td> <td> 2.13e+12</td> <td>   -0.738</td> <td> 0.461</td> <td>-5.74e+12</td> <td>  2.6e+12</td>\n",
       "</tr>\n",
       "<tr>\n",
       "  <th>name[T.Black SUV]</th>                                  <td> 1.739e+12</td> <td> 2.36e+12</td> <td>    0.738</td> <td> 0.461</td> <td>-2.88e+12</td> <td> 6.36e+12</td>\n",
       "</tr>\n",
       "<tr>\n",
       "  <th>name[T.Lux]</th>                                        <td>-1.571e+12</td> <td> 2.13e+12</td> <td>   -0.738</td> <td> 0.461</td> <td>-5.74e+12</td> <td>  2.6e+12</td>\n",
       "</tr>\n",
       "<tr>\n",
       "  <th>name[T.Lux Black]</th>                                  <td>-1.626e+12</td> <td>  2.2e+12</td> <td>   -0.738</td> <td> 0.461</td> <td>-5.95e+12</td> <td> 2.69e+12</td>\n",
       "</tr>\n",
       "<tr>\n",
       "  <th>name[T.Lux Black XL]</th>                               <td>-1.563e+12</td> <td> 2.12e+12</td> <td>   -0.738</td> <td> 0.461</td> <td>-5.72e+12</td> <td> 2.59e+12</td>\n",
       "</tr>\n",
       "<tr>\n",
       "  <th>name[T.Lyft]</th>                                       <td>-1.579e+12</td> <td> 2.14e+12</td> <td>   -0.738</td> <td> 0.461</td> <td>-5.78e+12</td> <td> 2.62e+12</td>\n",
       "</tr>\n",
       "<tr>\n",
       "  <th>name[T.Lyft XL]</th>                                    <td>-1.479e+12</td> <td>    2e+12</td> <td>   -0.738</td> <td> 0.461</td> <td>-5.41e+12</td> <td> 2.45e+12</td>\n",
       "</tr>\n",
       "<tr>\n",
       "  <th>name[T.Shared]</th>                                     <td>-1.661e+12</td> <td> 2.25e+12</td> <td>   -0.738</td> <td> 0.461</td> <td>-6.08e+12</td> <td> 2.75e+12</td>\n",
       "</tr>\n",
       "<tr>\n",
       "  <th>name[T.UberPool]</th>                                   <td> 1.663e+12</td> <td> 2.25e+12</td> <td>    0.738</td> <td> 0.461</td> <td>-2.76e+12</td> <td> 6.08e+12</td>\n",
       "</tr>\n",
       "<tr>\n",
       "  <th>name[T.UberX]</th>                                      <td> 3.568e+12</td> <td> 4.83e+12</td> <td>    0.738</td> <td> 0.461</td> <td>-5.91e+12</td> <td>  1.3e+13</td>\n",
       "</tr>\n",
       "<tr>\n",
       "  <th>name[T.UberXL]</th>                                     <td> 1.701e+12</td> <td> 2.31e+12</td> <td>    0.738</td> <td> 0.461</td> <td>-2.82e+12</td> <td> 6.22e+12</td>\n",
       "</tr>\n",
       "<tr>\n",
       "  <th>name[T.WAV]</th>                                        <td> 1.902e+12</td> <td> 2.58e+12</td> <td>    0.738</td> <td> 0.461</td> <td>-3.15e+12</td> <td> 6.96e+12</td>\n",
       "</tr>\n",
       "<tr>\n",
       "  <th>distance</th>                                           <td>    3.0519</td> <td>    0.077</td> <td>   39.467</td> <td> 0.000</td> <td>    2.900</td> <td>    3.203</td>\n",
       "</tr>\n",
       "</table>\n",
       "<table class=\"simpletable\">\n",
       "<tr>\n",
       "  <th>Omnibus:</th>       <td>2647.553</td> <th>  Durbin-Watson:     </th>  <td>   1.934</td> \n",
       "</tr>\n",
       "<tr>\n",
       "  <th>Prob(Omnibus):</th>  <td> 0.000</td>  <th>  Jarque-Bera (JB):  </th> <td>333856.051</td>\n",
       "</tr>\n",
       "<tr>\n",
       "  <th>Skew:</th>           <td> 5.057</td>  <th>  Prob(JB):          </th>  <td>    0.00</td> \n",
       "</tr>\n",
       "<tr>\n",
       "  <th>Kurtosis:</th>       <td>58.899</td>  <th>  Cond. No.          </th>  <td>1.40e+16</td> \n",
       "</tr>\n",
       "</table><br/><br/>Notes:<br/>[1] Standard Errors assume that the covariance matrix of the errors is correctly specified.<br/>[2] The smallest eigenvalue is 9.23e-29. This might indicate that there are<br/>strong multicollinearity problems or that the design matrix is singular."
      ],
      "text/plain": [
       "<class 'statsmodels.iolib.summary.Summary'>\n",
       "\"\"\"\n",
       "                            OLS Regression Results                            \n",
       "==============================================================================\n",
       "Dep. Variable:                  price   R-squared:                       0.887\n",
       "Model:                            OLS   Adj. R-squared:                  0.885\n",
       "Method:                 Least Squares   F-statistic:                     581.0\n",
       "Date:                Wed, 15 Mar 2023   Prob (F-statistic):               0.00\n",
       "Time:                        04:22:37   Log-Likelihood:                -6395.0\n",
       "No. Observations:                2483   AIC:                         1.286e+04\n",
       "Df Residuals:                    2449   BIC:                         1.306e+04\n",
       "Df Model:                          33                                         \n",
       "Covariance Type:            nonrobust                                         \n",
       "======================================================================================================================\n",
       "                                                         coef    std err          t      P>|t|      [0.025      0.975]\n",
       "----------------------------------------------------------------------------------------------------------------------\n",
       "Intercept                                           3.055e+12   4.14e+12      0.738      0.461   -5.06e+12    1.12e+13\n",
       "cab_type[T.Uber]                                   -6.709e+12   9.09e+12     -0.738      0.461   -2.45e+13    1.11e+13\n",
       "destination[T.Beacon Hill]                            -0.3032      0.319     -0.951      0.342      -0.928       0.322\n",
       "destination[T.Boston University]                    8.655e+10   1.17e+11      0.738      0.461   -1.43e+11    3.17e+11\n",
       "destination[T.Fenway]                               8.655e+10   1.17e+11      0.738      0.461   -1.43e+11    3.17e+11\n",
       "destination[T.Financial District]                      0.1269      0.307      0.413      0.680      -0.475       0.729\n",
       "destination[T.Haymarket Square]                     8.655e+10   1.17e+11      0.738      0.461   -1.43e+11    3.17e+11\n",
       "destination[T.North End]                            8.655e+10   1.17e+11      0.738      0.461   -1.43e+11    3.17e+11\n",
       "destination[T.North Station]                           0.5213      0.305      1.707      0.088      -0.078       1.120\n",
       "destination[T.Northeastern University]              8.655e+10   1.17e+11      0.738      0.461   -1.43e+11    3.17e+11\n",
       "destination[T.South Station]                        8.655e+10   1.17e+11      0.738      0.461   -1.43e+11    3.17e+11\n",
       "destination[T.Theatre District]                        0.0474      0.307      0.155      0.877      -0.554       0.649\n",
       "destination[T.West End]                               -0.2009      0.318     -0.631      0.528      -0.825       0.423\n",
       "source[T.Beacon Hill]                                 -1.1500      0.328     -3.504      0.000      -1.794      -0.506\n",
       "source[T.Boston University]                         8.655e+10   1.17e+11      0.738      0.461   -1.43e+11    3.17e+11\n",
       "source[T.Fenway]                                    8.655e+10   1.17e+11      0.738      0.461   -1.43e+11    3.17e+11\n",
       "source[T.Financial District]                          -0.0524      0.332     -0.158      0.875      -0.703       0.598\n",
       "source[T.Haymarket Square]                          8.655e+10   1.17e+11      0.738      0.461   -1.43e+11    3.17e+11\n",
       "source[T.North End]                                 8.655e+10   1.17e+11      0.738      0.461   -1.43e+11    3.17e+11\n",
       "source[T.North Station]                               -1.2469      0.321     -3.879      0.000      -1.877      -0.617\n",
       "source[T.Northeastern University]                   8.655e+10   1.17e+11      0.738      0.461   -1.43e+11    3.17e+11\n",
       "source[T.South Station]                             8.655e+10   1.17e+11      0.738      0.461   -1.43e+11    3.17e+11\n",
       "source[T.Theatre District]                            -0.3737      0.328     -1.139      0.255      -1.017       0.269\n",
       "source[T.West End]                                    -0.8629      0.337     -2.563      0.010      -1.523      -0.203\n",
       "product_id[T.6c84fd89-3f11-4782-9b50-97c468b19529]  3.568e+12   4.83e+12      0.738      0.461   -5.91e+12     1.3e+13\n",
       "product_id[T.6d318bcc-22a3-4af6-bddd-b409bfce1546]  1.829e+12   2.48e+12      0.738      0.461   -3.03e+12    6.69e+12\n",
       "product_id[T.6f72dfc5-27f1-42e8-84db-ccc7a75f6969]  1.867e+12   2.53e+12      0.738      0.461   -3.09e+12    6.83e+12\n",
       "product_id[T.997acbb5-e102-41e1-b155-9df7de0a73f2]  1.905e+12   2.58e+12      0.738      0.461   -3.16e+12    6.97e+12\n",
       "product_id[T.9a0e7b09-b92b-4c41-9779-2ad22b4d779d]  1.666e+12   2.26e+12      0.738      0.461   -2.76e+12    6.09e+12\n",
       "product_id[T.lyft]                                 -1.562e+12   2.12e+12     -0.738      0.461   -5.71e+12    2.59e+12\n",
       "product_id[T.lyft_line]                             -1.48e+12   2.01e+12     -0.738      0.461   -5.41e+12    2.45e+12\n",
       "product_id[T.lyft_lux]                             -1.515e+12   2.05e+12     -0.738      0.461   -5.54e+12    2.51e+12\n",
       "product_id[T.lyft_luxsuv]                          -1.578e+12   2.14e+12     -0.738      0.461   -5.77e+12    2.62e+12\n",
       "product_id[T.lyft_plus]                            -1.662e+12   2.25e+12     -0.738      0.461   -6.08e+12    2.76e+12\n",
       "product_id[T.lyft_premier]                         -1.571e+12   2.13e+12     -0.738      0.461   -5.74e+12     2.6e+12\n",
       "name[T.Black SUV]                                   1.739e+12   2.36e+12      0.738      0.461   -2.88e+12    6.36e+12\n",
       "name[T.Lux]                                        -1.571e+12   2.13e+12     -0.738      0.461   -5.74e+12     2.6e+12\n",
       "name[T.Lux Black]                                  -1.626e+12    2.2e+12     -0.738      0.461   -5.95e+12    2.69e+12\n",
       "name[T.Lux Black XL]                               -1.563e+12   2.12e+12     -0.738      0.461   -5.72e+12    2.59e+12\n",
       "name[T.Lyft]                                       -1.579e+12   2.14e+12     -0.738      0.461   -5.78e+12    2.62e+12\n",
       "name[T.Lyft XL]                                    -1.479e+12      2e+12     -0.738      0.461   -5.41e+12    2.45e+12\n",
       "name[T.Shared]                                     -1.661e+12   2.25e+12     -0.738      0.461   -6.08e+12    2.75e+12\n",
       "name[T.UberPool]                                    1.663e+12   2.25e+12      0.738      0.461   -2.76e+12    6.08e+12\n",
       "name[T.UberX]                                       3.568e+12   4.83e+12      0.738      0.461   -5.91e+12     1.3e+13\n",
       "name[T.UberXL]                                      1.701e+12   2.31e+12      0.738      0.461   -2.82e+12    6.22e+12\n",
       "name[T.WAV]                                         1.902e+12   2.58e+12      0.738      0.461   -3.15e+12    6.96e+12\n",
       "distance                                               3.0519      0.077     39.467      0.000       2.900       3.203\n",
       "==============================================================================\n",
       "Omnibus:                     2647.553   Durbin-Watson:                   1.934\n",
       "Prob(Omnibus):                  0.000   Jarque-Bera (JB):           333856.051\n",
       "Skew:                           5.057   Prob(JB):                         0.00\n",
       "Kurtosis:                      58.899   Cond. No.                     1.40e+16\n",
       "==============================================================================\n",
       "\n",
       "Notes:\n",
       "[1] Standard Errors assume that the covariance matrix of the errors is correctly specified.\n",
       "[2] The smallest eigenvalue is 9.23e-29. This might indicate that there are\n",
       "strong multicollinearity problems or that the design matrix is singular.\n",
       "\"\"\""
      ]
     },
     "execution_count": 11,
     "metadata": {},
     "output_type": "execute_result"
    }
   ],
   "source": [
    "#Creating multiple linear regression model with all ride dataset predictors as base model\n",
    "mlr_model_initial = smf.ols(formula = 'price~distance+cab_type+destination+source+product_id+name', data = train).fit()\n",
    "mlr_model_initial.summary()"
   ]
  },
  {
   "cell_type": "code",
   "execution_count": 12,
   "id": "49563ca7",
   "metadata": {},
   "outputs": [
    {
     "data": {
      "text/plain": [
       "3.6270205260516555"
      ]
     },
     "execution_count": 12,
     "metadata": {},
     "output_type": "execute_result"
    }
   ],
   "source": [
    "#Calculating RMSE for test data for initial multiple linear regression model with six predictor\n",
    "np.sqrt(((test.price - mlr_model_initial.predict(test))**2).mean())"
   ]
  },
  {
   "cell_type": "code",
   "execution_count": 13,
   "id": "5bfe0aa2",
   "metadata": {},
   "outputs": [
    {
     "data": {
      "text/plain": [
       "3.2010534406204667"
      ]
     },
     "execution_count": 13,
     "metadata": {},
     "output_type": "execute_result"
    }
   ],
   "source": [
    "#Calculating RSE for train data for initial multiple linear regression model with six predictors\n",
    "np.sqrt(mlr_model_initial.mse_resid)"
   ]
  },
  {
   "cell_type": "code",
   "execution_count": 16,
   "id": "f66ce2b6",
   "metadata": {},
   "outputs": [
    {
     "data": {
      "image/png": "[encoded data removed]",
      "text/plain": [
       "<Figure size 432x288 with 1 Axes>"
      ]
     },
     "metadata": {
      "needs_background": "light"
     },
     "output_type": "display_data"
    }
   ],
   "source": [
    "#Plotting predicted price against actual price\n",
    "mlr_graph = sns.scatterplot(x = test.price, y = mlr_model_initial.predict(test))\n",
    "mlr_graph = sns.lineplot(x = [0, test.price.max()], y = [0, test.price.max()], color = 'orange')\n",
    "mlr_graph = mlr_graph.set(xlabel = 'Actual Price', ylabel = 'Predicted Price', title = 'Actual vs. Predicted Price - Initial')"
   ]
  },
  {
   "cell_type": "markdown",
   "id": "147b49d5",
   "metadata": {},
   "source": [
    "The above graph of actual vs. predicted price plot shows that the plotted points don't end up seeming to follow the exact line trend of predicted price = actual price as the actual price increases."
   ]
  },
  {
   "cell_type": "code",
   "execution_count": 17,
   "id": "533e3d6b",
   "metadata": {},
   "outputs": [
    {
     "data": {
      "image/png": "[encoded data removed]",
      "text/plain": [
       "<Figure size 432x288 with 1 Axes>"
      ]
     },
     "metadata": {
      "needs_background": "light"
     },
     "output_type": "display_data"
    }
   ],
   "source": [
    "#Plotting residuals against fitted values to address model assumptions\n",
    "mlr_residuals = sns.scatterplot(x = mlr_model_initial.fittedvalues, y=mlr_model_initial.resid,color = 'orange')\n",
    "mlr_residuals = sns.lineplot(x = [mlr_model_initial.fittedvalues.min(),mlr_model_initial.fittedvalues.max()],y = [0,0],color = 'blue')\n",
    "mlr_residuals = mlr_residuals.set(xlabel='Fitted Values', ylabel='Residuals', title='Residuals vs. Fitted Values - Initial')"
   ]
  },
  {
   "cell_type": "markdown",
   "id": "3fe2e968",
   "metadata": {},
   "source": [
    "While this base model did mostly seem to not violate the linearity assumption, there did seem to be a problematic trend as the fitted values increased that residuals tended to stray away from the line of residuals = 0 that could mean it violated the constant variance assumption. "
   ]
  },
  {
   "cell_type": "markdown",
   "id": "cb5184ff",
   "metadata": {},
   "source": [
    "### Keaton: Outlier/High-Leverage/Influential Point Detection and Analysis"
   ]
  },
  {
   "cell_type": "code",
   "execution_count": null,
   "id": "7431f325",
   "metadata": {},
   "outputs": [],
   "source": [
    "#get studentized residuals of baseline model\n",
    "out = mlr_model_initial.outlier_test()\n",
    "#output number of outliers in the data\n",
    "np.sum((np.abs(out.student_resid)>3))"
   ]
  },
  {
   "cell_type": "code",
   "execution_count": null,
   "id": "c56935ec",
   "metadata": {},
   "outputs": [],
   "source": [
    "#calculate number of outliers as percent of total observations\n",
    "25/train.shape[0]"
   ]
  },
  {
   "cell_type": "code",
   "execution_count": null,
   "id": "ca09a68c",
   "metadata": {},
   "outputs": [],
   "source": [
    "#get the influence of the observations\n",
    "influence = mlr_model_initial.get_influence()\n",
    "leverage = influence.hat_matrix_diag\n",
    "average_leverage = (mlr_model_initial.df_model+1)/mlr_model_initial.nobs"
   ]
  },
  {
   "cell_type": "code",
   "execution_count": null,
   "id": "32bb83c5",
   "metadata": {},
   "outputs": [],
   "source": [
    "#calculate the high leverage threshold\n",
    "high_leverage_threshold = 4*average_leverage\n",
    "#output the number of high leverage points\n",
    "np.sum(leverage>high_leverage_threshold)"
   ]
  },
  {
   "cell_type": "code",
   "execution_count": 18,
   "id": "b9151d98",
   "metadata": {},
   "outputs": [
    {
     "ename": "PatsyError",
     "evalue": "Error evaluating factor: NameError: name 'product_xl' is not defined\n    price~distance+uber+temp+clouds+pressure+rain+humidity+wind+product_accessible+product_luxury+product_shared+product_standard+product_suv+product_town_car+product_xl\n                                                                                                                                                               ^^^^^^^^^^",
     "output_type": "error",
     "traceback": [
      "\u001b[0;31m---------------------------------------------------------------------------\u001b[0m",
      "\u001b[0;31mNameError\u001b[0m                                 Traceback (most recent call last)",
      "\u001b[0;32m~/opt/anaconda3/lib/python3.9/site-packages/patsy/compat.py\u001b[0m in \u001b[0;36mcall_and_wrap_exc\u001b[0;34m(msg, origin, f, *args, **kwargs)\u001b[0m\n\u001b[1;32m     35\u001b[0m     \u001b[0;32mtry\u001b[0m\u001b[0;34m:\u001b[0m\u001b[0;34m\u001b[0m\u001b[0;34m\u001b[0m\u001b[0m\n\u001b[0;32m---> 36\u001b[0;31m         \u001b[0;32mreturn\u001b[0m \u001b[0mf\u001b[0m\u001b[0;34m(\u001b[0m\u001b[0;34m*\u001b[0m\u001b[0margs\u001b[0m\u001b[0;34m,\u001b[0m \u001b[0;34m**\u001b[0m\u001b[0mkwargs\u001b[0m\u001b[0;34m)\u001b[0m\u001b[0;34m\u001b[0m\u001b[0;34m\u001b[0m\u001b[0m\n\u001b[0m\u001b[1;32m     37\u001b[0m     \u001b[0;32mexcept\u001b[0m \u001b[0mException\u001b[0m \u001b[0;32mas\u001b[0m \u001b[0me\u001b[0m\u001b[0;34m:\u001b[0m\u001b[0;34m\u001b[0m\u001b[0;34m\u001b[0m\u001b[0m\n",
      "\u001b[0;32m~/opt/anaconda3/lib/python3.9/site-packages/patsy/eval.py\u001b[0m in \u001b[0;36meval\u001b[0;34m(self, expr, source_name, inner_namespace)\u001b[0m\n\u001b[1;32m    164\u001b[0m         \u001b[0mcode\u001b[0m \u001b[0;34m=\u001b[0m \u001b[0mcompile\u001b[0m\u001b[0;34m(\u001b[0m\u001b[0mexpr\u001b[0m\u001b[0;34m,\u001b[0m \u001b[0msource_name\u001b[0m\u001b[0;34m,\u001b[0m \u001b[0;34m\"eval\"\u001b[0m\u001b[0;34m,\u001b[0m \u001b[0mself\u001b[0m\u001b[0;34m.\u001b[0m\u001b[0mflags\u001b[0m\u001b[0;34m,\u001b[0m \u001b[0;32mFalse\u001b[0m\u001b[0;34m)\u001b[0m\u001b[0;34m\u001b[0m\u001b[0;34m\u001b[0m\u001b[0m\n\u001b[0;32m--> 165\u001b[0;31m         return eval(code, {}, VarLookupDict([inner_namespace]\n\u001b[0m\u001b[1;32m    166\u001b[0m                                             + self._namespaces))\n",
      "\u001b[0;32m<string>\u001b[0m in \u001b[0;36m<module>\u001b[0;34m\u001b[0m\n",
      "\u001b[0;31mNameError\u001b[0m: name 'product_xl' is not defined",
      "\nThe above exception was the direct cause of the following exception:\n",
      "\u001b[0;31mPatsyError\u001b[0m                                Traceback (most recent call last)",
      "\u001b[0;32m/var/folders/xj/kzdhj0ns3pq1kp5_tls5y2t80000gn/T/ipykernel_62009/2086996784.py\u001b[0m in \u001b[0;36m<module>\u001b[0;34m\u001b[0m\n\u001b[0;32m----> 1\u001b[0;31m \u001b[0mmlr_model_weather\u001b[0m \u001b[0;34m=\u001b[0m \u001b[0msmf\u001b[0m\u001b[0;34m.\u001b[0m\u001b[0mols\u001b[0m\u001b[0;34m(\u001b[0m\u001b[0mformula\u001b[0m \u001b[0;34m=\u001b[0m \u001b[0;34m'price~distance+uber+temp+clouds+pressure+rain+humidity+wind+product_accessible+product_luxury+product_shared+product_standard+product_suv+product_town_car+product_xl'\u001b[0m\u001b[0;34m,\u001b[0m \u001b[0mdata\u001b[0m \u001b[0;34m=\u001b[0m \u001b[0mtrain\u001b[0m\u001b[0;34m)\u001b[0m\u001b[0;34m.\u001b[0m\u001b[0mfit\u001b[0m\u001b[0;34m(\u001b[0m\u001b[0;34m)\u001b[0m\u001b[0;34m\u001b[0m\u001b[0;34m\u001b[0m\u001b[0m\n\u001b[0m\u001b[1;32m      2\u001b[0m \u001b[0mmlr_model_weather\u001b[0m\u001b[0;34m.\u001b[0m\u001b[0msummary\u001b[0m\u001b[0;34m(\u001b[0m\u001b[0;34m)\u001b[0m\u001b[0;34m\u001b[0m\u001b[0;34m\u001b[0m\u001b[0m\n",
      "\u001b[0;32m~/opt/anaconda3/lib/python3.9/site-packages/statsmodels/base/model.py\u001b[0m in \u001b[0;36mfrom_formula\u001b[0;34m(cls, formula, data, subset, drop_cols, *args, **kwargs)\u001b[0m\n\u001b[1;32m    167\u001b[0m             \u001b[0mmissing\u001b[0m \u001b[0;34m=\u001b[0m \u001b[0;34m'raise'\u001b[0m\u001b[0;34m\u001b[0m\u001b[0;34m\u001b[0m\u001b[0m\n\u001b[1;32m    168\u001b[0m \u001b[0;34m\u001b[0m\u001b[0m\n\u001b[0;32m--> 169\u001b[0;31m         tmp = handle_formula_data(data, None, formula, depth=eval_env,\n\u001b[0m\u001b[1;32m    170\u001b[0m                                   missing=missing)\n\u001b[1;32m    171\u001b[0m         \u001b[0;34m(\u001b[0m\u001b[0;34m(\u001b[0m\u001b[0mendog\u001b[0m\u001b[0;34m,\u001b[0m \u001b[0mexog\u001b[0m\u001b[0;34m)\u001b[0m\u001b[0;34m,\u001b[0m \u001b[0mmissing_idx\u001b[0m\u001b[0;34m,\u001b[0m \u001b[0mdesign_info\u001b[0m\u001b[0;34m)\u001b[0m \u001b[0;34m=\u001b[0m \u001b[0mtmp\u001b[0m\u001b[0;34m\u001b[0m\u001b[0;34m\u001b[0m\u001b[0m\n",
      "\u001b[0;32m~/opt/anaconda3/lib/python3.9/site-packages/statsmodels/formula/formulatools.py\u001b[0m in \u001b[0;36mhandle_formula_data\u001b[0;34m(Y, X, formula, depth, missing)\u001b[0m\n\u001b[1;32m     61\u001b[0m     \u001b[0;32melse\u001b[0m\u001b[0;34m:\u001b[0m\u001b[0;34m\u001b[0m\u001b[0;34m\u001b[0m\u001b[0m\n\u001b[1;32m     62\u001b[0m         \u001b[0;32mif\u001b[0m \u001b[0mdata_util\u001b[0m\u001b[0;34m.\u001b[0m\u001b[0m_is_using_pandas\u001b[0m\u001b[0;34m(\u001b[0m\u001b[0mY\u001b[0m\u001b[0;34m,\u001b[0m \u001b[0;32mNone\u001b[0m\u001b[0;34m)\u001b[0m\u001b[0;34m:\u001b[0m\u001b[0;34m\u001b[0m\u001b[0;34m\u001b[0m\u001b[0m\n\u001b[0;32m---> 63\u001b[0;31m             result = dmatrices(formula, Y, depth, return_type='dataframe',\n\u001b[0m\u001b[1;32m     64\u001b[0m                                NA_action=na_action)\n\u001b[1;32m     65\u001b[0m         \u001b[0;32melse\u001b[0m\u001b[0;34m:\u001b[0m\u001b[0;34m\u001b[0m\u001b[0;34m\u001b[0m\u001b[0m\n",
      "\u001b[0;32m~/opt/anaconda3/lib/python3.9/site-packages/patsy/highlevel.py\u001b[0m in \u001b[0;36mdmatrices\u001b[0;34m(formula_like, data, eval_env, NA_action, return_type)\u001b[0m\n\u001b[1;32m    307\u001b[0m     \"\"\"\n\u001b[1;32m    308\u001b[0m     \u001b[0meval_env\u001b[0m \u001b[0;34m=\u001b[0m \u001b[0mEvalEnvironment\u001b[0m\u001b[0;34m.\u001b[0m\u001b[0mcapture\u001b[0m\u001b[0;34m(\u001b[0m\u001b[0meval_env\u001b[0m\u001b[0;34m,\u001b[0m \u001b[0mreference\u001b[0m\u001b[0;34m=\u001b[0m\u001b[0;36m1\u001b[0m\u001b[0;34m)\u001b[0m\u001b[0;34m\u001b[0m\u001b[0;34m\u001b[0m\u001b[0m\n\u001b[0;32m--> 309\u001b[0;31m     (lhs, rhs) = _do_highlevel_design(formula_like, data, eval_env,\n\u001b[0m\u001b[1;32m    310\u001b[0m                                       NA_action, return_type)\n\u001b[1;32m    311\u001b[0m     \u001b[0;32mif\u001b[0m \u001b[0mlhs\u001b[0m\u001b[0;34m.\u001b[0m\u001b[0mshape\u001b[0m\u001b[0;34m[\u001b[0m\u001b[0;36m1\u001b[0m\u001b[0;34m]\u001b[0m \u001b[0;34m==\u001b[0m \u001b[0;36m0\u001b[0m\u001b[0;34m:\u001b[0m\u001b[0;34m\u001b[0m\u001b[0;34m\u001b[0m\u001b[0m\n",
      "\u001b[0;32m~/opt/anaconda3/lib/python3.9/site-packages/patsy/highlevel.py\u001b[0m in \u001b[0;36m_do_highlevel_design\u001b[0;34m(formula_like, data, eval_env, NA_action, return_type)\u001b[0m\n\u001b[1;32m    162\u001b[0m     \u001b[0;32mdef\u001b[0m \u001b[0mdata_iter_maker\u001b[0m\u001b[0;34m(\u001b[0m\u001b[0;34m)\u001b[0m\u001b[0;34m:\u001b[0m\u001b[0;34m\u001b[0m\u001b[0;34m\u001b[0m\u001b[0m\n\u001b[1;32m    163\u001b[0m         \u001b[0;32mreturn\u001b[0m \u001b[0miter\u001b[0m\u001b[0;34m(\u001b[0m\u001b[0;34m[\u001b[0m\u001b[0mdata\u001b[0m\u001b[0;34m]\u001b[0m\u001b[0;34m)\u001b[0m\u001b[0;34m\u001b[0m\u001b[0;34m\u001b[0m\u001b[0m\n\u001b[0;32m--> 164\u001b[0;31m     design_infos = _try_incr_builders(formula_like, data_iter_maker, eval_env,\n\u001b[0m\u001b[1;32m    165\u001b[0m                                       NA_action)\n\u001b[1;32m    166\u001b[0m     \u001b[0;32mif\u001b[0m \u001b[0mdesign_infos\u001b[0m \u001b[0;32mis\u001b[0m \u001b[0;32mnot\u001b[0m \u001b[0;32mNone\u001b[0m\u001b[0;34m:\u001b[0m\u001b[0;34m\u001b[0m\u001b[0;34m\u001b[0m\u001b[0m\n",
      "\u001b[0;32m~/opt/anaconda3/lib/python3.9/site-packages/patsy/highlevel.py\u001b[0m in \u001b[0;36m_try_incr_builders\u001b[0;34m(formula_like, data_iter_maker, eval_env, NA_action)\u001b[0m\n\u001b[1;32m     64\u001b[0m     \u001b[0;32mif\u001b[0m \u001b[0misinstance\u001b[0m\u001b[0;34m(\u001b[0m\u001b[0mformula_like\u001b[0m\u001b[0;34m,\u001b[0m \u001b[0mModelDesc\u001b[0m\u001b[0;34m)\u001b[0m\u001b[0;34m:\u001b[0m\u001b[0;34m\u001b[0m\u001b[0;34m\u001b[0m\u001b[0m\n\u001b[1;32m     65\u001b[0m         \u001b[0;32massert\u001b[0m \u001b[0misinstance\u001b[0m\u001b[0;34m(\u001b[0m\u001b[0meval_env\u001b[0m\u001b[0;34m,\u001b[0m \u001b[0mEvalEnvironment\u001b[0m\u001b[0;34m)\u001b[0m\u001b[0;34m\u001b[0m\u001b[0;34m\u001b[0m\u001b[0m\n\u001b[0;32m---> 66\u001b[0;31m         return design_matrix_builders([formula_like.lhs_termlist,\n\u001b[0m\u001b[1;32m     67\u001b[0m                                        formula_like.rhs_termlist],\n\u001b[1;32m     68\u001b[0m                                       \u001b[0mdata_iter_maker\u001b[0m\u001b[0;34m,\u001b[0m\u001b[0;34m\u001b[0m\u001b[0;34m\u001b[0m\u001b[0m\n",
      "\u001b[0;32m~/opt/anaconda3/lib/python3.9/site-packages/patsy/build.py\u001b[0m in \u001b[0;36mdesign_matrix_builders\u001b[0;34m(termlists, data_iter_maker, eval_env, NA_action)\u001b[0m\n\u001b[1;32m    691\u001b[0m     \u001b[0;31m# on some data to find out what type of data they return.\u001b[0m\u001b[0;34m\u001b[0m\u001b[0;34m\u001b[0m\u001b[0m\n\u001b[1;32m    692\u001b[0m     (num_column_counts,\n\u001b[0;32m--> 693\u001b[0;31m      \u001b[0mcat_levels_contrasts\u001b[0m\u001b[0;34m)\u001b[0m \u001b[0;34m=\u001b[0m \u001b[0m_examine_factor_types\u001b[0m\u001b[0;34m(\u001b[0m\u001b[0mall_factors\u001b[0m\u001b[0;34m,\u001b[0m\u001b[0;34m\u001b[0m\u001b[0;34m\u001b[0m\u001b[0m\n\u001b[0m\u001b[1;32m    694\u001b[0m                                                    \u001b[0mfactor_states\u001b[0m\u001b[0;34m,\u001b[0m\u001b[0;34m\u001b[0m\u001b[0;34m\u001b[0m\u001b[0m\n\u001b[1;32m    695\u001b[0m                                                    \u001b[0mdata_iter_maker\u001b[0m\u001b[0;34m,\u001b[0m\u001b[0;34m\u001b[0m\u001b[0;34m\u001b[0m\u001b[0m\n",
      "\u001b[0;32m~/opt/anaconda3/lib/python3.9/site-packages/patsy/build.py\u001b[0m in \u001b[0;36m_examine_factor_types\u001b[0;34m(factors, factor_states, data_iter_maker, NA_action)\u001b[0m\n\u001b[1;32m    441\u001b[0m     \u001b[0;32mfor\u001b[0m \u001b[0mdata\u001b[0m \u001b[0;32min\u001b[0m \u001b[0mdata_iter_maker\u001b[0m\u001b[0;34m(\u001b[0m\u001b[0;34m)\u001b[0m\u001b[0;34m:\u001b[0m\u001b[0;34m\u001b[0m\u001b[0;34m\u001b[0m\u001b[0m\n\u001b[1;32m    442\u001b[0m         \u001b[0;32mfor\u001b[0m \u001b[0mfactor\u001b[0m \u001b[0;32min\u001b[0m \u001b[0mlist\u001b[0m\u001b[0;34m(\u001b[0m\u001b[0mexamine_needed\u001b[0m\u001b[0;34m)\u001b[0m\u001b[0;34m:\u001b[0m\u001b[0;34m\u001b[0m\u001b[0;34m\u001b[0m\u001b[0m\n\u001b[0;32m--> 443\u001b[0;31m             \u001b[0mvalue\u001b[0m \u001b[0;34m=\u001b[0m \u001b[0mfactor\u001b[0m\u001b[0;34m.\u001b[0m\u001b[0meval\u001b[0m\u001b[0;34m(\u001b[0m\u001b[0mfactor_states\u001b[0m\u001b[0;34m[\u001b[0m\u001b[0mfactor\u001b[0m\u001b[0;34m]\u001b[0m\u001b[0;34m,\u001b[0m \u001b[0mdata\u001b[0m\u001b[0;34m)\u001b[0m\u001b[0;34m\u001b[0m\u001b[0;34m\u001b[0m\u001b[0m\n\u001b[0m\u001b[1;32m    444\u001b[0m             \u001b[0;32mif\u001b[0m \u001b[0mfactor\u001b[0m \u001b[0;32min\u001b[0m \u001b[0mcat_sniffers\u001b[0m \u001b[0;32mor\u001b[0m \u001b[0mguess_categorical\u001b[0m\u001b[0;34m(\u001b[0m\u001b[0mvalue\u001b[0m\u001b[0;34m)\u001b[0m\u001b[0;34m:\u001b[0m\u001b[0;34m\u001b[0m\u001b[0;34m\u001b[0m\u001b[0m\n\u001b[1;32m    445\u001b[0m                 \u001b[0;32mif\u001b[0m \u001b[0mfactor\u001b[0m \u001b[0;32mnot\u001b[0m \u001b[0;32min\u001b[0m \u001b[0mcat_sniffers\u001b[0m\u001b[0;34m:\u001b[0m\u001b[0;34m\u001b[0m\u001b[0;34m\u001b[0m\u001b[0m\n",
      "\u001b[0;32m~/opt/anaconda3/lib/python3.9/site-packages/patsy/eval.py\u001b[0m in \u001b[0;36meval\u001b[0;34m(self, memorize_state, data)\u001b[0m\n\u001b[1;32m    562\u001b[0m \u001b[0;34m\u001b[0m\u001b[0m\n\u001b[1;32m    563\u001b[0m     \u001b[0;32mdef\u001b[0m \u001b[0meval\u001b[0m\u001b[0;34m(\u001b[0m\u001b[0mself\u001b[0m\u001b[0;34m,\u001b[0m \u001b[0mmemorize_state\u001b[0m\u001b[0;34m,\u001b[0m \u001b[0mdata\u001b[0m\u001b[0;34m)\u001b[0m\u001b[0;34m:\u001b[0m\u001b[0;34m\u001b[0m\u001b[0;34m\u001b[0m\u001b[0m\n\u001b[0;32m--> 564\u001b[0;31m         return self._eval(memorize_state[\"eval_code\"],\n\u001b[0m\u001b[1;32m    565\u001b[0m                           \u001b[0mmemorize_state\u001b[0m\u001b[0;34m,\u001b[0m\u001b[0;34m\u001b[0m\u001b[0;34m\u001b[0m\u001b[0m\n\u001b[1;32m    566\u001b[0m                           data)\n",
      "\u001b[0;32m~/opt/anaconda3/lib/python3.9/site-packages/patsy/eval.py\u001b[0m in \u001b[0;36m_eval\u001b[0;34m(self, code, memorize_state, data)\u001b[0m\n\u001b[1;32m    545\u001b[0m     \u001b[0;32mdef\u001b[0m \u001b[0m_eval\u001b[0m\u001b[0;34m(\u001b[0m\u001b[0mself\u001b[0m\u001b[0;34m,\u001b[0m \u001b[0mcode\u001b[0m\u001b[0;34m,\u001b[0m \u001b[0mmemorize_state\u001b[0m\u001b[0;34m,\u001b[0m \u001b[0mdata\u001b[0m\u001b[0;34m)\u001b[0m\u001b[0;34m:\u001b[0m\u001b[0;34m\u001b[0m\u001b[0;34m\u001b[0m\u001b[0m\n\u001b[1;32m    546\u001b[0m         \u001b[0minner_namespace\u001b[0m \u001b[0;34m=\u001b[0m \u001b[0mVarLookupDict\u001b[0m\u001b[0;34m(\u001b[0m\u001b[0;34m[\u001b[0m\u001b[0mdata\u001b[0m\u001b[0;34m,\u001b[0m \u001b[0mmemorize_state\u001b[0m\u001b[0;34m[\u001b[0m\u001b[0;34m\"transforms\"\u001b[0m\u001b[0;34m]\u001b[0m\u001b[0;34m]\u001b[0m\u001b[0;34m)\u001b[0m\u001b[0;34m\u001b[0m\u001b[0;34m\u001b[0m\u001b[0m\n\u001b[0;32m--> 547\u001b[0;31m         return call_and_wrap_exc(\"Error evaluating factor\",\n\u001b[0m\u001b[1;32m    548\u001b[0m                                  \u001b[0mself\u001b[0m\u001b[0;34m,\u001b[0m\u001b[0;34m\u001b[0m\u001b[0;34m\u001b[0m\u001b[0m\n\u001b[1;32m    549\u001b[0m                                  \u001b[0mmemorize_state\u001b[0m\u001b[0;34m[\u001b[0m\u001b[0;34m\"eval_env\"\u001b[0m\u001b[0;34m]\u001b[0m\u001b[0;34m.\u001b[0m\u001b[0meval\u001b[0m\u001b[0;34m,\u001b[0m\u001b[0;34m\u001b[0m\u001b[0;34m\u001b[0m\u001b[0m\n",
      "\u001b[0;32m~/opt/anaconda3/lib/python3.9/site-packages/patsy/compat.py\u001b[0m in \u001b[0;36mcall_and_wrap_exc\u001b[0;34m(msg, origin, f, *args, **kwargs)\u001b[0m\n\u001b[1;32m     41\u001b[0m                                  origin)\n\u001b[1;32m     42\u001b[0m             \u001b[0;31m# Use 'exec' to hide this syntax from the Python 2 parser:\u001b[0m\u001b[0;34m\u001b[0m\u001b[0;34m\u001b[0m\u001b[0m\n\u001b[0;32m---> 43\u001b[0;31m             \u001b[0mexec\u001b[0m\u001b[0;34m(\u001b[0m\u001b[0;34m\"raise new_exc from e\"\u001b[0m\u001b[0;34m)\u001b[0m\u001b[0;34m\u001b[0m\u001b[0;34m\u001b[0m\u001b[0m\n\u001b[0m\u001b[1;32m     44\u001b[0m         \u001b[0;32melse\u001b[0m\u001b[0;34m:\u001b[0m\u001b[0;34m\u001b[0m\u001b[0;34m\u001b[0m\u001b[0m\n\u001b[1;32m     45\u001b[0m             \u001b[0;31m# In python 2, we just let the original exception escape -- better\u001b[0m\u001b[0;34m\u001b[0m\u001b[0;34m\u001b[0m\u001b[0m\n",
      "\u001b[0;32m~/opt/anaconda3/lib/python3.9/site-packages/patsy/compat.py\u001b[0m in \u001b[0;36m<module>\u001b[0;34m\u001b[0m\n",
      "\u001b[0;31mPatsyError\u001b[0m: Error evaluating factor: NameError: name 'product_xl' is not defined\n    price~distance+uber+temp+clouds+pressure+rain+humidity+wind+product_accessible+product_luxury+product_shared+product_standard+product_suv+product_town_car+product_xl\n                                                                                                                                                               ^^^^^^^^^^"
     ]
    }
   ],
   "source": [
    "mlr_model_weather = smf.ols(formula = 'price~distance+uber+temp+clouds+pressure+rain+humidity+wind+product_accessible+product_luxury+product_shared+product_standard+product_suv+product_town_car+product_xl', data = train).fit()\n",
    "mlr_model_weather.summary()"
   ]
  },
  {
   "cell_type": "code",
   "execution_count": null,
   "id": "f8982e25",
   "metadata": {},
   "outputs": [],
   "source": []
  },
  {
   "cell_type": "markdown",
   "id": "6444e611",
   "metadata": {},
   "source": [
    "### Code fitting the final model"
   ]
  },
  {
   "cell_type": "markdown",
   "id": "f6cae72f",
   "metadata": {},
   "source": [
    "Put the code(s) that fit the final model(s) in separate cell(s), i.e., the code with the `.ols()` or `.logit()` functions."
   ]
  },
  {
   "cell_type": "markdown",
   "id": "62a185cb",
   "metadata": {},
   "source": [
    "## Conclusions and Recommendations to stakeholder(s)\n",
    "\n",
    "You may or may not have code to put in this section. Delete this section if it is irrelevant."
   ]
  }
 ],
 "metadata": {
  "kernelspec": {
   "display_name": "Python 3 (ipykernel)",
   "language": "python",
   "name": "python3"
  },
  "language_info": {
   "codemirror_mode": {
    "name": "ipython",
    "version": 3
   },
   "file_extension": ".py",
   "mimetype": "text/x-python",
   "name": "python",
   "nbconvert_exporter": "python",
   "pygments_lexer": "ipython3",
   "version": "3.9.12"
  }
 },
 "nbformat": 4,
 "nbformat_minor": 5
}
