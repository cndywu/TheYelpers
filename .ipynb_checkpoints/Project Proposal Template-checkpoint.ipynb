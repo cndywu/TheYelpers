{
 "cells": [
  {
   "cell_type": "raw",
   "id": "33dd6c4c",
   "metadata": {},
   "source": [
    "---\n",
    "title: \"Project proposal\"\n",
    "format: \n",
    "  html:\n",
    "    toc: true\n",
    "    toc-title: Contents\n",
    "    code-fold: show\n",
    "    self-contained: true\n",
    "jupyter: python3\n",
    "---"
   ]
  },
  {
   "cell_type": "markdown",
   "id": "0116f49b",
   "metadata": {},
   "source": [
    "## Instructions {-}\n",
    "\n",
    "1. Please answer the following questions as part of your project proposal.\n",
    "\n",
    "2. Write your answers in the *Markdown* cells of the Jupyter notebook. You don't need to write any code, but if you want to, you may use the *Code* cells.\n",
    "\n",
    "3. Use [Quarto](https://quarto.org/docs/output-formats/html-basics.html) to print the *.ipynb* file as HTML. You will need to open the command prompt, navigate to the directory containing the file, and use the command: `quarto render filename.ipynb --to html`. Submit the HTML file.\n",
    "\n",
    "4. The project proposal is worth 8 points, and is due on **27th January 2023 at 11:59 pm**. \n",
    "\n",
    "5. You must make one submission as a group, and not individually.\n",
    "\n",
    "6. Each team member must have at least **one commit** on the team's github repository. No points will be awarded to the team member(s) with no commits.\n",
    "\n",
    "7. Share the link of your project's GitHub repository [here](https://docs.google.com/spreadsheets/d/1khao3unpj_vsx4kOSg_Zzo77YK1UWL2w73Oa0aAirOo/edit#gid=0)."
   ]
  },
  {
   "cell_type": "markdown",
   "id": "fe7ea9bb",
   "metadata": {},
   "source": [
    "# 1) Team name\n",
    "Mention your team name.\n",
    "\n",
    "*(0 points)*"
   ]
  },
  {
   "cell_type": "markdown",
   "id": "97f0535f",
   "metadata": {},
   "source": [
    "The Yelpers"
   ]
  },
  {
   "cell_type": "markdown",
   "id": "16fccc9b",
   "metadata": {},
   "source": [
    "# 2) Member names\n",
    "Mention the names of your team members.\n",
    "\n",
    "*(0 points)*"
   ]
  },
  {
   "cell_type": "markdown",
   "id": "abbbef67",
   "metadata": {},
   "source": [
    "Michael Kim, Cindy Wu, Keaton Olds, Sabrina Kozarovitsky"
   ]
  },
  {
   "cell_type": "markdown",
   "id": "220a6528",
   "metadata": {},
   "source": [
    "# 3) Link to the GitHub repository\n",
    "Share the link of the team's project repository on GitHub.\n",
    "\n",
    "Also, put the link of your project's GitHub repository [here](https://docs.google.com/spreadsheets/d/1khao3unpj_vsx4kOSg_Zzo77YK1UWL2w73Oa0aAirOo/edit#gid=0).\n",
    "\n",
    "We believe there is no harm in having other teams view your GitHub repository. However, if you don't want anyone to see your team's work, you may make the repository *Private* and add your instructor and graduate TA as *Colloborators* in it.\n",
    "\n",
    "*(0 points)*"
   ]
  },
  {
   "cell_type": "markdown",
   "id": "4cc87640",
   "metadata": {},
   "source": [
    "https://github.com/cndywu/TheYelpers"
   ]
  },
  {
   "cell_type": "markdown",
   "id": "16c1a490",
   "metadata": {},
   "source": [
    "# 4) Topic\n",
    "Mention the topic of your course project.\n",
    "\n",
    "*(0.25 points)*"
   ]
  },
  {
   "cell_type": "markdown",
   "id": "fb33bdfa",
   "metadata": {},
   "source": [
    "For our project, we want to analyze factors that potentially affect pricing for rides ordered on rideshare apps (specifically Lyft and Uber), and develop a model to predict those values. We also hope to find what associations exist between predictor variables and the price of the rides on these rideshare apps."
   ]
  },
  {
   "cell_type": "markdown",
   "id": "9403cdfb",
   "metadata": {},
   "source": [
    "# 5) Problem statement\n",
    "Explain the problem statement. The problem statement must include:\n",
    "\n",
    "1. The problem\n",
    "\n",
    "2. Is it a regression or classification problem or a combination of both?\n",
    "\n",
    "3. Is it an inference or prediction problem or a combination of both?\n",
    "\n",
    "4. How will you assess model accuracy?\n",
    "\n",
    "  - If it is a classification problem, then which measure(s) will you optimize for your model – precision, recall, false negative rate (FNR), accuracy, ROC-AUC etc., and why?\n",
    "  - If it is a regression problem, then which measure(s) will you optimize for your model – RMSE (Root mean squared error), MAE (mean absolute error), maximum absolute error etc., and why?\n",
    "\n",
    "5. What techniques do you think you may need to use to improve your model? If you have too many variables, some of which are  correlated or collinear, you may need to do variable selection *(techniques for variable selection that you will learn later in the course - stepwise regression, lasso, ridge regression)*. If the variables do not have a linear relationship with the response, or if some of the modeling assumptions are not satisfied, you may need to transform the predictors and/or the response (variable transformation) to obtain a better fit.\n",
    "\n",
    "*(5 points)*"
   ]
  },
  {
   "cell_type": "markdown",
   "id": "a0cb93d3",
   "metadata": {},
   "source": [
    "1. For this project, we want to understand how factors (ex. distance of the trip, timestamp, weather, destination, etc.) relate to the price of a ride. \n",
    "2. This will be a regression problem, in which we predict the price of the cab ride based on various ride factors. Because the price of the cab ride is a continuous variable, this is a regression problem. \n",
    "3. This will primarily be a prediction problem, since we are trying to predict a value that we don’t know yet (price of a cab given certain input factors). However, we may also be interested in seeing the associations of predictor variables with the price, so we may also approach it as an inference problem in this case. \n",
    "4. For assessing model accuracy, we will try to optimize RMSE because we want to penalize large errors, since large errors could mean that the customer ends up paying a much higher price than they were expecting, and that could be a large financial strain for them. \n",
    "5. Because there are a large number of predictors/variables being used (some of which are likely to correlated or collinear, like distance and time_stamp[when ride occurred]), we will likely have to do variable selection using techniques learned later in the course. Because it is possible that the predictors and the response will not have a linear relationship, we can use what we learned with variable transformation (quadratic or cubic) to obtain a better fit. Further, we can consider variable interactions between continuous predictors, include qualitative predictors in the model, or include qualitative predictors and their interactions with continuous predictors to include associations between qualitative predictors and the response variable, in addition to relaxing assumptions that the association between a predictor and the response variable doesn’t depend on the values of other predictors. "
   ]
  },
  {
   "cell_type": "markdown",
   "id": "3eb2d4f2",
   "metadata": {},
   "source": [
    "# 6) Data sources\n",
    "\n",
    "What data sources will you use, and how will the data help answer the questions? Explain.\n",
    "\n",
    "If the data is open source, share the link of the data.\n",
    "\n",
    "*(1 point)*"
   ]
  },
  {
   "cell_type": "markdown",
   "id": "c59de573",
   "metadata": {},
   "source": [
    "We will be using the “Uber & Lyft Cab prices” dataset on Kaggle (https://www.kaggle.com/datasets/ravi72munde/uber-lyft-cab-prices). The dataset includes information on price for rides (collected for a week in November - December 2018) as well as relevant information such as the distance of the trip, timestamp, weather, and destination. We can use these factors to help us predict the price of the ride – and see whether certain factors seem to have a larger effect than others. "
   ]
  },
  {
   "cell_type": "markdown",
   "id": "cb8a845f",
   "metadata": {},
   "source": [
    "# 7) Stakeholders"
   ]
  },
  {
   "cell_type": "markdown",
   "id": "d39c782c",
   "metadata": {},
   "source": [
    "Who are the stakeholders, and how will your project benefit them? Explain.\n",
    "\n",
    "*(1 point)*"
   ]
  },
  {
   "cell_type": "markdown",
   "id": "91156727",
   "metadata": {},
   "source": [
    "The primary stakeholders of our project are users of Uber and Lyft. The results of our project will allow them to better understand when to take an uber/lyft or possibly another option such as public transportation. Uber/Lyft users may save money by planning their schedules around weather conditions or times when prices are higher. \n",
    "\n",
    "Another stakeholder is taxi companies/drivers. With the results of our project, they can adjust their pricing to win over typical Uber/Lyft customers during conditions with higher prices. \n",
    "\n",
    "Uber and Lyft drivers are also stakeholders of our project. Drivers do not set prices but rather choose when to take rides. Thus, knowing when rides are priced higher would allow them to have more autonomy over how much money they are able to make. "
   ]
  },
  {
   "cell_type": "markdown",
   "id": "57e41b2a",
   "metadata": {},
   "source": [
    "# 8) Results\n",
    "What kind of results do you expect? \n",
    "\n",
    "How much accuracy is required / desired in your model (based on the metric(s) chosen in question 5), such that it is useful to the stakeholders and why?\n",
    "\n",
    "**Hint:** If it is a classification model, then your model must be at least better than random classification. If it is a regression model, then your model must be at least better than trivial models, such as the one with only the intercept term.\n",
    "\n",
    "*(0.5 point)*"
   ]
  },
  {
   "cell_type": "markdown",
   "id": "c36b02be",
   "metadata": {},
   "source": [
    "We expect to find distance to be the best estimator of ride price, and weather and time of day could be helpful estimators as well. Distance will likely have a strong, positive, linear relationship with price, while weather and time of day will need to be split into dummies corresponding to different times of the day and weather conditions. Prices will likely spike during work rush times and be more relaxed during more dormant times, and on the weather side prices will likely spike during harsh weather conditions such as rain/snow/extreme cold. In terms of accuracy, we are predicting rideshare prices, which have a typical range of about 10USD - 100USD and probably an average of around 30USD - 50USD (we will develop more accurate estimates for these numbers with our data). In order for our model to be helpful to the stakeholders (mainly rideshare users), a sensible RMSE would definitely be less than the mean rideshare price, and ideally less than half the mean as well; a good target number would be maybe around 15USD. However, it would be interesting to explore the residuals as percents as being off by 15USD is a lot more significant to someone who is paying 10USD for a ride versus someone who is paying 60USD for a ride. Overall, we will ensure that our RMSE is much better than that of a trivial model with only the intercept term. "
   ]
  },
  {
   "cell_type": "markdown",
   "id": "0c874b4f",
   "metadata": {},
   "source": [
    "# 9) Work-split\n",
    "How do you plan to split the project work amongst individual team members?\n",
    "\n",
    "*(0.25 point)*"
   ]
  },
  {
   "cell_type": "markdown",
   "id": "33b36230",
   "metadata": {},
   "source": [
    "Our team plans to split our work by having one team member focus largely on data cleaning and preparation. Another team member will start building a model by finding which variables are prioritized by Lyft and Uber. Another team member will work on making the model as accurate as possible. The last team member will work on the conclusions portion of our project. Although these roles are separate, each team member will keep the group up to date on how their section is going and will reach out to our group in case they need help or input."
   ]
  }
 ],
 "metadata": {
  "kernelspec": {
   "display_name": "Python 3 (ipykernel)",
   "language": "python",
   "name": "python3"
  },
  "language_info": {
   "codemirror_mode": {
    "name": "ipython",
    "version": 3
   },
   "file_extension": ".py",
   "mimetype": "text/x-python",
   "name": "python",
   "nbconvert_exporter": "python",
   "pygments_lexer": "ipython3",
   "version": "3.9.7"
  }
 },
 "nbformat": 4,
 "nbformat_minor": 5
}
